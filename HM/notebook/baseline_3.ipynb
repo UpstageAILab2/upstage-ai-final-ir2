{
 "cells": [
  {
   "cell_type": "code",
   "execution_count": 1,
   "metadata": {},
   "outputs": [
    {
     "data": {
      "text/plain": [
       "'/root/home/envforir/bin/python'"
      ]
     },
     "execution_count": 1,
     "metadata": {},
     "output_type": "execute_result"
    }
   ],
   "source": [
    "import sys\n",
    "sys.executable\n"
   ]
  },
  {
   "cell_type": "code",
   "execution_count": 2,
   "metadata": {},
   "outputs": [],
   "source": [
    "# # 데몬 인스턴스 만들기 \n",
    "import os\n",
    "import json\n",
    "from elasticsearch import Elasticsearch, helpers\n",
    "from subprocess import Popen, PIPE, STDOUT"
   ]
  },
  {
   "cell_type": "code",
   "execution_count": 3,
   "metadata": {},
   "outputs": [
    {
     "name": "stderr",
     "output_type": "stream",
     "text": [
      "/root/home/envforir/lib/python3.10/site-packages/elasticsearch/_sync/client/__init__.py:395: SecurityWarning: Connecting to 'https://localhost:9200' using TLS with verify_certs=False is insecure\n",
      "  _transport = transport_class(\n",
      "/root/home/envforir/lib/python3.10/site-packages/urllib3/connectionpool.py:1103: InsecureRequestWarning: Unverified HTTPS request is being made to host 'localhost'. Adding certificate verification is strongly advised. See: https://urllib3.readthedocs.io/en/latest/advanced-usage.html#tls-warnings\n",
      "  warnings.warn(\n"
     ]
    },
    {
     "data": {
      "text/plain": [
       "ObjectApiResponse({'name': 'instance-8909', 'cluster_name': 'elasticsearch', 'cluster_uuid': 'r4Ih9u1sTfKbhPDz61kqLQ', 'version': {'number': '8.8.0', 'build_flavor': 'default', 'build_type': 'tar', 'build_hash': 'c01029875a091076ed42cdb3a41c10b1a9a5a20f', 'build_date': '2023-05-23T17:16:07.179039820Z', 'build_snapshot': False, 'lucene_version': '9.6.0', 'minimum_wire_compatibility_version': '7.17.0', 'minimum_index_compatibility_version': '7.0.0'}, 'tagline': 'You Know, for Search'})"
      ]
     },
     "execution_count": 3,
     "metadata": {},
     "output_type": "execute_result"
    }
   ],
   "source": [
    "es_username = 'elastic'\n",
    "es_password = '1fSNAh6aPCwwQmIlB1SR'\n",
    "\n",
    "# ElasticSearch Client 생성 \n",
    "es = Elasticsearch(['https://localhost:9200'], basic_auth=(es_username, es_password), ca_certs=\"/data/ephemeral/home/upstage-ai-final-ir2/HM/elasticsearch-8.8.0/config/certs/http_ca.crt\", verify_certs=False)\n",
    "# CA 인증서 경로 지정\n",
    "\n",
    "# ElasticSearch Client 정보 확인 \n",
    "es.info()"
   ]
  },
  {
   "cell_type": "code",
   "execution_count": 4,
   "metadata": {},
   "outputs": [
    {
     "name": "stdout",
     "output_type": "stream",
     "text": [
      "iruser    675246       1 99 13:14 pts/10   00:00:50 /home/iruser/elasticsearch-8.8.0/jdk/bin/java -Des.networkaddress.cache.ttl=60 -Des.networkaddress.cache.negative.ttl=10 -Djava.security.manager=allow -XX:+AlwaysPreTouch -Xss1m -Djava.awt.headless=true -Dfile.encoding=UTF-8 -Djna.nosys=true -XX:-OmitStackTraceInFastThrow -Dio.netty.noUnsafe=true -Dio.netty.noKeySetOptimization=true -Dio.netty.recycler.maxCapacityPerThread=0 -Dlog4j.shutdownHookEnabled=false -Dlog4j2.disable.jmx=true -Dlog4j2.formatMsgNoLookups=true -Djava.locale.providers=SPI,COMPAT --add-opens=java.base/java.io=org.elasticsearch.preallocate -XX:+UseG1GC -Djava.io.tmpdir=/tmp/elasticsearch-5356005947868228473 -XX:+HeapDumpOnOutOfMemoryError -XX:+ExitOnOutOfMemoryError -XX:HeapDumpPath=data -XX:ErrorFile=logs/hs_err_pid%p.log -Xlog:gc*,gc+age=trace,safepoint:file=logs/gc.log:utctime,level,pid,tags:filecount=32,filesize=64m -Xms30720m -Xmx30720m -XX:MaxDirectMemorySize=16106127360 -XX:InitiatingHeapOccupancyPercent=30 -XX:G1ReservePercent=25 -Des.distribution.type=tar --module-path /home/iruser/elasticsearch-8.8.0/lib --add-modules=jdk.net --add-modules=org.elasticsearch.preallocate -m org.elasticsearch.server/org.elasticsearch.bootstrap.Elasticsearch\n",
      "iruser    675300  675246  0 13:14 pts/10   00:00:00 /home/iruser/elasticsearch-8.8.0/modules/x-pack-ml/platform/linux-x86_64/bin/controller\n",
      "root      675552  674744  0 13:15 pts/12   00:00:00 /bin/bash -c ps -ef | grep elasticsearch\n",
      "root      675555  675552  0 13:15 pts/12   00:00:00 grep elasticsearch\n"
     ]
    }
   ],
   "source": [
    "# 데몬 구동 확인 \n",
    "!ps -ef | grep elasticsearch"
   ]
  },
  {
   "cell_type": "code",
   "execution_count": 5,
   "metadata": {},
   "outputs": [],
   "source": [
    "from sentence_transformers import SentenceTransformer\n",
    "\n",
    "# Sentence Transformer 모델 초기화(한국어 임베딩 생성 가능한 어떤 모델도 가능)\n",
    "model = SentenceTransformer(\"snunlp/KR-SBERT-V40K-klueNLI-augSTS\")   \n",
    "# 이 모델을 사용하여 doc['content']를 임베딩 \n",
    "\n",
    "# Sentence Transformer를 이용하여 임베딩 생성\n",
    "def get_embedding(sentences):\n",
    "    return model.encode(sentences)\n",
    "\n",
    "# 주어진 문서의 리스트에서 배치 단위로 임베딩 생성\n",
    "def get_embeddings_in_batches(docs, batch_size=100):\n",
    "    batch_embeddings = []\n",
    "    for i in range(0, len(docs), batch_size):\n",
    "        batch = docs[i: i+batch_size]\n",
    "        contents = [doc[\"content\"] for doc in batch]\n",
    "        embeddings = get_embedding(contents)    # doc의 \"content\" 부분을 임베딩 \n",
    "        batch_embeddings.extend(embeddings)\n",
    "        print(f'batch {i}')\n",
    "    return batch_embeddings"
   ]
  },
  {
   "cell_type": "code",
   "execution_count": 6,
   "metadata": {},
   "outputs": [],
   "source": [
    "# 새로운 index 생성 \n",
    "def create_es_index(index, settings, mappings):\n",
    "    if es.indices.exists(index=index):   # 만약 인덱스가 이미 존재한다면 \n",
    "        es.indices.delete(index=index)   # 새로운 것으로 설정하기 위해 삭제 \n",
    "    es.indices.create(index=index, settings=settings, mappings=mappings)  # 지정된 settings로 새로운 인덱스 생성 \n",
    "\n",
    "# 지정된 인덱스 삭제 \n",
    "def delete_es_index(index):\n",
    "    es.indices.delete(index=index)\n",
    "    \n",
    "# ElasticSearch 헬퍼 함수를 사용하여 대량 인덱싱 수행 \n",
    "def bulk_add(index, docs):\n",
    "    actions = [{'_index': index, '_source': doc} for doc in docs]\n",
    "    return helpers.bulk(es, actions)"
   ]
  },
  {
   "cell_type": "markdown",
   "metadata": {},
   "source": [
    "### 검색함수"
   ]
  },
  {
   "cell_type": "code",
   "execution_count": 17,
   "metadata": {},
   "outputs": [],
   "source": [
    "# 역색인을 이용한 검색 \n",
    "def sparse_retrieve(query_str, size):\n",
    "    query = { \"match\": {\"content\": {\"query\": query_str}}}\n",
    "    return es.search(index='test', query=query, size=size, sort='_score')\n",
    "#>> query_str: 검색어\n",
    "#>> size: 검색 결과 개수 \n",
    "#>> 'test' 인덱스에서 정의된 쿼리를 실행 -> 검색 결과를 size개 만큼 반환 \n",
    "\n",
    "\n",
    "# dense_retrieve: Vector 유사도를 이용한 검색\n",
    "def dense_retrieve(query_str, size):\n",
    "    query_embedding = get_embedding([query_str])[0]   # 벡터 유사도 검색에 사용할 쿼리 임베딩 가져오기 \n",
    "    knn = {\"field\": \"embeddings\",                     # KNN을 사용한 벡터 유사성 검색을 위한 매개변수 설정 \n",
    "           \"query_vector\": query_embedding.tolist(),\n",
    "           \"k\": size,    # k: 검색할 최근접 이웃의 개수 \n",
    "           \"num_candidates\": 100}  # KNN 검색에 사용할 후보 문서 개수 \n",
    "    return es.search(index='test', knn=knn)           # 지정된 인덱스에서 벡터 유사도 검색 수행 \n",
    "\n",
    "# dense_retrieve_2: sparse_retrieve 함수로 필터링된 문서들에 대해서만 유사도 검색\n",
    "def dense_retrieve_2(query_str, documents, size):\n",
    "    query_embedding = get_embedding([query_str])[0]\n",
    "    document_ids = [doc['_id'] for doc in documents]\n",
    "    \n",
    "    # docid와 _id의 매핑 생성\n",
    "    id_to_docid = {doc['_id']: doc['_source']['docid'] for doc in documents}\n",
    "\n",
    "    body = {\n",
    "        \"_source\": {\"includes\": [\"content\", \"embeddings\"]},\n",
    "        \"query\": {\n",
    "            \"bool\": {\n",
    "                \"must\": [\n",
    "                    {\n",
    "                        \"ids\": {\n",
    "                            \"values\": document_ids\n",
    "                        }\n",
    "                    },\n",
    "                    {\n",
    "                        \"script_score\": {\n",
    "                            \"query\": {\"match_all\": {}},\n",
    "                            \"script\": {\n",
    "                                \"source\": \"cosineSimilarity(params.query_vector, 'embeddings') + 1.0\",\n",
    "                                \"params\": {\"query_vector\": query_embedding.tolist()}\n",
    "                            }\n",
    "                        }\n",
    "                    }\n",
    "                ]\n",
    "            }\n",
    "        }\n",
    "    }\n",
    "\n",
    "    results = es.search(index='test', body=body, size=size)\n",
    "    \n",
    "    # 결과를 스코어에 따라 정렬하고 docid 추가\n",
    "    sorted_results = sorted(results['hits']['hits'], key=lambda x: x['_score'], reverse=True)\n",
    "    for result in sorted_results:\n",
    "        result['_source']['docid'] = id_to_docid[result['_id']]\n",
    "    \n",
    "    return {'hits': {'hits': sorted_results[:size]}}"
   ]
  },
  {
   "cell_type": "markdown",
   "metadata": {},
   "source": []
  },
  {
   "cell_type": "code",
   "execution_count": 18,
   "metadata": {},
   "outputs": [],
   "source": [
    "# 색인을 위한 settings 설정 \n",
    "settings = { \"analysis\": {\"analyzer\": {\"nori\": {\"type\": \"custom\",  #>> custom: 사용자 정의 분석기임을 명시 \n",
    "                                                \"tokenizer\": \"nori_tokenizer\",\n",
    "                                                \"decompound_mode\": \"mixed\",  # 복합 명사를 분해하는 방식을 설정. mixed: 복합명사를 분해하되, 분해된 토큰과 원본 토큰을 모두 저장 \n",
    "                                                \"filter\": [\"nori_posfilter\"]}},\n",
    "                          \"filter\": {\"nori_posfilter\":{\"type\": \"nori_part_of_speech\",\n",
    "                                                       \"stoptags\": [\"E\", \"J\", \"SC\", \"SE\", \"SF\", \"VCN\", \"VCP\", \"VX\"]}}}  # 제거할 품사 태그를 지정 \n",
    "            }\n",
    "\n",
    "# 색인을 위한 mapping 설정(역색인 필드, 임베딩 필드 모두 설정)\n",
    "mappings = { \"properties\": {\"content\": {\"type\": \"text\",\n",
    "                                        \"analyzer\": \"nori\"},\n",
    "                            \"embeddings\": {\"type\": \"dense_vector\",\n",
    "                                           \"dims\": 768,\n",
    "                                           \"index\": True,\n",
    "                                           \"similarity\": \"l2_norm\"}}  # 벡터 간 유사도 계산 방식: L2 norm \n",
    "            }\n"
   ]
  },
  {
   "cell_type": "code",
   "execution_count": 19,
   "metadata": {},
   "outputs": [
    {
     "name": "stderr",
     "output_type": "stream",
     "text": [
      "/root/home/envforir/lib/python3.10/site-packages/urllib3/connectionpool.py:1103: InsecureRequestWarning: Unverified HTTPS request is being made to host 'localhost'. Adding certificate verification is strongly advised. See: https://urllib3.readthedocs.io/en/latest/advanced-usage.html#tls-warnings\n",
      "  warnings.warn(\n",
      "/root/home/envforir/lib/python3.10/site-packages/urllib3/connectionpool.py:1103: InsecureRequestWarning: Unverified HTTPS request is being made to host 'localhost'. Adding certificate verification is strongly advised. See: https://urllib3.readthedocs.io/en/latest/advanced-usage.html#tls-warnings\n",
      "  warnings.warn(\n",
      "/root/home/envforir/lib/python3.10/site-packages/urllib3/connectionpool.py:1103: InsecureRequestWarning: Unverified HTTPS request is being made to host 'localhost'. Adding certificate verification is strongly advised. See: https://urllib3.readthedocs.io/en/latest/advanced-usage.html#tls-warnings\n",
      "  warnings.warn(\n"
     ]
    }
   ],
   "source": [
    "# 위에서 설정한 내용으로 'test' 인덱스 생성 \n",
    "create_es_index(\"test\", settings, mappings)"
   ]
  },
  {
   "cell_type": "markdown",
   "metadata": {},
   "source": [
    "### 임베딩: 문서의 content 필드 "
   ]
  },
  {
   "cell_type": "code",
   "execution_count": 20,
   "metadata": {},
   "outputs": [
    {
     "name": "stdout",
     "output_type": "stream",
     "text": [
      "batch 0\n",
      "batch 100\n",
      "batch 200\n",
      "batch 300\n",
      "batch 400\n",
      "batch 500\n",
      "batch 600\n",
      "batch 700\n",
      "batch 800\n",
      "batch 900\n",
      "batch 1000\n",
      "batch 1100\n",
      "batch 1200\n",
      "batch 1300\n",
      "batch 1400\n",
      "batch 1500\n",
      "batch 1600\n",
      "batch 1700\n",
      "batch 1800\n",
      "batch 1900\n",
      "batch 2000\n",
      "batch 2100\n",
      "batch 2200\n",
      "batch 2300\n",
      "batch 2400\n",
      "batch 2500\n",
      "batch 2600\n",
      "batch 2700\n",
      "batch 2800\n",
      "batch 2900\n",
      "batch 3000\n",
      "batch 3100\n",
      "batch 3200\n",
      "batch 3300\n",
      "batch 3400\n",
      "batch 3500\n",
      "batch 3600\n",
      "batch 3700\n",
      "batch 3800\n",
      "batch 3900\n",
      "batch 4000\n",
      "batch 4100\n",
      "batch 4200\n"
     ]
    },
    {
     "name": "stderr",
     "output_type": "stream",
     "text": [
      "/root/home/envforir/lib/python3.10/site-packages/urllib3/connectionpool.py:1103: InsecureRequestWarning: Unverified HTTPS request is being made to host 'localhost'. Adding certificate verification is strongly advised. See: https://urllib3.readthedocs.io/en/latest/advanced-usage.html#tls-warnings\n",
      "  warnings.warn(\n",
      "/root/home/envforir/lib/python3.10/site-packages/urllib3/connectionpool.py:1103: InsecureRequestWarning: Unverified HTTPS request is being made to host 'localhost'. Adding certificate verification is strongly advised. See: https://urllib3.readthedocs.io/en/latest/advanced-usage.html#tls-warnings\n",
      "  warnings.warn(\n",
      "/root/home/envforir/lib/python3.10/site-packages/urllib3/connectionpool.py:1103: InsecureRequestWarning: Unverified HTTPS request is being made to host 'localhost'. Adding certificate verification is strongly advised. See: https://urllib3.readthedocs.io/en/latest/advanced-usage.html#tls-warnings\n",
      "  warnings.warn(\n",
      "/root/home/envforir/lib/python3.10/site-packages/urllib3/connectionpool.py:1103: InsecureRequestWarning: Unverified HTTPS request is being made to host 'localhost'. Adding certificate verification is strongly advised. See: https://urllib3.readthedocs.io/en/latest/advanced-usage.html#tls-warnings\n",
      "  warnings.warn(\n",
      "/root/home/envforir/lib/python3.10/site-packages/urllib3/connectionpool.py:1103: InsecureRequestWarning: Unverified HTTPS request is being made to host 'localhost'. Adding certificate verification is strongly advised. See: https://urllib3.readthedocs.io/en/latest/advanced-usage.html#tls-warnings\n",
      "  warnings.warn(\n",
      "/root/home/envforir/lib/python3.10/site-packages/urllib3/connectionpool.py:1103: InsecureRequestWarning: Unverified HTTPS request is being made to host 'localhost'. Adding certificate verification is strongly advised. See: https://urllib3.readthedocs.io/en/latest/advanced-usage.html#tls-warnings\n",
      "  warnings.warn(\n",
      "/root/home/envforir/lib/python3.10/site-packages/urllib3/connectionpool.py:1103: InsecureRequestWarning: Unverified HTTPS request is being made to host 'localhost'. Adding certificate verification is strongly advised. See: https://urllib3.readthedocs.io/en/latest/advanced-usage.html#tls-warnings\n",
      "  warnings.warn(\n",
      "/root/home/envforir/lib/python3.10/site-packages/urllib3/connectionpool.py:1103: InsecureRequestWarning: Unverified HTTPS request is being made to host 'localhost'. Adding certificate verification is strongly advised. See: https://urllib3.readthedocs.io/en/latest/advanced-usage.html#tls-warnings\n",
      "  warnings.warn(\n",
      "/root/home/envforir/lib/python3.10/site-packages/urllib3/connectionpool.py:1103: InsecureRequestWarning: Unverified HTTPS request is being made to host 'localhost'. Adding certificate verification is strongly advised. See: https://urllib3.readthedocs.io/en/latest/advanced-usage.html#tls-warnings\n",
      "  warnings.warn(\n"
     ]
    },
    {
     "name": "stdout",
     "output_type": "stream",
     "text": [
      "(4272, [])\n"
     ]
    }
   ],
   "source": [
    "# 문서의 content 필드에 대한 임베딩 생성 \n",
    "index_docs = []\n",
    "with open(\"/data/ephemeral/home/upstage-ai-final-ir2/HM/data/documents.jsonl\") as f:\n",
    "    docs = [json.loads(line) for line in f]\n",
    "embeddings = get_embeddings_in_batches(docs)\n",
    "\n",
    "# 생성한 임베딩을 색인할 필드로 추가\n",
    "for doc, embedding in zip(docs, embeddings):\n",
    "    doc[\"embeddings\"] = embedding.tolist()\n",
    "    index_docs.append(doc)\n",
    "\n",
    "# 'test' 인덱스에 대량 문서 추가\n",
    "ret = bulk_add(\"test\", index_docs)\n",
    "\n",
    "# 색인이 잘 되었는지 확인 (색인된 총 문서수가 출력되어야 함)\n",
    "print(ret)\n"
   ]
  },
  {
   "cell_type": "markdown",
   "metadata": {},
   "source": [
    "### 예제로 확인"
   ]
  },
  {
   "cell_type": "code",
   "execution_count": 21,
   "metadata": {},
   "outputs": [],
   "source": [
    "# 검색엔진에 색인이 잘 되었는지 테스트하기 위한 질의\n",
    "test_query = \"직류와 교류 전류의 차이에 대해 알려줘\""
   ]
  },
  {
   "cell_type": "code",
   "execution_count": 22,
   "metadata": {},
   "outputs": [
    {
     "name": "stdout",
     "output_type": "stream",
     "text": [
      "Sparse retrieve results:\n",
      "ID: 144f5e5e-8069-425f-80b3-6388195ba4ee score: 25.206154 source: 전기 회로에서 DC와 AC의 차이점은 다음과 같다. DC는 직류 전류를 의미하며, 전하가 한 방향으로 흐른다는 것이 특징이다. 이는 전류의 방향이 일정하게 유지되는 것을 의미한다.\n",
      "ID: 785aec2e-3be5-4c54-bc2a-68714ab88d30 score: 13.403629 source: 직류 전압을 측정하는 데에는 여러 가지 방법이 있습니다. 그 중에서도 전위차계 방법은 전압계를 사용한 직접 측정보다 더 정확한 결과를 얻을 수 있습니다. 이는 전위차계 방법이 회로\n",
      "ID: 7b086212-c74b-413f-b414-d5d893f59152 score: 12.6978855 source: 네 개의 동일한 교류 발전기가 병렬로 작동하고 있으며, 각각의 등급은 20 MVA이고, 전압은 11 KV입니다. 이 발전기들은 초기 과도 리액턴스가 16%로 설정되어 있습니다. 이\n",
      "ID: 77f168a3-5ff4-44bb-98a0-ac8fce381173 score: 11.086004 source: 특정 네트워크의 모든 요소가 선형인 경우, 중첩원리가 유지되려면 여자가 AC 또는 DC이어야 한다.\n",
      "\n",
      "선형 네트워크는 전기 회로에서 매우 중요한 개념입니다. 선형 네트워크는 모든 \n",
      "ID: d74dccae-120f-40cd-87fb-78b61ac97e42 score: 11.01634 source: 미국에서는 남부와 나머지 지역 사이에서 학교 인종차별 철폐에 대한 지지도 차이가 존재했습니다. 이러한 차이는 대략 40% 정도였습니다. 남부 지역에서는 학교 인종차별 철폐에 대한 \n",
      "ID: a2384d59-df86-4cd0-844d-968295c6a0e7 score: 10.741834 source: 2극 중권 직류기에서 도체 한 개의 저항이 2 Ω이고 도체의 총수는 100이다. 따라서, 총 저항은 50Ω입니다. 이는 도체의 저항이 병렬로 연결되어 있기 때문에 발생하는 현상입니\n",
      "ID: 4d36e4b3-9b52-4793-a2b3-43638042572a score: 10.037293 source: [Ru(CN)6]2-에 대한 [Ru(H2O)6]2+의 화학 이동은 0 ppm 내지 16,050 ppm이다. [Ru(H2O)6]2+, [Ru(CN)6]2- 및 [Ru(NH3)6]2+\n",
      "ID: 97ea3f60-5704-412f-b22d-e5d19eb3609b score: 9.647073 source: 전구가 병렬로 연결된 회로에서는 각 전구의 전류는 독립적으로 흐르게 됩니다. 따라서 한 전구의 전류가 2A라고 해서 다른 전구의 전류를 정확히 알 수는 없습니다. 전구의 전류는 전\n",
      "ID: b975b894-e965-4397-bb74-86ad048c9545 score: 9.587992 source: 힘-전류 유사성에서 대시포트에 대한 전기적 아날로그량은 컨덕턴스이다. 컨덕턴스는 전기 회로에서 전류의 흐름을 측정하는 데 사용되는 물리적인 속성이다. 컨덕턴스는 전기 저항의 역수로\n",
      "ID: c59f4bbd-71f6-4073-807f-09e8f0d3efcc score: 9.489292 source: 와이어가 전류를 흐르는 와이어가 원형 루프의 형태로 굽혀져 있다면, 와이어의 각 부분 주변에는 자기장이 형성됩니다. 이 자기장은 와이어의 평면에 평행하게 분포됩니다. 와이어의 평면\n"
     ]
    },
    {
     "name": "stderr",
     "output_type": "stream",
     "text": [
      "/root/home/envforir/lib/python3.10/site-packages/urllib3/connectionpool.py:1103: InsecureRequestWarning: Unverified HTTPS request is being made to host 'localhost'. Adding certificate verification is strongly advised. See: https://urllib3.readthedocs.io/en/latest/advanced-usage.html#tls-warnings\n",
      "  warnings.warn(\n"
     ]
    }
   ],
   "source": [
    "sparse_results = sparse_retrieve(test_query, 10)\n",
    "\n",
    "print(\"Sparse retrieve results:\")\n",
    "for rst in sparse_results['hits']['hits']:\n",
    "    print('ID:', rst['_source']['docid'], 'score:', rst['_score'], 'source:', rst['_source']['content'][:100])"
   ]
  },
  {
   "cell_type": "code",
   "execution_count": 23,
   "metadata": {},
   "outputs": [
    {
     "name": "stdout",
     "output_type": "stream",
     "text": [
      "\n",
      "Dense retrieve 2 results:\n",
      "ID: 144f5e5e-8069-425f-80b3-6388195ba4ee score: 2.3782012 source: 전기 회로에서 DC와 AC의 차이점은 다음과 같다. DC는 직류 전류를 의미하며, 전하가 한 방향으로 흐른다는 것이 특징이다. 이는 전류의 방향이 일정하게 유지되는 것을 의미한다.\n",
      "ID: 97ea3f60-5704-412f-b22d-e5d19eb3609b score: 2.3335586 source: 전구가 병렬로 연결된 회로에서는 각 전구의 전류는 독립적으로 흐르게 됩니다. 따라서 한 전구의 전류가 2A라고 해서 다른 전구의 전류를 정확히 알 수는 없습니다. 전구의 전류는 전\n",
      "ID: 785aec2e-3be5-4c54-bc2a-68714ab88d30 score: 2.3032768 source: 직류 전압을 측정하는 데에는 여러 가지 방법이 있습니다. 그 중에서도 전위차계 방법은 전압계를 사용한 직접 측정보다 더 정확한 결과를 얻을 수 있습니다. 이는 전위차계 방법이 회로\n"
     ]
    },
    {
     "name": "stderr",
     "output_type": "stream",
     "text": [
      "/tmp/ipykernel_674744/2743210528.py:51: DeprecationWarning: The 'body' parameter is deprecated and will be removed in a future version. Instead use individual parameters.\n",
      "  results = es.search(index='test', body=body, size=size)\n",
      "/root/home/envforir/lib/python3.10/site-packages/urllib3/connectionpool.py:1103: InsecureRequestWarning: Unverified HTTPS request is being made to host 'localhost'. Adding certificate verification is strongly advised. See: https://urllib3.readthedocs.io/en/latest/advanced-usage.html#tls-warnings\n",
      "  warnings.warn(\n"
     ]
    }
   ],
   "source": [
    "# dense_retrieve_2\n",
    "dense_results = dense_retrieve_2(test_query, sparse_results['hits']['hits'], 3)\n",
    "\n",
    "print(\"\\nDense retrieve 2 results:\")\n",
    "for rst in dense_results['hits']['hits']:\n",
    "    print('ID:', rst['_source']['docid'], 'score:', rst['_score'], 'source:', rst['_source'][\"content\"][:100])"
   ]
  },
  {
   "cell_type": "code",
   "execution_count": 24,
   "metadata": {},
   "outputs": [
    {
     "name": "stdout",
     "output_type": "stream",
     "text": [
      "score: 0.0030002617 source: 로버트슨 전좌에서 융합이 발생하는 곳은 동원체입니다. 동원체는 다양한 분야에서 융합이 일어나는 중요한 장소입니다. 융합은 서로 다른 분야나 개념이 결합하여 새로운 아이디어나 기술을 만들어내는 과정을 말합니다. 로버트슨 전좌는 이러한 융합이 발생하는 핵심적인 장소로 알려져 있습니다. 동원체에서는 과학, 기술, 예술, 경제 등 다양한 분야의 전문가들이 모여 협업하고 아이디어를 공유하여 혁신적인 결과물을 창출합니다. 이를 통해 사회와 산업의 발전에 기여하고 있습니다. 동원체는 융합의 중요성을 인식하고, 다양한 분야의 전문가들이 함께 일하는 환경을 제공하여 혁신과 창조성을 촉진하고 있습니다. 따라서 로버트슨 전좌에서 융합이 발생하는 곳은 동원체입니다.\n",
      "score: 0.0029772597 source: 아칸소주를 통과하는 물새 수의 매년 변화를 알아보기 위해서는 다음과 같은 방법을 사용할 수 있습니다. 첫째로, 일 년 중 하루를 선택하여 이동하는 철새의 수를 조사합니다. 둘째로, 주 전역의 서로 다른 10개의 호수에서 새의 수를 셉니다. 이를 10년 동안 매년 같은 날 실시하여 데이터를 수집합니다. 이 방법을 통해 아칸소주를 통과하는 물새 수의 매년 변화를 정확하게 파악할 수 있습니다. 이러한 정보는 철새의 이동 패턴과 서식지 변화 등을 이해하는 데 도움이 될 것입니다.\n",
      "score: 0.0029594307 source: 다윈은 생물의 적응과 변형에 대한 연구를 통해 현대 생물학의 기초를 마련했습니다. 그는 갈라파고스 제도에서 수집한 다양한 종의 동물들을 관찰하고, 이들이 특정 환경에 적응하면서 어떻게 변형을 겪는지를 연구했습니다. 만약 HMS 비글이 갈라파고스 제도를 완전히 우회했다면, 다윈은 이러한 적응과 변형에 대한 중요한 인사이트를 얻지 못했을 것입니다. 다윈의 연구는 인구의 능력을 보여주었는데, 특정 환경에 적응하면서 생물들은 변형을 겪을 수 있는 능력을 갖고 있다는 것을 밝혀냈습니다. 이는 생물의 진화와 다양성을 이해하는 데에 중요한 역할을 하였습니다. 다윈의 연구는 현대 생물학의 기초를 이루는 중요한 이론 중 하나로 여겨지고 있습니다.\n"
     ]
    },
    {
     "name": "stderr",
     "output_type": "stream",
     "text": [
      "/root/home/envforir/lib/python3.10/site-packages/urllib3/connectionpool.py:1103: InsecureRequestWarning: Unverified HTTPS request is being made to host 'localhost'. Adding certificate verification is strongly advised. See: https://urllib3.readthedocs.io/en/latest/advanced-usage.html#tls-warnings\n",
      "  warnings.warn(\n"
     ]
    }
   ],
   "source": [
    "# desnse_retrieve\n",
    "search_result_retrieve = dense_retrieve(test_query, 3)\n",
    "\n",
    "# 결과 출력 테스트\n",
    "for rst in search_result_retrieve['hits']['hits']:\n",
    "    print('score:', rst['_score'], 'source:', rst['_source'][\"content\"])"
   ]
  },
  {
   "cell_type": "markdown",
   "metadata": {},
   "source": [
    "# RAG 구현\n",
    "준비된 검색엔진과 LLM을 활용하셔 대화형 RAG 구현"
   ]
  },
  {
   "cell_type": "code",
   "execution_count": 25,
   "metadata": {},
   "outputs": [],
   "source": [
    "from openai import OpenAI\n",
    "import traceback\n",
    "\n",
    "# OpenAI API 키를 환경변수에 설정\n",
    "os.environ[\"OPENAI_API_KEY\"] = \"sk-proj-FCdLR9ZMWFm8vjGzk3p3T3BlbkFJi3Dmulq4Tl3lOhZpHMoK\"\n",
    "#os.environ[\"OPENAI_API_KEY\"] = \"Your API Key\"\n",
    "\n",
    "client = OpenAI()\n",
    "\n",
    "# 사용할 모델을 설정\n",
    "llm_model = \"gpt-4-turbo\"\n"
   ]
  },
  {
   "cell_type": "code",
   "execution_count": 26,
   "metadata": {},
   "outputs": [],
   "source": [
    "# RAG 구현에 필요한 Question Answering을 위한 LLM  프롬프트\n",
    "persona_qa = \"\"\"\n",
    "## Role: 과학 상식 전문가\n",
    "\n",
    "## Instructions\n",
    "- 사용자의 이전 메시지 정보 및 주어진 Reference 정보를 활용하여 간결하게 답변을 생성한다.\n",
    "- 주어진 검색 결과 정보로 대답할 수 없는 경우는 정보가 부족해서 답을 할 수 없다고 대답한다.\n",
    "- 한국어로 답변을 생성한다.\n",
    "\"\"\"\n",
    "\n",
    "# RAG 구현에 필요한 질의 분석 및 검색 이외의 일반 질의 대응을 위한 LLM 프롬프트\n",
    "persona_function_calling = \"\"\"\n",
    "당신은 사용자의 질문을 분석하여 검색에 적합한 쿼리를 생성하는 AI 어시스턴트입니다.\n",
    "사용자의 질문을 받으면, 다음 단계를 따라주세요:\n",
    "1. 질문의 핵심 주제와 의도를 파악하세요.\n",
    "2. 검색에 효과적인 키워드를 추출하세요.\n",
    "3. 추출한 키워드를 사용해 간결하고 명확한 검색 쿼리를 만드세요.\n",
    "4. 만든 쿼리를 'standalone_query' 파라미터로 'search' 함수에 전달하세요.\n",
    "\n",
    "예시:\n",
    "사용자 질문: \"금성이 밝게 보이는 이유가 뭐야?\"\n",
    "생성할 standalone_query: \"금성 밝기 원인\"\n",
    "\n",
    "항상 검색 쿼리를 생성하고 'search' 함수를 호출해야 합니다.\n",
    "\"\"\"\n",
    "\n",
    "# Function calling에 사용할 함수 정의\n",
    "tools = [\n",
    "    {\n",
    "        \"type\": \"function\",\n",
    "        \"function\": {\n",
    "            \"name\": \"search\",\n",
    "            \"description\": \"검색 쿼리를 사용하여 관련 문서를 찾습니다.\",\n",
    "            \"parameters\": {\n",
    "                \"properties\": {\n",
    "                    \"standalone_query\": {\n",
    "                        \"type\": \"string\",\n",
    "                        \"description\": \"검색에 사용할 쿼리 문자열\"\n",
    "                    }\n",
    "                },\n",
    "                \"required\": [\"standalone_query\"],\n",
    "                \"type\": \"object\"\n",
    "            }\n",
    "        }\n",
    "    },\n",
    "]\n"
   ]
  },
  {
   "cell_type": "code",
   "execution_count": 27,
   "metadata": {},
   "outputs": [],
   "source": [
    "# LLM과 검색엔진을 활용한 RAG 구현\n",
    "def answer_question(messages):\n",
    "    # 함수 출력 초기화\n",
    "    response = {\"standalone_query\": \"\", \"topk\": [], \"references\": [], \"answer\": \"\"}\n",
    "\n",
    "    # 질의 분석 및 검색 이외의 질의 대응을 위한 LLM 활용\n",
    "    msg = [{\"role\": \"system\", \"content\": persona_function_calling}] + messages\n",
    "    try:\n",
    "        result = client.chat.completions.create(\n",
    "        model=llm_model,\n",
    "        messages=msg,\n",
    "        tools=tools,\n",
    "        tool_choice={\"type\": \"function\", \"function\": {\"name\": \"search\"}},  # standalone_query를 잘 추출하지 못함 -> LLM이 반드시 'search' 함수를 사용하도록 강제 \n",
    "        temperature=0,\n",
    "        seed=1,\n",
    "        timeout=10\n",
    ")\n",
    "    except Exception as e:\n",
    "        traceback.print_exc()\n",
    "        return response\n",
    "\n",
    "    # 검색이 필요한 경우 검색 호출후 결과를 활용하여 답변 생성\n",
    "    if result.choices[0].message.tool_calls:\n",
    "        tool_call = result.choices[0].message.tool_calls[0]\n",
    "        function_args = json.loads(tool_call.function.arguments)\n",
    "        standalone_query = function_args.get(\"standalone_query\")\n",
    "\n",
    "        # retriever 설정!!!\n",
    "        # 1. sparse_retrieve로 20개 검색\n",
    "        sparse_results = sparse_retrieve(standalone_query, 20)\n",
    "        \n",
    "        # 2. dense_retrieve_2로 최종 3개 선정\n",
    "        search_result = dense_retrieve_2(standalone_query, sparse_results['hits']['hits'], 3)\n",
    "\n",
    "        response[\"standalone_query\"] = standalone_query\n",
    "        retrieved_context = []\n",
    "        for i, rst in enumerate(search_result['hits']['hits']):\n",
    "            retrieved_context.append(rst[\"_source\"][\"content\"])\n",
    "            response[\"topk\"].append(rst[\"_source\"][\"docid\"])  # 'docid'만 사용\n",
    "            response[\"references\"].append({\"score\": rst[\"_score\"], \"content\": rst[\"_source\"][\"content\"]})\n",
    "\n",
    "        content = json.dumps(retrieved_context)\n",
    "        messages.append({\"role\": \"assistant\", \"content\": content})\n",
    "        msg = [{\"role\": \"system\", \"content\": persona_qa}] + messages\n",
    "        try:\n",
    "            qaresult = client.chat.completions.create(\n",
    "                    model=llm_model,\n",
    "                    messages=msg,\n",
    "                    temperature=0,\n",
    "                    seed=1,\n",
    "                    timeout=30\n",
    "                )\n",
    "        except Exception as e:\n",
    "            traceback.print_exc()\n",
    "            return response\n",
    "        response[\"answer\"] = qaresult.choices[0].message.content\n",
    "\n",
    "    # 검색이 필요하지 않은 경우 바로 답변 생성\n",
    "    else:\n",
    "        response[\"answer\"] = result.choices[0].message.content\n",
    "\n",
    "    return response"
   ]
  },
  {
   "cell_type": "code",
   "execution_count": 28,
   "metadata": {},
   "outputs": [],
   "source": [
    "# 평가를 위한 파일을 읽어서 각 평가 데이터에 대해서 결과 추출후 파일에 저장\n",
    "def eval_rag(eval_filename, output_filename):\n",
    "    with open(eval_filename) as f, open(output_filename, \"w\") as of:\n",
    "        idx = 0\n",
    "        for line in f:\n",
    "            # if idx > 5:\n",
    "            #   break\n",
    "            j = json.loads(line)\n",
    "            print(f'Test {idx}\\nQuestion: {j[\"msg\"]}')\n",
    "            response = answer_question(j[\"msg\"])\n",
    "            print(f'Answer: {response[\"answer\"]}\\n')\n",
    "\n",
    "            # 대회 score 계산은 topk 정보를 사용, answer 정보는 LLM을 통한 자동평가시 활용\n",
    "            output = {\"eval_id\": j[\"eval_id\"], \"standalone_query\": response[\"standalone_query\"], \"topk\": response[\"topk\"], \"answer\": response[\"answer\"], \"references\": response[\"references\"]}\n",
    "            of.write(f'{json.dumps(output, ensure_ascii=False)}\\n')\n",
    "            idx += 1\n"
   ]
  },
  {
   "cell_type": "code",
   "execution_count": 29,
   "metadata": {},
   "outputs": [
    {
     "name": "stdout",
     "output_type": "stream",
     "text": [
      "Test 0\n",
      "Question: [{'role': 'user', 'content': '나무의 분류에 대해 조사해 보기 위한 방법은?'}]\n"
     ]
    },
    {
     "name": "stderr",
     "output_type": "stream",
     "text": [
      "/root/home/envforir/lib/python3.10/site-packages/urllib3/connectionpool.py:1103: InsecureRequestWarning: Unverified HTTPS request is being made to host 'localhost'. Adding certificate verification is strongly advised. See: https://urllib3.readthedocs.io/en/latest/advanced-usage.html#tls-warnings\n",
      "  warnings.warn(\n",
      "/tmp/ipykernel_674744/2743210528.py:51: DeprecationWarning: The 'body' parameter is deprecated and will be removed in a future version. Instead use individual parameters.\n",
      "  results = es.search(index='test', body=body, size=size)\n",
      "/root/home/envforir/lib/python3.10/site-packages/urllib3/connectionpool.py:1103: InsecureRequestWarning: Unverified HTTPS request is being made to host 'localhost'. Adding certificate verification is strongly advised. See: https://urllib3.readthedocs.io/en/latest/advanced-usage.html#tls-warnings\n",
      "  warnings.warn(\n"
     ]
    },
    {
     "name": "stdout",
     "output_type": "stream",
     "text": [
      "Answer: 나무의 분류를 조사하기 위한 방법으로는 다음과 같은 절차를 따를 수 있습니다:\n",
      "\n",
      "1. **현장 조사**: 다양한 지역을 방문하여 나무를 직접 관찰하고, 나무의 형태, 크기, 잎의 모양과 배열, 꽃과 열매의 특징 등을 기록합니다.\n",
      "\n",
      "2. **문헌 조사**: 관련 도서, 연구 논문, 온라인 데이터베이스 등을 통해 나무에 대한 기존의 분류 정보와 연구 결과를 찾아봅니다.\n",
      "\n",
      "3. **전문가 상담**: 식물학자나 수목 전문가와의 면담을 통해 얻은 정보를 바탕으로 나무의 분류에 대한 이해를 높일 수 있습니다.\n",
      "\n",
      "4. **분류 기준 활용**: 식물 분류학에서 사용하는 다양한 분류 기준(계통 분류학적 위치, 생태적 특성, 유전적 특성 등)을 적용하여 나무를 분류합니다.\n",
      "\n",
      "5. **실험 및 분석**: 필요한 경우 DNA 분석과 같은 생물학적 실험을 통해 나무의 분류를 더욱 명확히 할 수 있습니다.\n",
      "\n",
      "이러한 방법들을 종합적으로 활용하면 나무의 분류에 대한 정확한 정보를 얻을 수 있습니다.\n",
      "\n",
      "Test 1\n",
      "Question: [{'role': 'user', 'content': '각 나라에서의 공교육 지출 현황에 대해 알려줘.'}]\n"
     ]
    },
    {
     "name": "stderr",
     "output_type": "stream",
     "text": [
      "/root/home/envforir/lib/python3.10/site-packages/urllib3/connectionpool.py:1103: InsecureRequestWarning: Unverified HTTPS request is being made to host 'localhost'. Adding certificate verification is strongly advised. See: https://urllib3.readthedocs.io/en/latest/advanced-usage.html#tls-warnings\n",
      "  warnings.warn(\n",
      "/root/home/envforir/lib/python3.10/site-packages/urllib3/connectionpool.py:1103: InsecureRequestWarning: Unverified HTTPS request is being made to host 'localhost'. Adding certificate verification is strongly advised. See: https://urllib3.readthedocs.io/en/latest/advanced-usage.html#tls-warnings\n",
      "  warnings.warn(\n"
     ]
    },
    {
     "name": "stdout",
     "output_type": "stream",
     "text": [
      "Answer: 2017년 현재, 전세계의 공공 교육 지출은 세계 GDP의 약 4%를 차지하고 있습니다. 이는 국가들이 교육에 많은 자원을 투자하고 있음을 보여줍니다. 공공 교육은 사회의 발전과 경제 성장에 중요한 역할을 합니다. 국가들은 교육을 통해 인재를 양성하고, 인구의 교육 수준을 높여 경제적인 경쟁력을 강화하고자 합니다. 많은 국가들이 교육에 많은 예산을 할당하고 있으며, 이는 세계 GDP의 4%에 해당하는 규모입니다. 이러한 투자는 국가의 교육 체계를 강화하고, 국민들의 교육 기회를 확대하는 데 도움을 줍니다. 공공 교육 지출은 국가의 교육 정책과 우선순위를 반영하며, 국가의 교육 수준과 경제 성장에 직결되는 중요한 지표입니다.\n",
      "\n",
      "Test 2\n",
      "Question: [{'role': 'user', 'content': '기억 상실증 걸리면 너무 무섭겠다.'}, {'role': 'assistant', 'content': '네 맞습니다.'}, {'role': 'user', 'content': '어떤 원인 때문에 발생하는지 궁금해.'}]\n"
     ]
    },
    {
     "name": "stderr",
     "output_type": "stream",
     "text": [
      "/root/home/envforir/lib/python3.10/site-packages/urllib3/connectionpool.py:1103: InsecureRequestWarning: Unverified HTTPS request is being made to host 'localhost'. Adding certificate verification is strongly advised. See: https://urllib3.readthedocs.io/en/latest/advanced-usage.html#tls-warnings\n",
      "  warnings.warn(\n",
      "/root/home/envforir/lib/python3.10/site-packages/urllib3/connectionpool.py:1103: InsecureRequestWarning: Unverified HTTPS request is being made to host 'localhost'. Adding certificate verification is strongly advised. See: https://urllib3.readthedocs.io/en/latest/advanced-usage.html#tls-warnings\n",
      "  warnings.warn(\n"
     ]
    }
   ],
   "source": [
    "# 평가 데이터에 대해서 결과 생성 - 파일 포맷은 jsonl이지만 파일명은 csv 사용\n",
    "eval_rag(\"/data/ephemeral/home/upstage-ai-final-ir2/HM/data/eval.jsonl\", \"sample_submission_5.csv\")"
   ]
  },
  {
   "cell_type": "code",
   "execution_count": null,
   "metadata": {},
   "outputs": [],
   "source": []
  }
 ],
 "metadata": {
  "kernelspec": {
   "display_name": "envforir",
   "language": "python",
   "name": "python3"
  },
  "language_info": {
   "codemirror_mode": {
    "name": "ipython",
    "version": 3
   },
   "file_extension": ".py",
   "mimetype": "text/x-python",
   "name": "python",
   "nbconvert_exporter": "python",
   "pygments_lexer": "ipython3",
   "version": "3.10.13"
  }
 },
 "nbformat": 4,
 "nbformat_minor": 2
}
