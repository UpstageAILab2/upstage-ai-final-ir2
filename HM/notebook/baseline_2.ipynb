{
 "cells": [
  {
   "cell_type": "code",
   "execution_count": 1,
   "metadata": {},
   "outputs": [
    {
     "data": {
      "text/plain": [
       "'/root/home/envforir/bin/python'"
      ]
     },
     "execution_count": 1,
     "metadata": {},
     "output_type": "execute_result"
    }
   ],
   "source": [
    "import sys\n",
    "sys.executable"
   ]
  },
  {
   "cell_type": "code",
   "execution_count": 2,
   "metadata": {},
   "outputs": [],
   "source": [
    "# # 데몬 인스턴스 만들기 \n",
    "import os\n",
    "import json\n",
    "from elasticsearch import Elasticsearch, helpers\n",
    "from subprocess import Popen, PIPE, STDOUT\n",
    "\n",
    "# es_server = Popen(['/root/home/elasticsearch-8.8.0/bin/elasticsearch'],\n",
    "#                   stdout=PIPE, \n",
    "#                   stderr=STDOUT,\n",
    "#                   preexec_fn=lambda: os.setuid(1))\n",
    "\n",
    "# import time\n",
    "# time.sleep(60)"
   ]
  },
  {
   "cell_type": "code",
   "execution_count": 3,
   "metadata": {},
   "outputs": [
    {
     "name": "stdout",
     "output_type": "stream",
     "text": [
      "iruser    575561       1 99 01:01 pts/12   00:00:51 /home/iruser/elasticsearch-8.8.0/jdk/bin/java -Des.networkaddress.cache.ttl=60 -Des.networkaddress.cache.negative.ttl=10 -Djava.security.manager=allow -XX:+AlwaysPreTouch -Xss1m -Djava.awt.headless=true -Dfile.encoding=UTF-8 -Djna.nosys=true -XX:-OmitStackTraceInFastThrow -Dio.netty.noUnsafe=true -Dio.netty.noKeySetOptimization=true -Dio.netty.recycler.maxCapacityPerThread=0 -Dlog4j.shutdownHookEnabled=false -Dlog4j2.disable.jmx=true -Dlog4j2.formatMsgNoLookups=true -Djava.locale.providers=SPI,COMPAT --add-opens=java.base/java.io=org.elasticsearch.preallocate -XX:+UseG1GC -Djava.io.tmpdir=/tmp/elasticsearch-14538001589106802100 -XX:+HeapDumpOnOutOfMemoryError -XX:+ExitOnOutOfMemoryError -XX:HeapDumpPath=data -XX:ErrorFile=logs/hs_err_pid%p.log -Xlog:gc*,gc+age=trace,safepoint:file=logs/gc.log:utctime,level,pid,tags:filecount=32,filesize=64m -Xms30720m -Xmx30720m -XX:MaxDirectMemorySize=16106127360 -XX:InitiatingHeapOccupancyPercent=30 -XX:G1ReservePercent=25 -Des.distribution.type=tar --module-path /home/iruser/elasticsearch-8.8.0/lib --add-modules=jdk.net --add-modules=org.elasticsearch.preallocate -m org.elasticsearch.server/org.elasticsearch.bootstrap.Elasticsearch\n",
      "iruser    575608  575561  0 01:01 pts/12   00:00:00 /home/iruser/elasticsearch-8.8.0/modules/x-pack-ml/platform/linux-x86_64/bin/controller\n",
      "root      575873  575239  0 01:01 pts/13   00:00:00 /bin/bash -c ps -ef | grep elasticsearch\n",
      "root      575875  575873  0 01:01 pts/13   00:00:00 grep elasticsearch\n"
     ]
    }
   ],
   "source": [
    "# 데몬 구동 확인 -> password 설정 \n",
    "!ps -ef | grep elasticsearch"
   ]
  },
  {
   "cell_type": "code",
   "execution_count": 4,
   "metadata": {},
   "outputs": [
    {
     "name": "stderr",
     "output_type": "stream",
     "text": [
      "/root/home/envforir/lib/python3.10/site-packages/elasticsearch/_sync/client/__init__.py:395: SecurityWarning: Connecting to 'https://localhost:9200' using TLS with verify_certs=False is insecure\n",
      "  _transport = transport_class(\n",
      "/root/home/envforir/lib/python3.10/site-packages/urllib3/connectionpool.py:1103: InsecureRequestWarning: Unverified HTTPS request is being made to host 'localhost'. Adding certificate verification is strongly advised. See: https://urllib3.readthedocs.io/en/latest/advanced-usage.html#tls-warnings\n",
      "  warnings.warn(\n"
     ]
    },
    {
     "data": {
      "text/plain": [
       "ObjectApiResponse({'name': 'instance-8909', 'cluster_name': 'elasticsearch', 'cluster_uuid': 'r4Ih9u1sTfKbhPDz61kqLQ', 'version': {'number': '8.8.0', 'build_flavor': 'default', 'build_type': 'tar', 'build_hash': 'c01029875a091076ed42cdb3a41c10b1a9a5a20f', 'build_date': '2023-05-23T17:16:07.179039820Z', 'build_snapshot': False, 'lucene_version': '9.6.0', 'minimum_wire_compatibility_version': '7.17.0', 'minimum_index_compatibility_version': '7.0.0'}, 'tagline': 'You Know, for Search'})"
      ]
     },
     "execution_count": 4,
     "metadata": {},
     "output_type": "execute_result"
    }
   ],
   "source": [
    "es_username = 'elastic'\n",
    "es_password = '8YoPc7sP_W-uBUDkXV73'\n",
    "\n",
    "# ElasticSearch Client 생성 \n",
    "es = Elasticsearch(['https://localhost:9200'], basic_auth=(es_username, es_password), ca_certs=\"/data/ephemeral/home/upstage-ai-final-ir2/HM/elasticsearch-8.8.0/config/certs/http_ca.crt\", verify_certs=False)\n",
    "\n",
    "# ElasticSearch Client 정보 확인 \n",
    "es.info()"
   ]
  },
  {
   "cell_type": "code",
   "execution_count": 5,
   "metadata": {},
   "outputs": [],
   "source": [
    "from sentence_transformers import SentenceTransformer\n",
    "\n",
    "# Sentence Transformer 모델 초기화(한국어 임베딩 생성 가능한 어떤 모델도 가능)\n",
    "model = SentenceTransformer(\"snunlp/KR-SBERT-V40K-klueNLI-augSTS\")   \n",
    "# 이 모델을 사용하여 doc['content']를 임베딩 \n",
    "\n",
    "# Sentence Transformer를 이용하여 임베딩 생성\n",
    "def get_embedding(sentences):\n",
    "    return model.encode(sentences)\n",
    "\n",
    "# 주어진 문서의 리스트에서 배치 단위로 임베딩 생성\n",
    "def get_embeddings_in_batches(docs, batch_size=100):\n",
    "    batch_embeddings = []\n",
    "    for i in range(0, len(docs), batch_size):\n",
    "        batch = docs[i: i+batch_size]\n",
    "        contents = [doc[\"content\"] for doc in batch]\n",
    "        embeddings = get_embedding(contents)    # doc의 \"content\" 부분을 임베딩 \n",
    "        batch_embeddings.extend(embeddings)\n",
    "        print(f'batch {i}')\n",
    "    return batch_embeddings"
   ]
  },
  {
   "cell_type": "markdown",
   "metadata": {},
   "source": [
    "### 인덱스 설정 함수: Sparse Retrieve, Dense Retrieve를 위한 인덱스 생성과 관리\n",
    "- Dense Retrieve: 인덱스 맵핑 뿐만 아니라 밀집 벡터 필드를 추가해야"
   ]
  },
  {
   "cell_type": "code",
   "execution_count": 6,
   "metadata": {},
   "outputs": [],
   "source": [
    "# 새로운 index 생성 \n",
    "def create_es_index(index, settings, mappings):\n",
    "    if es.indices.exists(index=index):   # 만약 인덱스가 이미 존재한다면 \n",
    "        es.indices.delete(index=index)   # 새로운 것으로 설정하기 위해 삭제 \n",
    "    es.indices.create(index=index, settings=settings, mappings=mappings)  # 지정된 settings로 새로운 인덱스 생성 \n",
    "\n",
    "# 지정된 인덱스 삭제 \n",
    "def delete_es_index(index):\n",
    "    es.indices.delete(index=index)\n",
    "    \n",
    "# ElasticSearch 헬퍼 함수를 사용하여 대량 인덱싱 수행 \n",
    "def bulk_add(index, docs):\n",
    "    actions = [{'_index': index, '_source': doc} for doc in docs]\n",
    "    return helpers.bulk(es, actions)"
   ]
  },
  {
   "cell_type": "markdown",
   "metadata": {},
   "source": [
    "### 검색 함수\n",
    "- Sparse Retrieve: 텍스트 기반 검색 \n",
    "- Dense Retrieve: 벡터 유사도 기반 검색"
   ]
  },
  {
   "cell_type": "code",
   "execution_count": 7,
   "metadata": {},
   "outputs": [],
   "source": [
    "# 역색인을 이용한 검색 \n",
    "def sparse_retrieve(query_str, size):\n",
    "    query = { \"match\": {\"content\": {\"query\": query_str}}}\n",
    "    return es.search(index='test', query=query, size=size, sort='_score')\n",
    "#>> query_str: 검색어\n",
    "#>> size: 검색 결과 개수 \n",
    "#>> 'test' 인덱스에서 정의된 쿼리를 실행 -> 검색 결과를 size개 만큼 반환 \n",
    "\n",
    "\n",
    "# Vector 유사도를 이용한 검색\n",
    "def dense_retrieve(query_str, size):\n",
    "    query_embedding = get_embedding([query_str])[0]   # 벡터 유사도 검색에 사용할 쿼리 임베딩 가져오기 \n",
    "    knn = {\"field\": \"embeddings\",                     # KNN을 사용한 벡터 유사성 검색을 위한 매개변수 설정 \n",
    "           \"query_vector\": query_embedding.tolist(),\n",
    "           \"k\": size,    # k: 검색할 최근접 이웃의 개수 \n",
    "           \"num_candidates\": 100}  # KNN 검색에 사용할 후보 문서 개수 \n",
    "    return es.search(index='test', knn=knn)           # 지정된 인덱스에서 벡터 유사도 검색 수행 "
   ]
  },
  {
   "cell_type": "code",
   "execution_count": 8,
   "metadata": {},
   "outputs": [],
   "source": [
    "# dense_retrieve_2: sparse_retrieve 함수로 필터링된 문서들에 대해서만 KNN 검색\n",
    "def dense_retrieve_2(query_str, documents, size):\n",
    "    query_embedding = get_embedding([query_str][0])\n",
    "    document_ids = [doc['_id'] for doc in documents]\n",
    "    # document_embeddings = [doc['_source']['embeddings'] for doc in documents]\n",
    "    \n",
    "    knn = {\n",
    "        \"field\": \"embeddings\",\n",
    "        \"query_vector\": query_embedding.tolist(),\n",
    "        \"k\": size,\n",
    "        \"num_candidates\": len(documents)\n",
    "    }\n",
    "    \n",
    "    # 미리 필터링된 문서들에 대해서만 'test' 인덱스에서 KNN 검색 수행 \n",
    "    body = {\n",
    "        \"knn\": knn,\n",
    "        \"_source\": {\"includes\": [\"content\", \"embeddings\"]},\n",
    "        \"query\": {\"ids\": {\"values\": document_ids}}\n",
    "    }\n",
    "    \n",
    "    return es.search(index='test', body=body)\n",
    "    "
   ]
  },
  {
   "cell_type": "code",
   "execution_count": 43,
   "metadata": {},
   "outputs": [],
   "source": [
    "# def dense_retrieve_2(query_str, documents, size):\n",
    "#     query_embedding = get_embedding([query_str])[0]  # [0]을 추가하여 리스트에서 벡터를 추출\n",
    "    \n",
    "#     body = {\n",
    "#         \"size\": size,\n",
    "#         \"query\": {\n",
    "#             \"script_score\": {\n",
    "#                 \"query\": {\n",
    "#                     \"terms\": {\n",
    "#                         \"_id\": [doc['_id'] for doc in documents]\n",
    "#                     }\n",
    "#                 },\n",
    "#                 \"script\": {\n",
    "#                     \"source\": \"cosineSimilarity(params.query_vector, 'embeddings') + 1.0\",\n",
    "#                     \"params\": {\n",
    "#                         \"query_vector\": query_embedding.tolist()\n",
    "#                     }\n",
    "#                 }\n",
    "#             }\n",
    "#         }\n",
    "#     }\n",
    "    \n",
    "#     return es.search(index='test', body=body)"
   ]
  },
  {
   "cell_type": "markdown",
   "metadata": {},
   "source": [
    "### 설정"
   ]
  },
  {
   "cell_type": "code",
   "execution_count": 9,
   "metadata": {},
   "outputs": [],
   "source": [
    "# 색인을 위한 settings 설정 \n",
    "settings = { \"analysis\": {\"analyzer\": {\"nori\": {\"type\": \"custom\",  #>> custom: 사용자 정의 분석기임을 명시 \n",
    "                                                \"tokenizer\": \"nori_tokenizer\",\n",
    "                                                \"decompound_mode\": \"mixed\",  # 복합 명사를 분해하는 방식을 설정. mixed: 복합명사를 분해하되, 분해된 토큰과 원본 토큰을 모두 저장 \n",
    "                                                \"filter\": [\"nori_posfilter\"]}},\n",
    "                          \"filter\": {\"nori_posfilter\":{\"type\": \"nori_part_of_speech\",\n",
    "                                                       \"stoptags\": [\"E\", \"J\", \"SC\", \"SE\", \"SF\", \"VCN\", \"VCP\", \"VX\"]}}}  # 제거할 품사 태그를 지정 \n",
    "            }\n",
    "\n",
    "# 색인을 위한 mapping 설정(역색인 필드, 임베딩 필드 모두 설정)\n",
    "mappings = { \"properties\": {\"content\": {\"type\": \"text\",\n",
    "                                        \"analyzer\": \"nori\"},\n",
    "                            \"embeddings\": {\"type\": \"dense_vector\",\n",
    "                                           \"dims\": 768,\n",
    "                                           \"index\": True,\n",
    "                                           \"similarity\": \"l2_norm\"}}  # 벡터 간 유사도 계산 방식: L2 norm \n",
    "            }\n"
   ]
  },
  {
   "cell_type": "code",
   "execution_count": 10,
   "metadata": {},
   "outputs": [
    {
     "name": "stderr",
     "output_type": "stream",
     "text": [
      "/root/home/envforir/lib/python3.10/site-packages/urllib3/connectionpool.py:1103: InsecureRequestWarning: Unverified HTTPS request is being made to host 'localhost'. Adding certificate verification is strongly advised. See: https://urllib3.readthedocs.io/en/latest/advanced-usage.html#tls-warnings\n",
      "  warnings.warn(\n",
      "/root/home/envforir/lib/python3.10/site-packages/urllib3/connectionpool.py:1103: InsecureRequestWarning: Unverified HTTPS request is being made to host 'localhost'. Adding certificate verification is strongly advised. See: https://urllib3.readthedocs.io/en/latest/advanced-usage.html#tls-warnings\n",
      "  warnings.warn(\n",
      "/root/home/envforir/lib/python3.10/site-packages/urllib3/connectionpool.py:1103: InsecureRequestWarning: Unverified HTTPS request is being made to host 'localhost'. Adding certificate verification is strongly advised. See: https://urllib3.readthedocs.io/en/latest/advanced-usage.html#tls-warnings\n",
      "  warnings.warn(\n"
     ]
    }
   ],
   "source": [
    "# 위에서 설정한 내용으로 'test' 인덱스 생성 \n",
    "create_es_index(\"test\", settings, mappings)"
   ]
  },
  {
   "cell_type": "markdown",
   "metadata": {},
   "source": [
    "### 임베딩: 문서의 content 필드"
   ]
  },
  {
   "cell_type": "code",
   "execution_count": 11,
   "metadata": {},
   "outputs": [
    {
     "name": "stdout",
     "output_type": "stream",
     "text": [
      "batch 0\n",
      "batch 100\n",
      "batch 200\n",
      "batch 300\n",
      "batch 400\n",
      "batch 500\n",
      "batch 600\n",
      "batch 700\n",
      "batch 800\n",
      "batch 900\n",
      "batch 1000\n",
      "batch 1100\n",
      "batch 1200\n",
      "batch 1300\n",
      "batch 1400\n",
      "batch 1500\n",
      "batch 1600\n",
      "batch 1700\n",
      "batch 1800\n",
      "batch 1900\n",
      "batch 2000\n",
      "batch 2100\n",
      "batch 2200\n",
      "batch 2300\n",
      "batch 2400\n",
      "batch 2500\n",
      "batch 2600\n",
      "batch 2700\n",
      "batch 2800\n",
      "batch 2900\n",
      "batch 3000\n",
      "batch 3100\n",
      "batch 3200\n",
      "batch 3300\n",
      "batch 3400\n",
      "batch 3500\n",
      "batch 3600\n",
      "batch 3700\n",
      "batch 3800\n",
      "batch 3900\n",
      "batch 4000\n",
      "batch 4100\n",
      "batch 4200\n"
     ]
    },
    {
     "name": "stderr",
     "output_type": "stream",
     "text": [
      "/root/home/envforir/lib/python3.10/site-packages/urllib3/connectionpool.py:1103: InsecureRequestWarning: Unverified HTTPS request is being made to host 'localhost'. Adding certificate verification is strongly advised. See: https://urllib3.readthedocs.io/en/latest/advanced-usage.html#tls-warnings\n",
      "  warnings.warn(\n",
      "/root/home/envforir/lib/python3.10/site-packages/urllib3/connectionpool.py:1103: InsecureRequestWarning: Unverified HTTPS request is being made to host 'localhost'. Adding certificate verification is strongly advised. See: https://urllib3.readthedocs.io/en/latest/advanced-usage.html#tls-warnings\n",
      "  warnings.warn(\n",
      "/root/home/envforir/lib/python3.10/site-packages/urllib3/connectionpool.py:1103: InsecureRequestWarning: Unverified HTTPS request is being made to host 'localhost'. Adding certificate verification is strongly advised. See: https://urllib3.readthedocs.io/en/latest/advanced-usage.html#tls-warnings\n",
      "  warnings.warn(\n",
      "/root/home/envforir/lib/python3.10/site-packages/urllib3/connectionpool.py:1103: InsecureRequestWarning: Unverified HTTPS request is being made to host 'localhost'. Adding certificate verification is strongly advised. See: https://urllib3.readthedocs.io/en/latest/advanced-usage.html#tls-warnings\n",
      "  warnings.warn(\n",
      "/root/home/envforir/lib/python3.10/site-packages/urllib3/connectionpool.py:1103: InsecureRequestWarning: Unverified HTTPS request is being made to host 'localhost'. Adding certificate verification is strongly advised. See: https://urllib3.readthedocs.io/en/latest/advanced-usage.html#tls-warnings\n",
      "  warnings.warn(\n",
      "/root/home/envforir/lib/python3.10/site-packages/urllib3/connectionpool.py:1103: InsecureRequestWarning: Unverified HTTPS request is being made to host 'localhost'. Adding certificate verification is strongly advised. See: https://urllib3.readthedocs.io/en/latest/advanced-usage.html#tls-warnings\n",
      "  warnings.warn(\n",
      "/root/home/envforir/lib/python3.10/site-packages/urllib3/connectionpool.py:1103: InsecureRequestWarning: Unverified HTTPS request is being made to host 'localhost'. Adding certificate verification is strongly advised. See: https://urllib3.readthedocs.io/en/latest/advanced-usage.html#tls-warnings\n",
      "  warnings.warn(\n",
      "/root/home/envforir/lib/python3.10/site-packages/urllib3/connectionpool.py:1103: InsecureRequestWarning: Unverified HTTPS request is being made to host 'localhost'. Adding certificate verification is strongly advised. See: https://urllib3.readthedocs.io/en/latest/advanced-usage.html#tls-warnings\n",
      "  warnings.warn(\n",
      "/root/home/envforir/lib/python3.10/site-packages/urllib3/connectionpool.py:1103: InsecureRequestWarning: Unverified HTTPS request is being made to host 'localhost'. Adding certificate verification is strongly advised. See: https://urllib3.readthedocs.io/en/latest/advanced-usage.html#tls-warnings\n",
      "  warnings.warn(\n"
     ]
    },
    {
     "name": "stdout",
     "output_type": "stream",
     "text": [
      "(4272, [])\n"
     ]
    }
   ],
   "source": [
    "# 문서의 content 필드에 대한 임베딩 생성 \n",
    "index_docs = []\n",
    "with open(\"/data/ephemeral/home/upstage-ai-final-ir2/HM/data/documents.jsonl\") as f:\n",
    "    docs = [json.loads(line) for line in f]\n",
    "embeddings = get_embeddings_in_batches(docs)\n",
    "\n",
    "# 생성한 임베딩을 색인할 필드로 추가\n",
    "for doc, embedding in zip(docs, embeddings):\n",
    "    doc[\"embeddings\"] = embedding.tolist()\n",
    "    index_docs.append(doc)\n",
    "\n",
    "# 'test' 인덱스에 대량 문서 추가\n",
    "ret = bulk_add(\"test\", index_docs)\n",
    "\n",
    "# 색인이 잘 되었는지 확인 (색인된 총 문서수가 출력되어야 함)\n",
    "print(ret)\n"
   ]
  },
  {
   "cell_type": "code",
   "execution_count": 12,
   "metadata": {},
   "outputs": [],
   "source": [
    "# 검색엔진에 색인이 잘 되었는지 테스트하기 위한 질의\n",
    "test_query = \"금성이 다른 행성들보다 밝게 보이는 이유는 무엇인가요?\""
   ]
  },
  {
   "cell_type": "markdown",
   "metadata": {},
   "source": [
    "### Sparse Retrieval 예제 "
   ]
  },
  {
   "cell_type": "code",
   "execution_count": 13,
   "metadata": {},
   "outputs": [
    {
     "name": "stdout",
     "output_type": "stream",
     "text": [
      "score: 33.68643 source: 금성이 다른 행성들보다 더 밝게 보이는 이유는 지구 쪽으로 가장 많은 햇빛을 반사하기 때문입니다. 케빈은 맑은 밤에 하늘을 관찰하고 있습니다. 그는 맨눈으로 금성, 화성, 목성, 토성을 볼 수 있습니다. 금성은 햇빛을 많이 반사하기 때문에 다른 행성들보다 더 밝게 보입니다. 이는 금성의 표면이 반사율이 높기 때문입니다. 금성은 태양으로부터 받은 햇빛을 표면에 반사하여 지구에서 관찰하기 쉽게 만듭니다. 따라서 케빈은 맑은 밤에 금성을 더 밝게 볼 수 있습니다.\n",
      "score: 18.915426 source: 금성은 태양계의 두 번째로 가까운 행성입니다. 이 행성의 대략적인 나이는 7억 5천만 년으로 추정됩니다. 금성은 지구와 매우 비슷한 크기와 구성을 가지고 있으며, 약 90% 이상이 이산화탄소로 이루어져 있습니다. 이 행성은 매우 뜨거운 온도와 압력을 가지고 있어서 인간이 살 수 있는 환경이 아닙니다. 금성의 대기는 두꺼워서 태양의 열을 가두고 있어서 행성의 표면은 평균 온도가 약 450도로 매우 뜨거운 상태입니다. 또한, 금성은 자전 속도가 매우 빠르기 때문에 하루가 지구의 약 243일과 같습니다. 이러한 특징들로 인해 금성은 우리 태양계에서 가장 가혹한 환경을 가진 행성 중 하나로 알려져 있습니다.\n",
      "score: 18.728905 source: 메릴랜드 Space Grant Observatory는 볼티모어에 위치해 있습니다. 학생들은 이 망원경을 방문하여 별, 행성, 달에 대해 배웠습니다. 그들은 아래와 같은 정보를 기록했습니다. 첫째, 별 패턴은 그대로 유지되지만, 하늘에서의 위치는 변하는 것처럼 보입니다. 둘째, 태양, 행성, 달은 하늘에서 움직이는 것처럼 보입니다. 셋째, 켄타우루스자리의 프록시마 성은 우리 태양계에서 가장 가까운 별입니다. 넷째, 북극성은 소 북두칠성이라 불리는 별 패턴의 일부입니다. 그렇다면 태양이 매일 하늘을 가로질러 움직이는 것처럼 보이는 이유는 무엇일까요? 지구가 자전축을 중심으로 회전하기 때문입니다.\n",
      "score: 18.34029 source: 당신은 금성에 살고 있고, 당신의 망원경이 금성의 두꺼운 구름을 볼 수 있다고 가정한다면, 지구의 달을 관찰할 수 있습니다. 지구의 달은 월식과 만월을 거치며 다양한 단계를 보여줍니다. 여기서는 월식이 아닌 단계를 중심으로 설명하겠습니다.\n",
      "\n",
      "첫 번째로, 상현 단계를 볼 수 있습니다. 이 단계에서는 달이 점점 커지면서 반달 모양을 보여줍니다. 달의 오른쪽 절반은 밝고, 왼쪽 절반은 어둡습니다. 이는 달이 점점 지구와 태양 사이의 각도가 커지면서 발생하는 현상입니다.\n",
      "\n",
      "두 번째로, 망 단계를 볼 수 있습니다. 이 단계에서는 달이 지구와 태양 사이에 정확히 위치하여 완전한 원형을 보여줍니다. 이는 달이 지구와 태양 사이의 각도가 180도가 되는 순간입니다. 이때 달은 가장 밝게 보입니다.\n",
      "\n",
      "세 번째로, 하현 단계를 볼 수 있습니다. 이 단계에서는 달이 점점 작아지면서 반달 모양을 보여줍니다. 달의 왼쪽 절반은 밝고, 오른쪽 절반은 어둡습니다. 이는 달이 점점 지구와 태양 사이의 각도가 작아지면서 발생하는 현상입니다.\n",
      "\n",
      "따라서, 당신이 금성에 살고 있다면 상현, 망, 하현 단계의 지구의 달을 관찰할 수 있을 것입니다.\n",
      "score: 18.32891 source: 금성은 태양계에서 가장 가까운 행성 중 하나입니다. 그러나 화성이나 지구처럼 계절이 없는 이유는 금성의 자전축이 태양계의 평면에 거의 수직이기 때문입니다. 자전축이 수직이기 때문에 금성은 태양으로부터 받는 햇빛의 양이 일정하게 유지됩니다. 이로 인해 금성은 계절 변화가 없으며 항상 일정한 온도를 유지합니다. 이러한 환경은 생명체에게는 적합하지 않을 수 있지만, 금성의 특이한 기후 조건은 우주 탐사에 대한 연구에 많은 도움을 주고 있습니다. 금성은 여전히 우리에게 알려지지 않은 많은 비밀을 품고 있으며, 미래에 더 많은 연구와 탐사가 이루어질 것으로 기대됩니다.\n",
      "score: 17.078987 source: 우리 태양계에는 여러 행성이 있으며, 각 행성은 고유한 회전 주기를 가지고 있습니다. 예를 들어, 지구의 회전 주기는 24시간입니다. 이는 하루 동안 지구가 한 번 자전하는 것을 의미합니다. 이와 달리, 다른 행성들은 지구보다 더 빠르게 또는 느리게 회전합니다. 예를 들어, 수성의 회전 주기는 약 59일이며, 금성의 회전 주기는 약 243일입니다. 이렇듯 각 행성은 고유한 특징을 가지고 있으며, 이는 그들의 회전 주기에도 영향을 미칩니다.\n",
      "score: 16.679731 source: 일부 우주 망원경들은 외계 행성을 탐색합니다. 이러한 망원경들은 주로 별의 밝기의 깜박임을 관찰하는 기능이 가장 중요합니다. 외계 행성은 우리가 알고 있는 행성과는 다른 특징을 가지고 있을 수 있으며, 이러한 특징은 주로 별의 밝기의 깜박임을 통해 관찰됩니다. 별의 밝기의 깜박임은 외계 행성의 대기 조성, 기후, 지질 특성 등을 알아내는 데에 매우 중요한 정보를 제공합니다. 이러한 정보는 외계 행성의 생명 가능성을 평가하는 데에도 도움을 줄 수 있습니다. 따라서, 별의 밝기의 깜박임을 관찰하는 기능은 외계 행성 탐색에 있어서 가장 중요한 역할을 합니다.\n",
      "score: 15.019527 source: 목성형 행성들은 적도 부근에서 팽창, 즉 \"찌그러진\" 외관을 가지는 이유는 목성형 행성들의 빠른 회전이 적도 근처의 질량을 바깥쪽으로 튕겨내기 때문입니다. 이러한 행성들은 자전력에 의해 중력과 균형을 유지하며, 이로 인해 행성의 외부는 찌그러진 모양을 가지게 됩니다. 이러한 현상은 목성형 행성들의 특징 중 하나로 알려져 있으며, 이러한 외관은 많은 천문학자들에게 흥미로운 연구 주제가 되고 있습니다. 목성형 행성들은 우리가 알고 있는 지구와는 매우 다른 형태를 가지고 있으며, 이러한 찌그러진 외관은 그들의 독특한 특징 중 하나입니다. 이러한 행성들은 우주의 신비와 다양성을 보여주는 중요한 천체로 알려져 있으며, 우주 탐사의 대상으로도 많은 관심을 받고 있습니다.\n",
      "score: 14.708257 source: 태양계는 태양을 중심으로 총 여덟 개의 행성으로 구성되어 있습니다. 이 중에서 지구와 같은 방향으로 공전하는 행성은 7개입니다. 이들은 수성, 금성, 지구, 화성, 목성, 토성, 천왕성입니다. 이들 행성은 각각 고유한 특징과 특성을 가지고 있으며, 태양계의 다양한 천체들과 함께 우주를 탐험하는 데 중요한 역할을 합니다. 이러한 행성들은 우리가 알고 있는 생명체의 존재 가능성을 탐구하고, 우주 탐사의 가능성을 연구하는 데에도 많은 관심을 받고 있습니다. 태양계의 행성들은 우리가 알고 있는 우주의 신비와 미지의 세계를 탐험하는 데에 큰 도움을 주고 있습니다.\n",
      "score: 13.811848 source: 그리스인들은 천문학에서의 여러 설득력 있는 발상들로 인해 명성을 얻었습니다. 그들은 지구가 우주의 중심이며 다른 행성들이 지구를 돌고 있다는 이론을 제시했습니다. 그러나 나중에 이 이론은 옳지 않다는 것이 증명되었습니다. 그리스인들은 지구가 움직이지 않는다고 생각했는데, 그 이유는 지표면에서 지구의 움직임이 뚜렷하지 않기 때문입니다. 그리스인들은 또한 우리 행성을 둘러싼 보이지 않는 구체가 별들을 담고 있다고 믿었습니다. 이 구체는 회전하여 시간에 따른 별자리의 분명한 움직임을 설명했습니다. 그러나 이러한 이론들은 나중에 옳지 않다는 것이 밝혀졌습니다. 달이 지구 주위를 공전하는 것이 달의 위상의 원인입니다.\n"
     ]
    },
    {
     "name": "stderr",
     "output_type": "stream",
     "text": [
      "/root/home/envforir/lib/python3.10/site-packages/urllib3/connectionpool.py:1103: InsecureRequestWarning: Unverified HTTPS request is being made to host 'localhost'. Adding certificate verification is strongly advised. See: https://urllib3.readthedocs.io/en/latest/advanced-usage.html#tls-warnings\n",
      "  warnings.warn(\n"
     ]
    }
   ],
   "source": [
    "# 역색인을 사용하는 검색 예제 \n",
    "search_result_retrieve = sparse_retrieve(test_query, 10)\n",
    "\n",
    "# 결과 출력 테스트\n",
    "for rst in search_result_retrieve['hits']['hits']:\n",
    "    print('score:', rst['_score'], 'source:', rst['_source']['content'])"
   ]
  },
  {
   "cell_type": "markdown",
   "metadata": {},
   "source": [
    "### Dense Retrieval 예제"
   ]
  },
  {
   "cell_type": "code",
   "execution_count": 15,
   "metadata": {},
   "outputs": [
    {
     "name": "stdout",
     "output_type": "stream",
     "text": [
      "score: 0.0047387853 source: 금성이 다른 행성들보다 더 밝게 보이는 이유는 지구 쪽으로 가장 많은 햇빛을 반사하기 때문입니다. 케빈은 맑은 밤에 하늘을 관찰하고 있습니다. 그는 맨눈으로 금성, 화성, 목성, 토성을 볼 수 있습니다. 금성은 햇빛을 많이 반사하기 때문에 다른 행성들보다 더 밝게 보입니다. 이는 금성의 표면이 반사율이 높기 때문입니다. 금성은 태양으로부터 받은 햇빛을 표면에 반사하여 지구에서 관찰하기 쉽게 만듭니다. 따라서 케빈은 맑은 밤에 금성을 더 밝게 볼 수 있습니다.\n",
      "score: 0.004689848 source: 금성은 태양계에서 가장 가까운 행성 중 하나입니다. 그러나 화성이나 지구처럼 계절이 없는 이유는 금성의 자전축이 태양계의 평면에 거의 수직이기 때문입니다. 자전축이 수직이기 때문에 금성은 태양으로부터 받는 햇빛의 양이 일정하게 유지됩니다. 이로 인해 금성은 계절 변화가 없으며 항상 일정한 온도를 유지합니다. 이러한 환경은 생명체에게는 적합하지 않을 수 있지만, 금성의 특이한 기후 조건은 우주 탐사에 대한 연구에 많은 도움을 주고 있습니다. 금성은 여전히 우리에게 알려지지 않은 많은 비밀을 품고 있으며, 미래에 더 많은 연구와 탐사가 이루어질 것으로 기대됩니다.\n",
      "score: 0.0042649144 source: 소행성대가 위치한 곳에는 행성이 없는 이유는 목성과의 공명으로 인해 물질이 모이는 것을 방해하여 행성을 형성하지 못했기 때문입니다. 소행성대는 태양계 내부 행성들과 외부 행성들 사이에 위치한 영역으로, 많은 소행성들이 모여있는 지역입니다. 하지만 목성과의 공명 현상으로 인해 소행성들이 목성의 중력에 영향을 받아 행성을 형성하지 못하고 분산되거나 파괴되는 경우가 많습니다. 따라서 소행성대는 행성이 형성되기 어려운 환경이라고 할 수 있습니다. 이러한 이유로 소행성대에는 행성이 없는 것입니다.\n",
      "score: 0.0038002816 source: 금성은 태양계의 두 번째로 가까운 행성입니다. 이 행성의 대략적인 나이는 7억 5천만 년으로 추정됩니다. 금성은 지구와 매우 비슷한 크기와 구성을 가지고 있으며, 약 90% 이상이 이산화탄소로 이루어져 있습니다. 이 행성은 매우 뜨거운 온도와 압력을 가지고 있어서 인간이 살 수 있는 환경이 아닙니다. 금성의 대기는 두꺼워서 태양의 열을 가두고 있어서 행성의 표면은 평균 온도가 약 450도로 매우 뜨거운 상태입니다. 또한, 금성은 자전 속도가 매우 빠르기 때문에 하루가 지구의 약 243일과 같습니다. 이러한 특징들로 인해 금성은 우리 태양계에서 가장 가혹한 환경을 가진 행성 중 하나로 알려져 있습니다.\n",
      "score: 0.0037553997 source: 바너드 성은 지구에서 가장 가까운 항성(계) 중 두 번째로 알려진 항성입니다. 이전 IAAC 대회에서는 켄타우루스자리의 프록시마/알파 항성을 가장 가까운 항성(계)로 특징 지었었습니다. 하지만 바너드 성은 그 다음으로 가까운 항성(계)로 알려져 있습니다. 바너드 성은 우리 은하계에서 가장 가까운 적색 왜성으로 알려져 있으며, 지구로부터 약 6 광년 떨어져 있습니다. 이 항성은 매우 어두운 빨간색으로 빛나며, 주변 행성들과의 상호작용이 많이 연구되고 있습니다. 바너드 성은 우주 탐사와 외계 행성 연구에 있어서 중요한 대상으로 간주되고 있습니다.\n",
      "score: 0.0037494223 source: 과학자들은 대부분의 운석이 소행성대에서 왔다는 것을 알고 있습니다. 이는 일부 운석의 스펙트럼이 소행성대의 소행성 스펙트럼과 유사하다는 연구 결과에 기반합니다. 스펙트럼은 빛의 파장에 따라 다양한 색상으로 나타나는데, 소행성대의 소행성들은 특정한 스펙트럼 패턴을 가지고 있습니다. 이와 비슷한 스펙트럼 패턴을 가진 일부 운석들이 지구에 떨어진 것을 관측하였고, 이를 통해 운석들이 소행성대에서 왔다는 결론을 내렸습니다. 이러한 연구 결과는 과학자들이 우주의 기원과 운석의 원래 위치를 이해하는 데 큰 도움을 주고 있습니다.\n",
      "score: 0.0037253255 source: 화성은 붉은색인 이유는 표면이 많이 산화된(\"녹슨\") 광물로 덮여 있기 때문입니다. 이 산화된 광물은 철 미립자로 이루어져 있어서 화성의 표면이 붉은 색으로 보입니다. 이러한 특징은 화성을 지구와 구별할 수 있는 중요한 특징 중 하나입니다. 화성의 붉은색은 우주 탐사선들이 보내는 사진들을 통해 우리에게 잘 알려져 있습니다. 이러한 특징은 화성의 지질학적 특성을 연구하는데도 중요한 역할을 합니다. 화성의 붉은색은 우리가 우주 탐사를 통해 더 많은 것을 알아갈 수 있도록 도와줍니다. 화성은 우리에게 아직 많은 비밀을 품고 있는 행성입니다.\n",
      "score: 0.0036074452 source: 메릴랜드 Space Grant Observatory는 볼티모어에 위치해 있습니다. 학생들은 이 망원경을 방문하여 별, 행성, 달에 대해 배웠습니다. 그들은 아래와 같은 정보를 기록했습니다. 첫째, 별 패턴은 그대로 유지되지만, 하늘에서의 위치는 변하는 것처럼 보입니다. 둘째, 태양, 행성, 달은 하늘에서 움직이는 것처럼 보입니다. 셋째, 켄타우루스자리의 프록시마 성은 우리 태양계에서 가장 가까운 별입니다. 넷째, 북극성은 소 북두칠성이라 불리는 별 패턴의 일부입니다. 그렇다면 태양이 매일 하늘을 가로질러 움직이는 것처럼 보이는 이유는 무엇일까요? 지구가 자전축을 중심으로 회전하기 때문입니다.\n",
      "score: 0.0035830557 source: 그리스인들은 천문학에서의 여러 설득력 있는 발상들로 인해 명성을 얻었습니다. 그들은 지구가 우주의 중심이며 다른 행성들이 지구를 돌고 있다는 이론을 제시했습니다. 그러나 나중에 이 이론은 옳지 않다는 것이 증명되었습니다. 그리스인들은 지구가 움직이지 않는다고 생각했는데, 그 이유는 지표면에서 지구의 움직임이 뚜렷하지 않기 때문입니다. 그리스인들은 또한 우리 행성을 둘러싼 보이지 않는 구체가 별들을 담고 있다고 믿었습니다. 이 구체는 회전하여 시간에 따른 별자리의 분명한 움직임을 설명했습니다. 그러나 이러한 이론들은 나중에 옳지 않다는 것이 밝혀졌습니다. 달이 지구 주위를 공전하는 것이 달의 위상의 원인입니다.\n",
      "score: 0.0035823216 source: 태양계는 태양을 중심으로 돌아가는 행성들로 구성되어 있습니다. 대적점은 행성이 태양과 지구 사이에 위치할 때 발생하는 현상입니다. 이때 대적점을 찾을 수 있는 행성은 목성입니다. 목성은 태양계에서 가장 큰 행성으로 알려져 있으며, 그 크기와 질량은 다른 행성들을 능가합니다. 목성은 태양과의 거리가 가장 멀기 때문에 대적점이 발생할 수 있는 조건을 가지고 있습니다. 따라서, 우리의 태양계에서 대적점을 찾을 수 있는 행성은 목성입니다.\n"
     ]
    },
    {
     "name": "stderr",
     "output_type": "stream",
     "text": [
      "/root/home/envforir/lib/python3.10/site-packages/urllib3/connectionpool.py:1103: InsecureRequestWarning: Unverified HTTPS request is being made to host 'localhost'. Adding certificate verification is strongly advised. See: https://urllib3.readthedocs.io/en/latest/advanced-usage.html#tls-warnings\n",
      "  warnings.warn(\n"
     ]
    }
   ],
   "source": [
    "# Vector 유사도 사용한 검색 예제\n",
    "search_result_retrieve = dense_retrieve(test_query, 10)\n",
    "\n",
    "# 결과 출력 테스트\n",
    "for rst in search_result_retrieve['hits']['hits']:\n",
    "    print('score:', rst['_score'], 'source:', rst['_source'][\"content\"])"
   ]
  },
  {
   "cell_type": "code",
   "execution_count": 16,
   "metadata": {},
   "outputs": [
    {
     "name": "stdout",
     "output_type": "stream",
     "text": [
      "score: 1.0047388 source: 금성이 다른 행성들보다 더 밝게 보이는 이유는 지구 쪽으로 가장 많은 햇빛을 반사하기 때문입니다. 케빈은 맑은 밤에 하늘을 관찰하고 있습니다. 그는 맨눈으로 금성, 화성, 목성, 토성을 볼 수 있습니다. 금성은 햇빛을 많이 반사하기 때문에 다른 행성들보다 더 밝게 보입니다. 이는 금성의 표면이 반사율이 높기 때문입니다. 금성은 태양으로부터 받은 햇빛을 표면에 반사하여 지구에서 관찰하기 쉽게 만듭니다. 따라서 케빈은 맑은 밤에 금성을 더 밝게 볼 수 있습니다.\n",
      "score: 1.0046898 source: 금성은 태양계에서 가장 가까운 행성 중 하나입니다. 그러나 화성이나 지구처럼 계절이 없는 이유는 금성의 자전축이 태양계의 평면에 거의 수직이기 때문입니다. 자전축이 수직이기 때문에 금성은 태양으로부터 받는 햇빛의 양이 일정하게 유지됩니다. 이로 인해 금성은 계절 변화가 없으며 항상 일정한 온도를 유지합니다. 이러한 환경은 생명체에게는 적합하지 않을 수 있지만, 금성의 특이한 기후 조건은 우주 탐사에 대한 연구에 많은 도움을 주고 있습니다. 금성은 여전히 우리에게 알려지지 않은 많은 비밀을 품고 있으며, 미래에 더 많은 연구와 탐사가 이루어질 것으로 기대됩니다.\n",
      "score: 1.004265 source: 소행성대가 위치한 곳에는 행성이 없는 이유는 목성과의 공명으로 인해 물질이 모이는 것을 방해하여 행성을 형성하지 못했기 때문입니다. 소행성대는 태양계 내부 행성들과 외부 행성들 사이에 위치한 영역으로, 많은 소행성들이 모여있는 지역입니다. 하지만 목성과의 공명 현상으로 인해 소행성들이 목성의 중력에 영향을 받아 행성을 형성하지 못하고 분산되거나 파괴되는 경우가 많습니다. 따라서 소행성대는 행성이 형성되기 어려운 환경이라고 할 수 있습니다. 이러한 이유로 소행성대에는 행성이 없는 것입니다.\n",
      "score: 1.0 source: 금성은 태양계의 두 번째로 가까운 행성입니다. 이 행성의 대략적인 나이는 7억 5천만 년으로 추정됩니다. 금성은 지구와 매우 비슷한 크기와 구성을 가지고 있으며, 약 90% 이상이 이산화탄소로 이루어져 있습니다. 이 행성은 매우 뜨거운 온도와 압력을 가지고 있어서 인간이 살 수 있는 환경이 아닙니다. 금성의 대기는 두꺼워서 태양의 열을 가두고 있어서 행성의 표면은 평균 온도가 약 450도로 매우 뜨거운 상태입니다. 또한, 금성은 자전 속도가 매우 빠르기 때문에 하루가 지구의 약 243일과 같습니다. 이러한 특징들로 인해 금성은 우리 태양계에서 가장 가혹한 환경을 가진 행성 중 하나로 알려져 있습니다.\n",
      "score: 1.0 source: 과학자들은 대부분의 운석이 소행성대에서 왔다는 것을 알고 있습니다. 이는 일부 운석의 스펙트럼이 소행성대의 소행성 스펙트럼과 유사하다는 연구 결과에 기반합니다. 스펙트럼은 빛의 파장에 따라 다양한 색상으로 나타나는데, 소행성대의 소행성들은 특정한 스펙트럼 패턴을 가지고 있습니다. 이와 비슷한 스펙트럼 패턴을 가진 일부 운석들이 지구에 떨어진 것을 관측하였고, 이를 통해 운석들이 소행성대에서 왔다는 결론을 내렸습니다. 이러한 연구 결과는 과학자들이 우주의 기원과 운석의 원래 위치를 이해하는 데 큰 도움을 주고 있습니다.\n",
      "score: 1.0 source: 태양계는 태양을 중심으로 돌아가는 행성들로 구성되어 있습니다. 대적점은 행성이 태양과 지구 사이에 위치할 때 발생하는 현상입니다. 이때 대적점을 찾을 수 있는 행성은 목성입니다. 목성은 태양계에서 가장 큰 행성으로 알려져 있으며, 그 크기와 질량은 다른 행성들을 능가합니다. 목성은 태양과의 거리가 가장 멀기 때문에 대적점이 발생할 수 있는 조건을 가지고 있습니다. 따라서, 우리의 태양계에서 대적점을 찾을 수 있는 행성은 목성입니다.\n",
      "score: 1.0 source: 그리스인들은 천문학에서의 여러 설득력 있는 발상들로 인해 명성을 얻었습니다. 그들은 지구가 우주의 중심이며 다른 행성들이 지구를 돌고 있다는 이론을 제시했습니다. 그러나 나중에 이 이론은 옳지 않다는 것이 증명되었습니다. 그리스인들은 지구가 움직이지 않는다고 생각했는데, 그 이유는 지표면에서 지구의 움직임이 뚜렷하지 않기 때문입니다. 그리스인들은 또한 우리 행성을 둘러싼 보이지 않는 구체가 별들을 담고 있다고 믿었습니다. 이 구체는 회전하여 시간에 따른 별자리의 분명한 움직임을 설명했습니다. 그러나 이러한 이론들은 나중에 옳지 않다는 것이 밝혀졌습니다. 달이 지구 주위를 공전하는 것이 달의 위상의 원인입니다.\n",
      "score: 1.0 source: 화성은 붉은색인 이유는 표면이 많이 산화된(\"녹슨\") 광물로 덮여 있기 때문입니다. 이 산화된 광물은 철 미립자로 이루어져 있어서 화성의 표면이 붉은 색으로 보입니다. 이러한 특징은 화성을 지구와 구별할 수 있는 중요한 특징 중 하나입니다. 화성의 붉은색은 우주 탐사선들이 보내는 사진들을 통해 우리에게 잘 알려져 있습니다. 이러한 특징은 화성의 지질학적 특성을 연구하는데도 중요한 역할을 합니다. 화성의 붉은색은 우리가 우주 탐사를 통해 더 많은 것을 알아갈 수 있도록 도와줍니다. 화성은 우리에게 아직 많은 비밀을 품고 있는 행성입니다.\n",
      "score: 1.0 source: 메릴랜드 Space Grant Observatory는 볼티모어에 위치해 있습니다. 학생들은 이 망원경을 방문하여 별, 행성, 달에 대해 배웠습니다. 그들은 아래와 같은 정보를 기록했습니다. 첫째, 별 패턴은 그대로 유지되지만, 하늘에서의 위치는 변하는 것처럼 보입니다. 둘째, 태양, 행성, 달은 하늘에서 움직이는 것처럼 보입니다. 셋째, 켄타우루스자리의 프록시마 성은 우리 태양계에서 가장 가까운 별입니다. 넷째, 북극성은 소 북두칠성이라 불리는 별 패턴의 일부입니다. 그렇다면 태양이 매일 하늘을 가로질러 움직이는 것처럼 보이는 이유는 무엇일까요? 지구가 자전축을 중심으로 회전하기 때문입니다.\n",
      "score: 1.0 source: 바너드 성은 지구에서 가장 가까운 항성(계) 중 두 번째로 알려진 항성입니다. 이전 IAAC 대회에서는 켄타우루스자리의 프록시마/알파 항성을 가장 가까운 항성(계)로 특징 지었었습니다. 하지만 바너드 성은 그 다음으로 가까운 항성(계)로 알려져 있습니다. 바너드 성은 우리 은하계에서 가장 가까운 적색 왜성으로 알려져 있으며, 지구로부터 약 6 광년 떨어져 있습니다. 이 항성은 매우 어두운 빨간색으로 빛나며, 주변 행성들과의 상호작용이 많이 연구되고 있습니다. 바너드 성은 우주 탐사와 외계 행성 연구에 있어서 중요한 대상으로 간주되고 있습니다.\n"
     ]
    },
    {
     "name": "stderr",
     "output_type": "stream",
     "text": [
      "/tmp/ipykernel_575239/2372825389.py:21: DeprecationWarning: The 'body' parameter is deprecated and will be removed in a future version. Instead use individual parameters.\n",
      "  return es.search(index='test', body=body)\n",
      "/root/home/envforir/lib/python3.10/site-packages/urllib3/connectionpool.py:1103: InsecureRequestWarning: Unverified HTTPS request is being made to host 'localhost'. Adding certificate verification is strongly advised. See: https://urllib3.readthedocs.io/en/latest/advanced-usage.html#tls-warnings\n",
      "  warnings.warn(\n"
     ]
    }
   ],
   "source": [
    "# Vector 유사도 사용한 검색 예제\n",
    "search_result_retrieve = dense_retrieve_2(test_query, search_result_retrieve['hits']['hits'], 3)\n",
    "\n",
    "# 결과 출력 테스트\n",
    "for rst in search_result_retrieve['hits']['hits']:\n",
    "    print('score:', rst['_score'], 'source:', rst['_source'][\"content\"])"
   ]
  },
  {
   "cell_type": "markdown",
   "metadata": {},
   "source": [
    "# RAG 구현\n",
    "준비된 검색엔진과 LLM을 활용하셔 대화형 RAG 구현"
   ]
  },
  {
   "cell_type": "code",
   "execution_count": 19,
   "metadata": {},
   "outputs": [],
   "source": [
    "from openai import OpenAI\n",
    "import traceback\n",
    "\n",
    "# OpenAI API 키를 환경변수에 설정\n",
    "os.environ[\"OPENAI_API_KEY\"] = \"sk-proj-FCdLR9ZMWFm8vjGzk3p3T3BlbkFJi3Dmulq4Tl3lOhZpHMoK\"\n",
    "#os.environ[\"OPENAI_API_KEY\"] = \"Your API Key\"\n",
    "\n",
    "client = OpenAI()\n",
    "\n",
    "# 사용할 모델을 설정\n",
    "llm_model = \"gpt-4-turbo\"\n"
   ]
  },
  {
   "cell_type": "markdown",
   "metadata": {},
   "source": [
    "# 프롬프트 수정"
   ]
  },
  {
   "cell_type": "code",
   "execution_count": 20,
   "metadata": {},
   "outputs": [],
   "source": [
    "# RAG 구현에 필요한 Question Answering을 위한 LLM  프롬프트 \n",
    "# : 질의을 분석하고 standalone_query를 생성 \n",
    "# 최종 답변 생성을 위한 프롬프트 \n",
    "persona_qa = \"\"\"\n",
    "## Role: 과학 상식 전문가\n",
    "\n",
    "## Instructions\n",
    "- 사용자의 이전 메시지 정보 및 주어진 Reference 정보를 활용하여 간결하게 답변을 생성한다.\n",
    "- 주어진 검색 결과 정보로 대답할 수 없는 경우는 정보가 부족해서 답을 할 수 없다고 대답한다. \n",
    "- 한국어로 답변을 생성한다.\n",
    "\"\"\"\n",
    "\n",
    "# RAG 구현에 필요한 질의 분석 및 검색 이외의 일반 질의 대응을 위한 LLM 프롬프트\n",
    "# : standalone_query가 추출된 이후 그 standalone_query로 검색 요청 \n",
    "# -> 검색결과로 나온 문서들을 reference로 전달\n",
    "# -> 그 reference와 함께 질의에 대한 답을 생성 \n",
    "persona_function_calling = \"\"\"\n",
    "## Role: 과학 상식 전문가\n",
    "\n",
    "## Instruction\n",
    "- 사용자가 대화를 통해 과학 지식에 관한 주제로 질문하면 search api를 호출할 수 있어야 한다.\n",
    "- 과학 상식과 관련되지 않은 나머지 대화 메시지에는 적절한 대답을 생성한다. \n",
    "\"\"\"\n",
    "\n",
    "# Function calling에 사용할 함수 정의\n",
    "tools = [\n",
    "    {\n",
    "        \"type\": \"function\",\n",
    "        \"function\": {\n",
    "            \"name\": \"search\",\n",
    "            \"description\": \"search relevant documents\",\n",
    "            \"parameters\": {\n",
    "                \"properties\": {\n",
    "                    \"standalone_query\": {\n",
    "                        \"type\": \"string\",\n",
    "                        \"description\": \"사용자 메세지 내역으로부터 검색에 사용할 적합한 최종 질의\"\n",
    "                    }\n",
    "                },\n",
    "                \"required\": [\"standalone_query\"],\n",
    "                \"type\": \"object\"\n",
    "            }\n",
    "        }\n",
    "    },\n",
    "]\n",
    "#>> 사용함수는 'search' \n",
    "#>> 'search' 함수에는 파라미터가 필요: 'standalone_query'\n",
    "# "
   ]
  },
  {
   "cell_type": "code",
   "execution_count": 21,
   "metadata": {},
   "outputs": [],
   "source": [
    "# LLM과 검색엔진을 활용한 RAG 구현\n",
    "def answer_question(messages):\n",
    "    # 함수 출력 초기화\n",
    "    response = {\"standalone_query\": \"\", \"topk\": [], \"references\": [], \"answer\": \"\"}\n",
    "\n",
    "    # 1. 질의 분석 및 검색 이외의 질의 대응을 위한 LLM 활용\n",
    "    msg = [{\"role\": \"system\", \"content\": persona_function_calling}] + messages\n",
    "    try:\n",
    "        result = client.chat.completions.create(\n",
    "            model=llm_model,\n",
    "            messages=msg,\n",
    "            tools=tools,\n",
    "            #tool_choice={\"type\": \"function\", \"function\": {\"name\": \"search\"}},\n",
    "            temperature=0,\n",
    "            seed=1,\n",
    "            timeout=10\n",
    "        )\n",
    "    except Exception as e:\n",
    "        traceback.print_exc()\n",
    "        return response\n",
    "\n",
    "    # 2. 검색이 필요한 경우(Function Calling이 유도된 경우) 검색 호출후 결과를 활용하여 답변 생성\n",
    "    if result.choices[0].message.tool_calls:\n",
    "        tool_call = result.choices[0].message.tool_calls[0]\n",
    "        function_args = json.loads(tool_call.function.arguments)  # json.loads: str -> json\n",
    "        standalone_query = function_args.get(\"standalone_query\")\n",
    "\n",
    "        # sparse_retrieve로 10개 추출\n",
    "        sparse_results = sparse_retrieve(standalone_query, 10)\n",
    "        \n",
    "        # dense_retrieve로 3개 추출\n",
    "        dense_results = dense_retrieve_2(standalone_query, sparse_results['hits']['hits'], 3)\n",
    "\n",
    "        response[\"standalone_query\"] = standalone_query\n",
    "        retrieved_context = []\n",
    "        for i,rst in enumerate(dense_results['hits']['hits']):\n",
    "            retrieved_context.append(rst[\"_source\"][\"content\"])\n",
    "            response[\"topk\"].append(rst[\"_source\"][\"docid\"])\n",
    "            response[\"references\"].append({\"score\": rst[\"_score\"], \"content\": rst[\"_source\"][\"content\"]})\n",
    "\n",
    "        content = json.dumps(retrieved_context)\n",
    "        messages.append({\"role\": \"assistant\", \"content\": content})\n",
    "        msg = [{\"role\": \"system\", \"content\": persona_qa}] + messages\n",
    "        try:\n",
    "            qaresult = client.chat.completions.create(\n",
    "                    model=llm_model,\n",
    "                    messages=msg,\n",
    "                    temperature=0,\n",
    "                    seed=1,\n",
    "                    timeout=30\n",
    "                )\n",
    "        except Exception as e:\n",
    "            traceback.print_exc()\n",
    "            return response\n",
    "        response[\"answer\"] = qaresult.choices[0].message.content\n",
    "\n",
    "    # 3. 검색이 필요하지 않은 경우(과학상식에 관한 질문이 아니라서 Function Calling이 유도되지 않음) 바로 답변 생성\n",
    "    else:\n",
    "        response[\"answer\"] = result.choices[0].message.content\n",
    "\n",
    "    return response\n",
    "\n"
   ]
  },
  {
   "cell_type": "code",
   "execution_count": 22,
   "metadata": {},
   "outputs": [],
   "source": [
    "# 평가를 위한 파일을 읽어서 각 평가 데이터에 대해서 결과 추출후 파일에 저장\n",
    "def eval_rag(eval_filename, output_filename):\n",
    "    with open(eval_filename) as f, open(output_filename, \"w\") as of:\n",
    "        idx = 0\n",
    "        for line in f:\n",
    "            # if idx > 5:\n",
    "            #   break\n",
    "            j = json.loads(line)\n",
    "            print(f'Test {idx}\\nQuestion: {j[\"msg\"]}')\n",
    "            response = answer_question(j[\"msg\"])\n",
    "            print(f'Answer: {response[\"answer\"]}\\n')\n",
    "\n",
    "            # 대회 score 계산은 topk 정보를 사용, answer 정보는 LLM을 통한 자동평가시 활용\n",
    "            output = {\"eval_id\": j[\"eval_id\"], \"standalone_query\": response[\"standalone_query\"], \"topk\": response[\"topk\"], \"answer\": response[\"answer\"], \"references\": response[\"references\"]}\n",
    "            of.write(f'{json.dumps(output, ensure_ascii=False)}\\n')\n",
    "            idx += 1\n"
   ]
  },
  {
   "cell_type": "code",
   "execution_count": 27,
   "metadata": {},
   "outputs": [
    {
     "name": "stdout",
     "output_type": "stream",
     "text": [
      "Test 0\n",
      "Question: [{'role': 'user', 'content': '나무의 분류에 대해 조사해 보기 위한 방법은?'}]\n"
     ]
    },
    {
     "name": "stderr",
     "output_type": "stream",
     "text": [
      "/home/iruser/miniconda3/lib/python3.12/site-packages/urllib3/connectionpool.py:1099: InsecureRequestWarning: Unverified HTTPS request is being made to host 'localhost'. Adding certificate verification is strongly advised. See: https://urllib3.readthedocs.io/en/latest/advanced-usage.html#tls-warnings\n",
      "  warnings.warn(\n",
      "/home/iruser/miniconda3/lib/python3.12/site-packages/urllib3/connectionpool.py:1099: InsecureRequestWarning: Unverified HTTPS request is being made to host 'localhost'. Adding certificate verification is strongly advised. See: https://urllib3.readthedocs.io/en/latest/advanced-usage.html#tls-warnings\n",
      "  warnings.warn(\n"
     ]
    },
    {
     "name": "stdout",
     "output_type": "stream",
     "text": [
      "Answer: 나무의 분류를 조사하기 위해서는 다음과 같은 방법을 사용할 수 있습니다:\n",
      "\n",
      "1. **현장 조사**: 다양한 지역을 방문하여 나무의 생육 환경, 크기, 잎의 모양과 배열, 꽃과 열매의 특성 등을 관찰합니다.\n",
      "\n",
      "2. **도감 및 참고자료 활용**: 나무에 대한 도감이나 식물학 관련 서적을 참고하여 관찰한 나무의 특징과 비교하며 분류합니다.\n",
      "\n",
      "3. **전문가 상담**: 식물학자나 수목원의 전문가에게 조언을 구하거나 함께 현장 조사를 진행할 수 있습니다.\n",
      "\n",
      "4. **DNA 분석**: 최근에는 유전자 분석을 통해 나무의 종을 정확하게 분류하는 방법도 사용됩니다.\n",
      "\n",
      "이러한 방법들을 통해 나무의 종류를 정확하게 분류하고 그 특성을 이해할 수 있습니다.\n",
      "\n",
      "Test 1\n",
      "Question: [{'role': 'user', 'content': '각 나라에서의 공교육 지출 현황에 대해 알려줘.'}]\n"
     ]
    },
    {
     "name": "stderr",
     "output_type": "stream",
     "text": [
      "/home/iruser/miniconda3/lib/python3.12/site-packages/urllib3/connectionpool.py:1099: InsecureRequestWarning: Unverified HTTPS request is being made to host 'localhost'. Adding certificate verification is strongly advised. See: https://urllib3.readthedocs.io/en/latest/advanced-usage.html#tls-warnings\n",
      "  warnings.warn(\n",
      "/home/iruser/miniconda3/lib/python3.12/site-packages/urllib3/connectionpool.py:1099: InsecureRequestWarning: Unverified HTTPS request is being made to host 'localhost'. Adding certificate verification is strongly advised. See: https://urllib3.readthedocs.io/en/latest/advanced-usage.html#tls-warnings\n",
      "  warnings.warn(\n"
     ]
    },
    {
     "name": "stdout",
     "output_type": "stream",
     "text": [
      "Answer: 제공된 정보에는 각 나라의 공교육 지출 현황에 대한 구체적인 데이터가 포함되어 있지 않습니다. 따라서 이에 대한 자세한 답변을 제공할 수 없습니다. 다만, 전반적으로 세계적으로 공교육에 대한 지출은 GDP의 약 4%를 차지하고 있다는 점을 언급할 수 있습니다. 이는 국가들이 교육에 상당한 자원을 투자하고 있음을 나타냅니다.\n",
      "\n",
      "Test 2\n",
      "Question: [{'role': 'user', 'content': '기억 상실증 걸리면 너무 무섭겠다.'}, {'role': 'assistant', 'content': '네 맞습니다.'}, {'role': 'user', 'content': '어떤 원인 때문에 발생하는지 궁금해.'}]\n"
     ]
    },
    {
     "name": "stderr",
     "output_type": "stream",
     "text": [
      "/home/iruser/miniconda3/lib/python3.12/site-packages/urllib3/connectionpool.py:1099: InsecureRequestWarning: Unverified HTTPS request is being made to host 'localhost'. Adding certificate verification is strongly advised. See: https://urllib3.readthedocs.io/en/latest/advanced-usage.html#tls-warnings\n",
      "  warnings.warn(\n",
      "/home/iruser/miniconda3/lib/python3.12/site-packages/urllib3/connectionpool.py:1099: InsecureRequestWarning: Unverified HTTPS request is being made to host 'localhost'. Adding certificate verification is strongly advised. See: https://urllib3.readthedocs.io/en/latest/advanced-usage.html#tls-warnings\n",
      "  warnings.warn(\n"
     ]
    },
    {
     "name": "stdout",
     "output_type": "stream",
     "text": [
      "Answer: 기억 상실증은 다양한 원인으로 발생할 수 있습니다. 주요 원인으로는 뇌 손상, 알츠하이머병, 기타 치매 질환, 뇌졸중, 심한 스트레스나 정신적 충격, 약물의 부작용, 감염, 영양 결핍 등이 있습니다. 이러한 원인들은 뇌의 기억을 담당하는 부위에 영향을 미쳐 기억력에 장애를 일으킬 수 있습니다.\n",
      "\n",
      "Test 3\n",
      "Question: [{'role': 'user', 'content': '통학 버스의 가치에 대해 말해줘.'}]\n"
     ]
    },
    {
     "name": "stderr",
     "output_type": "stream",
     "text": [
      "Traceback (most recent call last):\n",
      "  File \"/home/iruser/miniconda3/lib/python3.12/site-packages/httpx/_transports/default.py\", line 69, in map_httpcore_exceptions\n",
      "    yield\n",
      "  File \"/home/iruser/miniconda3/lib/python3.12/site-packages/httpx/_transports/default.py\", line 233, in handle_request\n",
      "    resp = self._pool.handle_request(req)\n",
      "           ^^^^^^^^^^^^^^^^^^^^^^^^^^^^^^\n",
      "  File \"/home/iruser/miniconda3/lib/python3.12/site-packages/httpcore/_sync/connection_pool.py\", line 216, in handle_request\n",
      "    raise exc from None\n",
      "  File \"/home/iruser/miniconda3/lib/python3.12/site-packages/httpcore/_sync/connection_pool.py\", line 196, in handle_request\n",
      "    response = connection.handle_request(\n",
      "               ^^^^^^^^^^^^^^^^^^^^^^^^^^\n",
      "  File \"/home/iruser/miniconda3/lib/python3.12/site-packages/httpcore/_sync/connection.py\", line 101, in handle_request\n",
      "    return self._connection.handle_request(request)\n",
      "           ^^^^^^^^^^^^^^^^^^^^^^^^^^^^^^^^^^^^^^^^\n",
      "  File \"/home/iruser/miniconda3/lib/python3.12/site-packages/httpcore/_sync/http11.py\", line 143, in handle_request\n",
      "    raise exc\n",
      "  File \"/home/iruser/miniconda3/lib/python3.12/site-packages/httpcore/_sync/http11.py\", line 113, in handle_request\n",
      "    ) = self._receive_response_headers(**kwargs)\n",
      "        ^^^^^^^^^^^^^^^^^^^^^^^^^^^^^^^^^^^^^^^^\n",
      "  File \"/home/iruser/miniconda3/lib/python3.12/site-packages/httpcore/_sync/http11.py\", line 186, in _receive_response_headers\n",
      "    event = self._receive_event(timeout=timeout)\n",
      "            ^^^^^^^^^^^^^^^^^^^^^^^^^^^^^^^^^^^^\n",
      "  File \"/home/iruser/miniconda3/lib/python3.12/site-packages/httpcore/_sync/http11.py\", line 224, in _receive_event\n",
      "    data = self._network_stream.read(\n",
      "           ^^^^^^^^^^^^^^^^^^^^^^^^^^\n",
      "  File \"/home/iruser/miniconda3/lib/python3.12/site-packages/httpcore/_backends/sync.py\", line 124, in read\n",
      "    with map_exceptions(exc_map):\n",
      "  File \"/home/iruser/miniconda3/lib/python3.12/contextlib.py\", line 158, in __exit__\n",
      "    self.gen.throw(value)\n",
      "  File \"/home/iruser/miniconda3/lib/python3.12/site-packages/httpcore/_exceptions.py\", line 14, in map_exceptions\n",
      "    raise to_exc(exc) from exc\n",
      "httpcore.ReadTimeout: The read operation timed out\n",
      "\n",
      "The above exception was the direct cause of the following exception:\n",
      "\n",
      "Traceback (most recent call last):\n",
      "  File \"/home/iruser/miniconda3/lib/python3.12/site-packages/openai/_base_client.py\", line 962, in _request\n",
      "    response = self._client.send(\n",
      "               ^^^^^^^^^^^^^^^^^^\n",
      "  File \"/home/iruser/miniconda3/lib/python3.12/site-packages/httpx/_client.py\", line 914, in send\n",
      "    response = self._send_handling_auth(\n",
      "               ^^^^^^^^^^^^^^^^^^^^^^^^^\n",
      "  File \"/home/iruser/miniconda3/lib/python3.12/site-packages/httpx/_client.py\", line 942, in _send_handling_auth\n",
      "    response = self._send_handling_redirects(\n",
      "               ^^^^^^^^^^^^^^^^^^^^^^^^^^^^^^\n",
      "  File \"/home/iruser/miniconda3/lib/python3.12/site-packages/httpx/_client.py\", line 979, in _send_handling_redirects\n",
      "    response = self._send_single_request(request)\n",
      "               ^^^^^^^^^^^^^^^^^^^^^^^^^^^^^^^^^^\n",
      "  File \"/home/iruser/miniconda3/lib/python3.12/site-packages/httpx/_client.py\", line 1015, in _send_single_request\n",
      "    response = transport.handle_request(request)\n",
      "               ^^^^^^^^^^^^^^^^^^^^^^^^^^^^^^^^^\n",
      "  File \"/home/iruser/miniconda3/lib/python3.12/site-packages/httpx/_transports/default.py\", line 232, in handle_request\n",
      "    with map_httpcore_exceptions():\n",
      "  File \"/home/iruser/miniconda3/lib/python3.12/contextlib.py\", line 158, in __exit__\n",
      "    self.gen.throw(value)\n",
      "  File \"/home/iruser/miniconda3/lib/python3.12/site-packages/httpx/_transports/default.py\", line 86, in map_httpcore_exceptions\n",
      "    raise mapped_exc(message) from exc\n",
      "httpx.ReadTimeout: The read operation timed out\n",
      "\n",
      "The above exception was the direct cause of the following exception:\n",
      "\n",
      "Traceback (most recent call last):\n",
      "  File \"/tmp/ipykernel_553369/3349873631.py\", line 9, in answer_question\n",
      "    result = client.chat.completions.create(\n",
      "             ^^^^^^^^^^^^^^^^^^^^^^^^^^^^^^^\n",
      "  File \"/home/iruser/miniconda3/lib/python3.12/site-packages/openai/_utils/_utils.py\", line 277, in wrapper\n",
      "    return func(*args, **kwargs)\n",
      "           ^^^^^^^^^^^^^^^^^^^^^\n",
      "  File \"/home/iruser/miniconda3/lib/python3.12/site-packages/openai/resources/chat/completions.py\", line 640, in create\n",
      "    return self._post(\n",
      "           ^^^^^^^^^^^\n",
      "  File \"/home/iruser/miniconda3/lib/python3.12/site-packages/openai/_base_client.py\", line 1250, in post\n",
      "    return cast(ResponseT, self.request(cast_to, opts, stream=stream, stream_cls=stream_cls))\n",
      "                           ^^^^^^^^^^^^^^^^^^^^^^^^^^^^^^^^^^^^^^^^^^^^^^^^^^^^^^^^^^^^^^^^^\n",
      "  File \"/home/iruser/miniconda3/lib/python3.12/site-packages/openai/_base_client.py\", line 931, in request\n",
      "    return self._request(\n",
      "           ^^^^^^^^^^^^^^\n",
      "  File \"/home/iruser/miniconda3/lib/python3.12/site-packages/openai/_base_client.py\", line 971, in _request\n",
      "    return self._retry_request(\n",
      "           ^^^^^^^^^^^^^^^^^^^^\n",
      "  File \"/home/iruser/miniconda3/lib/python3.12/site-packages/openai/_base_client.py\", line 1063, in _retry_request\n",
      "    return self._request(\n",
      "           ^^^^^^^^^^^^^^\n",
      "  File \"/home/iruser/miniconda3/lib/python3.12/site-packages/openai/_base_client.py\", line 971, in _request\n",
      "    return self._retry_request(\n",
      "           ^^^^^^^^^^^^^^^^^^^^\n",
      "  File \"/home/iruser/miniconda3/lib/python3.12/site-packages/openai/_base_client.py\", line 1063, in _retry_request\n",
      "    return self._request(\n",
      "           ^^^^^^^^^^^^^^\n",
      "  File \"/home/iruser/miniconda3/lib/python3.12/site-packages/openai/_base_client.py\", line 981, in _request\n",
      "    raise APITimeoutError(request=request) from err\n",
      "openai.APITimeoutError: Request timed out.\n"
     ]
    },
    {
     "name": "stdout",
     "output_type": "stream",
     "text": [
      "Answer: \n",
      "\n",
      "Test 4\n",
      "Question: [{'role': 'user', 'content': 'Dmitri Ivanovsky가 누구야?'}]\n"
     ]
    },
    {
     "name": "stderr",
     "output_type": "stream",
     "text": [
      "/home/iruser/miniconda3/lib/python3.12/site-packages/urllib3/connectionpool.py:1099: InsecureRequestWarning: Unverified HTTPS request is being made to host 'localhost'. Adding certificate verification is strongly advised. See: https://urllib3.readthedocs.io/en/latest/advanced-usage.html#tls-warnings\n",
      "  warnings.warn(\n",
      "/home/iruser/miniconda3/lib/python3.12/site-packages/urllib3/connectionpool.py:1099: InsecureRequestWarning: Unverified HTTPS request is being made to host 'localhost'. Adding certificate verification is strongly advised. See: https://urllib3.readthedocs.io/en/latest/advanced-usage.html#tls-warnings\n",
      "  warnings.warn(\n"
     ]
    },
    {
     "ename": "BadRequestError",
     "evalue": "BadRequestError(400, 'x_content_parse_exception', 'Failed to build [knn] after last required field arrived')",
     "output_type": "error",
     "traceback": [
      "\u001b[0;31m---------------------------------------------------------------------------\u001b[0m",
      "\u001b[0;31mBadRequestError\u001b[0m                           Traceback (most recent call last)",
      "Cell \u001b[0;32mIn[27], line 2\u001b[0m\n\u001b[1;32m      1\u001b[0m \u001b[38;5;66;03m# 평가 데이터에 대해서 결과 생성 - 파일 포맷은 jsonl이지만 파일명은 csv 사용\u001b[39;00m\n\u001b[0;32m----> 2\u001b[0m eval_rag(\u001b[38;5;124m\"\u001b[39m\u001b[38;5;124m/data/ephemeral/home/upstage-ai-final-ir2/HM/data/eval.jsonl\u001b[39m\u001b[38;5;124m\"\u001b[39m, \u001b[38;5;124m\"\u001b[39m\u001b[38;5;124msample_submission_3.csv\u001b[39m\u001b[38;5;124m\"\u001b[39m)\n",
      "Cell \u001b[0;32mIn[22], line 10\u001b[0m, in \u001b[0;36meval_rag\u001b[0;34m(eval_filename, output_filename)\u001b[0m\n\u001b[1;32m      8\u001b[0m j \u001b[38;5;241m=\u001b[39m json\u001b[38;5;241m.\u001b[39mloads(line)\n\u001b[1;32m      9\u001b[0m \u001b[38;5;28mprint\u001b[39m(\u001b[38;5;124mf\u001b[39m\u001b[38;5;124m'\u001b[39m\u001b[38;5;124mTest \u001b[39m\u001b[38;5;132;01m{\u001b[39;00midx\u001b[38;5;132;01m}\u001b[39;00m\u001b[38;5;130;01m\\n\u001b[39;00m\u001b[38;5;124mQuestion: \u001b[39m\u001b[38;5;132;01m{\u001b[39;00mj[\u001b[38;5;124m\"\u001b[39m\u001b[38;5;124mmsg\u001b[39m\u001b[38;5;124m\"\u001b[39m]\u001b[38;5;132;01m}\u001b[39;00m\u001b[38;5;124m'\u001b[39m)\n\u001b[0;32m---> 10\u001b[0m response \u001b[38;5;241m=\u001b[39m answer_question(j[\u001b[38;5;124m\"\u001b[39m\u001b[38;5;124mmsg\u001b[39m\u001b[38;5;124m\"\u001b[39m])\n\u001b[1;32m     11\u001b[0m \u001b[38;5;28mprint\u001b[39m(\u001b[38;5;124mf\u001b[39m\u001b[38;5;124m'\u001b[39m\u001b[38;5;124mAnswer: \u001b[39m\u001b[38;5;132;01m{\u001b[39;00mresponse[\u001b[38;5;124m\"\u001b[39m\u001b[38;5;124manswer\u001b[39m\u001b[38;5;124m\"\u001b[39m]\u001b[38;5;132;01m}\u001b[39;00m\u001b[38;5;130;01m\\n\u001b[39;00m\u001b[38;5;124m'\u001b[39m)\n\u001b[1;32m     13\u001b[0m \u001b[38;5;66;03m# 대회 score 계산은 topk 정보를 사용, answer 정보는 LLM을 통한 자동평가시 활용\u001b[39;00m\n",
      "Cell \u001b[0;32mIn[21], line 32\u001b[0m, in \u001b[0;36manswer_question\u001b[0;34m(messages)\u001b[0m\n\u001b[1;32m     29\u001b[0m sparse_results \u001b[38;5;241m=\u001b[39m sparse_retrieve(standalone_query, \u001b[38;5;241m10\u001b[39m)\n\u001b[1;32m     31\u001b[0m \u001b[38;5;66;03m# dense_retrieve로 3개 추출\u001b[39;00m\n\u001b[0;32m---> 32\u001b[0m dense_results \u001b[38;5;241m=\u001b[39m dense_retrieve_2(standalone_query, sparse_results[\u001b[38;5;124m'\u001b[39m\u001b[38;5;124mhits\u001b[39m\u001b[38;5;124m'\u001b[39m][\u001b[38;5;124m'\u001b[39m\u001b[38;5;124mhits\u001b[39m\u001b[38;5;124m'\u001b[39m], \u001b[38;5;241m3\u001b[39m)\n\u001b[1;32m     34\u001b[0m response[\u001b[38;5;124m\"\u001b[39m\u001b[38;5;124mstandalone_query\u001b[39m\u001b[38;5;124m\"\u001b[39m] \u001b[38;5;241m=\u001b[39m standalone_query\n\u001b[1;32m     35\u001b[0m retrieved_context \u001b[38;5;241m=\u001b[39m []\n",
      "Cell \u001b[0;32mIn[26], line 24\u001b[0m, in \u001b[0;36mdense_retrieve_2\u001b[0;34m(query_str, documents, size)\u001b[0m\n\u001b[1;32m     13\u001b[0m \u001b[38;5;66;03m# 미리 필터링된 문서들에 대해서만 'test' 인덱스에서 KNN 검색 수행 \u001b[39;00m\n\u001b[1;32m     14\u001b[0m \u001b[38;5;66;03m# 'ids' 쿼리를 'terms' 쿼리로 변경\u001b[39;00m\n\u001b[1;32m     15\u001b[0m body \u001b[38;5;241m=\u001b[39m {\n\u001b[1;32m     16\u001b[0m     \u001b[38;5;124m\"\u001b[39m\u001b[38;5;124mknn\u001b[39m\u001b[38;5;124m\"\u001b[39m: knn,\n\u001b[1;32m     17\u001b[0m     \u001b[38;5;124m\"\u001b[39m\u001b[38;5;124mquery\u001b[39m\u001b[38;5;124m\"\u001b[39m: {\n\u001b[0;32m   (...)\u001b[0m\n\u001b[1;32m     21\u001b[0m     }\n\u001b[1;32m     22\u001b[0m }\n\u001b[0;32m---> 24\u001b[0m \u001b[38;5;28;01mreturn\u001b[39;00m es\u001b[38;5;241m.\u001b[39msearch(index\u001b[38;5;241m=\u001b[39m\u001b[38;5;124m'\u001b[39m\u001b[38;5;124mtest\u001b[39m\u001b[38;5;124m'\u001b[39m, body\u001b[38;5;241m=\u001b[39mbody)\n",
      "File \u001b[0;32m/home/iruser/miniconda3/lib/python3.12/site-packages/elasticsearch/_sync/client/utils.py:446\u001b[0m, in \u001b[0;36m_rewrite_parameters.<locals>.wrapper.<locals>.wrapped\u001b[0;34m(*args, **kwargs)\u001b[0m\n\u001b[1;32m    443\u001b[0m         \u001b[38;5;28;01mexcept\u001b[39;00m \u001b[38;5;167;01mKeyError\u001b[39;00m:\n\u001b[1;32m    444\u001b[0m             \u001b[38;5;28;01mpass\u001b[39;00m\n\u001b[0;32m--> 446\u001b[0m \u001b[38;5;28;01mreturn\u001b[39;00m api(\u001b[38;5;241m*\u001b[39margs, \u001b[38;5;241m*\u001b[39m\u001b[38;5;241m*\u001b[39mkwargs)\n",
      "File \u001b[0;32m/home/iruser/miniconda3/lib/python3.12/site-packages/elasticsearch/_sync/client/__init__.py:4119\u001b[0m, in \u001b[0;36mElasticsearch.search\u001b[0;34m(self, index, aggregations, aggs, allow_no_indices, allow_partial_search_results, analyze_wildcard, analyzer, batched_reduce_size, ccs_minimize_roundtrips, collapse, default_operator, df, docvalue_fields, error_trace, expand_wildcards, explain, ext, fields, filter_path, force_synthetic_source, from_, highlight, human, ignore_throttled, ignore_unavailable, indices_boost, knn, lenient, max_concurrent_shard_requests, min_compatible_shard_node, min_score, pit, post_filter, pre_filter_shard_size, preference, pretty, profile, q, query, rank, request_cache, rescore, rest_total_hits_as_int, retriever, routing, runtime_mappings, script_fields, scroll, search_after, search_type, seq_no_primary_term, size, slice, sort, source, source_excludes, source_includes, stats, stored_fields, suggest, suggest_field, suggest_mode, suggest_size, suggest_text, terminate_after, timeout, track_scores, track_total_hits, typed_keys, version, body)\u001b[0m\n\u001b[1;32m   4117\u001b[0m \u001b[38;5;28;01mif\u001b[39;00m __body \u001b[38;5;129;01mis\u001b[39;00m \u001b[38;5;129;01mnot\u001b[39;00m \u001b[38;5;28;01mNone\u001b[39;00m:\n\u001b[1;32m   4118\u001b[0m     __headers[\u001b[38;5;124m\"\u001b[39m\u001b[38;5;124mcontent-type\u001b[39m\u001b[38;5;124m\"\u001b[39m] \u001b[38;5;241m=\u001b[39m \u001b[38;5;124m\"\u001b[39m\u001b[38;5;124mapplication/json\u001b[39m\u001b[38;5;124m\"\u001b[39m\n\u001b[0;32m-> 4119\u001b[0m \u001b[38;5;28;01mreturn\u001b[39;00m \u001b[38;5;28mself\u001b[39m\u001b[38;5;241m.\u001b[39mperform_request(  \u001b[38;5;66;03m# type: ignore[return-value]\u001b[39;00m\n\u001b[1;32m   4120\u001b[0m     \u001b[38;5;124m\"\u001b[39m\u001b[38;5;124mPOST\u001b[39m\u001b[38;5;124m\"\u001b[39m,\n\u001b[1;32m   4121\u001b[0m     __path,\n\u001b[1;32m   4122\u001b[0m     params\u001b[38;5;241m=\u001b[39m__query,\n\u001b[1;32m   4123\u001b[0m     headers\u001b[38;5;241m=\u001b[39m__headers,\n\u001b[1;32m   4124\u001b[0m     body\u001b[38;5;241m=\u001b[39m__body,\n\u001b[1;32m   4125\u001b[0m     endpoint_id\u001b[38;5;241m=\u001b[39m\u001b[38;5;124m\"\u001b[39m\u001b[38;5;124msearch\u001b[39m\u001b[38;5;124m\"\u001b[39m,\n\u001b[1;32m   4126\u001b[0m     path_parts\u001b[38;5;241m=\u001b[39m__path_parts,\n\u001b[1;32m   4127\u001b[0m )\n",
      "File \u001b[0;32m/home/iruser/miniconda3/lib/python3.12/site-packages/elasticsearch/_sync/client/_base.py:271\u001b[0m, in \u001b[0;36mBaseClient.perform_request\u001b[0;34m(self, method, path, params, headers, body, endpoint_id, path_parts)\u001b[0m\n\u001b[1;32m    255\u001b[0m \u001b[38;5;28;01mdef\u001b[39;00m \u001b[38;5;21mperform_request\u001b[39m(\n\u001b[1;32m    256\u001b[0m     \u001b[38;5;28mself\u001b[39m,\n\u001b[1;32m    257\u001b[0m     method: \u001b[38;5;28mstr\u001b[39m,\n\u001b[0;32m   (...)\u001b[0m\n\u001b[1;32m    264\u001b[0m     path_parts: Optional[Mapping[\u001b[38;5;28mstr\u001b[39m, Any]] \u001b[38;5;241m=\u001b[39m \u001b[38;5;28;01mNone\u001b[39;00m,\n\u001b[1;32m    265\u001b[0m ) \u001b[38;5;241m-\u001b[39m\u001b[38;5;241m>\u001b[39m ApiResponse[Any]:\n\u001b[1;32m    266\u001b[0m     \u001b[38;5;28;01mwith\u001b[39;00m \u001b[38;5;28mself\u001b[39m\u001b[38;5;241m.\u001b[39m_otel\u001b[38;5;241m.\u001b[39mspan(\n\u001b[1;32m    267\u001b[0m         method,\n\u001b[1;32m    268\u001b[0m         endpoint_id\u001b[38;5;241m=\u001b[39mendpoint_id,\n\u001b[1;32m    269\u001b[0m         path_parts\u001b[38;5;241m=\u001b[39mpath_parts \u001b[38;5;129;01mor\u001b[39;00m {},\n\u001b[1;32m    270\u001b[0m     ) \u001b[38;5;28;01mas\u001b[39;00m otel_span:\n\u001b[0;32m--> 271\u001b[0m         response \u001b[38;5;241m=\u001b[39m \u001b[38;5;28mself\u001b[39m\u001b[38;5;241m.\u001b[39m_perform_request(\n\u001b[1;32m    272\u001b[0m             method,\n\u001b[1;32m    273\u001b[0m             path,\n\u001b[1;32m    274\u001b[0m             params\u001b[38;5;241m=\u001b[39mparams,\n\u001b[1;32m    275\u001b[0m             headers\u001b[38;5;241m=\u001b[39mheaders,\n\u001b[1;32m    276\u001b[0m             body\u001b[38;5;241m=\u001b[39mbody,\n\u001b[1;32m    277\u001b[0m             otel_span\u001b[38;5;241m=\u001b[39motel_span,\n\u001b[1;32m    278\u001b[0m         )\n\u001b[1;32m    279\u001b[0m         otel_span\u001b[38;5;241m.\u001b[39mset_elastic_cloud_metadata(response\u001b[38;5;241m.\u001b[39mmeta\u001b[38;5;241m.\u001b[39mheaders)\n\u001b[1;32m    280\u001b[0m         \u001b[38;5;28;01mreturn\u001b[39;00m response\n",
      "File \u001b[0;32m/home/iruser/miniconda3/lib/python3.12/site-packages/elasticsearch/_sync/client/_base.py:352\u001b[0m, in \u001b[0;36mBaseClient._perform_request\u001b[0;34m(self, method, path, params, headers, body, otel_span)\u001b[0m\n\u001b[1;32m    349\u001b[0m         \u001b[38;5;28;01mexcept\u001b[39;00m (\u001b[38;5;167;01mValueError\u001b[39;00m, \u001b[38;5;167;01mKeyError\u001b[39;00m, \u001b[38;5;167;01mTypeError\u001b[39;00m):\n\u001b[1;32m    350\u001b[0m             \u001b[38;5;28;01mpass\u001b[39;00m\n\u001b[0;32m--> 352\u001b[0m     \u001b[38;5;28;01mraise\u001b[39;00m HTTP_EXCEPTIONS\u001b[38;5;241m.\u001b[39mget(meta\u001b[38;5;241m.\u001b[39mstatus, ApiError)(\n\u001b[1;32m    353\u001b[0m         message\u001b[38;5;241m=\u001b[39mmessage, meta\u001b[38;5;241m=\u001b[39mmeta, body\u001b[38;5;241m=\u001b[39mresp_body\n\u001b[1;32m    354\u001b[0m     )\n\u001b[1;32m    356\u001b[0m \u001b[38;5;66;03m# 'X-Elastic-Product: Elasticsearch' should be on every 2XX response.\u001b[39;00m\n\u001b[1;32m    357\u001b[0m \u001b[38;5;28;01mif\u001b[39;00m \u001b[38;5;129;01mnot\u001b[39;00m \u001b[38;5;28mself\u001b[39m\u001b[38;5;241m.\u001b[39m_verified_elasticsearch:\n\u001b[1;32m    358\u001b[0m     \u001b[38;5;66;03m# If the header is set we mark the server as verified.\u001b[39;00m\n",
      "\u001b[0;31mBadRequestError\u001b[0m: BadRequestError(400, 'x_content_parse_exception', 'Failed to build [knn] after last required field arrived')"
     ]
    }
   ],
   "source": [
    "# 평가 데이터에 대해서 결과 생성 - 파일 포맷은 jsonl이지만 파일명은 csv 사용\n",
    "eval_rag(\"/data/ephemeral/home/upstage-ai-final-ir2/HM/data/eval.jsonl\", \"sample_submission_3.csv\")"
   ]
  },
  {
   "cell_type": "code",
   "execution_count": null,
   "metadata": {},
   "outputs": [],
   "source": []
  }
 ],
 "metadata": {
  "kernelspec": {
   "display_name": "Python 3",
   "language": "python",
   "name": "python3"
  },
  "language_info": {
   "codemirror_mode": {
    "name": "ipython",
    "version": 3
   },
   "file_extension": ".py",
   "mimetype": "text/x-python",
   "name": "python",
   "nbconvert_exporter": "python",
   "pygments_lexer": "ipython3",
   "version": "3.10.13"
  }
 },
 "nbformat": 4,
 "nbformat_minor": 2
}
