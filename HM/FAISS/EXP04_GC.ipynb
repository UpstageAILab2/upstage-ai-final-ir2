{
 "cells": [
  {
   "cell_type": "code",
   "execution_count": 51,
   "metadata": {},
   "outputs": [
    {
     "data": {
      "text/plain": [
       "'/root/home/envforir/bin/python'"
      ]
     },
     "execution_count": 51,
     "metadata": {},
     "output_type": "execute_result"
    }
   ],
   "source": [
    "import sys\n",
    "sys.executable"
   ]
  },
  {
   "cell_type": "code",
   "execution_count": 52,
   "metadata": {},
   "outputs": [],
   "source": [
    "import os\n",
    "import json\n",
    "import time\n",
    "import pandas as pd\n",
    "import requests\n",
    "\n",
    "from langchain import hub\n",
    "from langchain_text_splitters import CharacterTextSplitter\n",
    "from langchain_community.document_loaders import JSONLoader\n",
    "from langchain.schema import Document\n",
    "from langchain_community.vectorstores import FAISS\n",
    "from langchain_upstage import UpstageEmbeddings\n",
    "from langchain_upstage import ChatUpstage\n",
    "from langchain_core.runnables import RunnablePassthrough\n",
    "from langchain_core.output_parsers import StrOutputParser\n",
    "from dotenv import load_dotenv\n",
    "import logging\n",
    "from openai import OpenAI\n",
    "import traceback\n"
   ]
  },
  {
   "cell_type": "code",
   "execution_count": 53,
   "metadata": {},
   "outputs": [
    {
     "name": "stdout",
     "output_type": "stream",
     "text": [
      "LangSmith Project: EXP04_GC\n"
     ]
    }
   ],
   "source": [
    "OPENAI_API_KEY = os.environ.get('OPENAI_API_KEY')\n",
    "UPSTAGE_API_KEY = os.environ.get('UPSTAGE_API_KEY')\n",
    "LANGCHAIN_API_KEY = os.environ.get('LANGCHAIN_API_KEY')\n",
    "os.environ['LANGCHAIN_PROJECT'] = 'EXP04_GC' # 프로젝트명 수정\n",
    "LANGCHAIN_PROJECT = os.environ.get('LANGCHAIN_PROJECT')\n",
    "\n",
    "print(f'LangSmith Project: {LANGCHAIN_PROJECT}')"
   ]
  },
  {
   "cell_type": "code",
   "execution_count": 54,
   "metadata": {},
   "outputs": [
    {
     "data": {
      "text/plain": [
       "True"
      ]
     },
     "execution_count": 54,
     "metadata": {},
     "output_type": "execute_result"
    }
   ],
   "source": [
    "load_dotenv()"
   ]
  },
  {
   "cell_type": "code",
   "execution_count": 55,
   "metadata": {},
   "outputs": [],
   "source": [
    "# 데이터 구성\n",
    "file_path = '../data/documents.jsonl'\n",
    "with open(file_path, 'r', encoding='utf-8') as file:\n",
    "    lines = file.readlines()\n",
    "\n",
    "loader = JSONLoader(\n",
    "    file_path=file_path,\n",
    "    jq_schema='.',\n",
    "    text_content=False,\n",
    "    json_lines=True,\n",
    ")\n",
    "temp = loader.load()\n",
    "\n",
    "seq_num = 1\n",
    "documents = []\n",
    "for tmp in temp:\n",
    "    data = json.loads(tmp.page_content)\n",
    "    doc = Document(page_content=data['content'], metadata={\n",
    "        'docid': data['docid'],\n",
    "        'src': data['src'],\n",
    "        'source': '/data/ephemeral/home/upstage-ai-final-ir2/upstage-ai-final-ir2/HM/data/documents.jsonl',\n",
    "        'seq_num': seq_num,\n",
    "    })\n",
    "    documents.append(doc)\n",
    "    seq_num += 1\n"
   ]
  },
  {
   "cell_type": "code",
   "execution_count": 56,
   "metadata": {},
   "outputs": [],
   "source": [
    "# Splitter\n",
    "splitter = CharacterTextSplitter(\n",
    "    separator='',\n",
    "    chunk_size=100,\n",
    "    chunk_overlap=20,\n",
    "    length_function=len,\n",
    ")\n",
    "split_documents = splitter.split_documents(documents)"
   ]
  },
  {
   "cell_type": "code",
   "execution_count": 57,
   "metadata": {},
   "outputs": [],
   "source": [
    "# Embedding\n",
    "embeddings = UpstageEmbeddings(\n",
    "    api_key=UPSTAGE_API_KEY, \n",
    "    model=\"solar-embedding-1-large\"\n",
    ")"
   ]
  },
  {
   "cell_type": "code",
   "execution_count": 58,
   "metadata": {},
   "outputs": [
    {
     "name": "stdout",
     "output_type": "stream",
     "text": [
      "Vector Store 로컬에서 불러옴\n"
     ]
    }
   ],
   "source": [
    "# 벡터 저장소 생성\n",
    "# pip install faiss-cpu\n",
    "folder_path = f'./faiss_{LANGCHAIN_PROJECT}'\n",
    "if not os.path.exists(folder_path):\n",
    "    print('Vector Store 생성 중')\n",
    "    vectorstore = FAISS.from_documents(\n",
    "        documents=split_documents,\n",
    "        embedding=embeddings,\n",
    "    )\n",
    "    vectorstore.save_local(folder_path=folder_path)\n",
    "    print('Vector Store 생성 및 로컬 저장 완료')\n",
    "else:\n",
    "    vectorstore = FAISS.load_local(\n",
    "        folder_path=folder_path, \n",
    "        embeddings=embeddings, \n",
    "        allow_dangerous_deserialization=True\n",
    "    )\n",
    "    print('Vector Store 로컬에서 불러옴')\n"
   ]
  },
  {
   "cell_type": "code",
   "execution_count": 59,
   "metadata": {},
   "outputs": [],
   "source": [
    "# RAG 구현에 필요한 Question Answering을 위한 LLM  프롬프트\n",
    "prompt = hub.pull(\"rlm/rag-prompt\")"
   ]
  },
  {
   "cell_type": "code",
   "execution_count": 60,
   "metadata": {},
   "outputs": [],
   "source": [
    "# LLM과 검색엔진을 활용한 RAG 구현 (기존 코드와 동일)\n",
    "retriever = vectorstore.as_retriever(k=5)\n",
    "chat = ChatUpstage(model='solar-1-mini-chat', temperature=0)"
   ]
  },
  {
   "cell_type": "code",
   "execution_count": 61,
   "metadata": {},
   "outputs": [],
   "source": [
    "client = OpenAI()\n",
    "llm_model = \"gpt-3.5-turbo\""
   ]
  },
  {
   "cell_type": "code",
   "execution_count": 107,
   "metadata": {},
   "outputs": [],
   "source": [
    "# RAG 구현에 필요한 Question Answering을 위한 LLM  프롬프트\n",
    "persona_qa = \"\"\"\n",
    "## Role: 사회/과학 지식 전문가\n",
    "\n",
    "## Instructions\n",
    "사용자의 질문을 보고 다음 두가지 행동 중 하나를 취한다. \n",
    "1. 사용자가 대화를 통해 사회/과학 지식에 관한 주제로 질문하면 search api를 호출한다. \n",
    "2. 사회/과학 지식과 관련되지 않은 나머지 대화 메시지에는 대답을 하지 않고 검색도 하지 않는다. \n",
    "\"\"\"\n",
    "\n",
    "# RAG 구현에 필요한 질의 분석 및 검색 이외의 일반 질의 대응을 위한 LLM 프롬프트\n",
    "persona_function_calling = \"\"\"\n",
    "## Role: 사회/과학 지식 전문가\n",
    "\n",
    "## Instruction\n",
    "사용자의 질문을 보고 다음 두가지 행동 중 하나를 취한다. \n",
    "\n",
    "1. 사용자가 대화를 통해 사회/과학 지식에 관한 주제로 질문하면 search api를 호출한다. \n",
    "   - 질문이 물리, 화학, 생물, 지구과학, 천문학, 컴퓨터공학, 소프트웨어, 국제정치 등 지식을 묻는 것이라면 search api를 호출할 수 있어야 한다. \n",
    "   - 특히, \"알려줘\", \"설명해줘\"로 끝나는 query는 search api를 호출한다. \n",
    "   - 아래는 search api를 호출하는 질문의 예시이다. \n",
    "   - 예시:\n",
    "    \"메탄올의 화학식은 무엇인가요?\", \n",
    "    \"달의 공전 주기는 얼마인가요?\", \n",
    "    \"파이썬에서 여러 값들의 평균을 구하는 방법은?\",\n",
    "    \"이란의 무기 리베이트가 미국 정치에 미치는 영향은?\",\n",
    "    \"각 나라별 공교육 현황은?\", \n",
    "    \"대중교통은 그 가치가 얼마나 될까?\", \n",
    "    \"각 나라의 문해율에 대해 알려줘\", \n",
    "    \"화성에서 살 수 있을까?\", \n",
    "    \"Edison\"이 누구야?\" \n",
    "\n",
    "\n",
    "2. 사회/과학 지식과 관련되지 않은 나머지 대화 메시지에는 대답을 하지 않고 검색도 하지 않는다. \n",
    "   - 개인적인 감정이나 간단한 인사 등은 search api를 호출하지 않는다. \n",
    "   - 아래는 대답을 하지 않는 질문의 예시이다.\n",
    "   - 예시: \n",
    "    \"오늘은 기분이 아주 나빠\", \n",
    "    \"너는 모든 것을 알고 있구나\", \n",
    "    \"대답을 잘해줘서 너무 고마워!\", \n",
    "    \"요새 기분이 들쭉날쭉해\",\n",
    "    \"안녕 너 이름이 뭐야\",\n",
    "    \"너는 지금 무엇을 하고 있어?\", \n",
    "    \"우리 재미있는 이야기 하자.\" \n",
    "    \"\"\"\n",
    "\n",
    "\n",
    "# Function calling에 사용할 함수 정의\n",
    "tools = [\n",
    "    {\n",
    "        \"type\": \"function\",\n",
    "        \"function\": {\n",
    "            \"name\": \"search\",\n",
    "            \"description\": \"Search relevant documents based on user message history\",\n",
    "            \"parameters\": {\n",
    "                \"properties\": {\n",
    "                    \"message_history\": {\n",
    "                        \"type\": \"array\",\n",
    "                        \"items\": {\n",
    "                            \"type\": \"object\",\n",
    "                            \"properties\": {\n",
    "                                \"role\": {\"type\": \"string\"},\n",
    "                                \"content\": {\"type\": \"string\"}\n",
    "                            },\n",
    "                            \"required\": [\"role\", \"content\"]\n",
    "                        },\n",
    "                        \"description\": \"The entire history of user messages to form a comprehensive search query.\"\n",
    "                    }\n",
    "                },\n",
    "                \"required\": [\"message_history\"],\n",
    "                \"type\": \"object\"\n",
    "            }\n",
    "        }\n",
    "    },\n",
    "]\n"
   ]
  },
  {
   "cell_type": "code",
   "execution_count": 108,
   "metadata": {},
   "outputs": [],
   "source": [
    "# Groundedness Check 함수 추가\n",
    "def check_groundedness(context, response):\n",
    "    url = \"https://api.upstage.ai/v1/solar/chat/completions\"\n",
    "    headers = {\n",
    "        \"Authorization\": f\"Bearer {os.environ.get('UPSTAGE_API_KEY')}\",\n",
    "        \"Content-Type\": \"application/json\"\n",
    "    }\n",
    "    \n",
    "    data = {\n",
    "        \"model\": \"solar-1-mini-groundedness-check\",\n",
    "        \"messages\": [\n",
    "            {\"role\": \"user\", \"content\": context},\n",
    "            {\"role\": \"assistant\", \"content\": response}\n",
    "        ],\n",
    "        \"temperature\": 0\n",
    "    }\n",
    "    \n",
    "    try:\n",
    "        api_response = requests.post(url, headers=headers, json=data)\n",
    "        api_response.raise_for_status()  # Raises an HTTPError for bad responses\n",
    "        result = api_response.json()\n",
    "        return result['choices'][0]['message']['content']\n",
    "    except requests.exceptions.RequestException as e:\n",
    "        print(f\"API 요청 오류: {e}\")\n",
    "        return \"Error in groundedness check\""
   ]
  },
  {
   "cell_type": "code",
   "execution_count": 109,
   "metadata": {},
   "outputs": [],
   "source": [
    "def format_docs(docs):\n",
    "    global references\n",
    "    references = docs\n",
    "    return '\\n\\n'.join(doc.page_content for doc in docs)"
   ]
  },
  {
   "cell_type": "code",
   "execution_count": 110,
   "metadata": {},
   "outputs": [],
   "source": [
    "\n",
    "def answer_question(messages):\n",
    "    global references\n",
    "    response = {\"topk\": \"\", \"answer\": \"\", \"references\": \"\", \"groundedness\": \"\"}\n",
    "\n",
    "    msg = [{\"role\": \"system\", \"content\": persona_function_calling}] + messages\n",
    "    \n",
    "    try:\n",
    "        # 질의 분석 및 검색 이외의 질의 대응을 위한 LLM 활용\n",
    "        result = client.chat.completions.create(\n",
    "            model=llm_model,\n",
    "            messages=msg,\n",
    "            tools=tools,\n",
    "            temperature=0,\n",
    "            seed=1,\n",
    "            timeout=10\n",
    "        )\n",
    "\n",
    "        # standalone_query = \"\"\n",
    "        \n",
    "        # 검색이 필요한 경우 RAG 체인 활용\n",
    "        if result.choices[0].message.tool_calls:\n",
    "            rag_chain = (\n",
    "                {'context': retriever | format_docs, 'question': RunnablePassthrough()}\n",
    "                | prompt\n",
    "                | chat\n",
    "                | StrOutputParser()\n",
    "            )\n",
    "            history = '\\n'.join([f\"{message['role']}: {message['content']}\" for message in messages]) + '\\n'\n",
    "            response[\"answer\"] = rag_chain.invoke(history)\n",
    "\n",
    "            ref_content = [reference.page_content for reference in references]\n",
    "            topk = [reference.metadata['docid'] for reference in references]\n",
    "\n",
    "        # 검색이 필요하지 않은 경우 바로 답변 생성\n",
    "        else:\n",
    "            response[\"answer\"] = result.choices[0].message.content\n",
    "            ref_content = []\n",
    "            topk = []\n",
    "\n",
    "    except Exception as e:\n",
    "        traceback.print_exc()\n",
    "        return response\n",
    "\n",
    "    # Groundedness Check 수행\n",
    "    context = '\\n'.join(ref_content)\n",
    "    groundedness = check_groundedness(context, response[\"answer\"])\n",
    "\n",
    "    response[\"topk\"] = topk\n",
    "    response[\"references\"] = ref_content\n",
    "    response[\"groundedness\"] = groundedness\n",
    "\n",
    "    return response"
   ]
  },
  {
   "cell_type": "code",
   "execution_count": 111,
   "metadata": {},
   "outputs": [],
   "source": [
    "# 평가를 위한 파일을 읽어서 각 평가 데이터에 대해서 결과 추출후 파일에 저장\n",
    "def eval_rag(eval_filename, output_filename):\n",
    "    with open(eval_filename) as eval_lines, open(output_filename, 'w') as output_lines:\n",
    "        idx = 0\n",
    "        for eval_line in eval_lines:\n",
    "            j = json.loads(eval_line)\n",
    "            print(f'Test {idx}\\nQuestion: {j[\"msg\"]}')\n",
    "            response = answer_question(j[\"msg\"])\n",
    "            print(f'Answer: {response[\"answer\"]}')\n",
    "            print(f'Groundedness: {response[\"groundedness\"]}\\n')\n",
    "\n",
    "            output = {\n",
    "                \"eval_id\": j[\"eval_id\"], \n",
    "                \"question\": j[\"msg\"],  # 질문 전체 저장\n",
    "                # \"standalone_query\": response[\"standalone_query\"],\n",
    "                \"topk\": response[\"topk\"], \n",
    "                \"answer\": response[\"answer\"], \n",
    "                \"references\": response[\"references\"],\n",
    "                \"groundedness\": response[\"groundedness\"]\n",
    "            }\n",
    "            output_lines.write(f'{json.dumps(output, ensure_ascii=False)}\\n')\n",
    "            idx += 1"
   ]
  },
  {
   "cell_type": "code",
   "execution_count": 112,
   "metadata": {},
   "outputs": [
    {
     "name": "stdout",
     "output_type": "stream",
     "text": [
      "Test 0\n",
      "Question: [{'role': 'user', 'content': '나무의 분류에 대해 조사해 보기 위한 방법은?'}]\n"
     ]
    },
    {
     "name": "stdout",
     "output_type": "stream",
     "text": [
      "Answer: 나무의 분류에 대해 조사하기 위해서는 생물 분류학에서 사용되는 유사한 특징을 찾아야 합니다. 이에는 성장 속도, 온도 범위, 크기, 잎, 꽃 등이 포함될 수 있습니다. 또한, 생물체의 유전자나 단백질의 구성을 조사하여 분자 수준에서의 분류를 수행할 수도 있습니다. 과학자들은 새로 발견된 생물체를 분류하기 위해 철저한 조사를 진행하며, 생물체의 구조, DNA, 그리고 생활사를 상세히 분석합니다.\n",
      "Groundedness: grounded\n",
      "\n",
      "Test 1\n",
      "Question: [{'role': 'user', 'content': '각 나라에서의 공교육 지출 현황에 대해 알려줘.'}]\n",
      "Answer: 2017년 현재, 전세계의 공공 교육 지출은 세계 GDP의 약 4%를 차지하고 있습니다. 이는 국가의 교육 체계를 강화하고, 국민들의 교육 기회를 확대하는 데 도움을 줍니다. 많은 국가들이 교육에 많은 예산을 할당하고 있으며, 이는 국가의 교육 수준을 강화하고, 경제적인 경쟁력을 강화하고자 합니다.\n",
      "Groundedness: grounded\n",
      "\n",
      "Test 2\n",
      "Question: [{'role': 'user', 'content': '기억 상실증 걸리면 너무 무섭겠다.'}, {'role': 'assistant', 'content': '네 맞습니다.'}, {'role': 'user', 'content': '어떤 원인 때문에 발생하는지 궁금해.'}]\n",
      "Answer: 기억 상실은 대뇌의 기능 장애로 인해 발생할 가능성이 가장 높습니다. 대뇌는 인간의 중추신경계에서 가장 중요한 역할을 담당하며, 인지, 기억, 감정 등 다양한 기능을 조절합니다.\n",
      "Groundedness: grounded\n",
      "\n",
      "Test 3\n",
      "Question: [{'role': 'user', 'content': '통학 버스의 가치에 대해 말해줘.'}]\n",
      "Answer: 통학 버스는 학생들에게 안전하고 편리한 이동 수단을 제공하며, 학교로 가는 길에 많은 사람들을 만나기 때문에 많은 관심과 주목을 받을 것입니다. 또한, 학교 버스는 학교의 상징이기도 하며, 친환경적인 재료와 태양 에너지를 사용하여 환경에 대한 부담을 줄이고 있습니다.\n",
      "Groundedness: grounded\n",
      "\n",
      "Test 4\n",
      "Question: [{'role': 'user', 'content': 'Dmitri Ivanovsky가 누구야?'}]\n",
      "Answer: Dmitri Ivanovsky는 바이러스의 발견과 연구에 기여한 러시아의 식물학자이다. 1892년, 그는 담배 모자이크 바이러스를 발견하고 이를 연구하여 바이러스의 특징을 밝혀내는 데 중요한 역할을 했습니다. 이러한 연구는 후에 바이러스에 대한 이해를 높이는 데 기여하였습니다.\n",
      "Groundedness: grounded\n",
      "\n",
      "Test 5\n",
      "Question: [{'role': 'user', 'content': '피임을 하기 위한 방법중 약으로 처리하는 방법은 쓸만한가?'}]\n",
      "Answer: 사회/과학 지식과 관련된 질문이 아닙니다. 따라서 이에 대한 답변을 드리지 않겠습니다. 다른 사회/과학 지식에 대한 질문이 있으시면 도와드릴 수 있습니다.\n",
      "Groundedness: grounded\n",
      "\n",
      "Test 6\n",
      "Question: [{'role': 'user', 'content': '헬륨이 다른 원소들과 반응을 잘 안하는 이유는?'}]\n",
      "Answer: 헬륨은 그룹 18에 속하는 원소로, 최외각 에너지 준위가 완전하게 채워져 있어 다른 원소와의 화학적 반응이 거의 일어나지 않습니다. 이러한 특성으로 인해 헬륨은 안정하고 비활성인 성질을 가지고 있으며, 화학 반응에서 거의 관여하지 않습니다.\n",
      "Groundedness: grounded\n",
      "\n",
      "Test 7\n",
      "Question: [{'role': 'user', 'content': '문맹 비율이 사회 발전에 미치는 영향은?'}]\n",
      "Answer: 문맹률이 낮아지면 사회 발전에 긍정적인 영향을 미칩니다. 문맹률이 낮아지면 사람들은 더 많은 정보를 얻을 수 있고, 경제적으로도 더 발전할 수 있습니다. 따라서, 국가 및 국제 단위에서 교육의 중요성을 강조하고, 모든 사람들에게 교육 기회를 제공하는 것이 필요합니다.\n",
      "Groundedness: grounded\n",
      "\n",
      "Test 8\n",
      "Question: [{'role': 'user', 'content': '이란 콘트라 사건이 뭐야'}, {'role': 'assistant', 'content': '이란-콘트라 사건은 로널드 레이건 집권기인 1986년에 레이건 행정부와 CIA가 적성국이었던 이란에게 무기를 몰래 수출한 대금으로 니카라과의 우익 성향 반군 콘트라를 지원하면서 동시에 반군으로부터 마약을 사들인 후 미국에 판매하다가 발각되어 큰 파장을 일으킨 사건입니다.'}, {'role': 'user', 'content': '이 사건이 미국 정치에 미친 영향은?'}]\n",
      "Answer: 미국 정치에 미친 영향은 크게 두 가지로 나눌 수 있습니다. 첫째, 이란-콘트라 사건은 미국 내에서 레이건 행정부와 CIA의 비리와 부패를 드러내며 정부의 신뢰를 훼손시켰습니다. 이로 인해 레이건 대통령과 그의 행정부에 대한 신뢰가 훼손되었고, 미국 정치에 대한 대중의 불신이 증폭되었습니다. \n",
      "\n",
      "둘째, 이 사건은 미국 의회에서 조사를 일으켜 레이건 행정부의 비리를 밝히는 계기가 되었습니다. 이에 따라 이란-콘트라 사건은 미국 의회의 국회조사와 수사를 유발하여 미국 정치의 투명성과 책임성을 강화하는 계기가 되었습니다. 이 사건은 미국 정치의 투명성과 공공의 이익을 위한 감시체계의 강화에 영향을 미쳤습니다.\n",
      "Groundedness: grounded\n",
      "\n",
      "Test 9\n",
      "Question: [{'role': 'user', 'content': '자기장이 얼마나 센지 표현하는 방식은?'}]\n",
      "Answer: 사회/과학 지식과 관련된 질문이 아닌 것 같습니다. 해당 질문에 대한 답변을 제공할 수 없습니다. 다른 사회/과학 지식에 관련된 질문이 있으시다면 도와드릴 수 있습니다.\n",
      "Groundedness: notGrounded\n",
      "\n",
      "Test 10\n",
      "Question: [{'role': 'user', 'content': '피를 맑게 하고 몸 속의 노폐물을 없애는 역할을 하는 기관은?'}]\n",
      "Answer: 해당 질문은 사회/과학 지식과 관련이 없는 질문이므로 답변을 제공할 수 없습니다.\n",
      "Groundedness: notGrounded\n",
      "\n",
      "Test 11\n",
      "Question: [{'role': 'user', 'content': '글리코겐의 분해는 인체에서 왜 필요한가?'}]\n",
      "Answer: 저는 사회/과학 지식 전문가이기 때문에 이 질문에 대한 답변을 제공할 수 있습니다. 사용자의 질문은 인체 내에서의 생리학적인 과정에 관한 것이므로, 이에 대한 설명을 제공해 드리겠습니다. \n",
      "\n",
      "글리코겐은 우리 몸에서 중요한 역할을 합니다. 글리코겐은 당분을 저장하는 형태의 다당류로, 주로 간과 근육에 저장되어 있습니다. 글리코겐은 에너지 공급원으로 사용되며, 특히 긴 시간 동안 식사를 하지 않거나 운동을 할 때 필요한 에너지를 공급하는 데 중요한 역할을 합니다.\n",
      "\n",
      "글리코겐의 분해는 인체에서 에너지를 생성하는 과정 중 하나입니다. 글리코겐은 글리코겐 분해효소에 의해 분해되어 포도당으로 변환되고, 이 포도당은 에너지 생산을 위해 활용됩니다. 특히 글리코겐의 분해는 혈당을 유지하고 긴급한 에너지 요구를 충족시키는 데 중요합니다.\n",
      "\n",
      "따라서, 글리코겐의 분해는 인체에서 에너지 공급을 유지하고 혈당을 조절하는 데 필수적인 과정이며, 식사나 운동 후에 필요한 에너지를 공급하는 데 중요한 역할을 합니다.\n",
      "Groundedness: grounded\n",
      "\n",
      "Test 12\n",
      "Question: [{'role': 'user', 'content': '빗방울이 점점 커지게 되는 요인은?'}]\n",
      "Answer: 사회/과학 지식과 관련된 질문이 아닌 것 같습니다. 다른 질문이 있으시면 도와드리겠습니다.\n",
      "Groundedness: grounded\n",
      "\n",
      "Test 13\n",
      "Question: [{'role': 'user', 'content': '기체의 부피나 형태가 왜 일정하지 않을까?'}]\n",
      "Answer: 사회/과학 지식과 관련된 질문이 아닌 것 같습니다. 해당 질문에 대한 답변을 드리기 어렵습니다. 다른 사회/과학 지식에 대한 궁금증이 있으시다면 언제든지 물어보세요!\n",
      "Groundedness: grounded\n",
      "\n",
      "Test 14\n",
      "Question: [{'role': 'user', 'content': '식물이 빛을 에너지로 변환하는 과정에 대해 설명해줘.'}]\n",
      "Answer: 식물은 광합성 과정에서 햇빛을 포도당이라는 물질로 변환하여 에너지로 사용합니다. 광합성은 식물이 태양에서 받은 빛을 이용하여 이산화탄소와 물을 반응시켜 포도당과 산소를 생성하는 과정입니다. 포도당은 식물의 주요한 에너지원이며, 식물은 이를 대사과정을 통해 에너지로 사용합니다.\n",
      "Groundedness: grounded\n",
      "\n",
      "Test 15\n",
      "Question: [{'role': 'user', 'content': '직류와 교류 전류의 차이에 대해 알려줘.'}]\n"
     ]
    }
   ],
   "source": [
    "# 평가 실행\n",
    "eval_rag('../data/eval.jsonl', '../output/EXP04_GC.csv')"
   ]
  },
  {
   "cell_type": "code",
   "execution_count": null,
   "metadata": {},
   "outputs": [],
   "source": []
  },
  {
   "cell_type": "code",
   "execution_count": null,
   "metadata": {},
   "outputs": [],
   "source": []
  },
  {
   "cell_type": "code",
   "execution_count": null,
   "metadata": {},
   "outputs": [],
   "source": []
  },
  {
   "cell_type": "code",
   "execution_count": 81,
   "metadata": {},
   "outputs": [],
   "source": []
  },
  {
   "cell_type": "code",
   "execution_count": null,
   "metadata": {},
   "outputs": [],
   "source": []
  },
  {
   "cell_type": "code",
   "execution_count": null,
   "metadata": {},
   "outputs": [],
   "source": []
  }
 ],
 "metadata": {
  "kernelspec": {
   "display_name": "envforir",
   "language": "python",
   "name": "python3"
  },
  "language_info": {
   "codemirror_mode": {
    "name": "ipython",
    "version": 3
   },
   "file_extension": ".py",
   "mimetype": "text/x-python",
   "name": "python",
   "nbconvert_exporter": "python",
   "pygments_lexer": "ipython3",
   "version": "3.10.13"
  }
 },
 "nbformat": 4,
 "nbformat_minor": 2
}
