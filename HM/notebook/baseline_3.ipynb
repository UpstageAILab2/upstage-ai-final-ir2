{
 "cells": [
  {
   "cell_type": "code",
   "execution_count": 1,
   "metadata": {},
   "outputs": [
    {
     "data": {
      "text/plain": [
       "'/root/home/envforir/bin/python'"
      ]
     },
     "execution_count": 1,
     "metadata": {},
     "output_type": "execute_result"
    }
   ],
   "source": [
    "import sys\n",
    "sys.executable\n"
   ]
  },
  {
   "cell_type": "code",
   "execution_count": 1,
   "metadata": {},
   "outputs": [],
   "source": [
    "# # 데몬 인스턴스 만들기 \n",
    "import os\n",
    "import json\n",
    "from elasticsearch import Elasticsearch, helpers\n",
    "from subprocess import Popen, PIPE, STDOUT"
   ]
  },
  {
   "cell_type": "code",
   "execution_count": 14,
   "metadata": {},
   "outputs": [
    {
     "name": "stderr",
     "output_type": "stream",
     "text": [
      "/root/home/envforir/lib/python3.10/site-packages/elasticsearch/_sync/client/__init__.py:395: SecurityWarning: Connecting to 'https://localhost:9200' using TLS with verify_certs=False is insecure\n",
      "  _transport = transport_class(\n",
      "/root/home/envforir/lib/python3.10/site-packages/urllib3/connectionpool.py:1103: InsecureRequestWarning: Unverified HTTPS request is being made to host 'localhost'. Adding certificate verification is strongly advised. See: https://urllib3.readthedocs.io/en/latest/advanced-usage.html#tls-warnings\n",
      "  warnings.warn(\n"
     ]
    },
    {
     "data": {
      "text/plain": [
       "ObjectApiResponse({'name': 'instance-8909', 'cluster_name': 'elasticsearch', 'cluster_uuid': 'r4Ih9u1sTfKbhPDz61kqLQ', 'version': {'number': '8.8.0', 'build_flavor': 'default', 'build_type': 'tar', 'build_hash': 'c01029875a091076ed42cdb3a41c10b1a9a5a20f', 'build_date': '2023-05-23T17:16:07.179039820Z', 'build_snapshot': False, 'lucene_version': '9.6.0', 'minimum_wire_compatibility_version': '7.17.0', 'minimum_index_compatibility_version': '7.0.0'}, 'tagline': 'You Know, for Search'})"
      ]
     },
     "execution_count": 14,
     "metadata": {},
     "output_type": "execute_result"
    }
   ],
   "source": [
    "es_username = 'elastic'\n",
    "es_password = 'gW827Tz2N2IKFZhWBtTS'\n",
    "\n",
    "# ElasticSearch Client 생성 \n",
    "es = Elasticsearch(['https://localhost:9200'], basic_auth=(es_username, es_password), ca_certs=\"/data/ephemeral/home/upstage-ai-final-ir2/HM/elasticsearch-8.8.0/config/certs/http_ca.crt\", verify_certs=False)\n",
    "# CA 인증서 경로 지정\n",
    "\n",
    "# ElasticSearch Client 정보 확인 \n",
    "es.info()"
   ]
  },
  {
   "cell_type": "code",
   "execution_count": 15,
   "metadata": {},
   "outputs": [
    {
     "name": "stdout",
     "output_type": "stream",
     "text": [
      "iruser    637614       1 17 23:13 pts/9    00:01:06 /home/iruser/elasticsearch-8.8.0/jdk/bin/java -Des.networkaddress.cache.ttl=60 -Des.networkaddress.cache.negative.ttl=10 -Djava.security.manager=allow -XX:+AlwaysPreTouch -Xss1m -Djava.awt.headless=true -Dfile.encoding=UTF-8 -Djna.nosys=true -XX:-OmitStackTraceInFastThrow -Dio.netty.noUnsafe=true -Dio.netty.noKeySetOptimization=true -Dio.netty.recycler.maxCapacityPerThread=0 -Dlog4j.shutdownHookEnabled=false -Dlog4j2.disable.jmx=true -Dlog4j2.formatMsgNoLookups=true -Djava.locale.providers=SPI,COMPAT --add-opens=java.base/java.io=org.elasticsearch.preallocate -XX:+UseG1GC -Djava.io.tmpdir=/tmp/elasticsearch-65887523679079836 -XX:+HeapDumpOnOutOfMemoryError -XX:+ExitOnOutOfMemoryError -XX:HeapDumpPath=data -XX:ErrorFile=logs/hs_err_pid%p.log -Xlog:gc*,gc+age=trace,safepoint:file=logs/gc.log:utctime,level,pid,tags:filecount=32,filesize=64m -Xms30720m -Xmx30720m -XX:MaxDirectMemorySize=16106127360 -XX:InitiatingHeapOccupancyPercent=30 -XX:G1ReservePercent=25 -Des.distribution.type=tar --module-path /home/iruser/elasticsearch-8.8.0/lib --add-modules=jdk.net --add-modules=org.elasticsearch.preallocate -m org.elasticsearch.server/org.elasticsearch.bootstrap.Elasticsearch\n",
      "iruser    637679  637614  0 23:13 pts/9    00:00:00 /home/iruser/elasticsearch-8.8.0/modules/x-pack-ml/platform/linux-x86_64/bin/controller\n",
      "root      638376  637337  0 23:19 pts/10   00:00:00 /bin/bash -c ps -ef | grep elasticsearch\n",
      "root      638378  638376  0 23:19 pts/10   00:00:00 grep elasticsearch\n"
     ]
    },
    {
     "name": "stderr",
     "output_type": "stream",
     "text": [
      "huggingface/tokenizers: The current process just got forked, after parallelism has already been used. Disabling parallelism to avoid deadlocks...\n",
      "To disable this warning, you can either:\n",
      "\t- Avoid using `tokenizers` before the fork if possible\n",
      "\t- Explicitly set the environment variable TOKENIZERS_PARALLELISM=(true | false)\n"
     ]
    }
   ],
   "source": [
    "# 데몬 구동 확인 \n",
    "!ps -ef | grep elasticsearch"
   ]
  },
  {
   "cell_type": "code",
   "execution_count": 16,
   "metadata": {},
   "outputs": [],
   "source": [
    "from sentence_transformers import SentenceTransformer\n",
    "\n",
    "# Sentence Transformer 모델 초기화(한국어 임베딩 생성 가능한 어떤 모델도 가능)\n",
    "model = SentenceTransformer(\"snunlp/KR-SBERT-V40K-klueNLI-augSTS\")   \n",
    "# 이 모델을 사용하여 doc['content']를 임베딩 \n",
    "\n",
    "# Sentence Transformer를 이용하여 임베딩 생성\n",
    "def get_embedding(sentences):\n",
    "    return model.encode(sentences)\n",
    "\n",
    "# 주어진 문서의 리스트에서 배치 단위로 임베딩 생성\n",
    "def get_embeddings_in_batches(docs, batch_size=100):\n",
    "    batch_embeddings = []\n",
    "    for i in range(0, len(docs), batch_size):\n",
    "        batch = docs[i: i+batch_size]\n",
    "        contents = [doc[\"content\"] for doc in batch]\n",
    "        embeddings = get_embedding(contents)    # doc의 \"content\" 부분을 임베딩 \n",
    "        batch_embeddings.extend(embeddings)\n",
    "        print(f'batch {i}')\n",
    "    return batch_embeddings"
   ]
  },
  {
   "cell_type": "code",
   "execution_count": 17,
   "metadata": {},
   "outputs": [],
   "source": [
    "# 새로운 index 생성 \n",
    "def create_es_index(index, settings, mappings):\n",
    "    if es.indices.exists(index=index):   # 만약 인덱스가 이미 존재한다면 \n",
    "        es.indices.delete(index=index)   # 새로운 것으로 설정하기 위해 삭제 \n",
    "    es.indices.create(index=index, settings=settings, mappings=mappings)  # 지정된 settings로 새로운 인덱스 생성 \n",
    "\n",
    "# 지정된 인덱스 삭제 \n",
    "def delete_es_index(index):\n",
    "    es.indices.delete(index=index)\n",
    "    \n",
    "# ElasticSearch 헬퍼 함수를 사용하여 대량 인덱싱 수행 \n",
    "def bulk_add(index, docs):\n",
    "    actions = [{'_index': index, '_source': doc} for doc in docs]\n",
    "    return helpers.bulk(es, actions)"
   ]
  },
  {
   "cell_type": "markdown",
   "metadata": {},
   "source": [
    "### 검색함수"
   ]
  },
  {
   "cell_type": "code",
   "execution_count": 96,
   "metadata": {},
   "outputs": [],
   "source": [
    "# 역색인을 이용한 검색 \n",
    "def sparse_retrieve(query_str, size):\n",
    "    query = { \"match\": {\"content\": {\"query\": query_str}}}\n",
    "    return es.search(index='test', query=query, size=size, sort='_score')\n",
    "#>> query_str: 검색어\n",
    "#>> size: 검색 결과 개수 \n",
    "#>> 'test' 인덱스에서 정의된 쿼리를 실행 -> 검색 결과를 size개 만큼 반환 \n",
    "\n",
    "\n",
    "# dense_retrieve: Vector 유사도를 이용한 검색\n",
    "def dense_retrieve(query_str, size):\n",
    "    query_embedding = get_embedding([query_str])[0]   # 벡터 유사도 검색에 사용할 쿼리 임베딩 가져오기 \n",
    "    knn = {\"field\": \"embeddings\",                     # KNN을 사용한 벡터 유사성 검색을 위한 매개변수 설정 \n",
    "           \"query_vector\": query_embedding.tolist(),\n",
    "           \"k\": size,    # k: 검색할 최근접 이웃의 개수 \n",
    "           \"num_candidates\": 100}  # KNN 검색에 사용할 후보 문서 개수 \n",
    "    return es.search(index='test', knn=knn)           # 지정된 인덱스에서 벡터 유사도 검색 수행 \n",
    "\n",
    "# dense_retrieve_2: sparse_retrieve 함수로 필터링된 문서들에 대해서만 KNN 검색\n",
    "def dense_retrieve_2(query_str, documents, size):\n",
    "    query_embedding = get_embedding([query_str])[0]\n",
    "    document_ids = [doc['_id'] for doc in documents]\n",
    "\n",
    "    body = {\n",
    "        \"_source\": {\"includes\": [\"content\", \"embeddings\"]},\n",
    "        \"query\": {\n",
    "            \"bool\": {\n",
    "                \"must\": [\n",
    "                    {\n",
    "                        \"ids\": {\n",
    "                            \"values\": document_ids\n",
    "                        }\n",
    "                    },\n",
    "                    {\n",
    "                        \"script_score\": {\n",
    "                            \"query\": {\"match_all\": {}},\n",
    "                            \"script\": {\n",
    "                                \"source\": \"cosineSimilarity(params.query_vector, 'embeddings') + 1.0\",\n",
    "                                \"params\": {\"query_vector\": query_embedding.tolist()}\n",
    "                            }\n",
    "                        }\n",
    "                    }\n",
    "                ]\n",
    "            }\n",
    "        }\n",
    "    }\n",
    "\n",
    "    results = es.search(index='test', body=body, size=size)\n",
    "    \n",
    "    # 결과를 스코어에 따라 정렬\n",
    "    sorted_results = sorted(results['hits']['hits'], key=lambda x: x['_score'], reverse=True)\n",
    "    \n",
    "    # 상위 size개의 결과만 반환\n",
    "    return {'hits': {'hits': sorted_results[:size]}}"
   ]
  },
  {
   "cell_type": "markdown",
   "metadata": {},
   "source": []
  },
  {
   "cell_type": "code",
   "execution_count": 97,
   "metadata": {},
   "outputs": [],
   "source": [
    "# 색인을 위한 settings 설정 \n",
    "settings = { \"analysis\": {\"analyzer\": {\"nori\": {\"type\": \"custom\",  #>> custom: 사용자 정의 분석기임을 명시 \n",
    "                                                \"tokenizer\": \"nori_tokenizer\",\n",
    "                                                \"decompound_mode\": \"mixed\",  # 복합 명사를 분해하는 방식을 설정. mixed: 복합명사를 분해하되, 분해된 토큰과 원본 토큰을 모두 저장 \n",
    "                                                \"filter\": [\"nori_posfilter\"]}},\n",
    "                          \"filter\": {\"nori_posfilter\":{\"type\": \"nori_part_of_speech\",\n",
    "                                                       \"stoptags\": [\"E\", \"J\", \"SC\", \"SE\", \"SF\", \"VCN\", \"VCP\", \"VX\"]}}}  # 제거할 품사 태그를 지정 \n",
    "            }\n",
    "\n",
    "# 색인을 위한 mapping 설정(역색인 필드, 임베딩 필드 모두 설정)\n",
    "mappings = { \"properties\": {\"content\": {\"type\": \"text\",\n",
    "                                        \"analyzer\": \"nori\"},\n",
    "                            \"embeddings\": {\"type\": \"dense_vector\",\n",
    "                                           \"dims\": 768,\n",
    "                                           \"index\": True,\n",
    "                                           \"similarity\": \"l2_norm\"}}  # 벡터 간 유사도 계산 방식: L2 norm \n",
    "            }\n"
   ]
  },
  {
   "cell_type": "code",
   "execution_count": 98,
   "metadata": {},
   "outputs": [
    {
     "name": "stderr",
     "output_type": "stream",
     "text": [
      "/root/home/envforir/lib/python3.10/site-packages/urllib3/connectionpool.py:1103: InsecureRequestWarning: Unverified HTTPS request is being made to host 'localhost'. Adding certificate verification is strongly advised. See: https://urllib3.readthedocs.io/en/latest/advanced-usage.html#tls-warnings\n",
      "  warnings.warn(\n",
      "/root/home/envforir/lib/python3.10/site-packages/urllib3/connectionpool.py:1103: InsecureRequestWarning: Unverified HTTPS request is being made to host 'localhost'. Adding certificate verification is strongly advised. See: https://urllib3.readthedocs.io/en/latest/advanced-usage.html#tls-warnings\n",
      "  warnings.warn(\n",
      "/root/home/envforir/lib/python3.10/site-packages/urllib3/connectionpool.py:1103: InsecureRequestWarning: Unverified HTTPS request is being made to host 'localhost'. Adding certificate verification is strongly advised. See: https://urllib3.readthedocs.io/en/latest/advanced-usage.html#tls-warnings\n",
      "  warnings.warn(\n"
     ]
    }
   ],
   "source": [
    "# 위에서 설정한 내용으로 'test' 인덱스 생성 \n",
    "create_es_index(\"test\", settings, mappings)"
   ]
  },
  {
   "cell_type": "markdown",
   "metadata": {},
   "source": [
    "### 임베딩: 문서의 content 필드 "
   ]
  },
  {
   "cell_type": "code",
   "execution_count": 99,
   "metadata": {},
   "outputs": [
    {
     "name": "stdout",
     "output_type": "stream",
     "text": [
      "batch 0\n",
      "batch 100\n",
      "batch 200\n",
      "batch 300\n",
      "batch 400\n",
      "batch 500\n",
      "batch 600\n",
      "batch 700\n",
      "batch 800\n",
      "batch 900\n",
      "batch 1000\n",
      "batch 1100\n",
      "batch 1200\n",
      "batch 1300\n",
      "batch 1400\n",
      "batch 1500\n",
      "batch 1600\n",
      "batch 1700\n",
      "batch 1800\n",
      "batch 1900\n",
      "batch 2000\n",
      "batch 2100\n",
      "batch 2200\n",
      "batch 2300\n",
      "batch 2400\n",
      "batch 2500\n",
      "batch 2600\n",
      "batch 2700\n",
      "batch 2800\n",
      "batch 2900\n",
      "batch 3000\n",
      "batch 3100\n",
      "batch 3200\n",
      "batch 3300\n",
      "batch 3400\n",
      "batch 3500\n",
      "batch 3600\n",
      "batch 3700\n",
      "batch 3800\n",
      "batch 3900\n",
      "batch 4000\n",
      "batch 4100\n",
      "batch 4200\n"
     ]
    },
    {
     "name": "stderr",
     "output_type": "stream",
     "text": [
      "/root/home/envforir/lib/python3.10/site-packages/urllib3/connectionpool.py:1103: InsecureRequestWarning: Unverified HTTPS request is being made to host 'localhost'. Adding certificate verification is strongly advised. See: https://urllib3.readthedocs.io/en/latest/advanced-usage.html#tls-warnings\n",
      "  warnings.warn(\n",
      "/root/home/envforir/lib/python3.10/site-packages/urllib3/connectionpool.py:1103: InsecureRequestWarning: Unverified HTTPS request is being made to host 'localhost'. Adding certificate verification is strongly advised. See: https://urllib3.readthedocs.io/en/latest/advanced-usage.html#tls-warnings\n",
      "  warnings.warn(\n",
      "/root/home/envforir/lib/python3.10/site-packages/urllib3/connectionpool.py:1103: InsecureRequestWarning: Unverified HTTPS request is being made to host 'localhost'. Adding certificate verification is strongly advised. See: https://urllib3.readthedocs.io/en/latest/advanced-usage.html#tls-warnings\n",
      "  warnings.warn(\n",
      "/root/home/envforir/lib/python3.10/site-packages/urllib3/connectionpool.py:1103: InsecureRequestWarning: Unverified HTTPS request is being made to host 'localhost'. Adding certificate verification is strongly advised. See: https://urllib3.readthedocs.io/en/latest/advanced-usage.html#tls-warnings\n",
      "  warnings.warn(\n",
      "/root/home/envforir/lib/python3.10/site-packages/urllib3/connectionpool.py:1103: InsecureRequestWarning: Unverified HTTPS request is being made to host 'localhost'. Adding certificate verification is strongly advised. See: https://urllib3.readthedocs.io/en/latest/advanced-usage.html#tls-warnings\n",
      "  warnings.warn(\n",
      "/root/home/envforir/lib/python3.10/site-packages/urllib3/connectionpool.py:1103: InsecureRequestWarning: Unverified HTTPS request is being made to host 'localhost'. Adding certificate verification is strongly advised. See: https://urllib3.readthedocs.io/en/latest/advanced-usage.html#tls-warnings\n",
      "  warnings.warn(\n",
      "/root/home/envforir/lib/python3.10/site-packages/urllib3/connectionpool.py:1103: InsecureRequestWarning: Unverified HTTPS request is being made to host 'localhost'. Adding certificate verification is strongly advised. See: https://urllib3.readthedocs.io/en/latest/advanced-usage.html#tls-warnings\n",
      "  warnings.warn(\n",
      "/root/home/envforir/lib/python3.10/site-packages/urllib3/connectionpool.py:1103: InsecureRequestWarning: Unverified HTTPS request is being made to host 'localhost'. Adding certificate verification is strongly advised. See: https://urllib3.readthedocs.io/en/latest/advanced-usage.html#tls-warnings\n",
      "  warnings.warn(\n",
      "/root/home/envforir/lib/python3.10/site-packages/urllib3/connectionpool.py:1103: InsecureRequestWarning: Unverified HTTPS request is being made to host 'localhost'. Adding certificate verification is strongly advised. See: https://urllib3.readthedocs.io/en/latest/advanced-usage.html#tls-warnings\n",
      "  warnings.warn(\n"
     ]
    },
    {
     "name": "stdout",
     "output_type": "stream",
     "text": [
      "(4272, [])\n"
     ]
    }
   ],
   "source": [
    "# 문서의 content 필드에 대한 임베딩 생성 \n",
    "index_docs = []\n",
    "with open(\"/data/ephemeral/home/upstage-ai-final-ir2/HM/data/documents.jsonl\") as f:\n",
    "    docs = [json.loads(line) for line in f]\n",
    "embeddings = get_embeddings_in_batches(docs)\n",
    "\n",
    "# 생성한 임베딩을 색인할 필드로 추가\n",
    "for doc, embedding in zip(docs, embeddings):\n",
    "    doc[\"embeddings\"] = embedding.tolist()\n",
    "    index_docs.append(doc)\n",
    "\n",
    "# 'test' 인덱스에 대량 문서 추가\n",
    "ret = bulk_add(\"test\", index_docs)\n",
    "\n",
    "# 색인이 잘 되었는지 확인 (색인된 총 문서수가 출력되어야 함)\n",
    "print(ret)\n"
   ]
  },
  {
   "cell_type": "markdown",
   "metadata": {},
   "source": [
    "### 예제로 확인"
   ]
  },
  {
   "cell_type": "code",
   "execution_count": 100,
   "metadata": {},
   "outputs": [],
   "source": [
    "# 검색엔진에 색인이 잘 되었는지 테스트하기 위한 질의\n",
    "test_query = \"직류와 교류 전류의 차이에 대해 알려줘\""
   ]
  },
  {
   "cell_type": "code",
   "execution_count": 101,
   "metadata": {},
   "outputs": [
    {
     "name": "stdout",
     "output_type": "stream",
     "text": [
      "Sparse retrieve results:\n",
      "ID: IkC_RZABdbhLjLLSdBNQ score: 25.160643 source: 전기 회로에서 DC와 AC의 차이점은 다음과 같다. DC는 직류 전류를 의미하며, 전하가 한 방향으로 흐른다는 것이 특징이다. 이는 전류의 방향이 일정하게 유지되는 것을 의미한다.\n",
      "ID: B0C_RZABdbhLjLLSdhXb score: 13.371474 source: 직류 전압을 측정하는 데에는 여러 가지 방법이 있습니다. 그 중에서도 전위차계 방법은 전압계를 사용한 직접 측정보다 더 정확한 결과를 얻을 수 있습니다. 이는 전위차계 방법이 회로\n",
      "ID: h0C_RZABdbhLjLLSdBFQ score: 12.6680565 source: 네 개의 동일한 교류 발전기가 병렬로 작동하고 있으며, 각각의 등급은 20 MVA이고, 전압은 11 KV입니다. 이 발전기들은 초기 과도 리액턴스가 16%로 설정되어 있습니다. 이\n",
      "ID: DkC_RZABdbhLjLLShB0k score: 11.040373 source: 특정 네트워크의 모든 요소가 선형인 경우, 중첩원리가 유지되려면 여자가 AC 또는 DC이어야 한다.\n",
      "\n",
      "선형 네트워크는 전기 회로에서 매우 중요한 개념입니다. 선형 네트워크는 모든 \n",
      "ID: D0C_RZABdbhLjLLShB0k score: 11.0155325 source: 미국에서는 남부와 나머지 지역 사이에서 학교 인종차별 철폐에 대한 지지도 차이가 존재했습니다. 이러한 차이는 대략 40% 정도였습니다. 남부 지역에서는 학교 인종차별 철폐에 대한 \n",
      "ID: F0C_RZABdbhLjLLSeRer score: 10.703047 source: 2극 중권 직류기에서 도체 한 개의 저항이 2 Ω이고 도체의 총수는 100이다. 따라서, 총 저항은 50Ω입니다. 이는 도체의 저항이 병렬로 연결되어 있기 때문에 발생하는 현상입니\n",
      "ID: ckC_RZABdbhLjLLSeRar score: 10.041642 source: [Ru(CN)6]2-에 대한 [Ru(H2O)6]2+의 화학 이동은 0 ppm 내지 16,050 ppm이다. [Ru(H2O)6]2+, [Ru(CN)6]2- 및 [Ru(NH3)6]2+\n",
      "ID: 2kC_RZABdbhLjLLSeRar score: 9.6521 source: 전구가 병렬로 연결된 회로에서는 각 전구의 전류는 독립적으로 흐르게 됩니다. 따라서 한 전구의 전류가 2A라고 해서 다른 전구의 전류를 정확히 알 수는 없습니다. 전구의 전류는 전\n",
      "ID: tUC_RZABdbhLjLLScRBi score: 9.592684 source: 힘-전류 유사성에서 대시포트에 대한 전기적 아날로그량은 컨덕턴스이다. 컨덕턴스는 전기 회로에서 전류의 흐름을 측정하는 데 사용되는 물리적인 속성이다. 컨덕턴스는 전기 저항의 역수로\n",
      "ID: bUC_RZABdbhLjLLSbg50 score: 9.490227 source: 와이어가 전류를 흐르는 와이어가 원형 루프의 형태로 굽혀져 있다면, 와이어의 각 부분 주변에는 자기장이 형성됩니다. 이 자기장은 와이어의 평면에 평행하게 분포됩니다. 와이어의 평면\n"
     ]
    },
    {
     "name": "stderr",
     "output_type": "stream",
     "text": [
      "/root/home/envforir/lib/python3.10/site-packages/urllib3/connectionpool.py:1103: InsecureRequestWarning: Unverified HTTPS request is being made to host 'localhost'. Adding certificate verification is strongly advised. See: https://urllib3.readthedocs.io/en/latest/advanced-usage.html#tls-warnings\n",
      "  warnings.warn(\n"
     ]
    }
   ],
   "source": [
    "sparse_results = sparse_retrieve(test_query, 10)\n",
    "\n",
    "print(\"Sparse retrieve results:\")\n",
    "for rst in sparse_results['hits']['hits']:\n",
    "    print('ID:', rst['_id'], 'score:', rst['_score'], 'source:', rst['_source']['content'][:100])"
   ]
  },
  {
   "cell_type": "code",
   "execution_count": 102,
   "metadata": {},
   "outputs": [
    {
     "name": "stdout",
     "output_type": "stream",
     "text": [
      "\n",
      "Dense retrieve 2 results:\n",
      "ID: IkC_RZABdbhLjLLSdBNQ score: 2.3782012 source: 전기 회로에서 DC와 AC의 차이점은 다음과 같다. DC는 직류 전류를 의미하며, 전하가 한 방향으로 흐른다는 것이 특징이다. 이는 전류의 방향이 일정하게 유지되는 것을 의미한다.\n",
      "ID: 2kC_RZABdbhLjLLSeRar score: 2.3335586 source: 전구가 병렬로 연결된 회로에서는 각 전구의 전류는 독립적으로 흐르게 됩니다. 따라서 한 전구의 전류가 2A라고 해서 다른 전구의 전류를 정확히 알 수는 없습니다. 전구의 전류는 전\n",
      "ID: B0C_RZABdbhLjLLSdhXb score: 2.3032768 source: 직류 전압을 측정하는 데에는 여러 가지 방법이 있습니다. 그 중에서도 전위차계 방법은 전압계를 사용한 직접 측정보다 더 정확한 결과를 얻을 수 있습니다. 이는 전위차계 방법이 회로\n"
     ]
    },
    {
     "name": "stderr",
     "output_type": "stream",
     "text": [
      "/tmp/ipykernel_637337/2880348070.py:48: DeprecationWarning: The 'body' parameter is deprecated and will be removed in a future version. Instead use individual parameters.\n",
      "  results = es.search(index='test', body=body, size=size)\n",
      "/root/home/envforir/lib/python3.10/site-packages/urllib3/connectionpool.py:1103: InsecureRequestWarning: Unverified HTTPS request is being made to host 'localhost'. Adding certificate verification is strongly advised. See: https://urllib3.readthedocs.io/en/latest/advanced-usage.html#tls-warnings\n",
      "  warnings.warn(\n"
     ]
    }
   ],
   "source": [
    "# desnse_retrieve_2\n",
    "dense_results = dense_retrieve_2(test_query, sparse_results['hits']['hits'], 3)\n",
    "\n",
    "print(\"\\nDense retrieve 2 results:\")\n",
    "for rst in dense_results['hits']['hits']:\n",
    "    print('ID:', rst['_id'], 'score:', rst['_score'], 'source:', rst['_source'][\"content\"][:100])"
   ]
  },
  {
   "cell_type": "code",
   "execution_count": 89,
   "metadata": {},
   "outputs": [
    {
     "name": "stdout",
     "output_type": "stream",
     "text": [
      "score: 0.0030002617 source: 로버트슨 전좌에서 융합이 발생하는 곳은 동원체입니다. 동원체는 다양한 분야에서 융합이 일어나는 중요한 장소입니다. 융합은 서로 다른 분야나 개념이 결합하여 새로운 아이디어나 기술을 만들어내는 과정을 말합니다. 로버트슨 전좌는 이러한 융합이 발생하는 핵심적인 장소로 알려져 있습니다. 동원체에서는 과학, 기술, 예술, 경제 등 다양한 분야의 전문가들이 모여 협업하고 아이디어를 공유하여 혁신적인 결과물을 창출합니다. 이를 통해 사회와 산업의 발전에 기여하고 있습니다. 동원체는 융합의 중요성을 인식하고, 다양한 분야의 전문가들이 함께 일하는 환경을 제공하여 혁신과 창조성을 촉진하고 있습니다. 따라서 로버트슨 전좌에서 융합이 발생하는 곳은 동원체입니다.\n",
      "score: 0.0029772597 source: 아칸소주를 통과하는 물새 수의 매년 변화를 알아보기 위해서는 다음과 같은 방법을 사용할 수 있습니다. 첫째로, 일 년 중 하루를 선택하여 이동하는 철새의 수를 조사합니다. 둘째로, 주 전역의 서로 다른 10개의 호수에서 새의 수를 셉니다. 이를 10년 동안 매년 같은 날 실시하여 데이터를 수집합니다. 이 방법을 통해 아칸소주를 통과하는 물새 수의 매년 변화를 정확하게 파악할 수 있습니다. 이러한 정보는 철새의 이동 패턴과 서식지 변화 등을 이해하는 데 도움이 될 것입니다.\n",
      "score: 0.0029594307 source: 다윈은 생물의 적응과 변형에 대한 연구를 통해 현대 생물학의 기초를 마련했습니다. 그는 갈라파고스 제도에서 수집한 다양한 종의 동물들을 관찰하고, 이들이 특정 환경에 적응하면서 어떻게 변형을 겪는지를 연구했습니다. 만약 HMS 비글이 갈라파고스 제도를 완전히 우회했다면, 다윈은 이러한 적응과 변형에 대한 중요한 인사이트를 얻지 못했을 것입니다. 다윈의 연구는 인구의 능력을 보여주었는데, 특정 환경에 적응하면서 생물들은 변형을 겪을 수 있는 능력을 갖고 있다는 것을 밝혀냈습니다. 이는 생물의 진화와 다양성을 이해하는 데에 중요한 역할을 하였습니다. 다윈의 연구는 현대 생물학의 기초를 이루는 중요한 이론 중 하나로 여겨지고 있습니다.\n"
     ]
    },
    {
     "name": "stderr",
     "output_type": "stream",
     "text": [
      "/root/home/envforir/lib/python3.10/site-packages/urllib3/connectionpool.py:1103: InsecureRequestWarning: Unverified HTTPS request is being made to host 'localhost'. Adding certificate verification is strongly advised. See: https://urllib3.readthedocs.io/en/latest/advanced-usage.html#tls-warnings\n",
      "  warnings.warn(\n"
     ]
    }
   ],
   "source": [
    "# desnse_retrieve\n",
    "search_result_retrieve = dense_retrieve(test_query, 3)\n",
    "\n",
    "# 결과 출력 테스트\n",
    "for rst in search_result_retrieve['hits']['hits']:\n",
    "    print('score:', rst['_score'], 'source:', rst['_source'][\"content\"])"
   ]
  },
  {
   "cell_type": "markdown",
   "metadata": {},
   "source": [
    "# RAG 구현\n",
    "준비된 검색엔진과 LLM을 활용하셔 대화형 RAG 구현"
   ]
  },
  {
   "cell_type": "code",
   "execution_count": 103,
   "metadata": {},
   "outputs": [],
   "source": [
    "from openai import OpenAI\n",
    "import traceback\n",
    "\n",
    "# OpenAI API 키를 환경변수에 설정\n",
    "os.environ[\"OPENAI_API_KEY\"] = \"sk-proj-FCdLR9ZMWFm8vjGzk3p3T3BlbkFJi3Dmulq4Tl3lOhZpHMoK\"\n",
    "#os.environ[\"OPENAI_API_KEY\"] = \"Your API Key\"\n",
    "\n",
    "client = OpenAI()\n",
    "\n",
    "# 사용할 모델을 설정\n",
    "llm_model = \"gpt-4-turbo\"\n"
   ]
  },
  {
   "cell_type": "code",
   "execution_count": 108,
   "metadata": {},
   "outputs": [],
   "source": [
    "# RAG 구현에 필요한 Question Answering을 위한 LLM  프롬프트\n",
    "persona_qa = \"\"\"\n",
    "## Role: 과학 상식 전문가\n",
    "\n",
    "## Instructions\n",
    "- 사용자의 이전 메시지 정보 및 주어진 Reference 정보를 활용하여 간결하게 답변을 생성한다.\n",
    "- 주어진 검색 결과 정보로 대답할 수 없는 경우는 정보가 부족해서 답을 할 수 없다고 대답한다.\n",
    "- 한국어로 답변을 생성한다.\n",
    "\"\"\"\n",
    "\n",
    "# RAG 구현에 필요한 질의 분석 및 검색 이외의 일반 질의 대응을 위한 LLM 프롬프트\n",
    "persona_function_calling = \"\"\"\n",
    "당신은 사용자의 질문을 분석하여 검색에 적합한 쿼리를 생성하는 AI 어시스턴트입니다.\n",
    "사용자의 질문을 받으면, 다음 단계를 따라주세요:\n",
    "1. 질문의 핵심 주제와 의도를 파악하세요.\n",
    "2. 검색에 효과적인 키워드를 추출하세요.\n",
    "3. 추출한 키워드를 사용해 간결하고 명확한 검색 쿼리를 만드세요.\n",
    "4. 만든 쿼리를 'standalone_query' 파라미터로 'search' 함수에 전달하세요.\n",
    "\n",
    "예시:\n",
    "사용자 질문: \"금성이 밝게 보이는 이유가 뭐야?\"\n",
    "생성할 standalone_query: \"금성 밝기 원인\"\n",
    "\n",
    "항상 검색 쿼리를 생성하고 'search' 함수를 호출해야 합니다.\n",
    "\"\"\"\n",
    "\n",
    "# Function calling에 사용할 함수 정의\n",
    "tools = [\n",
    "    {\n",
    "        \"type\": \"function\",\n",
    "        \"function\": {\n",
    "            \"name\": \"search\",\n",
    "            \"description\": \"search relevant documents\",\n",
    "            \"parameters\": {\n",
    "                \"properties\": {\n",
    "                    \"standalone_query\": {\n",
    "                        \"type\": \"string\",\n",
    "                        \"description\": \"Final query suitable for use in search from the user messages history.\"\n",
    "                    }\n",
    "                },\n",
    "                \"required\": [\"standalone_query\"],\n",
    "                \"type\": \"object\"\n",
    "            }\n",
    "        }\n",
    "    },\n",
    "]\n"
   ]
  },
  {
   "cell_type": "code",
   "execution_count": 112,
   "metadata": {},
   "outputs": [],
   "source": [
    "# LLM과 검색엔진을 활용한 RAG 구현\n",
    "def answer_question(messages):\n",
    "    # 함수 출력 초기화\n",
    "    response = {\"standalone_query\": \"\", \"topk\": [], \"references\": [], \"answer\": \"\"}\n",
    "\n",
    "    # 질의 분석 및 검색 이외의 질의 대응을 위한 LLM 활용\n",
    "    msg = [{\"role\": \"system\", \"content\": persona_function_calling}] + messages\n",
    "    try:\n",
    "        result = client.chat.completions.create(\n",
    "        model=llm_model,\n",
    "        messages=msg,\n",
    "        tools=tools,\n",
    "        tool_choice={\"type\": \"function\", \"function\": {\"name\": \"search\"}},  # standalone_query를 잘 추출하지 못함 -> LLM이 반드시 'search' 함수를 사용하도록 강제 \n",
    "        temperature=0,\n",
    "        seed=1,\n",
    "        timeout=10\n",
    ")\n",
    "    except Exception as e:\n",
    "        traceback.print_exc()\n",
    "        return response\n",
    "\n",
    "    # 검색이 필요한 경우 검색 호출후 결과를 활용하여 답변 생성\n",
    "    if result.choices[0].message.tool_calls:\n",
    "        tool_call = result.choices[0].message.tool_calls[0]\n",
    "        function_args = json.loads(tool_call.function.arguments)\n",
    "        standalone_query = function_args.get(\"standalone_query\")\n",
    "\n",
    "        # retriever 설정!!!\n",
    "        # 1. sparse_retrieve로 20개 검색\n",
    "        sparse_results = sparse_retrieve(standalone_query, 20)\n",
    "        \n",
    "        # 2. dense_retrieve_2로 최종 3개 선정\n",
    "        search_result = dense_retrieve_2(standalone_query, sparse_results['hits']['hits'], 3)\n",
    "\n",
    "        response[\"standalone_query\"] = standalone_query\n",
    "        retrieved_context = []\n",
    "        for i, rst in enumerate(search_result['hits']['hits']):\n",
    "            retrieved_context.append(rst[\"_source\"][\"content\"])\n",
    "            response[\"topk\"].append(rst[\"_source\"].get(\"docid\", rst[\"_id\"]))  # docid가 없을 경우 _id 사용\n",
    "            response[\"references\"].append({\"score\": rst[\"_score\"], \"content\": rst[\"_source\"][\"content\"]})\n",
    "\n",
    "        content = json.dumps(retrieved_context)\n",
    "        messages.append({\"role\": \"assistant\", \"content\": content})\n",
    "        msg = [{\"role\": \"system\", \"content\": persona_qa}] + messages\n",
    "        try:\n",
    "            qaresult = client.chat.completions.create(\n",
    "                    model=llm_model,\n",
    "                    messages=msg,\n",
    "                    temperature=0,\n",
    "                    seed=1,\n",
    "                    timeout=30\n",
    "                )\n",
    "        except Exception as e:\n",
    "            traceback.print_exc()\n",
    "            return response\n",
    "        response[\"answer\"] = qaresult.choices[0].message.content\n",
    "\n",
    "    # 검색이 필요하지 않은 경우 바로 답변 생성\n",
    "    else:\n",
    "        response[\"answer\"] = result.choices[0].message.content\n",
    "\n",
    "    return response"
   ]
  },
  {
   "cell_type": "code",
   "execution_count": 113,
   "metadata": {},
   "outputs": [],
   "source": [
    "# 평가를 위한 파일을 읽어서 각 평가 데이터에 대해서 결과 추출후 파일에 저장\n",
    "def eval_rag(eval_filename, output_filename):\n",
    "    with open(eval_filename) as f, open(output_filename, \"w\") as of:\n",
    "        idx = 0\n",
    "        for line in f:\n",
    "            # if idx > 5:\n",
    "            #   break\n",
    "            j = json.loads(line)\n",
    "            print(f'Test {idx}\\nQuestion: {j[\"msg\"]}')\n",
    "            response = answer_question(j[\"msg\"])\n",
    "            print(f'Answer: {response[\"answer\"]}\\n')\n",
    "\n",
    "            # 대회 score 계산은 topk 정보를 사용, answer 정보는 LLM을 통한 자동평가시 활용\n",
    "            output = {\"eval_id\": j[\"eval_id\"], \"standalone_query\": response[\"standalone_query\"], \"topk\": response[\"topk\"], \"answer\": response[\"answer\"], \"references\": response[\"references\"]}\n",
    "            of.write(f'{json.dumps(output, ensure_ascii=False)}\\n')\n",
    "            idx += 1\n"
   ]
  },
  {
   "cell_type": "code",
   "execution_count": 114,
   "metadata": {},
   "outputs": [
    {
     "name": "stdout",
     "output_type": "stream",
     "text": [
      "Test 0\n",
      "Question: [{'role': 'user', 'content': '나무의 분류에 대해 조사해 보기 위한 방법은?'}]\n"
     ]
    },
    {
     "name": "stderr",
     "output_type": "stream",
     "text": [
      "/root/home/envforir/lib/python3.10/site-packages/urllib3/connectionpool.py:1103: InsecureRequestWarning: Unverified HTTPS request is being made to host 'localhost'. Adding certificate verification is strongly advised. See: https://urllib3.readthedocs.io/en/latest/advanced-usage.html#tls-warnings\n",
      "  warnings.warn(\n",
      "/tmp/ipykernel_637337/2880348070.py:48: DeprecationWarning: The 'body' parameter is deprecated and will be removed in a future version. Instead use individual parameters.\n",
      "  results = es.search(index='test', body=body, size=size)\n",
      "/root/home/envforir/lib/python3.10/site-packages/urllib3/connectionpool.py:1103: InsecureRequestWarning: Unverified HTTPS request is being made to host 'localhost'. Adding certificate verification is strongly advised. See: https://urllib3.readthedocs.io/en/latest/advanced-usage.html#tls-warnings\n",
      "  warnings.warn(\n"
     ]
    },
    {
     "name": "stdout",
     "output_type": "stream",
     "text": [
      "Answer: 나무의 분류를 조사하기 위한 방법으로는 다음과 같은 절차를 따를 수 있습니다:\n",
      "\n",
      "1. **현장 조사**: 다양한 지역을 방문하여 나무의 생육 환경과 특성을 관찰합니다.\n",
      "2. **문헌 조사**: 관련 서적, 연구 논문, 데이터베이스를 통해 나무의 종류와 특성에 대한 정보를 수집합니다.\n",
      "3. **분류 기준 학습**: 나무를 분류하는 데 사용되는 기준(예: 잎의 모양, 꽃, 열매, 수피 등)을 학습합니다.\n",
      "4. **표본 수집**: 연구 대상 나무의 잎, 꽃, 열매 등을 수집하여 더 자세한 분석을 위해 보관합니다.\n",
      "5. **전문가 상담**: 식물학자나 산림 전문가와 상담하여 얻은 정보를 검증하고 추가적인 조언을 구합니다.\n",
      "6. **분류 작업**: 수집된 정보와 표본을 바탕으로 나무를 종류별로 분류합니다.\n",
      "\n",
      "이러한 방법을 통해 나무의 다양한 종류를 체계적으로 조사하고 분류할 수 있습니다.\n",
      "\n",
      "Test 1\n",
      "Question: [{'role': 'user', 'content': '각 나라에서의 공교육 지출 현황에 대해 알려줘.'}]\n"
     ]
    },
    {
     "name": "stderr",
     "output_type": "stream",
     "text": [
      "/root/home/envforir/lib/python3.10/site-packages/urllib3/connectionpool.py:1103: InsecureRequestWarning: Unverified HTTPS request is being made to host 'localhost'. Adding certificate verification is strongly advised. See: https://urllib3.readthedocs.io/en/latest/advanced-usage.html#tls-warnings\n",
      "  warnings.warn(\n",
      "/root/home/envforir/lib/python3.10/site-packages/urllib3/connectionpool.py:1103: InsecureRequestWarning: Unverified HTTPS request is being made to host 'localhost'. Adding certificate verification is strongly advised. See: https://urllib3.readthedocs.io/en/latest/advanced-usage.html#tls-warnings\n",
      "  warnings.warn(\n"
     ]
    },
    {
     "name": "stdout",
     "output_type": "stream",
     "text": [
      "Answer: 제공된 정보에는 각 나라별 공교육 지출 현황에 대한 구체적인 데이터가 포함되어 있지 않습니다. 따라서 각 나라별 공교육 지출 현황에 대해 구체적으로 답변드릴 수 없습니다. 다만, 전 세계적으로 공공 교육 지출은 대략 세계 GDP의 약 4%를 차지한다고 알려져 있습니다. 각국의 구체적인 지출 현황은 해당 국가의 교육 정책과 경제 상황에 따라 다를 수 있습니다.\n",
      "\n",
      "Test 2\n",
      "Question: [{'role': 'user', 'content': '기억 상실증 걸리면 너무 무섭겠다.'}, {'role': 'assistant', 'content': '네 맞습니다.'}, {'role': 'user', 'content': '어떤 원인 때문에 발생하는지 궁금해.'}]\n"
     ]
    },
    {
     "name": "stderr",
     "output_type": "stream",
     "text": [
      "/root/home/envforir/lib/python3.10/site-packages/urllib3/connectionpool.py:1103: InsecureRequestWarning: Unverified HTTPS request is being made to host 'localhost'. Adding certificate verification is strongly advised. See: https://urllib3.readthedocs.io/en/latest/advanced-usage.html#tls-warnings\n",
      "  warnings.warn(\n",
      "/root/home/envforir/lib/python3.10/site-packages/urllib3/connectionpool.py:1103: InsecureRequestWarning: Unverified HTTPS request is being made to host 'localhost'. Adding certificate verification is strongly advised. See: https://urllib3.readthedocs.io/en/latest/advanced-usage.html#tls-warnings\n",
      "  warnings.warn(\n"
     ]
    },
    {
     "name": "stdout",
     "output_type": "stream",
     "text": [
      "Answer: 기억 상실증은 다양한 원인으로 발생할 수 있습니다. 대표적으로 뇌 손상, 알츠하이머병 같은 신경 퇴행성 질환, 스트레스나 정신적 충격, 약물의 부작용, 감염, 영양 결핍 등이 있습니다. 뇌의 특정 부위가 손상되거나 기능이 저하되면 기억을 저장하거나 회상하는 데 문제가 생겨 기억 상실증이 나타날 수 있습니다.\n",
      "\n",
      "Test 3\n",
      "Question: [{'role': 'user', 'content': '통학 버스의 가치에 대해 말해줘.'}]\n"
     ]
    },
    {
     "name": "stderr",
     "output_type": "stream",
     "text": [
      "/root/home/envforir/lib/python3.10/site-packages/urllib3/connectionpool.py:1103: InsecureRequestWarning: Unverified HTTPS request is being made to host 'localhost'. Adding certificate verification is strongly advised. See: https://urllib3.readthedocs.io/en/latest/advanced-usage.html#tls-warnings\n",
      "  warnings.warn(\n",
      "/root/home/envforir/lib/python3.10/site-packages/urllib3/connectionpool.py:1103: InsecureRequestWarning: Unverified HTTPS request is being made to host 'localhost'. Adding certificate verification is strongly advised. See: https://urllib3.readthedocs.io/en/latest/advanced-usage.html#tls-warnings\n",
      "  warnings.warn(\n"
     ]
    },
    {
     "name": "stdout",
     "output_type": "stream",
     "text": [
      "Answer: 통학 버스는 학생들에게 안전하고 편리한 이동 수단을 제공하여, 학생들이 학교에 편안하고 시간에 맞춰 도착할 수 있도록 돕습니다. 또한, 많은 학생들을 한 번에 운송함으로써 교통 체증과 환경 오염을 줄이는 데에도 기여할 수 있습니다. 이는 학생들의 학업 성취도 향상과 일상 생활의 편의성 증진에 긍정적인 영향을 미칩니다.\n",
      "\n",
      "Test 4\n",
      "Question: [{'role': 'user', 'content': 'Dmitri Ivanovsky가 누구야?'}]\n"
     ]
    },
    {
     "name": "stderr",
     "output_type": "stream",
     "text": [
      "/root/home/envforir/lib/python3.10/site-packages/urllib3/connectionpool.py:1103: InsecureRequestWarning: Unverified HTTPS request is being made to host 'localhost'. Adding certificate verification is strongly advised. See: https://urllib3.readthedocs.io/en/latest/advanced-usage.html#tls-warnings\n",
      "  warnings.warn(\n",
      "/root/home/envforir/lib/python3.10/site-packages/urllib3/connectionpool.py:1103: InsecureRequestWarning: Unverified HTTPS request is being made to host 'localhost'. Adding certificate verification is strongly advised. See: https://urllib3.readthedocs.io/en/latest/advanced-usage.html#tls-warnings\n",
      "  warnings.warn(\n"
     ]
    },
    {
     "name": "stdout",
     "output_type": "stream",
     "text": [
      "Answer: Dmitri Ivanovsky는 1892년에 바이러스를 처음으로 발견한 러시아의 과학자입니다. 그는 담배 모자이크 바이러스를 연구하면서, 이 바이러스가 세균을 걸러내는 필터를 통과할 수 있다는 것을 발견했습니다. 이 발견은 바이러스학의 시작을 알리는 중요한 사건이었습니다.\n",
      "\n",
      "Test 5\n",
      "Question: [{'role': 'user', 'content': '피임을 하기 위한 방법중 약으로 처리하는 방법은 쓸만한가?'}]\n"
     ]
    },
    {
     "name": "stderr",
     "output_type": "stream",
     "text": [
      "/root/home/envforir/lib/python3.10/site-packages/urllib3/connectionpool.py:1103: InsecureRequestWarning: Unverified HTTPS request is being made to host 'localhost'. Adding certificate verification is strongly advised. See: https://urllib3.readthedocs.io/en/latest/advanced-usage.html#tls-warnings\n",
      "  warnings.warn(\n",
      "/root/home/envforir/lib/python3.10/site-packages/urllib3/connectionpool.py:1103: InsecureRequestWarning: Unverified HTTPS request is being made to host 'localhost'. Adding certificate verification is strongly advised. See: https://urllib3.readthedocs.io/en/latest/advanced-usage.html#tls-warnings\n",
      "  warnings.warn(\n"
     ]
    },
    {
     "name": "stdout",
     "output_type": "stream",
     "text": [
      "Answer: 피임약은 효과적인 피임 방법 중 하나로 널리 사용되고 있습니다. 연구 결과에 따르면, 피임약은 임신을 예방하는 데 도움이 되며, 대부분의 사용자에게 효과적입니다. 하지만 일부 사용자에게는 부작용이 나타날 수 있으므로, 피임약을 사용하기 전에 의사와 상담하는 것이 중요합니다. 부작용의 가능성과 개인의 건강 상태를 고려하여 의사가 가장 적합한 피임 방법을 추천할 수 있습니다.\n",
      "\n",
      "Test 6\n",
      "Question: [{'role': 'user', 'content': '헬륨이 다른 원소들과 반응을 잘 안하는 이유는?'}]\n"
     ]
    },
    {
     "name": "stderr",
     "output_type": "stream",
     "text": [
      "/root/home/envforir/lib/python3.10/site-packages/urllib3/connectionpool.py:1103: InsecureRequestWarning: Unverified HTTPS request is being made to host 'localhost'. Adding certificate verification is strongly advised. See: https://urllib3.readthedocs.io/en/latest/advanced-usage.html#tls-warnings\n",
      "  warnings.warn(\n",
      "/root/home/envforir/lib/python3.10/site-packages/urllib3/connectionpool.py:1103: InsecureRequestWarning: Unverified HTTPS request is being made to host 'localhost'. Adding certificate verification is strongly advised. See: https://urllib3.readthedocs.io/en/latest/advanced-usage.html#tls-warnings\n",
      "  warnings.warn(\n"
     ]
    },
    {
     "name": "stdout",
     "output_type": "stream",
     "text": [
      "Answer: 헬륨은 매우 안정된 전자 구성을 가지고 있어서 다른 원소들과 반응을 잘 하지 않습니다. 헬륨 원자는 전자가 2개뿐이며, 이는 가장 낮은 에너지 준위인 1s 오비탈을 완전히 채워 안정된 상태인 노블 가스 구성을 이룹니다. 따라서 헬륨은 추가적인 전자를 얻거나 잃을 필요가 없어 화학적으로 매우 불활성입니다.\n",
      "\n",
      "Test 7\n",
      "Question: [{'role': 'user', 'content': '문맹 비율이 사회 발전에 미치는 영향은?'}]\n"
     ]
    },
    {
     "name": "stderr",
     "output_type": "stream",
     "text": [
      "/root/home/envforir/lib/python3.10/site-packages/urllib3/connectionpool.py:1103: InsecureRequestWarning: Unverified HTTPS request is being made to host 'localhost'. Adding certificate verification is strongly advised. See: https://urllib3.readthedocs.io/en/latest/advanced-usage.html#tls-warnings\n",
      "  warnings.warn(\n",
      "/root/home/envforir/lib/python3.10/site-packages/urllib3/connectionpool.py:1103: InsecureRequestWarning: Unverified HTTPS request is being made to host 'localhost'. Adding certificate verification is strongly advised. See: https://urllib3.readthedocs.io/en/latest/advanced-usage.html#tls-warnings\n",
      "  warnings.warn(\n"
     ]
    },
    {
     "name": "stdout",
     "output_type": "stream",
     "text": [
      "Answer: 문맹 비율이 높은 사회는 교육 수준이 낮고 정보 접근성이 제한적이어서 경제적, 사회적 발전이 더디게 진행됩니다. 반면, 문맹률이 낮아지면 교육을 통해 기술과 지식이 향상되고, 이는 개인의 삶의 질을 높이고 경제 발전에 기여합니다. 따라서 국가와 국제 사회는 교육의 중요성을 인식하고 모든 사람에게 교육 기회를 제공하기 위해 노력해야 합니다. 이를 통해 문맹률을 줄이고 사회 전반의 발전을 촉진할 수 있습니다.\n",
      "\n",
      "Test 8\n",
      "Question: [{'role': 'user', 'content': '이란 콘트라 사건이 뭐야'}, {'role': 'assistant', 'content': '이란-콘트라 사건은 로널드 레이건 집권기인 1986년에 레이건 행정부와 CIA가 적성국이었던 이란에게 무기를 몰래 수출한 대금으로 니카라과의 우익 성향 반군 콘트라를 지원하면서 동시에 반군으로부터 마약을 사들인 후 미국에 판매하다가 발각되어 큰 파장을 일으킨 사건입니다.'}, {'role': 'user', 'content': '이 사건이 미국 정치에 미친 영향은?'}]\n"
     ]
    },
    {
     "name": "stderr",
     "output_type": "stream",
     "text": [
      "/root/home/envforir/lib/python3.10/site-packages/urllib3/connectionpool.py:1103: InsecureRequestWarning: Unverified HTTPS request is being made to host 'localhost'. Adding certificate verification is strongly advised. See: https://urllib3.readthedocs.io/en/latest/advanced-usage.html#tls-warnings\n",
      "  warnings.warn(\n",
      "/root/home/envforir/lib/python3.10/site-packages/urllib3/connectionpool.py:1103: InsecureRequestWarning: Unverified HTTPS request is being made to host 'localhost'. Adding certificate verification is strongly advised. See: https://urllib3.readthedocs.io/en/latest/advanced-usage.html#tls-warnings\n",
      "  warnings.warn(\n"
     ]
    },
    {
     "name": "stdout",
     "output_type": "stream",
     "text": [
      "Answer: 이란-콘트라 사건은 미국 정치에 큰 영향을 미쳤습니다. 이 사건으로 인해 로널드 레이건 대통령의 신뢰도가 크게 하락했으며, 미국 정부의 비밀 작전과 외교 정책에 대한 국민의 불신이 증가했습니다. 또한, 이 사건은 미국의 정치적 투명성과 책임성에 대한 논의를 촉발시켜, 이후 정부의 감시 및 규제 강화로 이어졌습니다.\n",
      "\n",
      "Test 9\n",
      "Question: [{'role': 'user', 'content': '자기장이 얼마나 센지 표현하는 방식은?'}]\n"
     ]
    },
    {
     "name": "stderr",
     "output_type": "stream",
     "text": [
      "/root/home/envforir/lib/python3.10/site-packages/urllib3/connectionpool.py:1103: InsecureRequestWarning: Unverified HTTPS request is being made to host 'localhost'. Adding certificate verification is strongly advised. See: https://urllib3.readthedocs.io/en/latest/advanced-usage.html#tls-warnings\n",
      "  warnings.warn(\n",
      "/root/home/envforir/lib/python3.10/site-packages/urllib3/connectionpool.py:1103: InsecureRequestWarning: Unverified HTTPS request is being made to host 'localhost'. Adding certificate verification is strongly advised. See: https://urllib3.readthedocs.io/en/latest/advanced-usage.html#tls-warnings\n",
      "  warnings.warn(\n"
     ]
    },
    {
     "name": "stdout",
     "output_type": "stream",
     "text": [
      "Answer: 자기장의 세기를 표현하는 방식은 '테슬라(Tesla)' 단위를 사용합니다. 테슬라는 자기장의 세기를 나타내는 국제단위계(SI)의 단위로, 자기장의 강도를 측정하는 데 사용됩니다.\n",
      "\n",
      "Test 10\n",
      "Question: [{'role': 'user', 'content': '피를 맑게 하고 몸 속의 노폐물을 없애는 역할을 하는 기관은?'}]\n"
     ]
    },
    {
     "name": "stderr",
     "output_type": "stream",
     "text": [
      "/root/home/envforir/lib/python3.10/site-packages/urllib3/connectionpool.py:1103: InsecureRequestWarning: Unverified HTTPS request is being made to host 'localhost'. Adding certificate verification is strongly advised. See: https://urllib3.readthedocs.io/en/latest/advanced-usage.html#tls-warnings\n",
      "  warnings.warn(\n",
      "/root/home/envforir/lib/python3.10/site-packages/urllib3/connectionpool.py:1103: InsecureRequestWarning: Unverified HTTPS request is being made to host 'localhost'. Adding certificate verification is strongly advised. See: https://urllib3.readthedocs.io/en/latest/advanced-usage.html#tls-warnings\n",
      "  warnings.warn(\n"
     ]
    },
    {
     "name": "stdout",
     "output_type": "stream",
     "text": [
      "Answer: 피를 맑게 하고 몸 속의 노폐물을 없애는 역할을 하는 주요 기관은 신장입니다. 신장은 혈액을 여과하여 노폐물을 제거하고, 필요한 물질은 다시 몸으로 흡수시켜 체내의 화학적 균형을 유지하는 중요한 역할을 합니다.\n",
      "\n",
      "Test 11\n",
      "Question: [{'role': 'user', 'content': '글리코겐의 분해는 인체에서 왜 필요한가?'}]\n"
     ]
    },
    {
     "name": "stderr",
     "output_type": "stream",
     "text": [
      "/root/home/envforir/lib/python3.10/site-packages/urllib3/connectionpool.py:1103: InsecureRequestWarning: Unverified HTTPS request is being made to host 'localhost'. Adding certificate verification is strongly advised. See: https://urllib3.readthedocs.io/en/latest/advanced-usage.html#tls-warnings\n",
      "  warnings.warn(\n",
      "/root/home/envforir/lib/python3.10/site-packages/urllib3/connectionpool.py:1103: InsecureRequestWarning: Unverified HTTPS request is being made to host 'localhost'. Adding certificate verification is strongly advised. See: https://urllib3.readthedocs.io/en/latest/advanced-usage.html#tls-warnings\n",
      "  warnings.warn(\n"
     ]
    },
    {
     "name": "stdout",
     "output_type": "stream",
     "text": [
      "Answer: 글리코겐의 분해는 인체에서 에너지를 생성하고, 운동 능력을 유지하는 데 필수적인 과정입니다. 운동 시 글리코겐은 포도당으로 분해되어 근육의 에너지원으로 사용됩니다. 또한, 혈당 수준이 낮아질 때 글리코겐이 분해되어 혈당을 조절하는 데 도움을 줍니다. 이러한 과정은 인체가 에너지 수요에 효과적으로 대응할 수 있게 하며, 운동과 같은 신체 활동을 지속할 수 있게 합니다.\n",
      "\n",
      "Test 12\n",
      "Question: [{'role': 'user', 'content': '빗방울이 점점 커지게 되는 요인은?'}]\n"
     ]
    },
    {
     "name": "stderr",
     "output_type": "stream",
     "text": [
      "/root/home/envforir/lib/python3.10/site-packages/urllib3/connectionpool.py:1103: InsecureRequestWarning: Unverified HTTPS request is being made to host 'localhost'. Adding certificate verification is strongly advised. See: https://urllib3.readthedocs.io/en/latest/advanced-usage.html#tls-warnings\n",
      "  warnings.warn(\n",
      "/root/home/envforir/lib/python3.10/site-packages/urllib3/connectionpool.py:1103: InsecureRequestWarning: Unverified HTTPS request is being made to host 'localhost'. Adding certificate verification is strongly advised. See: https://urllib3.readthedocs.io/en/latest/advanced-usage.html#tls-warnings\n",
      "  warnings.warn(\n"
     ]
    },
    {
     "name": "stdout",
     "output_type": "stream",
     "text": [
      "Answer: 빗방울이 점점 커지는 주된 요인은 '충돌-합체 과정'입니다. 구름 속에서 작은 물방울들이 서로 부딪히며 합쳐지면서 점점 크기가 커집니다. 이 과정을 통해 물방울은 점점 무거워지고, 결국 중력의 영향으로 지상으로 떨어지게 됩니다. 이러한 과정을 통해 비가 내리게 되는 것입니다.\n",
      "\n",
      "Test 13\n",
      "Question: [{'role': 'user', 'content': '기체의 부피나 형태가 왜 일정하지 않을까?'}]\n"
     ]
    },
    {
     "name": "stderr",
     "output_type": "stream",
     "text": [
      "/root/home/envforir/lib/python3.10/site-packages/urllib3/connectionpool.py:1103: InsecureRequestWarning: Unverified HTTPS request is being made to host 'localhost'. Adding certificate verification is strongly advised. See: https://urllib3.readthedocs.io/en/latest/advanced-usage.html#tls-warnings\n",
      "  warnings.warn(\n",
      "/root/home/envforir/lib/python3.10/site-packages/urllib3/connectionpool.py:1103: InsecureRequestWarning: Unverified HTTPS request is being made to host 'localhost'. Adding certificate verification is strongly advised. See: https://urllib3.readthedocs.io/en/latest/advanced-usage.html#tls-warnings\n",
      "  warnings.warn(\n"
     ]
    },
    {
     "name": "stdout",
     "output_type": "stream",
     "text": [
      "Answer: 기체의 분자들은 서로 간에 거리가 멀고, 자유롭게 움직이기 때문에 일정한 부피나 형태를 유지하지 않습니다. 따라서 기체는 그것을 담고 있는 용기의 형태와 부피를 채우게 됩니다. 또한, 기체는 온도와 압력의 변화에 따라 부피가 변할 수 있어, 일정한 형태를 유지하지 않습니다.\n",
      "\n",
      "Test 14\n",
      "Question: [{'role': 'user', 'content': '식물이 빛을 에너지로 변환하는 과정에 대해 설명해줘.'}]\n"
     ]
    },
    {
     "name": "stderr",
     "output_type": "stream",
     "text": [
      "/root/home/envforir/lib/python3.10/site-packages/urllib3/connectionpool.py:1103: InsecureRequestWarning: Unverified HTTPS request is being made to host 'localhost'. Adding certificate verification is strongly advised. See: https://urllib3.readthedocs.io/en/latest/advanced-usage.html#tls-warnings\n",
      "  warnings.warn(\n",
      "/root/home/envforir/lib/python3.10/site-packages/urllib3/connectionpool.py:1103: InsecureRequestWarning: Unverified HTTPS request is being made to host 'localhost'. Adding certificate verification is strongly advised. See: https://urllib3.readthedocs.io/en/latest/advanced-usage.html#tls-warnings\n",
      "  warnings.warn(\n"
     ]
    },
    {
     "name": "stdout",
     "output_type": "stream",
     "text": [
      "Answer: 식물이 빛을 에너지로 변환하는 과정은 광합성이라고 합니다. 이 과정에서 식물의 엽록체 내에 있는 엽록소가 태양광을 흡수합니다. 흡수된 빛 에너지는 물과 이산화탄소를 화학적으로 반응시켜 포도당과 산소를 생성합니다. 이렇게 생성된 포도당은 식물의 에너지원으로 사용되며, 산소는 대기 중으로 방출됩니다. 이 과정은 지구상의 생명체가 생존하는 데 필수적인 역할을 합니다.\n",
      "\n",
      "Test 15\n",
      "Question: [{'role': 'user', 'content': '직류와 교류 전류의 차이에 대해 알려줘.'}]\n"
     ]
    },
    {
     "name": "stderr",
     "output_type": "stream",
     "text": [
      "/root/home/envforir/lib/python3.10/site-packages/urllib3/connectionpool.py:1103: InsecureRequestWarning: Unverified HTTPS request is being made to host 'localhost'. Adding certificate verification is strongly advised. See: https://urllib3.readthedocs.io/en/latest/advanced-usage.html#tls-warnings\n",
      "  warnings.warn(\n",
      "/root/home/envforir/lib/python3.10/site-packages/urllib3/connectionpool.py:1103: InsecureRequestWarning: Unverified HTTPS request is being made to host 'localhost'. Adding certificate verification is strongly advised. See: https://urllib3.readthedocs.io/en/latest/advanced-usage.html#tls-warnings\n",
      "  warnings.warn(\n"
     ]
    },
    {
     "name": "stdout",
     "output_type": "stream",
     "text": [
      "Answer: 직류(DC)와 교류(AC) 전류의 주요 차이점은 전류의 흐름 방향입니다. 직류는 전하가 한 방향으로 지속적으로 흐르는 전류를 말하며, 배터리에서 볼 수 있습니다. 반면, 교류는 전하가 주기적으로 방향을 바꾸며 흐르는 전류로, 일반 가정용 전원에서 사용됩니다. 이러한 차이는 전기를 전송하고 사용하는 방식에 영향을 미칩니다.\n",
      "\n",
      "Test 16\n",
      "Question: [{'role': 'user', 'content': '기름과 물이 섞여 있을 수 있나?'}]\n"
     ]
    },
    {
     "name": "stderr",
     "output_type": "stream",
     "text": [
      "/root/home/envforir/lib/python3.10/site-packages/urllib3/connectionpool.py:1103: InsecureRequestWarning: Unverified HTTPS request is being made to host 'localhost'. Adding certificate verification is strongly advised. See: https://urllib3.readthedocs.io/en/latest/advanced-usage.html#tls-warnings\n",
      "  warnings.warn(\n",
      "/root/home/envforir/lib/python3.10/site-packages/urllib3/connectionpool.py:1103: InsecureRequestWarning: Unverified HTTPS request is being made to host 'localhost'. Adding certificate verification is strongly advised. See: https://urllib3.readthedocs.io/en/latest/advanced-usage.html#tls-warnings\n",
      "  warnings.warn(\n"
     ]
    },
    {
     "name": "stdout",
     "output_type": "stream",
     "text": [
      "Answer: 기름과 물은 서로 섞이지 않습니다. 이는 두 물질의 화학적 성질이 다르기 때문인데, 기름은 비극성 물질이고 물은 극성 물질입니다. 서로 다른 성질을 가진 이 두 물질은 서로 결합하지 않아 분리되어 있게 됩니다. 때문에 기름과 물을 함께 담으면 기름이 물 위로 뜨는 현상을 볼 수 있습니다.\n",
      "\n",
      "Test 17\n",
      "Question: [{'role': 'user', 'content': '인간이 2세를 생산할 때 DNA의 결합 과정에 대히 설명해줘.'}]\n"
     ]
    },
    {
     "name": "stderr",
     "output_type": "stream",
     "text": [
      "/root/home/envforir/lib/python3.10/site-packages/urllib3/connectionpool.py:1103: InsecureRequestWarning: Unverified HTTPS request is being made to host 'localhost'. Adding certificate verification is strongly advised. See: https://urllib3.readthedocs.io/en/latest/advanced-usage.html#tls-warnings\n",
      "  warnings.warn(\n",
      "/root/home/envforir/lib/python3.10/site-packages/urllib3/connectionpool.py:1103: InsecureRequestWarning: Unverified HTTPS request is being made to host 'localhost'. Adding certificate verification is strongly advised. See: https://urllib3.readthedocs.io/en/latest/advanced-usage.html#tls-warnings\n",
      "  warnings.warn(\n"
     ]
    },
    {
     "name": "stdout",
     "output_type": "stream",
     "text": [
      "Answer: 인간의 생식 과정에서 남성과 여성 각각의 생식세포인 정자와 난자는 23쌍의 염색체를 가지고 있습니다. 이들이 결합할 때, 각각의 생식세포에서 반씩, 즉 23개의 염색체를 제공하여 새로운 개체는 총 46개의 염색체를 갖게 됩니다. 이 과정에서 각 염색체는 DNA를 포함하고 있으며, DNA는 유전 정보를 담고 있습니다. 정자와 난자가 결합하면, DNA도 결합하여 새로운 DNA 이중나선을 형성합니다. 이렇게 형성된 DNA는 부모로부터 받은 유전 정보를 조합하여 새로운 유전적 특성을 가진 자녀를 만들게 됩니다. DNA의 결합은 아데닌은 티민과, 구아닌은 시토신과 서로 결합하는 특정 규칙에 따라 이루어집니다. 이 과정을 통해 유전 정보가 정확하게 자손에게 전달됩니다.\n",
      "\n",
      "Test 18\n",
      "Question: [{'role': 'user', 'content': '금성에서 달이 어떻게 보일까?'}]\n"
     ]
    },
    {
     "name": "stderr",
     "output_type": "stream",
     "text": [
      "/root/home/envforir/lib/python3.10/site-packages/urllib3/connectionpool.py:1103: InsecureRequestWarning: Unverified HTTPS request is being made to host 'localhost'. Adding certificate verification is strongly advised. See: https://urllib3.readthedocs.io/en/latest/advanced-usage.html#tls-warnings\n",
      "  warnings.warn(\n",
      "/root/home/envforir/lib/python3.10/site-packages/urllib3/connectionpool.py:1103: InsecureRequestWarning: Unverified HTTPS request is being made to host 'localhost'. Adding certificate verification is strongly advised. See: https://urllib3.readthedocs.io/en/latest/advanced-usage.html#tls-warnings\n",
      "  warnings.warn(\n"
     ]
    },
    {
     "name": "stdout",
     "output_type": "stream",
     "text": [
      "Answer: 금성에서 달을 관측하는 것은 불가능합니다. 금성은 지구보다 태양에 더 가까이 있기 때문에, 금성에서 보면 지구와 달은 항상 태양의 반대편에 위치하게 됩니다. 따라서 금성의 표면에서는 지구나 달을 볼 수 없습니다.\n",
      "\n",
      "Test 19\n",
      "Question: [{'role': 'user', 'content': '차량의 연비가 좋아질때 나타나는 긍정적인 효과는?'}]\n"
     ]
    },
    {
     "name": "stderr",
     "output_type": "stream",
     "text": [
      "/root/home/envforir/lib/python3.10/site-packages/urllib3/connectionpool.py:1103: InsecureRequestWarning: Unverified HTTPS request is being made to host 'localhost'. Adding certificate verification is strongly advised. See: https://urllib3.readthedocs.io/en/latest/advanced-usage.html#tls-warnings\n",
      "  warnings.warn(\n",
      "/root/home/envforir/lib/python3.10/site-packages/urllib3/connectionpool.py:1103: InsecureRequestWarning: Unverified HTTPS request is being made to host 'localhost'. Adding certificate verification is strongly advised. See: https://urllib3.readthedocs.io/en/latest/advanced-usage.html#tls-warnings\n",
      "  warnings.warn(\n"
     ]
    },
    {
     "name": "stdout",
     "output_type": "stream",
     "text": [
      "Answer: 차량의 연비가 좋아지면 여러 긍정적인 효과가 있습니다. 먼저, 연료 비용을 절약할 수 있으며, 이는 경제적인 이점을 제공합니다. 또한, 연비가 좋은 차량은 일반적으로 탄소 배출량이 적어 환경 보호에도 기여합니다. 이는 대기 오염을 줄이고 기후 변화에 대응하는 데 도움이 됩니다. 더 나아가, 연료 효율이 높은 차량은 에너지 자원의 효율적 사용을 가능하게 하여 자원 보존에도 긍정적인 영향을 미칩니다.\n",
      "\n",
      "Test 20\n",
      "Question: [{'role': 'user', 'content': '혼합물의 특성에 대해 알려줘.'}]\n"
     ]
    },
    {
     "name": "stderr",
     "output_type": "stream",
     "text": [
      "/root/home/envforir/lib/python3.10/site-packages/urllib3/connectionpool.py:1103: InsecureRequestWarning: Unverified HTTPS request is being made to host 'localhost'. Adding certificate verification is strongly advised. See: https://urllib3.readthedocs.io/en/latest/advanced-usage.html#tls-warnings\n",
      "  warnings.warn(\n",
      "/root/home/envforir/lib/python3.10/site-packages/urllib3/connectionpool.py:1103: InsecureRequestWarning: Unverified HTTPS request is being made to host 'localhost'. Adding certificate verification is strongly advised. See: https://urllib3.readthedocs.io/en/latest/advanced-usage.html#tls-warnings\n",
      "  warnings.warn(\n"
     ]
    },
    {
     "name": "stdout",
     "output_type": "stream",
     "text": [
      "Answer: 혼합물은 두 가지 이상의 물질이 서로 화학적으로 결합하지 않고 물리적으로 섞여 있는 상태를 말합니다. 각 구성 요소는 독립적인 화학적 성질을 유지하며, 혼합물의 성질은 구성 요소의 종류와 비율에 따라 달라질 수 있습니다. 혼합물은 균일 혼합물과 불균일 혼합물로 나뉘며, 균일 혼합물은 전체적으로 동일한 성질을 보이고, 불균일 혼합물은 서로 다른 성질의 부분이 관찰됩니다. 혼합물은 일상생활에서 흔히 접할 수 있으며, 이를 이해하는 것은 화학뿐만 아니라 다양한 과학 분야에서 중요합니다.\n",
      "\n",
      "Test 21\n",
      "Question: [{'role': 'user', 'content': '요새 너무 힘들다.'}]\n"
     ]
    },
    {
     "name": "stderr",
     "output_type": "stream",
     "text": [
      "/root/home/envforir/lib/python3.10/site-packages/urllib3/connectionpool.py:1103: InsecureRequestWarning: Unverified HTTPS request is being made to host 'localhost'. Adding certificate verification is strongly advised. See: https://urllib3.readthedocs.io/en/latest/advanced-usage.html#tls-warnings\n",
      "  warnings.warn(\n",
      "/root/home/envforir/lib/python3.10/site-packages/urllib3/connectionpool.py:1103: InsecureRequestWarning: Unverified HTTPS request is being made to host 'localhost'. Adding certificate verification is strongly advised. See: https://urllib3.readthedocs.io/en/latest/advanced-usage.html#tls-warnings\n",
      "  warnings.warn(\n"
     ]
    },
    {
     "name": "stdout",
     "output_type": "stream",
     "text": [
      "Answer: 힘든 시기를 겪고 계시는군요. 스트레스가 많을 때는 규칙적인 운동, 충분한 수면, 건강한 식습관을 유지하는 것이 중요합니다. 또한, 취미 활동이나 휴식을 통해 마음의 여유를 가지는 것도 도움이 될 수 있습니다. 혼자 해결하기 어렵다면 주변 사람들과 소통하거나 전문가의 도움을 받는 것도 고려해 보세요.\n",
      "\n",
      "Test 22\n",
      "Question: [{'role': 'user', 'content': '세제의 거품이 만들어지는 원리는?'}]\n"
     ]
    },
    {
     "name": "stderr",
     "output_type": "stream",
     "text": [
      "/root/home/envforir/lib/python3.10/site-packages/urllib3/connectionpool.py:1103: InsecureRequestWarning: Unverified HTTPS request is being made to host 'localhost'. Adding certificate verification is strongly advised. See: https://urllib3.readthedocs.io/en/latest/advanced-usage.html#tls-warnings\n",
      "  warnings.warn(\n",
      "/root/home/envforir/lib/python3.10/site-packages/urllib3/connectionpool.py:1103: InsecureRequestWarning: Unverified HTTPS request is being made to host 'localhost'. Adding certificate verification is strongly advised. See: https://urllib3.readthedocs.io/en/latest/advanced-usage.html#tls-warnings\n",
      "  warnings.warn(\n"
     ]
    },
    {
     "name": "stdout",
     "output_type": "stream",
     "text": [
      "Answer: 세제의 거품이 만들어지는 원리는 세제 분자가 물과 기름을 연결하는 역할을 하여 물과 기름이 섞이게 합니다. 세제 분자의 한쪽 끝은 물을 좋아하는 친수성을 가지고 있고, 다른 한쪽 끝은 기름을 좋아하는 소수성을 가집니다. 이로 인해 세제 분자는 물과 기름 사이에 위치하여 두 물질이 섞일 수 있도록 돕습니다. 이 과정에서 물 속에 공기가 포함되어 거품이 형성됩니다. 거품은 세제 분자가 물과 공기의 경계에 배열되어 공기를 감싸는 구조를 만들어내며, 이 구조가 거품의 형태를 유지하게 합니다.\n",
      "\n",
      "Test 23\n",
      "Question: [{'role': 'user', 'content': '나무가 생태계에서 하는 역할에 대해 설명해줘.'}]\n"
     ]
    },
    {
     "name": "stderr",
     "output_type": "stream",
     "text": [
      "/root/home/envforir/lib/python3.10/site-packages/urllib3/connectionpool.py:1103: InsecureRequestWarning: Unverified HTTPS request is being made to host 'localhost'. Adding certificate verification is strongly advised. See: https://urllib3.readthedocs.io/en/latest/advanced-usage.html#tls-warnings\n",
      "  warnings.warn(\n",
      "/root/home/envforir/lib/python3.10/site-packages/urllib3/connectionpool.py:1103: InsecureRequestWarning: Unverified HTTPS request is being made to host 'localhost'. Adding certificate verification is strongly advised. See: https://urllib3.readthedocs.io/en/latest/advanced-usage.html#tls-warnings\n",
      "  warnings.warn(\n"
     ]
    },
    {
     "name": "stdout",
     "output_type": "stream",
     "text": [
      "Answer: 나무는 생태계에서 매우 중요한 역할을 합니다. 첫째, 나무는 이산화탄소를 흡수하고 산소를 방출하여 지구의 대기를 정화하는 역할을 합니다. 둘째, 나무는 다양한 동식물의 서식지를 제공하며, 이는 생물 다양성을 유지하는 데 기여합니다. 셋째, 나무는 토양 보호와 수분 조절에도 중요한 역할을 하여 홍수 방지와 같은 자연 재해를 완화하는 데 도움을 줍니다. 넷째, 나무는 목재, 과일 등 인간에게 유용한 자원을 제공합니다. 이처럼 나무는 생태계의 건강과 지속 가능성을 유지하는 데 필수적인 요소입니다.\n",
      "\n",
      "Test 24\n",
      "Question: [{'role': 'user', 'content': '전류의 흐름을 극대화 하려면 배터리와 저항을 어떻게 연결해야 하나?'}]\n"
     ]
    },
    {
     "name": "stderr",
     "output_type": "stream",
     "text": [
      "/root/home/envforir/lib/python3.10/site-packages/urllib3/connectionpool.py:1103: InsecureRequestWarning: Unverified HTTPS request is being made to host 'localhost'. Adding certificate verification is strongly advised. See: https://urllib3.readthedocs.io/en/latest/advanced-usage.html#tls-warnings\n",
      "  warnings.warn(\n",
      "/root/home/envforir/lib/python3.10/site-packages/urllib3/connectionpool.py:1103: InsecureRequestWarning: Unverified HTTPS request is being made to host 'localhost'. Adding certificate verification is strongly advised. See: https://urllib3.readthedocs.io/en/latest/advanced-usage.html#tls-warnings\n",
      "  warnings.warn(\n"
     ]
    },
    {
     "name": "stdout",
     "output_type": "stream",
     "text": [
      "Answer: 전류의 흐름을 극대화 하기 위해서는 배터리와 저항을 직렬 연결하는 것이 아니라 병렬 연결하는 것이 좋습니다. 병렬 연결은 각 저항에 동일한 전압이 인가되어 전체적인 전류가 증가하기 때문입니다. 직렬 연결의 경우 전체 저항이 증가하여 전류가 감소합니다. 따라서 전류를 극대화 하려면 저항을 병렬로 연결하세요.\n",
      "\n",
      "Test 25\n",
      "Question: [{'role': 'user', 'content': '식물이 높이 자랄 수 있게 하는 메커니즘이 궁금해.'}]\n"
     ]
    },
    {
     "name": "stderr",
     "output_type": "stream",
     "text": [
      "/root/home/envforir/lib/python3.10/site-packages/urllib3/connectionpool.py:1103: InsecureRequestWarning: Unverified HTTPS request is being made to host 'localhost'. Adding certificate verification is strongly advised. See: https://urllib3.readthedocs.io/en/latest/advanced-usage.html#tls-warnings\n",
      "  warnings.warn(\n",
      "/root/home/envforir/lib/python3.10/site-packages/urllib3/connectionpool.py:1103: InsecureRequestWarning: Unverified HTTPS request is being made to host 'localhost'. Adding certificate verification is strongly advised. See: https://urllib3.readthedocs.io/en/latest/advanced-usage.html#tls-warnings\n",
      "  warnings.warn(\n"
     ]
    },
    {
     "name": "stdout",
     "output_type": "stream",
     "text": [
      "Answer: 식물이 높이 자라는 데에는 여러 생물학적 메커니즘이 관여합니다. 주요한 요소로는 다음과 같은 것들이 있습니다:\n",
      "\n",
      "1. **광합성**: 식물의 잎에서 이루어지는 광합성을 통해 태양 에너지가 화학 에너지로 변환되어 성장에 필요한 에너지를 제공합니다.\n",
      "2. **영양분 흡수**: 뿌리를 통해 토양에서 물과 미네랄을 흡수합니다. 이 영양분들은 식물의 성장에 필수적입니다.\n",
      "3. **호르몬**: 식물 호르몬인 옥신, 지베렐린 등은 세포 분열과 세포 신장을 촉진하여 식물의 성장을 돕습니다.\n",
      "4. **세포 신장**: 식물의 줄기와 뿌리에서 세포가 길어지고 분화하면서 식물이 높이 자랄 수 있습니다.\n",
      "\n",
      "이러한 과정들이 복합적으로 작용하여 식물이 높이 자라게 됩니다.\n",
      "\n",
      "Test 26\n",
      "Question: [{'role': 'user', 'content': '달을 보면 항상 같은 면만 보이더라구'}, {'role': 'assistant', 'content': '네 맞습니다.'}, {'role': 'user', 'content': '그 이유가 뭐야?'}]\n"
     ]
    },
    {
     "name": "stderr",
     "output_type": "stream",
     "text": [
      "/root/home/envforir/lib/python3.10/site-packages/urllib3/connectionpool.py:1103: InsecureRequestWarning: Unverified HTTPS request is being made to host 'localhost'. Adding certificate verification is strongly advised. See: https://urllib3.readthedocs.io/en/latest/advanced-usage.html#tls-warnings\n",
      "  warnings.warn(\n",
      "/root/home/envforir/lib/python3.10/site-packages/urllib3/connectionpool.py:1103: InsecureRequestWarning: Unverified HTTPS request is being made to host 'localhost'. Adding certificate verification is strongly advised. See: https://urllib3.readthedocs.io/en/latest/advanced-usage.html#tls-warnings\n",
      "  warnings.warn(\n"
     ]
    },
    {
     "name": "stdout",
     "output_type": "stream",
     "text": [
      "Answer: 달이 지구를 한 바퀴 도는 데 걸리는 시간과 달 자체가 한 번 회전하는 데 걸리는 시간이 거의 같기 때문입니다. 이 현상을 '동조 회전'이라고 하며, 결과적으로 달의 한 면만이 지구에서 항상 보이게 됩니다. 이는 중력에 의해 발생하는 현상으로, 오랜 시간 동안 달의 회전 속도가 지구와 동기화되어 발생한 결과입니다.\n",
      "\n",
      "Test 27\n",
      "Question: [{'role': 'user', 'content': '식초와 베이킹 소다를 섞어주면 어떤 일이 일어나?'}]\n"
     ]
    },
    {
     "name": "stderr",
     "output_type": "stream",
     "text": [
      "/root/home/envforir/lib/python3.10/site-packages/urllib3/connectionpool.py:1103: InsecureRequestWarning: Unverified HTTPS request is being made to host 'localhost'. Adding certificate verification is strongly advised. See: https://urllib3.readthedocs.io/en/latest/advanced-usage.html#tls-warnings\n",
      "  warnings.warn(\n",
      "/root/home/envforir/lib/python3.10/site-packages/urllib3/connectionpool.py:1103: InsecureRequestWarning: Unverified HTTPS request is being made to host 'localhost'. Adding certificate verification is strongly advised. See: https://urllib3.readthedocs.io/en/latest/advanced-usage.html#tls-warnings\n",
      "  warnings.warn(\n"
     ]
    },
    {
     "name": "stdout",
     "output_type": "stream",
     "text": [
      "Answer: 식초와 베이킹 소다를 섞으면 화학 반응이 일어나서 이산화탄소 가스가 발생합니다. 이 반응은 산인 식초(아세트산)와 염기인 베이킹 소다(탄산나트륨)가 반응하여 이산화탄소 가스, 물, 그리고 염(아세테이트 나트륨)을 생성합니다. 이 과정에서 발생하는 거품은 이산화탄소 가스 때문입니다.\n",
      "\n",
      "Test 28\n",
      "Question: [{'role': 'user', 'content': '세균이 나쁜줄말 알았는데 그게 아니야?'}, {'role': 'assistant', 'content': '네 맞습니다.'}, {'role': 'user', 'content': '그럼 순기능에 대해 알려줄래?'}]\n"
     ]
    },
    {
     "name": "stderr",
     "output_type": "stream",
     "text": [
      "/root/home/envforir/lib/python3.10/site-packages/urllib3/connectionpool.py:1103: InsecureRequestWarning: Unverified HTTPS request is being made to host 'localhost'. Adding certificate verification is strongly advised. See: https://urllib3.readthedocs.io/en/latest/advanced-usage.html#tls-warnings\n",
      "  warnings.warn(\n",
      "/root/home/envforir/lib/python3.10/site-packages/urllib3/connectionpool.py:1103: InsecureRequestWarning: Unverified HTTPS request is being made to host 'localhost'. Adding certificate verification is strongly advised. See: https://urllib3.readthedocs.io/en/latest/advanced-usage.html#tls-warnings\n",
      "  warnings.warn(\n"
     ]
    },
    {
     "name": "stdout",
     "output_type": "stream",
     "text": [
      "Answer: 세균은 우리 몸과 환경에 다양한 순기능을 제공합니다. 예를 들어, 인체 내에서는 장내 세균이 소화를 돕고, 필수 영양소를 생산하며, 면역 체계를 강화하는 역할을 합니다. 또한, 환경에서는 자연 분해 과정에 기여하여 유기물을 분해하고, 토양의 비옥도를 증진시키는 등의 역할을 수행합니다. 이처럼 세균은 생태계와 인체 건강에 필수적인 요소입니다.\n",
      "\n",
      "Test 29\n",
      "Question: [{'role': 'user', 'content': '오토마톤의 특징에 대해 알려줘.'}]\n"
     ]
    },
    {
     "name": "stderr",
     "output_type": "stream",
     "text": [
      "/root/home/envforir/lib/python3.10/site-packages/urllib3/connectionpool.py:1103: InsecureRequestWarning: Unverified HTTPS request is being made to host 'localhost'. Adding certificate verification is strongly advised. See: https://urllib3.readthedocs.io/en/latest/advanced-usage.html#tls-warnings\n",
      "  warnings.warn(\n",
      "/root/home/envforir/lib/python3.10/site-packages/urllib3/connectionpool.py:1103: InsecureRequestWarning: Unverified HTTPS request is being made to host 'localhost'. Adding certificate verification is strongly advised. See: https://urllib3.readthedocs.io/en/latest/advanced-usage.html#tls-warnings\n",
      "  warnings.warn(\n"
     ]
    },
    {
     "name": "stdout",
     "output_type": "stream",
     "text": [
      "Answer: 오토마톤은 입력에 따라 상태를 변경하고, 특정 규칙에 따라 작동하는 자동 기계 또는 로봇을 말합니다. 주로 반복적이고 정해진 작업을 수행하기 위해 사용됩니다. 오토마톤은 초기 설정에 따라 자동으로 동작하며, 복잡한 계산이나 처리를 위해 프로그래밍 될 수 있습니다. 이러한 특성 때문에 제조, 엔터테인먼트, 연구 등 다양한 분야에서 활용됩니다.\n",
      "\n",
      "Test 30\n",
      "Question: [{'role': 'user', 'content': '다양한 책을 catalog화 하는 코드에서 class 정의 방법 알려줘.'}]\n"
     ]
    },
    {
     "name": "stderr",
     "output_type": "stream",
     "text": [
      "/root/home/envforir/lib/python3.10/site-packages/urllib3/connectionpool.py:1103: InsecureRequestWarning: Unverified HTTPS request is being made to host 'localhost'. Adding certificate verification is strongly advised. See: https://urllib3.readthedocs.io/en/latest/advanced-usage.html#tls-warnings\n",
      "  warnings.warn(\n",
      "/root/home/envforir/lib/python3.10/site-packages/urllib3/connectionpool.py:1103: InsecureRequestWarning: Unverified HTTPS request is being made to host 'localhost'. Adding certificate verification is strongly advised. See: https://urllib3.readthedocs.io/en/latest/advanced-usage.html#tls-warnings\n",
      "  warnings.warn(\n"
     ]
    },
    {
     "name": "stdout",
     "output_type": "stream",
     "text": [
      "Answer: 제공된 정보에는 책을 카탈로그화하는 코드에서 클래스를 정의하는 구체적인 방법이 포함되어 있지 않습니다. 따라서 구체적인 코드 예시나 클래스 정의 방법을 제공할 수 없습니다. 프로그래밍 언어나 더 구체적인 요구 사항에 대한 정보를 제공해 주시면 더 도움을 드릴 수 있을 것입니다.\n",
      "\n",
      "Test 31\n",
      "Question: [{'role': 'user', 'content': '전구가 병렬로 연결될 때 전류가 줄어드는 원인은?'}]\n"
     ]
    },
    {
     "name": "stderr",
     "output_type": "stream",
     "text": [
      "/root/home/envforir/lib/python3.10/site-packages/urllib3/connectionpool.py:1103: InsecureRequestWarning: Unverified HTTPS request is being made to host 'localhost'. Adding certificate verification is strongly advised. See: https://urllib3.readthedocs.io/en/latest/advanced-usage.html#tls-warnings\n",
      "  warnings.warn(\n",
      "/root/home/envforir/lib/python3.10/site-packages/urllib3/connectionpool.py:1103: InsecureRequestWarning: Unverified HTTPS request is being made to host 'localhost'. Adding certificate verification is strongly advised. See: https://urllib3.readthedocs.io/en/latest/advanced-usage.html#tls-warnings\n",
      "  warnings.warn(\n"
     ]
    },
    {
     "name": "stdout",
     "output_type": "stream",
     "text": [
      "Answer: 전구가 병렬로 연결될 때 전류가 줄어드는 원인은 전구의 개수가 증가함에 따라 전체 회로의 전체 저항이 감소하기 때문입니다. 병렬 연결에서는 각 전구가 독립적인 경로를 제공하므로 전류가 여러 경로로 분산되어 각 경로의 전류는 줄어들게 됩니다. 따라서 전구의 개수가 늘어날수록 각 전구에 흐르는 전류의 양은 감소하게 됩니다.\n",
      "\n",
      "Test 32\n",
      "Question: [{'role': 'user', 'content': '물속에서 침전이 발생하는 원리에 대해 알려줘.'}]\n"
     ]
    },
    {
     "name": "stderr",
     "output_type": "stream",
     "text": [
      "/root/home/envforir/lib/python3.10/site-packages/urllib3/connectionpool.py:1103: InsecureRequestWarning: Unverified HTTPS request is being made to host 'localhost'. Adding certificate verification is strongly advised. See: https://urllib3.readthedocs.io/en/latest/advanced-usage.html#tls-warnings\n",
      "  warnings.warn(\n",
      "/root/home/envforir/lib/python3.10/site-packages/urllib3/connectionpool.py:1103: InsecureRequestWarning: Unverified HTTPS request is being made to host 'localhost'. Adding certificate verification is strongly advised. See: https://urllib3.readthedocs.io/en/latest/advanced-usage.html#tls-warnings\n",
      "  warnings.warn(\n"
     ]
    },
    {
     "name": "stdout",
     "output_type": "stream",
     "text": [
      "Answer: 물속에서 침전이 발생하는 원리는 물 속에 떠다니는 입자들이 중력의 영향으로 서서히 바닥으로 가라앉는 현상입니다. 이 과정에서 물의 유동성이 감소하면 입자들이 더 오랫동안 머무르게 되고, 이로 인해 입자들이 서로 충돌하고 결합하여 더 큰 입자를 형성하게 됩니다. 이렇게 형성된 큰 입자들은 더 빠르게 가라앉아 바닥에 침전물을 형성하게 됩니다.\n",
      "\n",
      "Test 33\n",
      "Question: [{'role': 'user', 'content': '화산 폭발이 발생한 후 새로운 생물 군집이 생겨나는 것을 무엇이라 부르나?'}]\n"
     ]
    },
    {
     "name": "stderr",
     "output_type": "stream",
     "text": [
      "/root/home/envforir/lib/python3.10/site-packages/urllib3/connectionpool.py:1103: InsecureRequestWarning: Unverified HTTPS request is being made to host 'localhost'. Adding certificate verification is strongly advised. See: https://urllib3.readthedocs.io/en/latest/advanced-usage.html#tls-warnings\n",
      "  warnings.warn(\n",
      "/root/home/envforir/lib/python3.10/site-packages/urllib3/connectionpool.py:1103: InsecureRequestWarning: Unverified HTTPS request is being made to host 'localhost'. Adding certificate verification is strongly advised. See: https://urllib3.readthedocs.io/en/latest/advanced-usage.html#tls-warnings\n",
      "  warnings.warn(\n"
     ]
    },
    {
     "name": "stdout",
     "output_type": "stream",
     "text": [
      "Answer: 화산 폭발이 발생한 후 새로운 생물 군집이 생겨나는 것을 '1차 승계'라고 부릅니다.\n",
      "\n",
      "Test 34\n",
      "Question: [{'role': 'user', 'content': '축전기를 병렬로 이어주면 전체 용량이 어떻게 되는가?'}]\n"
     ]
    },
    {
     "name": "stderr",
     "output_type": "stream",
     "text": [
      "/root/home/envforir/lib/python3.10/site-packages/urllib3/connectionpool.py:1103: InsecureRequestWarning: Unverified HTTPS request is being made to host 'localhost'. Adding certificate verification is strongly advised. See: https://urllib3.readthedocs.io/en/latest/advanced-usage.html#tls-warnings\n",
      "  warnings.warn(\n",
      "/root/home/envforir/lib/python3.10/site-packages/urllib3/connectionpool.py:1103: InsecureRequestWarning: Unverified HTTPS request is being made to host 'localhost'. Adding certificate verification is strongly advised. See: https://urllib3.readthedocs.io/en/latest/advanced-usage.html#tls-warnings\n",
      "  warnings.warn(\n"
     ]
    },
    {
     "name": "stdout",
     "output_type": "stream",
     "text": [
      "Answer: 축전기를 병렬로 연결하면 각 축전기의 용량이 합산됩니다. 예를 들어, 각각 1F의 용량을 가진 축전기 두 개를 병렬로 연결하면 전체 용량은 2F가 됩니다.\n",
      "\n",
      "Test 35\n",
      "Question: [{'role': 'user', 'content': '정육면체가 가라앉지 않고 물 위에 떠 있을 때 수면 윗부분에 해당하는 부피를 구하는 방법은?'}]\n"
     ]
    },
    {
     "name": "stderr",
     "output_type": "stream",
     "text": [
      "/root/home/envforir/lib/python3.10/site-packages/urllib3/connectionpool.py:1103: InsecureRequestWarning: Unverified HTTPS request is being made to host 'localhost'. Adding certificate verification is strongly advised. See: https://urllib3.readthedocs.io/en/latest/advanced-usage.html#tls-warnings\n",
      "  warnings.warn(\n",
      "/root/home/envforir/lib/python3.10/site-packages/urllib3/connectionpool.py:1103: InsecureRequestWarning: Unverified HTTPS request is being made to host 'localhost'. Adding certificate verification is strongly advised. See: https://urllib3.readthedocs.io/en/latest/advanced-usage.html#tls-warnings\n",
      "  warnings.warn(\n"
     ]
    },
    {
     "name": "stdout",
     "output_type": "stream",
     "text": [
      "Answer: 정육면체가 물 위에 떠 있을 때 수면 위로 떠 있는 부분의 부피를 구하는 방법은 아르키메데스의 원리를 사용하는 것입니다. 이 원리에 따르면, 물체가 물에 잠긴 부분의 부피는 물체가 받는 부력과 같습니다. 물체의 전체 부피와 물에 잠긴 부분의 부피를 알면, 수면 위로 떠 있는 부분의 부피를 계산할 수 있습니다.\n",
      "\n",
      "1. 물체의 전체 부피(V_total)를 측정합니다.\n",
      "2. 물체의 무게(W)를 측정합니다.\n",
      "3. 물체가 물에 완전히 잠겼을 때의 무게를 측정하여 물의 밀도(ρ_water)와 곱하여 물에 잠긴 부분의 부피(V_submerged)를 계산합니다. 이는 W = ρ_water * V_submerged 공식을 사용합니다.\n",
      "4. 수면 위로 떠 있는 부분의 부피(V_above)는 전체 부피에서 잠긴 부분의 부피를 빼서 구합니다. 즉, V_above = V_total - V_submerged 입니다.\n",
      "\n",
      "이렇게 계산하면 정육면체가 물 위에 떠 있을 때 수면 윗부분에 해당하는 부피를 구할 수 있습니다.\n",
      "\n",
      "Test 36\n",
      "Question: [{'role': 'user', 'content': '니가 대답을 잘해줘서 너무 신나!'}]\n"
     ]
    },
    {
     "name": "stderr",
     "output_type": "stream",
     "text": [
      "/root/home/envforir/lib/python3.10/site-packages/urllib3/connectionpool.py:1103: InsecureRequestWarning: Unverified HTTPS request is being made to host 'localhost'. Adding certificate verification is strongly advised. See: https://urllib3.readthedocs.io/en/latest/advanced-usage.html#tls-warnings\n",
      "  warnings.warn(\n",
      "/root/home/envforir/lib/python3.10/site-packages/urllib3/connectionpool.py:1103: InsecureRequestWarning: Unverified HTTPS request is being made to host 'localhost'. Adding certificate verification is strongly advised. See: https://urllib3.readthedocs.io/en/latest/advanced-usage.html#tls-warnings\n",
      "  warnings.warn(\n"
     ]
    },
    {
     "name": "stdout",
     "output_type": "stream",
     "text": [
      "Answer: 정말 감사합니다! 더 궁금한 것이 있으면 언제든지 물어보세요.\n",
      "\n",
      "Test 37\n",
      "Question: [{'role': 'user', 'content': '건설 현장에서 망치로 벽을 치는 이유는?'}]\n"
     ]
    },
    {
     "name": "stderr",
     "output_type": "stream",
     "text": [
      "/root/home/envforir/lib/python3.10/site-packages/urllib3/connectionpool.py:1103: InsecureRequestWarning: Unverified HTTPS request is being made to host 'localhost'. Adding certificate verification is strongly advised. See: https://urllib3.readthedocs.io/en/latest/advanced-usage.html#tls-warnings\n",
      "  warnings.warn(\n",
      "/root/home/envforir/lib/python3.10/site-packages/urllib3/connectionpool.py:1103: InsecureRequestWarning: Unverified HTTPS request is being made to host 'localhost'. Adding certificate verification is strongly advised. See: https://urllib3.readthedocs.io/en/latest/advanced-usage.html#tls-warnings\n",
      "  warnings.warn(\n"
     ]
    },
    {
     "name": "stdout",
     "output_type": "stream",
     "text": [
      "Answer: 건설 현장에서 망치로 벽을 치는 이유는 주로 벽에 못을 박거나 구조물을 조립하는 등의 작업을 수행하기 위해서입니다. 망치는 못을 벽이나 다른 표면에 고정시키는 데 사용되며, 이는 구조물의 안정성을 확보하고 부품들을 연결하는 데 필수적인 도구입니다. 또한, 때로는 망치를 사용하여 벽면의 불필요한 부분을 제거하거나 조정하는 작업에도 사용됩니다.\n",
      "\n",
      "Test 38\n",
      "Question: [{'role': 'user', 'content': '차량의 매연이 발생하지 않게 만드는 장치가 무엇인가?'}]\n"
     ]
    },
    {
     "name": "stderr",
     "output_type": "stream",
     "text": [
      "/root/home/envforir/lib/python3.10/site-packages/urllib3/connectionpool.py:1103: InsecureRequestWarning: Unverified HTTPS request is being made to host 'localhost'. Adding certificate verification is strongly advised. See: https://urllib3.readthedocs.io/en/latest/advanced-usage.html#tls-warnings\n",
      "  warnings.warn(\n",
      "/root/home/envforir/lib/python3.10/site-packages/urllib3/connectionpool.py:1103: InsecureRequestWarning: Unverified HTTPS request is being made to host 'localhost'. Adding certificate verification is strongly advised. See: https://urllib3.readthedocs.io/en/latest/advanced-usage.html#tls-warnings\n",
      "  warnings.warn(\n"
     ]
    },
    {
     "name": "stdout",
     "output_type": "stream",
     "text": [
      "Answer: 차량의 매연을 줄이기 위해 사용되는 장치는 촉매 변환기입니다. 이 장치는 자동차 배기가스에서 탄화수소와 산화물을 제거하는 역할을 하여 스모그의 생성을 감소시키고 대기 오염을 줄이는 데 도움을 줍니다.\n",
      "\n",
      "Test 39\n",
      "Question: [{'role': 'user', 'content': 'python에서 lambda 함수를 언제 사용할 수 있어?'}]\n"
     ]
    },
    {
     "name": "stderr",
     "output_type": "stream",
     "text": [
      "/root/home/envforir/lib/python3.10/site-packages/urllib3/connectionpool.py:1103: InsecureRequestWarning: Unverified HTTPS request is being made to host 'localhost'. Adding certificate verification is strongly advised. See: https://urllib3.readthedocs.io/en/latest/advanced-usage.html#tls-warnings\n",
      "  warnings.warn(\n",
      "/root/home/envforir/lib/python3.10/site-packages/urllib3/connectionpool.py:1103: InsecureRequestWarning: Unverified HTTPS request is being made to host 'localhost'. Adding certificate verification is strongly advised. See: https://urllib3.readthedocs.io/en/latest/advanced-usage.html#tls-warnings\n",
      "  warnings.warn(\n"
     ]
    },
    {
     "name": "stdout",
     "output_type": "stream",
     "text": [
      "Answer: 파이썬에서 lambda 함수는 간단한 익명 함수를 만들 수 있는 기능입니다. 예를 들어, `r = lambda q: q * 2`라고 할 때, `r(3)`은 6이 됩니다. 이는 입력값인 3을 2배로 곱한 결과를 반환하는 함수입니다. lambda 함수는 한 줄로 간결하게 작성할 수 있어서 코드의 가독성을 높일 수 있습니다. 파이썬에서는 lambda 함수를 자주 사용하여 간단한 연산이나 필터링 작업을 수행할 수 있습니다.\n",
      "\n",
      "Test 40\n",
      "Question: [{'role': 'user', 'content': '강이나 바다의 물이 증발하는 가장 중요한 원인은?'}]\n"
     ]
    },
    {
     "name": "stderr",
     "output_type": "stream",
     "text": [
      "/root/home/envforir/lib/python3.10/site-packages/urllib3/connectionpool.py:1103: InsecureRequestWarning: Unverified HTTPS request is being made to host 'localhost'. Adding certificate verification is strongly advised. See: https://urllib3.readthedocs.io/en/latest/advanced-usage.html#tls-warnings\n",
      "  warnings.warn(\n",
      "/root/home/envforir/lib/python3.10/site-packages/urllib3/connectionpool.py:1103: InsecureRequestWarning: Unverified HTTPS request is being made to host 'localhost'. Adding certificate verification is strongly advised. See: https://urllib3.readthedocs.io/en/latest/advanced-usage.html#tls-warnings\n",
      "  warnings.warn(\n"
     ]
    },
    {
     "name": "stdout",
     "output_type": "stream",
     "text": [
      "Answer: 강이나 바다의 물이 증발하는 가장 중요한 원인은 태양에 의한 열에너지입니다. 태양의 열로 인해 물이 가열되어 기화되고, 이 과정에서 물은 기체 상태인 수증기로 변하여 대기 중으로 증발합니다. 이러한 증발 과정은 지구의 수자원 순환에 중요한 역할을 합니다.\n",
      "\n",
      "Test 41\n",
      "Question: [{'role': 'user', 'content': '남녀 관계에서 정서적인 행동이 왜 중요해?'}]\n"
     ]
    },
    {
     "name": "stderr",
     "output_type": "stream",
     "text": [
      "/root/home/envforir/lib/python3.10/site-packages/urllib3/connectionpool.py:1103: InsecureRequestWarning: Unverified HTTPS request is being made to host 'localhost'. Adding certificate verification is strongly advised. See: https://urllib3.readthedocs.io/en/latest/advanced-usage.html#tls-warnings\n",
      "  warnings.warn(\n",
      "/root/home/envforir/lib/python3.10/site-packages/urllib3/connectionpool.py:1103: InsecureRequestWarning: Unverified HTTPS request is being made to host 'localhost'. Adding certificate verification is strongly advised. See: https://urllib3.readthedocs.io/en/latest/advanced-usage.html#tls-warnings\n",
      "  warnings.warn(\n"
     ]
    },
    {
     "name": "stdout",
     "output_type": "stream",
     "text": [
      "Answer: 남녀 관계에서 정서적인 행동이 중요한 이유는 여러 가지가 있습니다. 정서적인 행동은 서로에 대한 신뢰와 이해를 증진시키고, 감정적 지지를 제공하여 관계의 안정성과 만족도를 높일 수 있습니다. 또한, 정서적인 교류는 갈등 해결에도 도움을 주며, 서로의 감정을 공유하고 이해함으로써 더 깊은 유대감을 형성하는 데 기여합니다. 따라서, 정서적인 행동은 남녀 관계에서 매우 중요한 역할을 합니다.\n",
      "\n",
      "Test 42\n",
      "Question: [{'role': 'user', 'content': 'DNA 조각들이 서로 결합되도록 돕는 것은?'}]\n"
     ]
    },
    {
     "name": "stderr",
     "output_type": "stream",
     "text": [
      "/root/home/envforir/lib/python3.10/site-packages/urllib3/connectionpool.py:1103: InsecureRequestWarning: Unverified HTTPS request is being made to host 'localhost'. Adding certificate verification is strongly advised. See: https://urllib3.readthedocs.io/en/latest/advanced-usage.html#tls-warnings\n",
      "  warnings.warn(\n",
      "/root/home/envforir/lib/python3.10/site-packages/urllib3/connectionpool.py:1103: InsecureRequestWarning: Unverified HTTPS request is being made to host 'localhost'. Adding certificate verification is strongly advised. See: https://urllib3.readthedocs.io/en/latest/advanced-usage.html#tls-warnings\n",
      "  warnings.warn(\n"
     ]
    },
    {
     "name": "stdout",
     "output_type": "stream",
     "text": [
      "Answer: DNA 조각들이 서로 결합되도록 돕는 것은 효소인 리가제입니다. 리가제는 DNA 조각들 사이의 인산디에스터 결합을 형성하여 DNA를 연결하는 역할을 합니다. 이 과정은 DNA 복제, 수리, 그리고 유전자 재조합 기술에서 중요한 단계입니다.\n",
      "\n",
      "Test 43\n",
      "Question: [{'role': 'user', 'content': '해가 뜨는 현상이 지구의 자전과 관련있어?'}]\n"
     ]
    },
    {
     "name": "stderr",
     "output_type": "stream",
     "text": [
      "/root/home/envforir/lib/python3.10/site-packages/urllib3/connectionpool.py:1103: InsecureRequestWarning: Unverified HTTPS request is being made to host 'localhost'. Adding certificate verification is strongly advised. See: https://urllib3.readthedocs.io/en/latest/advanced-usage.html#tls-warnings\n",
      "  warnings.warn(\n",
      "/root/home/envforir/lib/python3.10/site-packages/urllib3/connectionpool.py:1103: InsecureRequestWarning: Unverified HTTPS request is being made to host 'localhost'. Adding certificate verification is strongly advised. See: https://urllib3.readthedocs.io/en/latest/advanced-usage.html#tls-warnings\n",
      "  warnings.warn(\n"
     ]
    },
    {
     "name": "stdout",
     "output_type": "stream",
     "text": [
      "Answer: 네, 해가 뜨는 현상은 지구의 자전과 관련이 있습니다. 지구는 자신의 축을 중심으로 24시간 동안 한 바퀴 돌면서 자전합니다. 이 자전으로 인해 태양이 동쪽에서 떠서 서쪽으로 지는 것처럼 보이는 현상이 발생합니다. 따라서 해가 뜨고 지는 것은 지구의 자전 때문에 일어나는 자연 현상입니다.\n",
      "\n",
      "Test 44\n",
      "Question: [{'role': 'user', 'content': '두 물질이 다른 분자구조나 화학적인 성분으로 이루어져 있다는 것을 어떻게 알 수 있나요?'}]\n"
     ]
    },
    {
     "name": "stderr",
     "output_type": "stream",
     "text": [
      "/root/home/envforir/lib/python3.10/site-packages/urllib3/connectionpool.py:1103: InsecureRequestWarning: Unverified HTTPS request is being made to host 'localhost'. Adding certificate verification is strongly advised. See: https://urllib3.readthedocs.io/en/latest/advanced-usage.html#tls-warnings\n",
      "  warnings.warn(\n",
      "/root/home/envforir/lib/python3.10/site-packages/urllib3/connectionpool.py:1103: InsecureRequestWarning: Unverified HTTPS request is being made to host 'localhost'. Adding certificate verification is strongly advised. See: https://urllib3.readthedocs.io/en/latest/advanced-usage.html#tls-warnings\n",
      "  warnings.warn(\n"
     ]
    },
    {
     "name": "stdout",
     "output_type": "stream",
     "text": [
      "Answer: 두 물질이 다른 분자구조나 화학적 성분을 가지고 있는지 알아보기 위해 여러 방법이 사용될 수 있습니다. 가장 흔히 사용되는 방법 중 하나는 적외선 분광학(IR 분광학)입니다. 이 방법은 물질이 특정 파장의 적외선을 흡수하는 방식을 분석하여, 그 물질의 분자 구조와 화학적 성분을 파악할 수 있게 해줍니다. 또한, 물질이 빛에 대해 어떻게 반응하는지를 관찰하는 것도 하나의 방법이 될 수 있습니다. 서로 다른 물질은 빛에 대한 반응성이 다르기 때문에, 이를 통해 물질의 성질을 구별할 수 있습니다.\n",
      "\n",
      "Test 45\n",
      "Question: [{'role': 'user', 'content': '수성이 뜨거운 이유는?'}]\n"
     ]
    },
    {
     "name": "stderr",
     "output_type": "stream",
     "text": [
      "/root/home/envforir/lib/python3.10/site-packages/urllib3/connectionpool.py:1103: InsecureRequestWarning: Unverified HTTPS request is being made to host 'localhost'. Adding certificate verification is strongly advised. See: https://urllib3.readthedocs.io/en/latest/advanced-usage.html#tls-warnings\n",
      "  warnings.warn(\n",
      "/root/home/envforir/lib/python3.10/site-packages/urllib3/connectionpool.py:1103: InsecureRequestWarning: Unverified HTTPS request is being made to host 'localhost'. Adding certificate verification is strongly advised. See: https://urllib3.readthedocs.io/en/latest/advanced-usage.html#tls-warnings\n",
      "  warnings.warn(\n"
     ]
    },
    {
     "name": "stdout",
     "output_type": "stream",
     "text": [
      "Answer: 수성이 뜨거운 이유는 태양에 매우 가까이 위치해 있기 때문입니다. 수성의 표면 온도는 태양에 가까운 면에서는 약 465°C까지 상승하고, 반대편 면에서는 약 -180°C까지 떨어집니다. 이렇게 극단적인 온도 차이는 수성이 대기가 거의 없어 열을 유지하거나 분산시키는 능력이 부족하기 때문입니다. 또한, 수성이 태양에 가까워질수록 태양으로부터 받는 복사 에너지가 증가하여 표면 온도가 더욱 상승합니다.\n",
      "\n",
      "Test 46\n",
      "Question: [{'role': 'user', 'content': '하구 퇴적지의 기능에 대해 알려줘.'}]\n"
     ]
    },
    {
     "name": "stderr",
     "output_type": "stream",
     "text": [
      "/root/home/envforir/lib/python3.10/site-packages/urllib3/connectionpool.py:1103: InsecureRequestWarning: Unverified HTTPS request is being made to host 'localhost'. Adding certificate verification is strongly advised. See: https://urllib3.readthedocs.io/en/latest/advanced-usage.html#tls-warnings\n",
      "  warnings.warn(\n",
      "/root/home/envforir/lib/python3.10/site-packages/urllib3/connectionpool.py:1103: InsecureRequestWarning: Unverified HTTPS request is being made to host 'localhost'. Adding certificate verification is strongly advised. See: https://urllib3.readthedocs.io/en/latest/advanced-usage.html#tls-warnings\n",
      "  warnings.warn(\n"
     ]
    },
    {
     "name": "stdout",
     "output_type": "stream",
     "text": [
      "Answer: 하구 퇴적지는 많은 종이 알을 낳고 새끼를 키우는 곳으로 알려져 있습니다. 이러한 곳은 바다의 보호원으로 불리며, 많은 생물들에게 안전한 은신처를 제공합니다. 하구 퇴적지는 풍부한 은신처를 가지고 있어 다양한 해양 생물들이 서식할 수 있습니다. 또한, 하구 퇴적지는 영양분이 풍부하여 생물들이 영양을 공급받을 수 있습니다. 이러한 특징들이 하구 퇴적지가 바다의 보호원 역할을 가장 잘 뒷받침하는 이유입니다.\n",
      "\n",
      "Test 47\n",
      "Question: [{'role': 'user', 'content': '디엔에이에서 퓨린과 피리미딘은 어떤 비율로 존재하는가?'}]\n"
     ]
    },
    {
     "name": "stderr",
     "output_type": "stream",
     "text": [
      "/root/home/envforir/lib/python3.10/site-packages/urllib3/connectionpool.py:1103: InsecureRequestWarning: Unverified HTTPS request is being made to host 'localhost'. Adding certificate verification is strongly advised. See: https://urllib3.readthedocs.io/en/latest/advanced-usage.html#tls-warnings\n",
      "  warnings.warn(\n",
      "/root/home/envforir/lib/python3.10/site-packages/urllib3/connectionpool.py:1103: InsecureRequestWarning: Unverified HTTPS request is being made to host 'localhost'. Adding certificate verification is strongly advised. See: https://urllib3.readthedocs.io/en/latest/advanced-usage.html#tls-warnings\n",
      "  warnings.warn(\n"
     ]
    },
    {
     "name": "stdout",
     "output_type": "stream",
     "text": [
      "Answer: DNA에서 퓨린과 피리미딘은 항상 1:1의 비율로 존재합니다. 이는 DNA의 구조와 기능을 유지하는 데 중요한 역할을 합니다. 퓨린과 피리미딘은 DNA 염기쌍을 형성할 때, 아데닌(퓨린)은 티민(피리미딘)과, 구아닌(퓨린)은 사이토신(피리미딘)과 각각 쌍을 이루어 연결됩니다. 이러한 염기쌍 규칙이 DNA의 이중 나선 구조를 가능하게 하며, 유전 정보의 정확한 복제와 전달에 필수적입니다.\n",
      "\n",
      "Test 48\n",
      "Question: [{'role': 'user', 'content': 'interferon의 역할에 대해 알려줘.'}]\n"
     ]
    },
    {
     "name": "stderr",
     "output_type": "stream",
     "text": [
      "/root/home/envforir/lib/python3.10/site-packages/urllib3/connectionpool.py:1103: InsecureRequestWarning: Unverified HTTPS request is being made to host 'localhost'. Adding certificate verification is strongly advised. See: https://urllib3.readthedocs.io/en/latest/advanced-usage.html#tls-warnings\n",
      "  warnings.warn(\n",
      "/root/home/envforir/lib/python3.10/site-packages/urllib3/connectionpool.py:1103: InsecureRequestWarning: Unverified HTTPS request is being made to host 'localhost'. Adding certificate verification is strongly advised. See: https://urllib3.readthedocs.io/en/latest/advanced-usage.html#tls-warnings\n",
      "  warnings.warn(\n"
     ]
    },
    {
     "name": "stdout",
     "output_type": "stream",
     "text": [
      "Answer: 인터페론은 바이러스 감염에 대응하는 면역 체계의 중요한 부분입니다. 바이러스에 감염된 세포가 인터페론을 생성하면, 이는 주변의 건강한 세포에 신호를 보내어 바이러스의 복제를 억제하는 단백질을 생성하도록 합니다. 이 과정을 통해 인터페론은 바이러스의 확산을 막고, 면역 체계가 감염을 효과적으로 제거할 수 있도록 돕습니다. 또한, 인터페론은 암 세포의 성장을 억제하고, 면역 반응을 조절하는 역할도 합니다.\n",
      "\n",
      "Test 49\n",
      "Question: [{'role': 'user', 'content': '하나의 유전자에서 여러가지 단백질이 만들어질 수 있는 원인은?'}]\n"
     ]
    },
    {
     "name": "stderr",
     "output_type": "stream",
     "text": [
      "/root/home/envforir/lib/python3.10/site-packages/urllib3/connectionpool.py:1103: InsecureRequestWarning: Unverified HTTPS request is being made to host 'localhost'. Adding certificate verification is strongly advised. See: https://urllib3.readthedocs.io/en/latest/advanced-usage.html#tls-warnings\n",
      "  warnings.warn(\n",
      "/root/home/envforir/lib/python3.10/site-packages/urllib3/connectionpool.py:1103: InsecureRequestWarning: Unverified HTTPS request is being made to host 'localhost'. Adding certificate verification is strongly advised. See: https://urllib3.readthedocs.io/en/latest/advanced-usage.html#tls-warnings\n",
      "  warnings.warn(\n"
     ]
    },
    {
     "name": "stdout",
     "output_type": "stream",
     "text": [
      "Answer: 하나의 유전자에서 여러 가지 단백질이 만들어질 수 있는 원인은 '선택적 RNA 스플라이싱' 때문입니다. 이 과정에서 하나의 전사된 RNA가 다양한 방식으로 잘리고 재조합되어 여러 종류의 mRNA가 생성됩니다. 이렇게 생성된 다양한 mRNA는 각각 다른 단백질을 만들어내어 유전자의 다양성과 기능적 복잡성을 증가시킵니다.\n",
      "\n",
      "Test 50\n",
      "Question: [{'role': 'user', 'content': '질산을 통한 염화물 침전시 염소의 비율을 구하는 방법은?'}]\n"
     ]
    },
    {
     "name": "stderr",
     "output_type": "stream",
     "text": [
      "/root/home/envforir/lib/python3.10/site-packages/urllib3/connectionpool.py:1103: InsecureRequestWarning: Unverified HTTPS request is being made to host 'localhost'. Adding certificate verification is strongly advised. See: https://urllib3.readthedocs.io/en/latest/advanced-usage.html#tls-warnings\n",
      "  warnings.warn(\n",
      "/root/home/envforir/lib/python3.10/site-packages/urllib3/connectionpool.py:1103: InsecureRequestWarning: Unverified HTTPS request is being made to host 'localhost'. Adding certificate verification is strongly advised. See: https://urllib3.readthedocs.io/en/latest/advanced-usage.html#tls-warnings\n",
      "  warnings.warn(\n"
     ]
    },
    {
     "name": "stdout",
     "output_type": "stream",
     "text": [
      "Answer: 질산을 이용한 염화물 침전시 염소의 비율을 구하는 방법은 다음과 같습니다. 먼저, 염화물 시료를 물에 용해시킨 후 질산은은(AgNO3)을 첨가하여 염화은(AgCl) 침전을 생성시킵니다. 생성된 AgCl의 질량을 측정한 후, 염소(Cl)의 몰 질량을 이용하여 염소의 질량을 계산합니다. 계산된 염소의 질량을 원래 시료의 질량으로 나누어 백분율로 표현하면 염소의 비율을 구할 수 있습니다.\n",
      "\n",
      "예를 들어, 2.35g의 시료에서 0.435g의 AgCl이 생성되었다면, AgCl의 몰 질량(143.32 g/mol)과 염소의 몰 질량(35.45 g/mol)을 사용하여 염소의 질량을 계산할 수 있습니다. 계산 결과, 염소의 질량은 0.107g이 되며, 이를 시료의 질량으로 나누어 백분율로 환산하면 염소의 비율은 약 4.60%가 됩니다.\n",
      "\n",
      "Test 51\n",
      "Question: [{'role': 'user', 'content': '이제 그만 얘기해!'}]\n"
     ]
    },
    {
     "name": "stderr",
     "output_type": "stream",
     "text": [
      "/root/home/envforir/lib/python3.10/site-packages/urllib3/connectionpool.py:1103: InsecureRequestWarning: Unverified HTTPS request is being made to host 'localhost'. Adding certificate verification is strongly advised. See: https://urllib3.readthedocs.io/en/latest/advanced-usage.html#tls-warnings\n",
      "  warnings.warn(\n",
      "/root/home/envforir/lib/python3.10/site-packages/urllib3/connectionpool.py:1103: InsecureRequestWarning: Unverified HTTPS request is being made to host 'localhost'. Adding certificate verification is strongly advised. See: https://urllib3.readthedocs.io/en/latest/advanced-usage.html#tls-warnings\n",
      "  warnings.warn(\n"
     ]
    },
    {
     "name": "stdout",
     "output_type": "stream",
     "text": [
      "Answer: 알겠습니다, 더 이상 얘기하지 않겠습니다.\n",
      "\n",
      "Test 52\n",
      "Question: [{'role': 'user', 'content': '오늘 너무 즐거웠다!'}]\n"
     ]
    },
    {
     "name": "stderr",
     "output_type": "stream",
     "text": [
      "/root/home/envforir/lib/python3.10/site-packages/urllib3/connectionpool.py:1103: InsecureRequestWarning: Unverified HTTPS request is being made to host 'localhost'. Adding certificate verification is strongly advised. See: https://urllib3.readthedocs.io/en/latest/advanced-usage.html#tls-warnings\n",
      "  warnings.warn(\n",
      "/root/home/envforir/lib/python3.10/site-packages/urllib3/connectionpool.py:1103: InsecureRequestWarning: Unverified HTTPS request is being made to host 'localhost'. Adding certificate verification is strongly advised. See: https://urllib3.readthedocs.io/en/latest/advanced-usage.html#tls-warnings\n",
      "  warnings.warn(\n"
     ]
    },
    {
     "name": "stdout",
     "output_type": "stream",
     "text": [
      "Answer: 즐거운 시간 보내셨다니 정말 좋네요! 무엇을 하셨는지 궁금합니다.\n",
      "\n",
      "Test 53\n",
      "Question: [{'role': 'user', 'content': '우울한데 신나는 얘기 좀 해줘!'}]\n"
     ]
    },
    {
     "name": "stderr",
     "output_type": "stream",
     "text": [
      "/root/home/envforir/lib/python3.10/site-packages/urllib3/connectionpool.py:1103: InsecureRequestWarning: Unverified HTTPS request is being made to host 'localhost'. Adding certificate verification is strongly advised. See: https://urllib3.readthedocs.io/en/latest/advanced-usage.html#tls-warnings\n",
      "  warnings.warn(\n",
      "/root/home/envforir/lib/python3.10/site-packages/urllib3/connectionpool.py:1103: InsecureRequestWarning: Unverified HTTPS request is being made to host 'localhost'. Adding certificate verification is strongly advised. See: https://urllib3.readthedocs.io/en/latest/advanced-usage.html#tls-warnings\n",
      "  warnings.warn(\n"
     ]
    },
    {
     "name": "stdout",
     "output_type": "stream",
     "text": [
      "Answer: 우울할 때 듣기 좋은 신나는 이야기로는 우주에 대한 이야기가 있어요. 예를 들어, 플레이아데스 별자리는 정말 아름다운 별들로 이루어져 있어요. 이 별자리는 일곱 개의 밝은 별로 유명하며, 그 중 하나인 플레이아데스는 우리 은하에서 가장 가까운 별 군집 중 하나예요. 밤하늘에서 이 별들을 보면 정말 마법 같은 느낌을 받을 수 있어요. 이런 신비로운 우주의 모습은 우리의 일상에 새로운 상상력과 꿈을 불어넣어 줄 수 있습니다.\n",
      "\n",
      "Test 54\n",
      "Question: [{'role': 'user', 'content': '연구자가 갖추어야 할 태도와 자세가 뭘까?'}]\n"
     ]
    },
    {
     "name": "stderr",
     "output_type": "stream",
     "text": [
      "/root/home/envforir/lib/python3.10/site-packages/urllib3/connectionpool.py:1103: InsecureRequestWarning: Unverified HTTPS request is being made to host 'localhost'. Adding certificate verification is strongly advised. See: https://urllib3.readthedocs.io/en/latest/advanced-usage.html#tls-warnings\n",
      "  warnings.warn(\n",
      "/root/home/envforir/lib/python3.10/site-packages/urllib3/connectionpool.py:1103: InsecureRequestWarning: Unverified HTTPS request is being made to host 'localhost'. Adding certificate verification is strongly advised. See: https://urllib3.readthedocs.io/en/latest/advanced-usage.html#tls-warnings\n",
      "  warnings.warn(\n"
     ]
    },
    {
     "name": "stdout",
     "output_type": "stream",
     "text": [
      "Answer: 연구자가 갖추어야 할 태도와 자세는 다음과 같습니다:\n",
      "\n",
      "1. 호기심과 탐구정신: 새로운 지식을 발견하고자 하는 강한 동기와 호기심이 필요합니다.\n",
      "2. 비판적 사고: 제시된 정보와 데이터를 비판적으로 분석하고 평가할 수 있는 능력이 중요합니다.\n",
      "3. 정직과 투명성: 연구 과정과 결과에 있어 정직하고 투명하게 행동해야 합니다.\n",
      "4. 인내심과 끈기: 연구는 종종 시간이 많이 소요되고 실패를 경험할 수 있으므로 인내심과 끈기가 필수적입니다.\n",
      "5. 개방성과 협력: 다른 연구자들과의 협력을 통해 아이디어를 교류하고 공동 연구를 수행하는 개방성이 요구됩니다.\n",
      "6. 윤리적 책임감: 연구 활동을 수행함에 있어 윤리적 기준을 준수해야 합니다.\n",
      "\n",
      "이러한 태도와 자세는 연구자로서의 성공뿐만 아니라 과학 커뮤니티 전체의 신뢰성과 진보에 기여합니다.\n",
      "\n",
      "Test 55\n",
      "Question: [{'role': 'user', 'content': '나이가 들수록 시간이 더 빨리 가는 것 처럼 느끼게 되는 원인은?'}]\n"
     ]
    },
    {
     "name": "stderr",
     "output_type": "stream",
     "text": [
      "/root/home/envforir/lib/python3.10/site-packages/urllib3/connectionpool.py:1103: InsecureRequestWarning: Unverified HTTPS request is being made to host 'localhost'. Adding certificate verification is strongly advised. See: https://urllib3.readthedocs.io/en/latest/advanced-usage.html#tls-warnings\n",
      "  warnings.warn(\n",
      "/root/home/envforir/lib/python3.10/site-packages/urllib3/connectionpool.py:1103: InsecureRequestWarning: Unverified HTTPS request is being made to host 'localhost'. Adding certificate verification is strongly advised. See: https://urllib3.readthedocs.io/en/latest/advanced-usage.html#tls-warnings\n",
      "  warnings.warn(\n"
     ]
    },
    {
     "name": "stdout",
     "output_type": "stream",
     "text": [
      "Answer: 나이가 들수록 시간이 더 빨리 가는 것처럼 느껴지는 원인은 여러 가지가 있습니다. 첫째, 새로운 경험의 감소로 인해 시간이 빠르게 흐르는 것처럼 느껴질 수 있습니다. 젊었을 때는 새로운 경험과 변화가 많지만, 나이가 들면서 일상이 반복되고 변화가 적어져서 시간이 빨리 지나가는 것처럼 느껴집니다. 둘째, 인지 기능의 변화로 인해 시간 인식에 영향을 받을 수 있습니다. 나이가 들면서 기억력이나 인지 속도가 느려질 수 있고, 이로 인해 시간의 흐름을 다르게 인식하게 됩니다. 이 외에도 여러 심리적, 생리적 변화가 복합적으로 작용하여 시간이 빠르게 흐르는 것처럼 느끼게 됩니다.\n",
      "\n",
      "Test 56\n",
      "Question: [{'role': 'user', 'content': '퇴직한 사람들에게 사회 보장은 어떤 의미인가?'}]\n"
     ]
    }
   ],
   "source": [
    "# 평가 데이터에 대해서 결과 생성 - 파일 포맷은 jsonl이지만 파일명은 csv 사용\n",
    "eval_rag(\"/data/ephemeral/home/upstage-ai-final-ir2/HM/data/eval.jsonl\", \"sample_submission_4.csv\")"
   ]
  },
  {
   "cell_type": "code",
   "execution_count": null,
   "metadata": {},
   "outputs": [],
   "source": []
  }
 ],
 "metadata": {
  "kernelspec": {
   "display_name": "envforir",
   "language": "python",
   "name": "python3"
  },
  "language_info": {
   "codemirror_mode": {
    "name": "ipython",
    "version": 3
   },
   "file_extension": ".py",
   "mimetype": "text/x-python",
   "name": "python",
   "nbconvert_exporter": "python",
   "pygments_lexer": "ipython3",
   "version": "3.10.13"
  }
 },
 "nbformat": 4,
 "nbformat_minor": 2
}
