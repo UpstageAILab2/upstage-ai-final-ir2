{
 "cells": [
  {
   "cell_type": "code",
   "execution_count": 1,
   "metadata": {},
   "outputs": [
    {
     "data": {
      "text/plain": [
       "'/root/home/envforir/bin/python'"
      ]
     },
     "execution_count": 1,
     "metadata": {},
     "output_type": "execute_result"
    }
   ],
   "source": [
    "import sys\n",
    "sys.executable"
   ]
  },
  {
   "cell_type": "code",
   "execution_count": 2,
   "metadata": {},
   "outputs": [],
   "source": [
    "# # 데몬 인스턴스 만들기 \n",
    "import os\n",
    "import json\n",
    "from elasticsearch import Elasticsearch, helpers\n",
    "from subprocess import Popen, PIPE, STDOUT"
   ]
  },
  {
   "cell_type": "code",
   "execution_count": 3,
   "metadata": {},
   "outputs": [
    {
     "name": "stderr",
     "output_type": "stream",
     "text": [
      "/root/home/envforir/lib/python3.10/site-packages/elasticsearch/_sync/client/__init__.py:395: SecurityWarning: Connecting to 'https://localhost:9200' using TLS with verify_certs=False is insecure\n",
      "  _transport = transport_class(\n",
      "/root/home/envforir/lib/python3.10/site-packages/urllib3/connectionpool.py:1103: InsecureRequestWarning: Unverified HTTPS request is being made to host 'localhost'. Adding certificate verification is strongly advised. See: https://urllib3.readthedocs.io/en/latest/advanced-usage.html#tls-warnings\n",
      "  warnings.warn(\n"
     ]
    },
    {
     "data": {
      "text/plain": [
       "ObjectApiResponse({'name': 'instance-8909', 'cluster_name': 'elasticsearch', 'cluster_uuid': 'r4Ih9u1sTfKbhPDz61kqLQ', 'version': {'number': '8.8.0', 'build_flavor': 'default', 'build_type': 'tar', 'build_hash': 'c01029875a091076ed42cdb3a41c10b1a9a5a20f', 'build_date': '2023-05-23T17:16:07.179039820Z', 'build_snapshot': False, 'lucene_version': '9.6.0', 'minimum_wire_compatibility_version': '7.17.0', 'minimum_index_compatibility_version': '7.0.0'}, 'tagline': 'You Know, for Search'})"
      ]
     },
     "execution_count": 3,
     "metadata": {},
     "output_type": "execute_result"
    }
   ],
   "source": [
    "es_username = 'elastic'\n",
    "es_password = 'tYlfsjnZ_OGLcM81_aU2'\n",
    "\n",
    "# ElasticSearch Client 생성 \n",
    "es = Elasticsearch(['https://localhost:9200'], basic_auth=(es_username, es_password), ca_certs=\"/data/ephemeral/home/upstage-ai-final-ir2/HM/elasticsearch-8.8.0/config/certs/http_ca.crt\", verify_certs=False)\n",
    "# CA 인증서 경로 지정\n",
    "\n",
    "# ElasticSearch Client 정보 확인 \n",
    "es.info()"
   ]
  },
  {
   "cell_type": "code",
   "execution_count": 4,
   "metadata": {},
   "outputs": [
    {
     "name": "stdout",
     "output_type": "stream",
     "text": [
      "iruser    896724       1 99 23:25 pts/16   00:00:53 /home/iruser/elasticsearch-8.8.0/jdk/bin/java -Des.networkaddress.cache.ttl=60 -Des.networkaddress.cache.negative.ttl=10 -Djava.security.manager=allow -XX:+AlwaysPreTouch -Xss1m -Djava.awt.headless=true -Dfile.encoding=UTF-8 -Djna.nosys=true -XX:-OmitStackTraceInFastThrow -Dio.netty.noUnsafe=true -Dio.netty.noKeySetOptimization=true -Dio.netty.recycler.maxCapacityPerThread=0 -Dlog4j.shutdownHookEnabled=false -Dlog4j2.disable.jmx=true -Dlog4j2.formatMsgNoLookups=true -Djava.locale.providers=SPI,COMPAT --add-opens=java.base/java.io=org.elasticsearch.preallocate -XX:+UseG1GC -Djava.io.tmpdir=/tmp/elasticsearch-1671164173185419744 -XX:+HeapDumpOnOutOfMemoryError -XX:+ExitOnOutOfMemoryError -XX:HeapDumpPath=data -XX:ErrorFile=logs/hs_err_pid%p.log -Xlog:gc*,gc+age=trace,safepoint:file=logs/gc.log:utctime,level,pid,tags:filecount=32,filesize=64m -Xms30720m -Xmx30720m -XX:MaxDirectMemorySize=16106127360 -XX:InitiatingHeapOccupancyPercent=30 -XX:G1ReservePercent=25 -Des.distribution.type=tar --module-path /home/iruser/elasticsearch-8.8.0/lib --add-modules=jdk.net --add-modules=org.elasticsearch.preallocate -m org.elasticsearch.server/org.elasticsearch.bootstrap.Elasticsearch\n",
      "iruser    896771  896724  0 23:25 pts/16   00:00:00 /home/iruser/elasticsearch-8.8.0/modules/x-pack-ml/platform/linux-x86_64/bin/controller\n",
      "root      897022  896450  6 23:26 pts/18   00:00:00 /bin/bash -c ps -ef | grep elasticsearch\n",
      "root      897024  897022  0 23:26 pts/18   00:00:00 grep elasticsearch\n"
     ]
    }
   ],
   "source": [
    "# 데몬 구동 확인 \n",
    "!ps -ef | grep elasticsearch"
   ]
  },
  {
   "cell_type": "markdown",
   "metadata": {},
   "source": [
    "# 검색함수"
   ]
  },
  {
   "cell_type": "code",
   "execution_count": 7,
   "metadata": {},
   "outputs": [],
   "source": [
    "# 역색인을 이용한 검색 \n",
    "def sparse_retrieve(query_str, size):\n",
    "    query = { \"match\": {\"content\": {\"query\": query_str}}}\n",
    "    return es.search(index='test', query=query, size=size, sort='_score')\n",
    "#>> query_str: 검색어\n",
    "#>> size: 검색 결과 개수 \n",
    "#>> 'test' 인덱스에서 정의된 쿼리를 실행 -> 검색 결과를 size개 만큼 반환 "
   ]
  },
  {
   "cell_type": "code",
   "execution_count": 18,
   "metadata": {},
   "outputs": [],
   "source": [
    "# dense_retrieve_2: sparse_retrieve 함수로 필터링된 문서들에 대해서만 유사도 검색\n",
    "# dense_retrieve_2: sparse_retrieve 함수로 필터링된 문서들에 대해서만 유사도 검색\n",
    "def dense_retrieve_2(query_str, documents, size):\n",
    "    query_embedding = get_embedding(query_str)  # 리스트로 감싸지 않음\n",
    "    document_ids = [doc['_id'] for doc in documents]\n",
    "    \n",
    "    # docid와 _id의 매핑 생성\n",
    "    id_to_docid = {doc['_id']: doc['_source']['docid'] for doc in documents}\n",
    "\n",
    "    body = {\n",
    "        \"_source\": {\"includes\": [\"content\", \"embeddings\"]},\n",
    "        \"query\": {\n",
    "            \"bool\": {\n",
    "                \"must\": [\n",
    "                    {\n",
    "                        \"ids\": {\n",
    "                            \"values\": document_ids\n",
    "                        }\n",
    "                    },\n",
    "                    {\n",
    "                        \"script_score\": {\n",
    "                            \"query\": {\"match_all\": {}},\n",
    "                            \"script\": {\n",
    "                                \"source\": \"\"\"\n",
    "                                    double euclidean_distance = 0;\n",
    "                                    for (int i = 0; i < params.query_vector.length; i++) {\n",
    "                                        euclidean_distance += Math.pow(params.query_vector[i] - doc['embeddings'][i], 2);\n",
    "                                    }\n",
    "                                    euclidean_distance = Math.sqrt(euclidean_distance);\n",
    "                                    return 1.0 / (1.0 + euclidean_distance);\n",
    "                                \"\"\",\n",
    "                                \"params\": {\"query_vector\": query_embedding}\n",
    "                            }\n",
    "                        }\n",
    "                    }\n",
    "                ]\n",
    "            }\n",
    "        }\n",
    "    }\n",
    "\n",
    "    results = es.search(index='test', body=body, size=size)\n",
    "    \n",
    "    # 결과를 스코어에 따라 정렬하고 docid 추가\n",
    "    sorted_results = sorted(results['hits']['hits'], key=lambda x: x['_score'], reverse=True)\n",
    "    for result in sorted_results:\n",
    "        result['_source']['docid'] = id_to_docid[result['_id']]\n",
    "    \n",
    "    return {'hits': {'hits': sorted_results[:size]}}\n"
   ]
  },
  {
   "cell_type": "code",
   "execution_count": 9,
   "metadata": {},
   "outputs": [
    {
     "name": "stderr",
     "output_type": "stream",
     "text": [
      "/root/home/envforir/lib/python3.10/site-packages/urllib3/connectionpool.py:1103: InsecureRequestWarning: Unverified HTTPS request is being made to host 'localhost'. Adding certificate verification is strongly advised. See: https://urllib3.readthedocs.io/en/latest/advanced-usage.html#tls-warnings\n",
      "  warnings.warn(\n",
      "/root/home/envforir/lib/python3.10/site-packages/urllib3/connectionpool.py:1103: InsecureRequestWarning: Unverified HTTPS request is being made to host 'localhost'. Adding certificate verification is strongly advised. See: https://urllib3.readthedocs.io/en/latest/advanced-usage.html#tls-warnings\n",
      "  warnings.warn(\n",
      "/root/home/envforir/lib/python3.10/site-packages/urllib3/connectionpool.py:1103: InsecureRequestWarning: Unverified HTTPS request is being made to host 'localhost'. Adding certificate verification is strongly advised. See: https://urllib3.readthedocs.io/en/latest/advanced-usage.html#tls-warnings\n",
      "  warnings.warn(\n"
     ]
    },
    {
     "name": "stdout",
     "output_type": "stream",
     "text": [
      "Index 'test' created successfully.\n",
      "Processed batch 0\n",
      "Processed batch 100\n",
      "Processed batch 200\n",
      "Processed batch 300\n",
      "Processed batch 400\n",
      "Processed batch 500\n",
      "Processed batch 600\n",
      "Processed batch 700\n",
      "Processed batch 800\n",
      "Processed batch 900\n",
      "Processed batch 1000\n",
      "Processed batch 1100\n",
      "Processed batch 1200\n",
      "Processed batch 1300\n",
      "Processed batch 1400\n",
      "Processed batch 1500\n",
      "Processed batch 1600\n",
      "Processed batch 1700\n",
      "Processed batch 1800\n",
      "Processed batch 1900\n",
      "Processed batch 2000\n",
      "Processed batch 2100\n",
      "Processed batch 2200\n",
      "Processed batch 2300\n",
      "Processed batch 2400\n",
      "Processed batch 2500\n",
      "Processed batch 2600\n",
      "Processed batch 2700\n",
      "Processed batch 2800\n",
      "Processed batch 2900\n",
      "Processed batch 3000\n",
      "Processed batch 3100\n",
      "Processed batch 3200\n",
      "Processed batch 3300\n",
      "Processed batch 3400\n",
      "Processed batch 3500\n",
      "Processed batch 3600\n",
      "Processed batch 3700\n",
      "Processed batch 3800\n",
      "Processed batch 3900\n",
      "Processed batch 4000\n",
      "Processed batch 4100\n",
      "Processed batch 4200\n"
     ]
    },
    {
     "name": "stderr",
     "output_type": "stream",
     "text": [
      "/root/home/envforir/lib/python3.10/site-packages/urllib3/connectionpool.py:1103: InsecureRequestWarning: Unverified HTTPS request is being made to host 'localhost'. Adding certificate verification is strongly advised. See: https://urllib3.readthedocs.io/en/latest/advanced-usage.html#tls-warnings\n",
      "  warnings.warn(\n",
      "/root/home/envforir/lib/python3.10/site-packages/urllib3/connectionpool.py:1103: InsecureRequestWarning: Unverified HTTPS request is being made to host 'localhost'. Adding certificate verification is strongly advised. See: https://urllib3.readthedocs.io/en/latest/advanced-usage.html#tls-warnings\n",
      "  warnings.warn(\n",
      "/root/home/envforir/lib/python3.10/site-packages/urllib3/connectionpool.py:1103: InsecureRequestWarning: Unverified HTTPS request is being made to host 'localhost'. Adding certificate verification is strongly advised. See: https://urllib3.readthedocs.io/en/latest/advanced-usage.html#tls-warnings\n",
      "  warnings.warn(\n",
      "/root/home/envforir/lib/python3.10/site-packages/urllib3/connectionpool.py:1103: InsecureRequestWarning: Unverified HTTPS request is being made to host 'localhost'. Adding certificate verification is strongly advised. See: https://urllib3.readthedocs.io/en/latest/advanced-usage.html#tls-warnings\n",
      "  warnings.warn(\n",
      "/root/home/envforir/lib/python3.10/site-packages/urllib3/connectionpool.py:1103: InsecureRequestWarning: Unverified HTTPS request is being made to host 'localhost'. Adding certificate verification is strongly advised. See: https://urllib3.readthedocs.io/en/latest/advanced-usage.html#tls-warnings\n",
      "  warnings.warn(\n",
      "/root/home/envforir/lib/python3.10/site-packages/urllib3/connectionpool.py:1103: InsecureRequestWarning: Unverified HTTPS request is being made to host 'localhost'. Adding certificate verification is strongly advised. See: https://urllib3.readthedocs.io/en/latest/advanced-usage.html#tls-warnings\n",
      "  warnings.warn(\n",
      "/root/home/envforir/lib/python3.10/site-packages/urllib3/connectionpool.py:1103: InsecureRequestWarning: Unverified HTTPS request is being made to host 'localhost'. Adding certificate verification is strongly advised. See: https://urllib3.readthedocs.io/en/latest/advanced-usage.html#tls-warnings\n",
      "  warnings.warn(\n",
      "/root/home/envforir/lib/python3.10/site-packages/urllib3/connectionpool.py:1103: InsecureRequestWarning: Unverified HTTPS request is being made to host 'localhost'. Adding certificate verification is strongly advised. See: https://urllib3.readthedocs.io/en/latest/advanced-usage.html#tls-warnings\n",
      "  warnings.warn(\n",
      "/root/home/envforir/lib/python3.10/site-packages/urllib3/connectionpool.py:1103: InsecureRequestWarning: Unverified HTTPS request is being made to host 'localhost'. Adding certificate verification is strongly advised. See: https://urllib3.readthedocs.io/en/latest/advanced-usage.html#tls-warnings\n",
      "  warnings.warn(\n"
     ]
    },
    {
     "name": "stdout",
     "output_type": "stream",
     "text": [
      "Indexed 4272 documents successfully.\n",
      "Successfully indexed: 4272\n",
      "Failed to index: 0\n"
     ]
    }
   ],
   "source": [
    "import json\n",
    "from elasticsearch import Elasticsearch, helpers\n",
    "from openai import OpenAI\n",
    "from dotenv import load_dotenv\n",
    "import os\n",
    "from tenacity import retry, wait_random_exponential, stop_after_attempt\n",
    "\n",
    "# Elasticsearch 클라이언트 초기화\n",
    "# es = Elasticsearch(['http://localhost:9200'])  # 필요에 따라 URL 변경\n",
    "\n",
    "# .env 파일에서 환경 변수 로드\n",
    "load_dotenv()\n",
    "\n",
    "# OpenAI 클라이언트 초기화\n",
    "client = OpenAI(api_key=os.getenv(\"OPENAI_API_KEY\"))\n",
    "\n",
    "# OpenAI API를 사용하여 임베딩 생성\n",
    "@retry(wait=wait_random_exponential(min=1, max=60), stop=stop_after_attempt(6))\n",
    "def get_embedding(text, model=\"text-embedding-ada-002\"):\n",
    "    if isinstance(text, list):\n",
    "        text = \" \".join(text)  # 리스트인 경우 문자열로 결합\n",
    "    text = text.replace(\"\\n\", \" \")\n",
    "    response = client.embeddings.create(input=[text], model=model)\n",
    "    return response.data[0].embedding\n",
    "\n",
    "# 주어진 문서의 리스트에서 배치 단위로 임베딩 생성\n",
    "def get_embeddings_in_batches(docs, batch_size=100):\n",
    "    batch_embeddings = []\n",
    "    for i in range(0, len(docs), batch_size):\n",
    "        batch = docs[i: i+batch_size]\n",
    "        contents = [doc[\"content\"] for doc in batch]\n",
    "        embeddings = [get_embedding(content) for content in contents]\n",
    "        batch_embeddings.extend(embeddings)\n",
    "        print(f'Processed batch {i}')\n",
    "    return batch_embeddings\n",
    "\n",
    "# 인덱스 생성 함수\n",
    "def create_es_index(index, settings, mappings):\n",
    "    if es.indices.exists(index=index):\n",
    "        es.indices.delete(index=index)\n",
    "    es.indices.create(index=index, settings=settings, mappings=mappings)\n",
    "    print(f\"Index '{index}' created successfully.\")\n",
    "\n",
    "# bulk_add 함수\n",
    "def bulk_add(index, docs):\n",
    "    actions = [{'_index': index, '_source': doc} for doc in docs]\n",
    "    try:\n",
    "        success, failed = helpers.bulk(es, actions, stats_only=True, raise_on_error=False)\n",
    "        print(f\"Indexed {success} documents successfully.\")\n",
    "        if failed:\n",
    "            print(f\"Failed to index {failed} documents.\")\n",
    "            # 실패한 문서에 대한 자세한 정보를 얻기 위해 stats_only=False로 다시 실행\n",
    "            _, errors = helpers.bulk(es, actions, stats_only=False, raise_on_error=False)\n",
    "            for error in errors:\n",
    "                print(f\"Error: {error}\")\n",
    "        return success, failed\n",
    "    except Exception as e:\n",
    "        print(f\"An error occurred during bulk indexing: {str(e)}\")\n",
    "        return 0, len(docs)\n",
    "\n",
    "# 인덱스 설정\n",
    "settings = {\n",
    "    \"analysis\": {\n",
    "        \"analyzer\": {\n",
    "            \"nori\": {\n",
    "                \"type\": \"custom\",\n",
    "                \"tokenizer\": \"nori_tokenizer\",\n",
    "                \"decompound_mode\": \"mixed\",\n",
    "                \"filter\": [\"nori_posfilter\"]\n",
    "            }\n",
    "        },\n",
    "        \"filter\": {\n",
    "            \"nori_posfilter\": {\n",
    "                \"type\": \"nori_part_of_speech\",\n",
    "                \"stoptags\": [\"E\", \"J\", \"SC\", \"SE\", \"SF\", \"VCN\", \"VCP\", \"VX\"]\n",
    "            }\n",
    "        }\n",
    "    },\n",
    "    \"index\": {\n",
    "        \"mapping\": {\n",
    "            \"total_fields\": {\n",
    "                \"limit\": 2000\n",
    "            }\n",
    "        },\n",
    "        \"max_docvalue_fields_search\": 200\n",
    "    }\n",
    "}\n",
    "\n",
    "# 매핑 설정\n",
    "mappings = {\n",
    "    \"properties\": {\n",
    "        \"content\": {\n",
    "            \"type\": \"text\",\n",
    "            \"analyzer\": \"nori\"\n",
    "        },\n",
    "        \"embeddings\": {\n",
    "            \"type\": \"dense_vector\",\n",
    "            \"dims\": 1536,\n",
    "            \"index\": True,\n",
    "            \"similarity\": \"l2_norm\"\n",
    "        }\n",
    "    }\n",
    "}\n",
    "\n",
    "# 인덱스 생성\n",
    "create_es_index(\"test\", settings, mappings)\n",
    "\n",
    "# 문서 로드 및 임베딩 생성\n",
    "index_docs = []\n",
    "with open(\"/data/ephemeral/home/upstage-ai-final-ir2/HM/data/documents.jsonl\") as f:\n",
    "    docs = [json.loads(line) for line in f]\n",
    "embeddings = get_embeddings_in_batches(docs)\n",
    "\n",
    "# 생성한 임베딩을 색인할 필드로 추가\n",
    "for doc, embedding in zip(docs, embeddings):\n",
    "    doc[\"embeddings\"] = embedding\n",
    "    index_docs.append(doc)\n",
    "\n",
    "# 'test' 인덱스에 대량 문서 추가\n",
    "success, failed = bulk_add(\"test\", index_docs)\n",
    "\n",
    "# 색인 결과 출력\n",
    "print(f\"Successfully indexed: {success}\")\n",
    "print(f\"Failed to index: {failed}\")"
   ]
  },
  {
   "cell_type": "code",
   "execution_count": 10,
   "metadata": {},
   "outputs": [],
   "source": [
    "# 임베딩을 파일로 저장 \n",
    "import json\n",
    "\n",
    "def save_embeddings_to_json(docs, embeddings, filename):\n",
    "    data = []\n",
    "    for doc, embedding in zip(docs, embeddings):\n",
    "        doc_with_embedding = doc.copy()\n",
    "        doc_with_embedding['embedding'] = embedding\n",
    "        data.append(doc_with_embedding)\n",
    "    \n",
    "    with open(filename, 'w') as f:\n",
    "        json.dump(data, f)\n",
    "\n",
    "# 사용 예:\n",
    "save_embeddings_to_json(docs, embeddings, 'embeddings.json')"
   ]
  },
  {
   "cell_type": "code",
   "execution_count": 11,
   "metadata": {},
   "outputs": [],
   "source": [
    "# 검색엔진에 색인이 잘 되었는지 테스트하기 위한 질의\n",
    "test_query = \"직류와 교류 전류의 차이에 대해 알려줘\""
   ]
  },
  {
   "cell_type": "code",
   "execution_count": 12,
   "metadata": {},
   "outputs": [
    {
     "name": "stdout",
     "output_type": "stream",
     "text": [
      "Sparse retrieve results:\n",
      "ID: 144f5e5e-8069-425f-80b3-6388195ba4ee score: 25.206154 source: 전기 회로에서 DC와 AC의 차이점은 다음과 같다. DC는 직류 전류를 의미하며, 전하가 한 방향으로 흐른다는 것이 특징이다. 이는 전류의 방향이 일정하게 유지되는 것을 의미한다.\n",
      "ID: 785aec2e-3be5-4c54-bc2a-68714ab88d30 score: 13.403629 source: 직류 전압을 측정하는 데에는 여러 가지 방법이 있습니다. 그 중에서도 전위차계 방법은 전압계를 사용한 직접 측정보다 더 정확한 결과를 얻을 수 있습니다. 이는 전위차계 방법이 회로\n",
      "ID: 7b086212-c74b-413f-b414-d5d893f59152 score: 12.6978855 source: 네 개의 동일한 교류 발전기가 병렬로 작동하고 있으며, 각각의 등급은 20 MVA이고, 전압은 11 KV입니다. 이 발전기들은 초기 과도 리액턴스가 16%로 설정되어 있습니다. 이\n",
      "ID: 77f168a3-5ff4-44bb-98a0-ac8fce381173 score: 11.086004 source: 특정 네트워크의 모든 요소가 선형인 경우, 중첩원리가 유지되려면 여자가 AC 또는 DC이어야 한다.\n",
      "\n",
      "선형 네트워크는 전기 회로에서 매우 중요한 개념입니다. 선형 네트워크는 모든 \n",
      "ID: d74dccae-120f-40cd-87fb-78b61ac97e42 score: 11.01634 source: 미국에서는 남부와 나머지 지역 사이에서 학교 인종차별 철폐에 대한 지지도 차이가 존재했습니다. 이러한 차이는 대략 40% 정도였습니다. 남부 지역에서는 학교 인종차별 철폐에 대한 \n",
      "ID: a2384d59-df86-4cd0-844d-968295c6a0e7 score: 10.741834 source: 2극 중권 직류기에서 도체 한 개의 저항이 2 Ω이고 도체의 총수는 100이다. 따라서, 총 저항은 50Ω입니다. 이는 도체의 저항이 병렬로 연결되어 있기 때문에 발생하는 현상입니\n",
      "ID: 4d36e4b3-9b52-4793-a2b3-43638042572a score: 10.037293 source: [Ru(CN)6]2-에 대한 [Ru(H2O)6]2+의 화학 이동은 0 ppm 내지 16,050 ppm이다. [Ru(H2O)6]2+, [Ru(CN)6]2- 및 [Ru(NH3)6]2+\n",
      "ID: 97ea3f60-5704-412f-b22d-e5d19eb3609b score: 9.647073 source: 전구가 병렬로 연결된 회로에서는 각 전구의 전류는 독립적으로 흐르게 됩니다. 따라서 한 전구의 전류가 2A라고 해서 다른 전구의 전류를 정확히 알 수는 없습니다. 전구의 전류는 전\n",
      "ID: b975b894-e965-4397-bb74-86ad048c9545 score: 9.587992 source: 힘-전류 유사성에서 대시포트에 대한 전기적 아날로그량은 컨덕턴스이다. 컨덕턴스는 전기 회로에서 전류의 흐름을 측정하는 데 사용되는 물리적인 속성이다. 컨덕턴스는 전기 저항의 역수로\n",
      "ID: c59f4bbd-71f6-4073-807f-09e8f0d3efcc score: 9.489292 source: 와이어가 전류를 흐르는 와이어가 원형 루프의 형태로 굽혀져 있다면, 와이어의 각 부분 주변에는 자기장이 형성됩니다. 이 자기장은 와이어의 평면에 평행하게 분포됩니다. 와이어의 평면\n",
      "ID: de7c0ca2-10d2-4ff1-820a-888a91028edd score: 9.213234 source: 힘-전류 유사성은 전기 회로에서 변위(x)와 전류(I) 사이의 관계를 설명하는 개념입니다. 변위(x)에 대한 전기적 아날로그량은 선속(velocity)입니다. 선속은 단위 시간당 \n",
      "ID: 4144c2b0-8334-4d65-97b8-94f33708b57d score: 9.176102 source: 니크롬선은 전기 저항이 크고, 전기 전도성이 높은 재료로 알려져 있습니다. 이 문제에서는 길이가 2L이고 단면적이 A인 니크롬선과 길이가 L이고 단면적이 2A인 다른 니크롬선이 연\n",
      "ID: 32247ec0-ceea-4f75-9c03-24483c548725 score: 8.913706 source: 노인의 많은 부분이 매우 또는 종종 매우 외로움을 느낀다고 보고합니다. 연구에 따르면, 약 10%의 노인이 매우 외로움을 느낀다고 보고하고 있습니다. 이는 노인들이 사회적 연결성과\n",
      "ID: 555d8066-ac3a-46c2-b87c-33544c62f80c score: 8.662684 source: SCR은 50 Hz 공급에 대해 3000 A의 반 주기 서어지 전류 정격을 가지고 있다. 이는 SCR이 한 주기 동안 2121.32 A의 전류를 서어지게 한다는 것을 의미한다. S\n",
      "ID: 82edbc81-f19b-436f-a837-31b6eeaff3ef score: 8.098392 source: 사이리스터의 지지 전류가 2 mA인 경우 래칭 전류는 0.004 A여야 한다. 사이리스터는 반도체 소자로서 전류를 제어하는데 사용되는데, 지지 전류와 래칭 전류는 사이리스터 동작에\n",
      "ID: 07ba99c0-c36a-464c-a896-8466cc84c501 score: 8.013358 source: 직렬 회로에서 전구들은 같은 전류를 흐르게 합니다. 따라서, 한 전구의 전류가 2A라면, 다른 전구의 전류도 2A입니다. 이는 직렬 회로의 특성으로 인해 발생하는 현상입니다. 직렬\n",
      "ID: 076e6344-def6-44e9-ac90-aac3b12b3272 score: 8.009166 source: 램프 필라멘트의 전류가 3 A인 경우, 연결선의 전류도 3 A입니다. 이는 전류의 보존 법칙에 따라 램프 필라멘트와 연결선 사이의 전류는 동일하게 유지됩니다. 따라서, 램프 필라멘\n",
      "ID: 019491e6-7e76-45fd-b5c9-11afa6b9c126 score: 7.9857388 source: 나이와 함께 가장 많이 변하는 것 중 하나는 개인적 관심사입니다. 개인적 관심사는 성격 묘사 단계에서 큰 변화를 겪을 수 있습니다. 어린 시절에는 관심사가 주로 놀이와 친구들과의 \n",
      "ID: b6b28317-3e4f-449d-a44c-cb9cf9df2cd7 score: 7.9774556 source: 플루오르(F)는 정상적인 끓는점이 85 K로 알려져 있습니다. 반면에 염소(Cl)는 239 K에서 끓는 것으로 알려져 있습니다. 이는 두 원소의 끓는점 차이가 크다는 것을 의미합니\n",
      "ID: ffc4abfe-b138-4505-a805-b1479a6066e3 score: 7.935562 source: SCR의 래칭 전류는 20 mA이며, 이는 SCR이 동작하기 위해 필요한 최소 전류입니다. 그러나 이것의 지지 전류는 10 mA로, SCR이 안정적으로 동작하기 위해 필요한 전류입\n",
      "ID: 8ae1234f-2a28-4069-a017-e99de5d67cc6 score: 7.8592615 source: 램프의 개수가 회로에 병렬로 연결될 때, 전원의 전류는 감소한다. 이는 병렬 연결된 램프들이 전원의 전압을 공유하기 때문이다. 각 램프는 동일한 전압을 받으며, 따라서 전류는 분할\n",
      "ID: 502d46d1-539f-4535-a93b-94626fbf2301 score: 7.7528505 source: 평균적으로 멕시코계 미국인 남성들은 백인 남성들보다 약 이년 늦게 성관계를 시작한다. 또한, 아프리카계 미국인 남성들도 백인 남성들보다 성관계를 시작하는 시기가 늦다는 사실이 알려\n",
      "ID: c882603e-84fb-4fba-b73f-c64f9504427d score: 7.7116413 source: 램프의 개수가 회로에 직렬로 연결될 때, 전원의 전류는 감소한다. 이는 램프의 개수가 늘어남에 따라 전류의 흐름이 분산되기 때문이다. 직렬 연결된 램프는 전류가 흐르는 경로를 공유\n",
      "ID: a8c03237-eaff-4f54-8433-2548d78b821e score: 7.6619625 source: 전압이 120V인 전구는 60W의 전력을 소비합니다. 이를 계산하기 위해서는 전류를 알아야 합니다. 전력은 전압과 전류의 곱으로 계산됩니다. 따라서, 전력을 전압으로 나누면 전류를\n",
      "ID: a05e1034-13f3-4b6c-9f95-cea37ff07ef0 score: 7.627685 source: 인덕터의 순시 전력은 순간 전류와 전류 변화율의 곱에 비례합니다. 이는 인덕터가 전류가 흐를 때 자기장을 생성하고, 전류의 변화에 따라 자기장이 변화하기 때문입니다. 순시 전력은 \n",
      "ID: 3418f00c-20cc-4780-8614-a2cf42b92dff score: 7.627685 source: 상업용 항공기의 72W navigation unit은 24V의 전력 공급원과 3A의 전류를 사용합니다. 이 navigation unit의 전기 저항은 8옴입니다. 전기 저항은 전압\n",
      "ID: e971f2f2-8252-457f-a51f-bb04e9dfb27d score: 7.612016 source: 전기 회로에서 전류를 멈추게 하는 것은 스위치입니다. 스위치는 회로를 열거나 닫음으로써 전류의 흐름을 제어할 수 있습니다. 스위치가 열려있을 때는 전류가 흐르지 않고, 스위치가 닫\n",
      "ID: 185008d2-6091-4beb-94e4-d847d70fdea6 score: 7.588633 source: 연결선의 전류는 LED 램프의 전류와 같습니다. 이는 전기 회로의 기본 원리에 따라 전류는 회로를 따라 일정하게 흐르기 때문입니다. 따라서, LED 램프와 연결선 사이의 전류는 동\n",
      "ID: 54ef967c-470f-482d-b5c6-ed50e84f800d score: 7.5858693 source: 호랑이와 집고양이는 같은 과의 일원이지만, 크기는 크게 다릅니다. 이 차이에 대한 원인은 유전학입니다. 유전학적인 요인들이 호랑이와 집고양이의 크기 차이를 결정합니다. 호랑이는 큰\n",
      "ID: 8394ad57-d4ab-4bf9-8ef3-90eea6459c35 score: 7.5140514 source: 전류가 통하는 와이어 주변의 자기장 선은 원 형태를 띠게 됩니다. 이는 전류가 흐르는 와이어 주변에 자기장이 형성되기 때문입니다. 자기장은 전류의 방향에 따라 원형으로 형성되며, \n"
     ]
    },
    {
     "name": "stderr",
     "output_type": "stream",
     "text": [
      "/root/home/envforir/lib/python3.10/site-packages/urllib3/connectionpool.py:1103: InsecureRequestWarning: Unverified HTTPS request is being made to host 'localhost'. Adding certificate verification is strongly advised. See: https://urllib3.readthedocs.io/en/latest/advanced-usage.html#tls-warnings\n",
      "  warnings.warn(\n"
     ]
    }
   ],
   "source": [
    "sparse_results = sparse_retrieve(test_query, 30)\n",
    "\n",
    "print(\"Sparse retrieve results:\")\n",
    "for rst in sparse_results['hits']['hits']:\n",
    "    print('ID:', rst['_source']['docid'], 'score:', rst['_score'], 'source:', rst['_source']['content'][:100])"
   ]
  },
  {
   "cell_type": "code",
   "execution_count": 19,
   "metadata": {},
   "outputs": [
    {
     "name": "stderr",
     "output_type": "stream",
     "text": [
      "/tmp/ipykernel_896450/3656039920.py:41: DeprecationWarning: The 'body' parameter is deprecated and will be removed in a future version. Instead use individual parameters.\n",
      "  results = es.search(index='test', body=body, size=size)\n",
      "/root/home/envforir/lib/python3.10/site-packages/urllib3/connectionpool.py:1103: InsecureRequestWarning: Unverified HTTPS request is being made to host 'localhost'. Adding certificate verification is strongly advised. See: https://urllib3.readthedocs.io/en/latest/advanced-usage.html#tls-warnings\n",
      "  warnings.warn(\n"
     ]
    },
    {
     "ename": "BadRequestError",
     "evalue": "BadRequestError(400, 'search_phase_execution_exception', 'runtime error')",
     "output_type": "error",
     "traceback": [
      "\u001b[0;31m---------------------------------------------------------------------------\u001b[0m",
      "\u001b[0;31mBadRequestError\u001b[0m                           Traceback (most recent call last)",
      "Cell \u001b[0;32mIn[19], line 2\u001b[0m\n\u001b[1;32m      1\u001b[0m \u001b[38;5;66;03m# dense_retrieve_2\u001b[39;00m\n\u001b[0;32m----> 2\u001b[0m dense_results \u001b[38;5;241m=\u001b[39m \u001b[43mdense_retrieve_2\u001b[49m\u001b[43m(\u001b[49m\u001b[43mtest_query\u001b[49m\u001b[43m,\u001b[49m\u001b[43m \u001b[49m\u001b[43msparse_results\u001b[49m\u001b[43m[\u001b[49m\u001b[38;5;124;43m'\u001b[39;49m\u001b[38;5;124;43mhits\u001b[39;49m\u001b[38;5;124;43m'\u001b[39;49m\u001b[43m]\u001b[49m\u001b[43m[\u001b[49m\u001b[38;5;124;43m'\u001b[39;49m\u001b[38;5;124;43mhits\u001b[39;49m\u001b[38;5;124;43m'\u001b[39;49m\u001b[43m]\u001b[49m\u001b[43m,\u001b[49m\u001b[43m \u001b[49m\u001b[38;5;241;43m3\u001b[39;49m\u001b[43m)\u001b[49m\n\u001b[1;32m      5\u001b[0m \u001b[38;5;28mprint\u001b[39m(\u001b[38;5;124m\"\u001b[39m\u001b[38;5;130;01m\\n\u001b[39;00m\u001b[38;5;124mDense retrieve 2 results:\u001b[39m\u001b[38;5;124m\"\u001b[39m)\n\u001b[1;32m      6\u001b[0m \u001b[38;5;28;01mfor\u001b[39;00m rst \u001b[38;5;129;01min\u001b[39;00m dense_results[\u001b[38;5;124m'\u001b[39m\u001b[38;5;124mhits\u001b[39m\u001b[38;5;124m'\u001b[39m][\u001b[38;5;124m'\u001b[39m\u001b[38;5;124mhits\u001b[39m\u001b[38;5;124m'\u001b[39m]:\n",
      "Cell \u001b[0;32mIn[18], line 41\u001b[0m, in \u001b[0;36mdense_retrieve_2\u001b[0;34m(query_str, documents, size)\u001b[0m\n\u001b[1;32m      8\u001b[0m id_to_docid \u001b[38;5;241m=\u001b[39m {doc[\u001b[38;5;124m'\u001b[39m\u001b[38;5;124m_id\u001b[39m\u001b[38;5;124m'\u001b[39m]: doc[\u001b[38;5;124m'\u001b[39m\u001b[38;5;124m_source\u001b[39m\u001b[38;5;124m'\u001b[39m][\u001b[38;5;124m'\u001b[39m\u001b[38;5;124mdocid\u001b[39m\u001b[38;5;124m'\u001b[39m] \u001b[38;5;28;01mfor\u001b[39;00m doc \u001b[38;5;129;01min\u001b[39;00m documents}\n\u001b[1;32m     10\u001b[0m body \u001b[38;5;241m=\u001b[39m {\n\u001b[1;32m     11\u001b[0m     \u001b[38;5;124m\"\u001b[39m\u001b[38;5;124m_source\u001b[39m\u001b[38;5;124m\"\u001b[39m: {\u001b[38;5;124m\"\u001b[39m\u001b[38;5;124mincludes\u001b[39m\u001b[38;5;124m\"\u001b[39m: [\u001b[38;5;124m\"\u001b[39m\u001b[38;5;124mcontent\u001b[39m\u001b[38;5;124m\"\u001b[39m, \u001b[38;5;124m\"\u001b[39m\u001b[38;5;124membeddings\u001b[39m\u001b[38;5;124m\"\u001b[39m]},\n\u001b[1;32m     12\u001b[0m     \u001b[38;5;124m\"\u001b[39m\u001b[38;5;124mquery\u001b[39m\u001b[38;5;124m\"\u001b[39m: {\n\u001b[0;32m   (...)\u001b[0m\n\u001b[1;32m     38\u001b[0m     }\n\u001b[1;32m     39\u001b[0m }\n\u001b[0;32m---> 41\u001b[0m results \u001b[38;5;241m=\u001b[39m \u001b[43mes\u001b[49m\u001b[38;5;241;43m.\u001b[39;49m\u001b[43msearch\u001b[49m\u001b[43m(\u001b[49m\u001b[43mindex\u001b[49m\u001b[38;5;241;43m=\u001b[39;49m\u001b[38;5;124;43m'\u001b[39;49m\u001b[38;5;124;43mtest\u001b[39;49m\u001b[38;5;124;43m'\u001b[39;49m\u001b[43m,\u001b[49m\u001b[43m \u001b[49m\u001b[43mbody\u001b[49m\u001b[38;5;241;43m=\u001b[39;49m\u001b[43mbody\u001b[49m\u001b[43m,\u001b[49m\u001b[43m \u001b[49m\u001b[43msize\u001b[49m\u001b[38;5;241;43m=\u001b[39;49m\u001b[43msize\u001b[49m\u001b[43m)\u001b[49m\n\u001b[1;32m     43\u001b[0m \u001b[38;5;66;03m# 결과를 스코어에 따라 정렬하고 docid 추가\u001b[39;00m\n\u001b[1;32m     44\u001b[0m sorted_results \u001b[38;5;241m=\u001b[39m \u001b[38;5;28msorted\u001b[39m(results[\u001b[38;5;124m'\u001b[39m\u001b[38;5;124mhits\u001b[39m\u001b[38;5;124m'\u001b[39m][\u001b[38;5;124m'\u001b[39m\u001b[38;5;124mhits\u001b[39m\u001b[38;5;124m'\u001b[39m], key\u001b[38;5;241m=\u001b[39m\u001b[38;5;28;01mlambda\u001b[39;00m x: x[\u001b[38;5;124m'\u001b[39m\u001b[38;5;124m_score\u001b[39m\u001b[38;5;124m'\u001b[39m], reverse\u001b[38;5;241m=\u001b[39m\u001b[38;5;28;01mTrue\u001b[39;00m)\n",
      "File \u001b[0;32m/root/home/envforir/lib/python3.10/site-packages/elasticsearch/_sync/client/utils.py:414\u001b[0m, in \u001b[0;36m_rewrite_parameters.<locals>.wrapper.<locals>.wrapped\u001b[0;34m(*args, **kwargs)\u001b[0m\n\u001b[1;32m    411\u001b[0m         \u001b[38;5;28;01mexcept\u001b[39;00m \u001b[38;5;167;01mKeyError\u001b[39;00m:\n\u001b[1;32m    412\u001b[0m             \u001b[38;5;28;01mpass\u001b[39;00m\n\u001b[0;32m--> 414\u001b[0m \u001b[38;5;28;01mreturn\u001b[39;00m \u001b[43mapi\u001b[49m\u001b[43m(\u001b[49m\u001b[38;5;241;43m*\u001b[39;49m\u001b[43margs\u001b[49m\u001b[43m,\u001b[49m\u001b[43m \u001b[49m\u001b[38;5;241;43m*\u001b[39;49m\u001b[38;5;241;43m*\u001b[39;49m\u001b[43mkwargs\u001b[49m\u001b[43m)\u001b[49m\n",
      "File \u001b[0;32m/root/home/envforir/lib/python3.10/site-packages/elasticsearch/_sync/client/__init__.py:3859\u001b[0m, in \u001b[0;36mElasticsearch.search\u001b[0;34m(self, index, aggregations, aggs, allow_no_indices, allow_partial_search_results, analyze_wildcard, analyzer, batched_reduce_size, ccs_minimize_roundtrips, collapse, default_operator, df, docvalue_fields, error_trace, expand_wildcards, explain, ext, fields, filter_path, from_, highlight, human, ignore_throttled, ignore_unavailable, indices_boost, knn, lenient, max_concurrent_shard_requests, min_compatible_shard_node, min_score, pit, post_filter, pre_filter_shard_size, preference, pretty, profile, q, query, request_cache, rescore, rest_total_hits_as_int, routing, runtime_mappings, script_fields, scroll, search_after, search_type, seq_no_primary_term, size, slice, sort, source, source_excludes, source_includes, stats, stored_fields, suggest, suggest_field, suggest_mode, suggest_size, suggest_text, terminate_after, timeout, track_scores, track_total_hits, typed_keys, version)\u001b[0m\n\u001b[1;32m   3857\u001b[0m \u001b[38;5;28;01mif\u001b[39;00m __body \u001b[38;5;129;01mis\u001b[39;00m \u001b[38;5;129;01mnot\u001b[39;00m \u001b[38;5;28;01mNone\u001b[39;00m:\n\u001b[1;32m   3858\u001b[0m     __headers[\u001b[38;5;124m\"\u001b[39m\u001b[38;5;124mcontent-type\u001b[39m\u001b[38;5;124m\"\u001b[39m] \u001b[38;5;241m=\u001b[39m \u001b[38;5;124m\"\u001b[39m\u001b[38;5;124mapplication/json\u001b[39m\u001b[38;5;124m\"\u001b[39m\n\u001b[0;32m-> 3859\u001b[0m \u001b[38;5;28;01mreturn\u001b[39;00m \u001b[38;5;28;43mself\u001b[39;49m\u001b[38;5;241;43m.\u001b[39;49m\u001b[43mperform_request\u001b[49m\u001b[43m(\u001b[49m\u001b[43m  \u001b[49m\u001b[38;5;66;43;03m# type: ignore[return-value]\u001b[39;49;00m\n\u001b[1;32m   3860\u001b[0m \u001b[43m    \u001b[49m\u001b[38;5;124;43m\"\u001b[39;49m\u001b[38;5;124;43mPOST\u001b[39;49m\u001b[38;5;124;43m\"\u001b[39;49m\u001b[43m,\u001b[49m\u001b[43m \u001b[49m\u001b[43m__path\u001b[49m\u001b[43m,\u001b[49m\u001b[43m \u001b[49m\u001b[43mparams\u001b[49m\u001b[38;5;241;43m=\u001b[39;49m\u001b[43m__query\u001b[49m\u001b[43m,\u001b[49m\u001b[43m \u001b[49m\u001b[43mheaders\u001b[49m\u001b[38;5;241;43m=\u001b[39;49m\u001b[43m__headers\u001b[49m\u001b[43m,\u001b[49m\u001b[43m \u001b[49m\u001b[43mbody\u001b[49m\u001b[38;5;241;43m=\u001b[39;49m\u001b[43m__body\u001b[49m\n\u001b[1;32m   3861\u001b[0m \u001b[43m\u001b[49m\u001b[43m)\u001b[49m\n",
      "File \u001b[0;32m/root/home/envforir/lib/python3.10/site-packages/elasticsearch/_sync/client/_base.py:320\u001b[0m, in \u001b[0;36mBaseClient.perform_request\u001b[0;34m(self, method, path, params, headers, body)\u001b[0m\n\u001b[1;32m    317\u001b[0m         \u001b[38;5;28;01mexcept\u001b[39;00m (\u001b[38;5;167;01mValueError\u001b[39;00m, \u001b[38;5;167;01mKeyError\u001b[39;00m, \u001b[38;5;167;01mTypeError\u001b[39;00m):\n\u001b[1;32m    318\u001b[0m             \u001b[38;5;28;01mpass\u001b[39;00m\n\u001b[0;32m--> 320\u001b[0m     \u001b[38;5;28;01mraise\u001b[39;00m HTTP_EXCEPTIONS\u001b[38;5;241m.\u001b[39mget(meta\u001b[38;5;241m.\u001b[39mstatus, ApiError)(\n\u001b[1;32m    321\u001b[0m         message\u001b[38;5;241m=\u001b[39mmessage, meta\u001b[38;5;241m=\u001b[39mmeta, body\u001b[38;5;241m=\u001b[39mresp_body\n\u001b[1;32m    322\u001b[0m     )\n\u001b[1;32m    324\u001b[0m \u001b[38;5;66;03m# 'X-Elastic-Product: Elasticsearch' should be on every 2XX response.\u001b[39;00m\n\u001b[1;32m    325\u001b[0m \u001b[38;5;28;01mif\u001b[39;00m \u001b[38;5;129;01mnot\u001b[39;00m \u001b[38;5;28mself\u001b[39m\u001b[38;5;241m.\u001b[39m_verified_elasticsearch:\n\u001b[1;32m    326\u001b[0m     \u001b[38;5;66;03m# If the header is set we mark the server as verified.\u001b[39;00m\n",
      "\u001b[0;31mBadRequestError\u001b[0m: BadRequestError(400, 'search_phase_execution_exception', 'runtime error')"
     ]
    }
   ],
   "source": [
    "# dense_retrieve_2\n",
    "dense_results = dense_retrieve_2(test_query, sparse_results['hits']['hits'], 3)\n",
    "\n",
    "\n",
    "print(\"\\nDense retrieve 2 results:\")\n",
    "for rst in dense_results['hits']['hits']:\n",
    "    print('ID:', rst['_source']['docid'], 'score:', rst['_score'], 'source:', rst['_source'][\"content\"][:100])"
   ]
  },
  {
   "cell_type": "code",
   "execution_count": null,
   "metadata": {},
   "outputs": [],
   "source": []
  }
 ],
 "metadata": {
  "kernelspec": {
   "display_name": "envforir",
   "language": "python",
   "name": "python3"
  },
  "language_info": {
   "codemirror_mode": {
    "name": "ipython",
    "version": 3
   },
   "file_extension": ".py",
   "mimetype": "text/x-python",
   "name": "python",
   "nbconvert_exporter": "python",
   "pygments_lexer": "ipython3",
   "version": "3.10.13"
  }
 },
 "nbformat": 4,
 "nbformat_minor": 2
}
