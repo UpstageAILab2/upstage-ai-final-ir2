{
 "cells": [
  {
   "cell_type": "code",
   "execution_count": null,
   "metadata": {},
   "outputs": [
    {
     "name": "stdout",
     "output_type": "stream",
     "text": [
      "Requirement already satisfied: elasticsearch==8.8.0 in /opt/conda/lib/python3.10/site-packages (8.8.0)\n",
      "Requirement already satisfied: elastic-transport<9,>=8 in /opt/conda/lib/python3.10/site-packages (from elasticsearch==8.8.0) (8.12.0)\n",
      "Requirement already satisfied: urllib3<3,>=1.26.2 in /opt/conda/lib/python3.10/site-packages (from elastic-transport<9,>=8->elasticsearch==8.8.0) (1.26.16)\n",
      "Requirement already satisfied: certifi in /opt/conda/lib/python3.10/site-packages (from elastic-transport<9,>=8->elasticsearch==8.8.0) (2024.6.2)\n",
      "\u001b[33mWARNING: Running pip as the 'root' user can result in broken permissions and conflicting behaviour with the system package manager. It is recommended to use a virtual environment instead: https://pip.pypa.io/warnings/venv\u001b[0m\u001b[33m\n",
      "\u001b[0m"
     ]
    }
   ],
   "source": [
    "!pip install elasticsearch==8.8.0"
   ]
  },
  {
   "cell_type": "code",
   "execution_count": 2,
   "metadata": {},
   "outputs": [],
   "source": [
    "# !wget -q https://artifacts.elastic.co/downloads/elasticsearch/elasticsearch-8.8.0-linux-x86_64.tar.gz"
   ]
  },
  {
   "cell_type": "code",
   "execution_count": 3,
   "metadata": {},
   "outputs": [],
   "source": [
    "# !tar -xzf elasticsearch-8.8.0-linux-x86_64.tar.gz"
   ]
  },
  {
   "cell_type": "code",
   "execution_count": 4,
   "metadata": {},
   "outputs": [
    {
     "name": "stdout",
     "output_type": "stream",
     "text": [
      "LICENSE.txt  README.asciidoc  config  lib   modules\n",
      "NOTICE.txt   bin\t      jdk     logs  plugins\n"
     ]
    }
   ],
   "source": [
    "!ls elasticsearch-8.8.0/"
   ]
  },
  {
   "cell_type": "code",
   "execution_count": 5,
   "metadata": {},
   "outputs": [],
   "source": [
    "!sudo chown -R daemon:daemon elasticsearch-8.8.0/"
   ]
  },
  {
   "cell_type": "code",
   "execution_count": 6,
   "metadata": {},
   "outputs": [],
   "source": [
    "import os\n",
    "from elasticsearch import Elasticsearch, helpers\n",
    "import numpy as np\n",
    "import pandas as pd\n",
    "import json\n",
    "from subprocess import Popen, PIPE, STDOUT\n",
    "\n",
    "es_server = Popen(['elasticsearch-8.8.0/bin/elasticsearch'],\n",
    "                  stdout=PIPE, stderr=STDOUT,\n",
    "                  preexec_fn=lambda: os.setuid(1)\n",
    "                  )\n",
    "\n",
    "import time\n",
    "time.sleep(30)\n"
   ]
  },
  {
   "cell_type": "code",
   "execution_count": 7,
   "metadata": {},
   "outputs": [
    {
     "name": "stdout",
     "output_type": "stream",
     "text": [
      "daemon    425113  424977  0 18:22 ?        00:00:00 [elasticsearch] <defunct>\n",
      "root      425238  424977  0 18:24 pts/6    00:00:00 /bin/bash -c ps -ef | grep elasticsearch\n",
      "root      425240  425238  0 18:24 pts/6    00:00:00 grep elasticsearch\n"
     ]
    }
   ],
   "source": [
    "# 데몬이 구동되었는지 확인 (세개의 daemon process가 있어야 함)\n",
    "!ps -ef | grep elasticsearch"
   ]
  },
  {
   "cell_type": "code",
   "execution_count": 8,
   "metadata": {},
   "outputs": [
    {
     "name": "stdout",
     "output_type": "stream",
     "text": [
      "/bin/bash: /content/elasticsearch-8.8.0/bin/elasticsearch-setup-passwords: No such file or directory\n"
     ]
    }
   ],
   "source": [
    "!/content/elasticsearch-8.8.0/bin/elasticsearch-setup-passwords auto -url \"https://localhost:9200\""
   ]
  },
  {
   "cell_type": "code",
   "execution_count": 14,
   "metadata": {},
   "outputs": [
    {
     "name": "stdout",
     "output_type": "stream",
     "text": [
      "/bin/bash: /content/elasticsearch-8.8.0/bin/elasticsearch-setup-passwords: No such file or directory\n"
     ]
    }
   ],
   "source": [
    "!/content/elasticsearch-8.8.0/bin/elasticsearch-setup-passwords auto -url \"https://localhost:9200\""
   ]
  },
  {
   "cell_type": "code",
   "execution_count": null,
   "metadata": {},
   "outputs": [],
   "source": []
  }
 ],
 "metadata": {
  "kernelspec": {
   "display_name": "base",
   "language": "python",
   "name": "python3"
  },
  "language_info": {
   "codemirror_mode": {
    "name": "ipython",
    "version": 3
   },
   "file_extension": ".py",
   "mimetype": "text/x-python",
   "name": "python",
   "nbconvert_exporter": "python",
   "pygments_lexer": "ipython3",
   "version": "3.10.13"
  }
 },
 "nbformat": 4,
 "nbformat_minor": 2
}
