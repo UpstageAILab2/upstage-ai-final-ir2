{
 "cells": [
  {
   "cell_type": "code",
   "execution_count": 2,
   "metadata": {},
   "outputs": [
    {
     "data": {
      "text/plain": [
       "'/root/home/envforir/bin/python'"
      ]
     },
     "execution_count": 2,
     "metadata": {},
     "output_type": "execute_result"
    }
   ],
   "source": [
    "import sys\n",
    "sys.executable"
   ]
  },
  {
   "cell_type": "code",
   "execution_count": 3,
   "metadata": {},
   "outputs": [],
   "source": [
    "# # 데몬 인스턴스 만들기 \n",
    "import os\n",
    "import json\n",
    "from elasticsearch import Elasticsearch, helpers\n",
    "from subprocess import Popen, PIPE, STDOUT\n",
    "from dotenv import load_dotenv\n",
    "import openai\n",
    "\n",
    "# es_server = Popen(['/root/home/elasticsearch-8.8.0/bin/elasticsearch'],\n",
    "#                   stdout=PIPE, \n",
    "#                   stderr=STDOUT,\n",
    "#                   preexec_fn=lambda: os.setuid(1))\n",
    "\n",
    "# import time\n",
    "# time.sleep(60)"
   ]
  },
  {
   "cell_type": "code",
   "execution_count": 23,
   "metadata": {},
   "outputs": [
    {
     "name": "stdout",
     "output_type": "stream",
     "text": [
      "iruser   1102837       1 30 02:13 pts/14   00:00:52 /home/iruser/elasticsearch-8.8.0/jdk/bin/java -Des.networkaddress.cache.ttl=60 -Des.networkaddress.cache.negative.ttl=10 -Djava.security.manager=allow -XX:+AlwaysPreTouch -Xss1m -Djava.awt.headless=true -Dfile.encoding=UTF-8 -Djna.nosys=true -XX:-OmitStackTraceInFastThrow -Dio.netty.noUnsafe=true -Dio.netty.noKeySetOptimization=true -Dio.netty.recycler.maxCapacityPerThread=0 -Dlog4j.shutdownHookEnabled=false -Dlog4j2.disable.jmx=true -Dlog4j2.formatMsgNoLookups=true -Djava.locale.providers=SPI,COMPAT --add-opens=java.base/java.io=org.elasticsearch.preallocate -XX:+UseG1GC -Djava.io.tmpdir=/tmp/elasticsearch-15843752271474759779 -XX:+HeapDumpOnOutOfMemoryError -XX:+ExitOnOutOfMemoryError -XX:HeapDumpPath=data -XX:ErrorFile=logs/hs_err_pid%p.log -Xlog:gc*,gc+age=trace,safepoint:file=logs/gc.log:utctime,level,pid,tags:filecount=32,filesize=64m -Xms30720m -Xmx30720m -XX:MaxDirectMemorySize=16106127360 -XX:InitiatingHeapOccupancyPercent=30 -XX:G1ReservePercent=25 -Des.distribution.type=tar --module-path /home/iruser/elasticsearch-8.8.0/lib --add-modules=jdk.net --add-modules=org.elasticsearch.preallocate -m org.elasticsearch.server/org.elasticsearch.bootstrap.Elasticsearch\n",
      "iruser   1102884 1102837  0 02:13 pts/14   00:00:00 /home/iruser/elasticsearch-8.8.0/modules/x-pack-ml/platform/linux-x86_64/bin/controller\n",
      "root     1103274 1102401  0 02:16 pts/15   00:00:00 /bin/bash -c ps -ef | grep elasticsearch\n",
      "root     1103276 1103274  0 02:16 pts/15   00:00:00 grep elasticsearch\n"
     ]
    },
    {
     "name": "stderr",
     "output_type": "stream",
     "text": [
      "huggingface/tokenizers: The current process just got forked, after parallelism has already been used. Disabling parallelism to avoid deadlocks...\n",
      "To disable this warning, you can either:\n",
      "\t- Avoid using `tokenizers` before the fork if possible\n",
      "\t- Explicitly set the environment variable TOKENIZERS_PARALLELISM=(true | false)\n"
     ]
    }
   ],
   "source": [
    "# 데몬 구동 확인 -> password 설정 \n",
    "!ps -ef | grep elasticsearch"
   ]
  },
  {
   "cell_type": "code",
   "execution_count": 25,
   "metadata": {},
   "outputs": [
    {
     "name": "stderr",
     "output_type": "stream",
     "text": [
      "/root/home/envforir/lib/python3.10/site-packages/urllib3/connectionpool.py:1103: InsecureRequestWarning: Unverified HTTPS request is being made to host 'localhost'. Adding certificate verification is strongly advised. See: https://urllib3.readthedocs.io/en/latest/advanced-usage.html#tls-warnings\n",
      "  warnings.warn(\n"
     ]
    },
    {
     "data": {
      "text/plain": [
       "ObjectApiResponse({'name': 'instance-8909', 'cluster_name': 'elasticsearch', 'cluster_uuid': 'r4Ih9u1sTfKbhPDz61kqLQ', 'version': {'number': '8.8.0', 'build_flavor': 'default', 'build_type': 'tar', 'build_hash': 'c01029875a091076ed42cdb3a41c10b1a9a5a20f', 'build_date': '2023-05-23T17:16:07.179039820Z', 'build_snapshot': False, 'lucene_version': '9.6.0', 'minimum_wire_compatibility_version': '7.17.0', 'minimum_index_compatibility_version': '7.0.0'}, 'tagline': 'You Know, for Search'})"
      ]
     },
     "execution_count": 25,
     "metadata": {},
     "output_type": "execute_result"
    }
   ],
   "source": [
    "es_username = 'elastic'\n",
    "es_password = 'lIqyxP0YNWqs92cewOwj'\n",
    "\n",
    "# ElasticSearch Client 생성 \n",
    "es = Elasticsearch(['https://localhost:9200'], basic_auth=(es_username, es_password), ca_certs=\"/data/ephemeral/home/upstage-ai-final-ir2/HM/elasticsearch-8.8.0/config/certs/http_ca.crt\", verify_certs=False)\n",
    "\n",
    "# ElasticSearch Client 정보 확인 \n",
    "es.info()"
   ]
  },
  {
   "cell_type": "code",
   "execution_count": 55,
   "metadata": {},
   "outputs": [],
   "source": [
    "load_dotenv() \n",
    "openai_api_key = os.getenv(\"OPENAI_API_KEY\")"
   ]
  },
  {
   "cell_type": "code",
   "execution_count": 84,
   "metadata": {},
   "outputs": [],
   "source": [
    "from sentence_transformers import SentenceTransformer\n",
    "\n",
    "# Sentence Transformer 모델 초기화(한국어 임베딩 생성 가능한 어떤 모델도 가능)\n",
    "model = SentenceTransformer(\"snunlp/KR-SBERT-V40K-klueNLI-augSTS\")   \n",
    "# 이 모델을 사용하여 doc['content']를 임베딩 \n",
    "\n",
    "# Sentence Transformer를 이용하여 임베딩 생성\n",
    "def get_embedding(sentences):\n",
    "    return model.encode(sentences)\n",
    "\n",
    "# 주어진 문서의 리스트에서 배치 단위로 임베딩 생성a\n",
    "def get_embeddings_in_batches(docs, batch_size=100):\n",
    "    batch_embeddings = []\n",
    "    for i in range(0, len(docs), batch_size):\n",
    "        batch = docs[i: i+batch_size]\n",
    "        contents = [doc[\"content\"] for doc in batch]\n",
    "        embeddings = get_embedding(contents)    # doc의 \"content\" 부분을 임베딩 \n",
    "        batch_embeddings.extend(embeddings)\n",
    "        print(f'batch {i}')\n",
    "    return batch_embeddings"
   ]
  },
  {
   "cell_type": "code",
   "execution_count": 78,
   "metadata": {},
   "outputs": [],
   "source": [
    "# # OpenAI를 이용하여 임베딩 생성\n",
    "# def get_embeddings_in_batches(docs, batch_size=100):\n",
    "#     batch_embeddings = []\n",
    "#     for i in range(0, len(docs), batch_size):\n",
    "#         batch = docs[i: i+batch_size]\n",
    "#         contents = [doc[\"content\"] for doc in batch]\n",
    "#         embeddings = get_embedding(contents)\n",
    "#         batch_embeddings.extend(embeddings)\n",
    "#         print(f'batch {i} completed')\n",
    "#     return batch_embeddings\n",
    "\n",
    "# def get_embedding(sentences):\n",
    "#     response = openai.Embedding.create(\n",
    "#         input=sentences,\n",
    "#         model=\"text-embedding-ada-002\"\n",
    "#     )\n",
    "#     return [result[\"embedding\"] for result in response[\"data\"]]"
   ]
  },
  {
   "cell_type": "markdown",
   "metadata": {},
   "source": [
    "### 인덱스 설정 함수: Sparse Retrieve, Dense Retrieve를 위한 인덱스 생성과 관리\n",
    "- Dense Retrieve: 인덱스 맵핑 뿐만 아니라 밀집 벡터 필드를 추가해야"
   ]
  },
  {
   "cell_type": "code",
   "execution_count": 79,
   "metadata": {},
   "outputs": [],
   "source": [
    "# 새로운 index 생성 \n",
    "def create_es_index(index, settings, mappings):\n",
    "    if es.indices.exists(index=index):   # 만약 인덱스가 이미 존재한다면 \n",
    "        es.indices.delete(index=index)   # 새로운 것으로 설정하기 위해 삭제 \n",
    "    es.indices.create(index=index, settings=settings, mappings=mappings)  # 지정된 settings로 새로운 인덱스 생성 \n",
    "\n",
    "# 지정된 인덱스 삭제 \n",
    "def delete_es_index(index):\n",
    "    es.indices.delete(index=index)\n",
    "    \n",
    "# ElasticSearch 헬퍼 함수를 사용하여 대량 인덱싱 수행 \n",
    "def bulk_add(index, docs):\n",
    "    actions = [{'_index': index, '_source': doc} for doc in docs]\n",
    "    return helpers.bulk(es, actions)"
   ]
  },
  {
   "cell_type": "markdown",
   "metadata": {},
   "source": [
    "### 검색 함수\n",
    "- Sparse Retrieve: 텍스트 기반 검색 \n",
    "- Dense Retrieve: 벡터 유사도 기반 검색"
   ]
  },
  {
   "cell_type": "code",
   "execution_count": 80,
   "metadata": {},
   "outputs": [],
   "source": [
    "# 역색인을 이용한 검색 \n",
    "def sparse_retrieve(query_str, size):\n",
    "    query = { \"match\": {\"content\": {\"query\": query_str}}}\n",
    "    return es.search(index='test', query=query, size=size, sort='_score')\n",
    "#>> query_str: 검색어\n",
    "#>> size: 검색 결과 개수 \n",
    "#>> 'test' 인덱스에서 정의된 쿼리를 실행 -> 검색 결과를 size개 만큼 반환 \n",
    "\n",
    "\n",
    "# Vector 유사도를 이용한 검색\n",
    "def dense_retrieve(query_str, size):\n",
    "    query_embedding = get_embedding([query_str])[0]   # 벡터 유사도 검색에 사용할 쿼리 임베딩 가져오기 \n",
    "    knn = {\"field\": \"embeddings\",                     # KNN을 사용한 벡터 유사성 검색을 위한 매개변수 설정 \n",
    "           \"query_vector\": query_embedding.tolist(),\n",
    "           \"k\": size,    # k: 검색할 최근접 이웃의 개수 \n",
    "           \"num_candidates\": 100}  # KNN 검색에 사용할 후보 문서 개수 \n",
    "    return es.search(index='test', knn=knn)           # 지정된 인덱스에서 벡터 유사도 검색 수행 "
   ]
  },
  {
   "cell_type": "markdown",
   "metadata": {},
   "source": [
    "### 설정"
   ]
  },
  {
   "cell_type": "code",
   "execution_count": 81,
   "metadata": {},
   "outputs": [],
   "source": [
    "# 색인을 위한 settings 설정 \n",
    "settings = { \"analysis\": {\"analyzer\": {\"nori\": {\"type\": \"custom\",  #>> custom: 사용자 정의 분석기임을 명시 \n",
    "                                                \"tokenizer\": \"nori_tokenizer\",\n",
    "                                                \"decompound_mode\": \"mixed\",  # 복합 명사를 분해하는 방식을 설정. mixed: 복합명사를 분해하되, 분해된 토큰과 원본 토큰을 모두 저장 \n",
    "                                                \"filter\": [\"nori_posfilter\"]}},\n",
    "                          \"filter\": {\"nori_posfilter\":{\"type\": \"nori_part_of_speech\",\n",
    "                                                       \"stoptags\": [\"E\", \"J\", \"SC\", \"SE\", \"SF\", \"VCN\", \"VCP\", \"VX\"]}}}  # 제거할 품사 태그를 지정 \n",
    "            }\n",
    "\n",
    "# 색인을 위한 mapping 설정(역색인 필드, 임베딩 필드 모두 설정)\n",
    "mappings = { \"properties\": {\"content\": {\"type\": \"text\",\n",
    "                                        \"analyzer\": \"nori\"},\n",
    "                            \"embeddings\": {\"type\": \"dense_vector\",\n",
    "                                           \"dims\": 768,\n",
    "                                           \"index\": True,\n",
    "                                           \"similarity\": \"l2_norm\"}}  # 벡터 간 유사도 계산 방식: L2 norm \n",
    "            }\n"
   ]
  },
  {
   "cell_type": "code",
   "execution_count": 85,
   "metadata": {},
   "outputs": [
    {
     "name": "stderr",
     "output_type": "stream",
     "text": [
      "/root/home/envforir/lib/python3.10/site-packages/urllib3/connectionpool.py:1103: InsecureRequestWarning: Unverified HTTPS request is being made to host 'localhost'. Adding certificate verification is strongly advised. See: https://urllib3.readthedocs.io/en/latest/advanced-usage.html#tls-warnings\n",
      "  warnings.warn(\n",
      "/root/home/envforir/lib/python3.10/site-packages/urllib3/connectionpool.py:1103: InsecureRequestWarning: Unverified HTTPS request is being made to host 'localhost'. Adding certificate verification is strongly advised. See: https://urllib3.readthedocs.io/en/latest/advanced-usage.html#tls-warnings\n",
      "  warnings.warn(\n",
      "/root/home/envforir/lib/python3.10/site-packages/urllib3/connectionpool.py:1103: InsecureRequestWarning: Unverified HTTPS request is being made to host 'localhost'. Adding certificate verification is strongly advised. See: https://urllib3.readthedocs.io/en/latest/advanced-usage.html#tls-warnings\n",
      "  warnings.warn(\n"
     ]
    }
   ],
   "source": [
    "# 위에서 설정한 내용으로 'test' 인덱스 생성 \n",
    "create_es_index(\"test\", settings, mappings)"
   ]
  },
  {
   "cell_type": "markdown",
   "metadata": {},
   "source": [
    "### 임베딩: 문서의 content 필드"
   ]
  },
  {
   "cell_type": "code",
   "execution_count": 86,
   "metadata": {},
   "outputs": [
    {
     "name": "stdout",
     "output_type": "stream",
     "text": [
      "batch 0\n",
      "batch 100\n",
      "batch 200\n",
      "batch 300\n",
      "batch 400\n",
      "batch 500\n",
      "batch 600\n",
      "batch 700\n",
      "batch 800\n",
      "batch 900\n",
      "batch 1000\n",
      "batch 1100\n",
      "batch 1200\n",
      "batch 1300\n",
      "batch 1400\n",
      "batch 1500\n",
      "batch 1600\n",
      "batch 1700\n",
      "batch 1800\n",
      "batch 1900\n",
      "batch 2000\n",
      "batch 2100\n",
      "batch 2200\n",
      "batch 2300\n",
      "batch 2400\n",
      "batch 2500\n",
      "batch 2600\n",
      "batch 2700\n",
      "batch 2800\n",
      "batch 2900\n",
      "batch 3000\n",
      "batch 3100\n",
      "batch 3200\n",
      "batch 3300\n",
      "batch 3400\n",
      "batch 3500\n",
      "batch 3600\n",
      "batch 3700\n",
      "batch 3800\n",
      "batch 3900\n",
      "batch 4000\n",
      "batch 4100\n",
      "batch 4200\n"
     ]
    },
    {
     "name": "stderr",
     "output_type": "stream",
     "text": [
      "/root/home/envforir/lib/python3.10/site-packages/urllib3/connectionpool.py:1103: InsecureRequestWarning: Unverified HTTPS request is being made to host 'localhost'. Adding certificate verification is strongly advised. See: https://urllib3.readthedocs.io/en/latest/advanced-usage.html#tls-warnings\n",
      "  warnings.warn(\n",
      "/root/home/envforir/lib/python3.10/site-packages/urllib3/connectionpool.py:1103: InsecureRequestWarning: Unverified HTTPS request is being made to host 'localhost'. Adding certificate verification is strongly advised. See: https://urllib3.readthedocs.io/en/latest/advanced-usage.html#tls-warnings\n",
      "  warnings.warn(\n",
      "/root/home/envforir/lib/python3.10/site-packages/urllib3/connectionpool.py:1103: InsecureRequestWarning: Unverified HTTPS request is being made to host 'localhost'. Adding certificate verification is strongly advised. See: https://urllib3.readthedocs.io/en/latest/advanced-usage.html#tls-warnings\n",
      "  warnings.warn(\n",
      "/root/home/envforir/lib/python3.10/site-packages/urllib3/connectionpool.py:1103: InsecureRequestWarning: Unverified HTTPS request is being made to host 'localhost'. Adding certificate verification is strongly advised. See: https://urllib3.readthedocs.io/en/latest/advanced-usage.html#tls-warnings\n",
      "  warnings.warn(\n",
      "/root/home/envforir/lib/python3.10/site-packages/urllib3/connectionpool.py:1103: InsecureRequestWarning: Unverified HTTPS request is being made to host 'localhost'. Adding certificate verification is strongly advised. See: https://urllib3.readthedocs.io/en/latest/advanced-usage.html#tls-warnings\n",
      "  warnings.warn(\n",
      "/root/home/envforir/lib/python3.10/site-packages/urllib3/connectionpool.py:1103: InsecureRequestWarning: Unverified HTTPS request is being made to host 'localhost'. Adding certificate verification is strongly advised. See: https://urllib3.readthedocs.io/en/latest/advanced-usage.html#tls-warnings\n",
      "  warnings.warn(\n",
      "/root/home/envforir/lib/python3.10/site-packages/urllib3/connectionpool.py:1103: InsecureRequestWarning: Unverified HTTPS request is being made to host 'localhost'. Adding certificate verification is strongly advised. See: https://urllib3.readthedocs.io/en/latest/advanced-usage.html#tls-warnings\n",
      "  warnings.warn(\n",
      "/root/home/envforir/lib/python3.10/site-packages/urllib3/connectionpool.py:1103: InsecureRequestWarning: Unverified HTTPS request is being made to host 'localhost'. Adding certificate verification is strongly advised. See: https://urllib3.readthedocs.io/en/latest/advanced-usage.html#tls-warnings\n",
      "  warnings.warn(\n",
      "/root/home/envforir/lib/python3.10/site-packages/urllib3/connectionpool.py:1103: InsecureRequestWarning: Unverified HTTPS request is being made to host 'localhost'. Adding certificate verification is strongly advised. See: https://urllib3.readthedocs.io/en/latest/advanced-usage.html#tls-warnings\n",
      "  warnings.warn(\n"
     ]
    },
    {
     "name": "stdout",
     "output_type": "stream",
     "text": [
      "(4272, [])\n"
     ]
    }
   ],
   "source": [
    "# 문서의 content 필드에 대한 임베딩 생성\n",
    "index_docs = []\n",
    "with open(\"../data/documents.jsonl\") as f:\n",
    "    docs = [json.loads(line) for line in f]\n",
    "embeddings = get_embeddings_in_batches(docs)\n",
    "                \n",
    "# 생성한 임베딩을 색인할 필드로 추가\n",
    "for doc, embedding in zip(docs, embeddings):\n",
    "    doc[\"embeddings\"] = embedding.tolist()\n",
    "    index_docs.append(doc)\n",
    "\n",
    "# 'test' 인덱스에 대량 문서 추가\n",
    "ret = bulk_add(\"test\", index_docs)\n",
    "\n",
    "# 색인이 잘 되었는지 확인 (색인된 총 문서수가 출력되어야 함)\n",
    "print(ret)"
   ]
  },
  {
   "cell_type": "code",
   "execution_count": 87,
   "metadata": {},
   "outputs": [],
   "source": [
    "# 검색엔진에 색인이 잘 되었는지 테스트하기 위한 질의\n",
    "test_query = \"각 나라에서의 공교육 지출 현황에 대해 알려줘.\""
   ]
  },
  {
   "cell_type": "markdown",
   "metadata": {},
   "source": [
    "### Sparse Retrieval 예제 "
   ]
  },
  {
   "cell_type": "code",
   "execution_count": 88,
   "metadata": {},
   "outputs": [
    {
     "name": "stdout",
     "output_type": "stream",
     "text": [
      "score: 17.829744 source: 2017년 현재, 전세계의 공공 교육 지출은 세계 GDP의 약 4%를 차지하고 있습니다. 이는 국가들이 교육에 많은 자원을 투자하고 있다는 것을 보여줍니다. 공공 교육은 사회의 발전과 경제 성장에 중요한 역할을 합니다. 국가들은 교육을 통해 인재를 양성하고, 인구의 교육 수준을 높여 경제적인 경쟁력을 강화하고자 합니다. 따라서 많은 국가들이 교육에 많은 예산을 할당하고 있으며, 이는 세계 GDP의 4%에 해당하는 규모입니다. 이러한 투자는 국가의 교육 체계를 강화하고, 국민들의 교육 기회를 확대하는 데 도움을 줍니다. 공공 교육 지출은 국가의 교육 정책과 우선순위를 반영하며, 국가의 교육 수준과 경제 성장에 직결되는 중요한 지표입니다.\n",
      "score: 13.655198 source: 세계 의료비 총지출은 2017년 현재 세계 GDP의 약 10%를 차지하고 있습니다. 이는 세계 각국이 건강과 의료에 많은 자원을 투자하고 있다는 것을 보여줍니다. 의료비 총지출은 의료 시스템의 발전과 인구의 건강 수준 향상을 위해 중요한 지표로 사용됩니다. 세계 의료비 총지출이 GDP의 10%에 이르는 것은 의료 분야에 대한 긍정적인 투자와 의료 기술의 발전을 반영하는 결과입니다. 이러한 투자는 인류의 건강과 복지를 증진시키는 데 큰 역할을 합니다.\n",
      "score: 12.250196 source: 전기력은 전하 사이에 작용하는 힘입니다. 이 문제에서는 두 개의 전기를 띠는 공이 짧은 거리로 분리되어 있고, 그 사이에 50μN의 힘이 발생한다고 주어졌습니다. 각 공의 전하는 동일하게 유지되면서, 한 공의 질량만 두 배로 증가시킵니다.\n",
      "\n",
      "전기력은 전하의 크기와 거리에 비례하며, 전하의 크기와 질량은 독립적인 개념입니다. 따라서 한 공의 질량이 두 배로 증가하더라도, 다른 공의 전하는 변하지 않습니다.\n",
      "\n",
      "따라서, 공 사이의 새로운 전기 힘은 여전히 50μN입니다.\n",
      "score: 12.002875 source: 인도는 현재 정당 부패에 대한 의식이 높은 나라로 알려져 있다. 2013년 기준으로 인도에서 정당이 부패했다고 생각하는 사람들의 비율은 86%로 나타났다. 이는 매우 높은 수치로, 인도 사회에서 정당 부패에 대한 문제가 심각하게 인식되고 있다는 것을 보여준다. 정당 부패는 정치적인 문제로서, 국가의 발전과 안정에 부정적인 영향을 미칠 수 있다. 따라서 인도는 이 문제에 대한 대책을 마련하고, 정당 부패를 근절하기 위한 노력을 계속해야 할 것이다.\n",
      "score: 11.413562 source: 벤은 농구공에 들어있는 공기의 양이 농구공이 튀어 오르는 높이에 영향을 주는지 알고 싶어 합니다. 그는 세 개의 농구공에 공기를 채워 각 농구공을 세 번씩 떨어뜨립니다.\n",
      "\n",
      "벤이 실험을 진행할 때, 각공이 떨어지는 거리를 동일하게 유지해야 합니다. 이는 실험의 정확성과 신뢰성을 보장하기 위한 중요한 요소입니다. 만약 각공이 떨어지는 거리가 다르다면, 농구공에 들어있는 공기의 양이 농구공이 튀어 오르는 높이에 영향을 주는지 알아내는 실험 결과를 해석하는 데 어려움이 있을 수 있습니다. 따라서 벤은 실험을 진행할 때, 각공이 떨어지는 거리를 정확하게 측정하고 동일하게 유지해야 합니다. 이를 위해 벤은 실험을 진행하기 전에 각공의 높이를 측정하고, 실험 도중에는 농구공이 떨어지는 위치를 정확하게 관찰해야 합니다. 이렇게 함으로써 벤은 농구공에 들어있는 공기의 양이 농구공이 튀어 오르는 높이에 영향을 주는지 정확하게 알아낼 수 있을 것입니다.\n",
      "score: 11.007529 source: 고무 공의 움직임을 설명하는 측정치는 10m/s입니다. 이는 고무 공이 초당 10미터의 속도로 움직인다는 것을 의미합니다. 이 측정치는 고무 공의 운동에 대한 중요한 정보를 제공합니다. 고무 공은 높은 탄성을 가지고 있어서 특정한 힘을 받으면 그 힘의 방향과 반대로 튕겨나갑니다. 이러한 특성으로 인해 고무 공은 빠르게 움직이고, 그 움직임을 측정하기 위해 속도를 사용합니다. 10m/s라는 측정치는 고무 공이 매우 빠르게 움직인다는 것을 나타내며, 이는 고무 공의 탄성과 운동에 대한 특성을 이해하는 데 도움을 줍니다. 이러한 측정치는 물리학 연구나 운동 경기에서 고무 공의 움직임을 예측하고 분석하는 데에도 사용됩니다.\n",
      "score: 10.89375 source: 미국에서는 남부와 나머지 지역 사이에서 학교 인종차별 철폐에 대한 지지도 차이가 존재했습니다. 이러한 차이는 대략 40% 정도였습니다. 남부 지역에서는 학교 인종차별 철폐에 대한 지지도가 상대적으로 낮았으며, 이에 반해 나머지 지역에서는 더 높은 지지도를 보였습니다. 이러한 차이는 사회적, 경제적, 문화적인 요인들로 인해 발생했을 수 있습니다. 남부 지역은 과거에 인종차별이 심각하게 이루어진 지역으로 알려져 있으며, 이로 인해 학교 인종차별 철폐에 대한 인식이 낮을 수 있습니다. 반면에 나머지 지역은 상대적으로 인종차별이 적은 지역으로 알려져 있어 학교 인종차별 철폐에 대한 인식이 더 높을 수 있습니다. 이러한 지지도 차이는 미국 사회의 다양성과 인종관계에 대한 이해와 대화의 필요성을 강조합니다. 미국은 다양한 인종과 문화가 공존하는 나라로서, 학교 인종차별 철폐에 대한 노력이 계속되어야 합니다.\n",
      "score: 10.779272 source: AIDS에 직면한 민족문화 공동체 연구에 따르면, 한 해 동안 섹스 파트너가 한 명 이상이었던 사람들 중에서 남아시아인 남성이 영어권 카리브인 남성보다 더 많다고 보고했다. 이 연구는 세계 각 지역의 성 건강과 성 문화에 대한 중요한 인사이트를 제공하고 있다. 성병 예방 및 성 교육 프로그램을 개발하는 데 도움이 될 것으로 기대된다. 이러한 연구 결과는 성 건강을 향상시키기 위한 정책 및 개입 전략을 수립하는 데 중요한 역할을 할 것이다. 세계적으로 AIDS와 같은 성병의 확산을 막기 위해서는 성 교육과 예방 프로그램이 필수적이다. 이러한 연구 결과는 성 교육 및 예방 프로그램의 효과성을 평가하고 개선하는 데 도움이 될 것이다. 따라서 이러한 연구는 세계적인 성 건강과 성 문화의 이해를 높이는 데 기여할 것이다.\n",
      "score: 10.489066 source: 경사면을 따라 굴러 내리는 공은 일반적으로 경사면에 대해 수직인 힘인 수직력을 받습니다. 이 수직력은 항상 공의 무게인 mg보다 작습니다. 이는 공이 경사면을 따라 내려가는 동안에도 항상 아래로 향하는 중력에 의해 더 큰 힘을 받기 때문입니다. 따라서, 경사면을 따라 굴러 내리는 공은 항상 mg보다 작은 수직력을 받게 됩니다.\n",
      "score: 9.94328 source: 공의 질량은 0.20kg이며, 4.5초 동안 97미터를 남쪽으로 이동했습니다. 이 정보로부터 우리는 공의 속도와 속력을 구별할 수 있습니다. 속도는 시간에 대한 거리의 변화율로 정의되며, 이 경우에는 97미터를 4.5초 동안 이동했으므로 속도는 97미터/4.5초 = 21.56미터/초입니다. 반면에 속력은 시간에 대한 평균 속도로 정의되며, 이 경우에는 97미터를 4.5초 동안 이동했으므로 속력은 97미터/4.5초 = 21.56미터/초입니다. 따라서, 공의 속도와 속력은 모두 21.56미터/초입니다. 이 정보를 통해 우리는 공이 남쪽으로 이동했다는 사실을 확인할 수 있습니다.\n"
     ]
    },
    {
     "name": "stderr",
     "output_type": "stream",
     "text": [
      "/root/home/envforir/lib/python3.10/site-packages/urllib3/connectionpool.py:1103: InsecureRequestWarning: Unverified HTTPS request is being made to host 'localhost'. Adding certificate verification is strongly advised. See: https://urllib3.readthedocs.io/en/latest/advanced-usage.html#tls-warnings\n",
      "  warnings.warn(\n"
     ]
    }
   ],
   "source": [
    "# 역색인을 사용하는 검색 예제 \n",
    "search_result_retrieve = sparse_retrieve(test_query, 10)\n",
    "\n",
    "# 결과 출력 테스트\n",
    "for rst in search_result_retrieve['hits']['hits']:\n",
    "    print('score:', rst['_score'], 'source:', rst['_source']['content'])"
   ]
  },
  {
   "cell_type": "code",
   "execution_count": 65,
   "metadata": {},
   "outputs": [],
   "source": [
    "# dense_retrieve_2: sparse_retrieve 함수로 필터링된 문서들에 대해서만 KNN 검색\n",
    "def dense_retrieve_2(query_str, documents, size):\n",
    "    query_embedding = get_embedding([query_str][0])\n",
    "    document_ids = [doc['_id'] for doc in documents]\n",
    "    # document_embeddings = [doc['_source']['embeddings'] for doc in documents]\n",
    "    \n",
    "    knn_query = {\n",
    "        \"field\": \"embeddings\",\n",
    "        \"query_vector\": query_embedding.tolist(),\n",
    "        \"k\": size,\n",
    "        \"num_candidates\": len(documents)\n",
    "    }\n",
    "    \n",
    "    # 미리 필터링된 문서들에 대해서만 'test' 인덱스에서 KNN 검색 수행 \n",
    "    # KNN 검색을 위해 적절한 body 구조 생성\n",
    "    body = {\n",
    "        \"_source\": {\"includes\": [\"content\", \"embeddings\"]},\n",
    "        \"query\": {\n",
    "            \"bool\": {\n",
    "                \"filter\": [\n",
    "                    {\"terms\": {\"_id\": document_ids}}\n",
    "                ]\n",
    "            }\n",
    "        },\n",
    "        \"knn\": knn_query\n",
    "    }\n",
    "    \n",
    "    # 실제로 반환된 결과의 개수를 제한하기 위해 size 파라미터를 사용\n",
    "    response = es.search(index='test', body=body, size=size)\n",
    "    \n",
    "    return es.search(index='test', body=body)\n",
    "    "
   ]
  },
  {
   "cell_type": "markdown",
   "metadata": {},
   "source": [
    "### dense_retrieve_2 예제 "
   ]
  },
  {
   "cell_type": "code",
   "execution_count": 66,
   "metadata": {},
   "outputs": [
    {
     "name": "stdout",
     "output_type": "stream",
     "text": [
      "score: 0.0032792056 source: 여러 미개발국가들의 중등학교 등록 수준은 각기 다릅니다. 그 중에서도 2020년 현재 중등학교 등록률이 높은 국가들로는 콜롬비아, 페루, 우루과이, 코스타리카가 있습니다. 이들 국가들은 교육에 많은 투자를 하고 있으며, 학생들의 교육 기회를 확대하기 위해 노력하고 있습니다. 콜롬비아는 높은 등록률을 유지하면서도 교육의 질을 높이기 위해 교사들의 교육을 강화하고 있습니다. 페루는 국가 전체적으로 중등학교 등록률을 높이기 위해 정책적인 지원을 하고 있으며, 우루과이는 교육 시스템을 혁신하여 학생들의 학습 효과를 극대화하고 있습니다. 코스타리카는 교육에 대한 사회적인 인식을 높이고, 학생들의 학습 환경을 개선하기 위해 다양한 프로그램을 운영하고 있습니다. 이러한 노력들이 중등학교 등록률을 높이는 데에 큰 역할을 하고 있습니다.\n",
      "score: 0.0030429724 source: 에티오피아에서는 2009년에 8세 아동들 중 38%가 지난 주에 선생님으로부터 체벌을 받았다고 보고했습니다. 이는 매우 높은 비율입니다. 아동들은 학교에서 안전하게 배울 수 있어야 합니다. 그러나 이러한 체벌은 아동들의 신체적, 정서적, 인지적 발달에 부정적인 영향을 미칠 수 있습니다. 따라서 에티오피아 교육 당국은 이 문제에 대해 심각하게 대처해야 합니다. 체벌을 받은 아동들을 보호하고, 교사들에게 교육적인 대안을 제공하는 것이 필요합니다. 이를 통해 에티오피아의 교육 환경을 개선하고, 모든 아동들이 안전하게 학교에서 배울 수 있는 기회를 가질 수 있도록 해야 합니다.\n",
      "score: 0.0029874237 source: 2014년 현재, 사하라 이남 아프리카 국가들 중 초등학교 재학 연령임에도 학교를 다니지 않는 아동은 약 20%입니다. 이는 매우 높은 비율로, 아프리카 대륙에서 교육의 어려움을 보여주는 지표입니다. 이러한 상황은 경제적인 이유, 가족의 사회적인 압력, 교육 시설의 부족 등 다양한 요인으로 인해 발생할 수 있습니다. 이러한 문제를 해결하기 위해 국제 기구들과 현지 정부들은 교육에 대한 투자를 증가시키고, 교육 시설을 개선하며, 교사들의 교육 수준을 높이는 등의 노력을 기울이고 있습니다. 그러나 아직도 많은 어려움이 남아있어, 국제사회의 지속적인 관심과 지원이 필요합니다.\n",
      "score: 0.0 source: AIDS에 직면한 민족문화 공동체 연구에 따르면, 한 해 동안 섹스 파트너가 한 명 이상이었던 사람들 중에서 남아시아인 남성이 영어권 카리브인 남성보다 더 많다고 보고했다. 이 연구는 세계 각 지역의 성 건강과 성 문화에 대한 중요한 인사이트를 제공하고 있다. 성병 예방 및 성 교육 프로그램을 개발하는 데 도움이 될 것으로 기대된다. 이러한 연구 결과는 성 건강을 향상시키기 위한 정책 및 개입 전략을 수립하는 데 중요한 역할을 할 것이다. 세계적으로 AIDS와 같은 성병의 확산을 막기 위해서는 성 교육과 예방 프로그램이 필수적이다. 이러한 연구 결과는 성 교육 및 예방 프로그램의 효과성을 평가하고 개선하는 데 도움이 될 것이다. 따라서 이러한 연구는 세계적인 성 건강과 성 문화의 이해를 높이는 데 기여할 것이다.\n",
      "score: 0.0 source: 세계 의료비 총지출은 2017년 현재 세계 GDP의 약 10%를 차지하고 있습니다. 이는 세계 각국이 건강과 의료에 많은 자원을 투자하고 있다는 것을 보여줍니다. 의료비 총지출은 의료 시스템의 발전과 인구의 건강 수준 향상을 위해 중요한 지표로 사용됩니다. 세계 의료비 총지출이 GDP의 10%에 이르는 것은 의료 분야에 대한 긍정적인 투자와 의료 기술의 발전을 반영하는 결과입니다. 이러한 투자는 인류의 건강과 복지를 증진시키는 데 큰 역할을 합니다.\n",
      "score: 0.0 source: 전기력은 전하 사이에 작용하는 힘입니다. 이 문제에서는 두 개의 전기를 띠는 공이 짧은 거리로 분리되어 있고, 그 사이에 50μN의 힘이 발생한다고 주어졌습니다. 각 공의 전하는 동일하게 유지되면서, 한 공의 질량만 두 배로 증가시킵니다.\n",
      "\n",
      "전기력은 전하의 크기와 거리에 비례하며, 전하의 크기와 질량은 독립적인 개념입니다. 따라서 한 공의 질량이 두 배로 증가하더라도, 다른 공의 전하는 변하지 않습니다.\n",
      "\n",
      "따라서, 공 사이의 새로운 전기 힘은 여전히 50μN입니다.\n",
      "score: 0.0 source: 고무 공의 움직임을 설명하는 측정치는 10m/s입니다. 이는 고무 공이 초당 10미터의 속도로 움직인다는 것을 의미합니다. 이 측정치는 고무 공의 운동에 대한 중요한 정보를 제공합니다. 고무 공은 높은 탄성을 가지고 있어서 특정한 힘을 받으면 그 힘의 방향과 반대로 튕겨나갑니다. 이러한 특성으로 인해 고무 공은 빠르게 움직이고, 그 움직임을 측정하기 위해 속도를 사용합니다. 10m/s라는 측정치는 고무 공이 매우 빠르게 움직인다는 것을 나타내며, 이는 고무 공의 탄성과 운동에 대한 특성을 이해하는 데 도움을 줍니다. 이러한 측정치는 물리학 연구나 운동 경기에서 고무 공의 움직임을 예측하고 분석하는 데에도 사용됩니다.\n",
      "score: 0.0 source: 인도는 현재 정당 부패에 대한 의식이 높은 나라로 알려져 있다. 2013년 기준으로 인도에서 정당이 부패했다고 생각하는 사람들의 비율은 86%로 나타났다. 이는 매우 높은 수치로, 인도 사회에서 정당 부패에 대한 문제가 심각하게 인식되고 있다는 것을 보여준다. 정당 부패는 정치적인 문제로서, 국가의 발전과 안정에 부정적인 영향을 미칠 수 있다. 따라서 인도는 이 문제에 대한 대책을 마련하고, 정당 부패를 근절하기 위한 노력을 계속해야 할 것이다.\n",
      "score: 0.0 source: 벤은 농구공에 들어있는 공기의 양이 농구공이 튀어 오르는 높이에 영향을 주는지 알고 싶어 합니다. 그는 세 개의 농구공에 공기를 채워 각 농구공을 세 번씩 떨어뜨립니다.\n",
      "\n",
      "벤이 실험을 진행할 때, 각공이 떨어지는 거리를 동일하게 유지해야 합니다. 이는 실험의 정확성과 신뢰성을 보장하기 위한 중요한 요소입니다. 만약 각공이 떨어지는 거리가 다르다면, 농구공에 들어있는 공기의 양이 농구공이 튀어 오르는 높이에 영향을 주는지 알아내는 실험 결과를 해석하는 데 어려움이 있을 수 있습니다. 따라서 벤은 실험을 진행할 때, 각공이 떨어지는 거리를 정확하게 측정하고 동일하게 유지해야 합니다. 이를 위해 벤은 실험을 진행하기 전에 각공의 높이를 측정하고, 실험 도중에는 농구공이 떨어지는 위치를 정확하게 관찰해야 합니다. 이렇게 함으로써 벤은 농구공에 들어있는 공기의 양이 농구공이 튀어 오르는 높이에 영향을 주는지 정확하게 알아낼 수 있을 것입니다.\n",
      "score: 0.0 source: 공의 질량은 0.20kg이며, 4.5초 동안 97미터를 남쪽으로 이동했습니다. 이 정보로부터 우리는 공의 속도와 속력을 구별할 수 있습니다. 속도는 시간에 대한 거리의 변화율로 정의되며, 이 경우에는 97미터를 4.5초 동안 이동했으므로 속도는 97미터/4.5초 = 21.56미터/초입니다. 반면에 속력은 시간에 대한 평균 속도로 정의되며, 이 경우에는 97미터를 4.5초 동안 이동했으므로 속력은 97미터/4.5초 = 21.56미터/초입니다. 따라서, 공의 속도와 속력은 모두 21.56미터/초입니다. 이 정보를 통해 우리는 공이 남쪽으로 이동했다는 사실을 확인할 수 있습니다.\n"
     ]
    },
    {
     "name": "stderr",
     "output_type": "stream",
     "text": [
      "/tmp/ipykernel_1102401/2457609031.py:29: DeprecationWarning: The 'body' parameter is deprecated and will be removed in a future version. Instead use individual parameters.\n",
      "  response = es.search(index='test', body=body, size=size)\n",
      "/root/home/envforir/lib/python3.10/site-packages/urllib3/connectionpool.py:1103: InsecureRequestWarning: Unverified HTTPS request is being made to host 'localhost'. Adding certificate verification is strongly advised. See: https://urllib3.readthedocs.io/en/latest/advanced-usage.html#tls-warnings\n",
      "  warnings.warn(\n",
      "/tmp/ipykernel_1102401/2457609031.py:31: DeprecationWarning: The 'body' parameter is deprecated and will be removed in a future version. Instead use individual parameters.\n",
      "  return es.search(index='test', body=body)\n",
      "/root/home/envforir/lib/python3.10/site-packages/urllib3/connectionpool.py:1103: InsecureRequestWarning: Unverified HTTPS request is being made to host 'localhost'. Adding certificate verification is strongly advised. See: https://urllib3.readthedocs.io/en/latest/advanced-usage.html#tls-warnings\n",
      "  warnings.warn(\n"
     ]
    }
   ],
   "source": [
    "# Vector 유사도 사용한 검색 예제\n",
    "search_result_retrieve = dense_retrieve_2(test_query, search_result_retrieve['hits']['hits'], 3)\n",
    "\n",
    "# 결과 출력 테스트\n",
    "for rst in search_result_retrieve['hits']['hits']:\n",
    "    print('score:', rst['_score'], 'source:', rst['_source'][\"content\"])"
   ]
  },
  {
   "cell_type": "markdown",
   "metadata": {},
   "source": [
    "### Dense Retrieval 예제"
   ]
  },
  {
   "cell_type": "code",
   "execution_count": 67,
   "metadata": {},
   "outputs": [
    {
     "name": "stdout",
     "output_type": "stream",
     "text": [
      "score: 0.0032792056 source: 여러 미개발국가들의 중등학교 등록 수준은 각기 다릅니다. 그 중에서도 2020년 현재 중등학교 등록률이 높은 국가들로는 콜롬비아, 페루, 우루과이, 코스타리카가 있습니다. 이들 국가들은 교육에 많은 투자를 하고 있으며, 학생들의 교육 기회를 확대하기 위해 노력하고 있습니다. 콜롬비아는 높은 등록률을 유지하면서도 교육의 질을 높이기 위해 교사들의 교육을 강화하고 있습니다. 페루는 국가 전체적으로 중등학교 등록률을 높이기 위해 정책적인 지원을 하고 있으며, 우루과이는 교육 시스템을 혁신하여 학생들의 학습 효과를 극대화하고 있습니다. 코스타리카는 교육에 대한 사회적인 인식을 높이고, 학생들의 학습 환경을 개선하기 위해 다양한 프로그램을 운영하고 있습니다. 이러한 노력들이 중등학교 등록률을 높이는 데에 큰 역할을 하고 있습니다.\n",
      "score: 0.0030429724 source: 에티오피아에서는 2009년에 8세 아동들 중 38%가 지난 주에 선생님으로부터 체벌을 받았다고 보고했습니다. 이는 매우 높은 비율입니다. 아동들은 학교에서 안전하게 배울 수 있어야 합니다. 그러나 이러한 체벌은 아동들의 신체적, 정서적, 인지적 발달에 부정적인 영향을 미칠 수 있습니다. 따라서 에티오피아 교육 당국은 이 문제에 대해 심각하게 대처해야 합니다. 체벌을 받은 아동들을 보호하고, 교사들에게 교육적인 대안을 제공하는 것이 필요합니다. 이를 통해 에티오피아의 교육 환경을 개선하고, 모든 아동들이 안전하게 학교에서 배울 수 있는 기회를 가질 수 있도록 해야 합니다.\n",
      "score: 0.0029874237 source: 2014년 현재, 사하라 이남 아프리카 국가들 중 초등학교 재학 연령임에도 학교를 다니지 않는 아동은 약 20%입니다. 이는 매우 높은 비율로, 아프리카 대륙에서 교육의 어려움을 보여주는 지표입니다. 이러한 상황은 경제적인 이유, 가족의 사회적인 압력, 교육 시설의 부족 등 다양한 요인으로 인해 발생할 수 있습니다. 이러한 문제를 해결하기 위해 국제 기구들과 현지 정부들은 교육에 대한 투자를 증가시키고, 교육 시설을 개선하며, 교사들의 교육 수준을 높이는 등의 노력을 기울이고 있습니다. 그러나 아직도 많은 어려움이 남아있어, 국제사회의 지속적인 관심과 지원이 필요합니다.\n"
     ]
    },
    {
     "name": "stderr",
     "output_type": "stream",
     "text": [
      "/root/home/envforir/lib/python3.10/site-packages/urllib3/connectionpool.py:1103: InsecureRequestWarning: Unverified HTTPS request is being made to host 'localhost'. Adding certificate verification is strongly advised. See: https://urllib3.readthedocs.io/en/latest/advanced-usage.html#tls-warnings\n",
      "  warnings.warn(\n"
     ]
    }
   ],
   "source": [
    "# Vector 유사도 사용한 검색 예제\n",
    "search_result_retrieve = dense_retrieve(test_query, 3)\n",
    "\n",
    "# 결과 출력 테스트\n",
    "for rst in search_result_retrieve['hits']['hits']:\n",
    "    print('score:', rst['_score'], 'source:', rst['_source'][\"content\"])"
   ]
  },
  {
   "cell_type": "markdown",
   "metadata": {},
   "source": [
    "# RAG 구현\n",
    "준비된 검색엔진과 LLM을 활용하셔 대화형 RAG 구현"
   ]
  },
  {
   "cell_type": "code",
   "execution_count": 93,
   "metadata": {},
   "outputs": [],
   "source": [
    "import os\n",
    "import openai\n",
    "import traceback\n",
    "\n",
    "# OpenAI 클라이언트 초기화\n",
    "openai.api_key = os.getenv(\"OPENAI_API_KEY\")\n",
    "\n",
    "# 사용할 모델 설정 (여기서는 gpt-3.5-turbo 모델 사용)\n",
    "llm_model = \"gpt-3.5-turbo\""
   ]
  },
  {
   "cell_type": "code",
   "execution_count": 94,
   "metadata": {},
   "outputs": [],
   "source": [
    "# RAG 구현에 필요한 Question Answering을 위한 LLM  프롬프트\n",
    "persona_qa = \"\"\"\n",
    "## Role: 과학 상식 전문가\n",
    "\n",
    "## Instructions\n",
    "- 사용자의 이전 메시지 정보 및 주어진 Reference 정보를 활용하여 간결하게 답변을 생성한다.\n",
    "- 주어진 검색 결과 정보로 대답할 수 없는 경우는 정보가 부족해서 답을 할 수 없다고 대답한다.\n",
    "- 한국어로 답변을 생성한다.\n",
    "\"\"\"\n",
    "\n",
    "# RAG 구현에 필요한 질의 분석 및 검색 이외의 일반 질의 대응을 위한 LLM 프롬프트\n",
    "persona_function_calling = \"\"\"\n",
    "## Role: 과학 상식 전문가\n",
    "\n",
    "## Instruction\n",
    "- 사용자가 대화를 통해 과학 지식에 관한 주제로 질문하면 search api를 호출할 수 있어야 한다.\n",
    "- 과학 상식과 관련되지 않은 나머지 대화 메시지에는 적절한 대답을 생성한다.\n",
    "\"\"\"\n",
    "\n",
    "# Function calling에 사용할 함수 정의\n",
    "tools = [\n",
    "    {\n",
    "        \"type\": \"function\",\n",
    "        \"function\": {\n",
    "            \"name\": \"search\",\n",
    "            \"description\": \"search relevant documents\",\n",
    "            \"parameters\": {\n",
    "                \"properties\": {\n",
    "                    \"standalone_query\": {\n",
    "                        \"type\": \"string\",\n",
    "                        \"description\": \"Final query suitable for use in search from the user messages history.\"\n",
    "                    }\n",
    "                },\n",
    "                \"required\": [\"standalone_query\"],\n",
    "                \"type\": \"object\"\n",
    "            }\n",
    "        }\n",
    "    },\n",
    "]\n"
   ]
  },
  {
   "cell_type": "code",
   "execution_count": 98,
   "metadata": {},
   "outputs": [],
   "source": [
    "# LLM과 검색엔진을 활용한 RAG 구현\n",
    "def answer_question(messages):\n",
    "    # 함수 출력 초기화\n",
    "    response = {\"standalone_query\": \"\", \"topk\": [], \"references\": [], \"answer\": \"\"}\n",
    "\n",
    "    # 질의 분석 및 검색 이외의 질의 대응을 위한 LLM 활용\n",
    "    msg = [{\"role\": \"system\", \"content\": persona_function_calling}] + messages\n",
    "    try:\n",
    "        result = openai.ChatCompletion.create(\n",
    "            model=llm_model,\n",
    "            messages=msg,\n",
    "            temperature=0,\n",
    "            timeout=10\n",
    "        )\n",
    "    except Exception as e:\n",
    "        traceback.print_exc()\n",
    "        return response\n",
    "\n",
    "    # 검색이 필요한 경우 검색 호출후 결과를 활용하여 답변 생성\n",
    "    try:\n",
    "        function_args = result.choices[0].message.get('function_call', {}).get('arguments', None)\n",
    "        if function_args:\n",
    "            function_args = json.loads(function_args)\n",
    "            standalone_query = function_args.get(\"standalone_query\")\n",
    "\n",
    "            # retriever 설정!!!\n",
    "            search_result = dense_retrieve(standalone_query, 3)\n",
    "\n",
    "            response[\"standalone_query\"] = standalone_query\n",
    "            retrieved_context = []\n",
    "            for i, rst in enumerate(search_result['hits']['hits']):\n",
    "                retrieved_context.append(rst[\"_source\"][\"content\"])\n",
    "                response[\"topk\"].append(rst[\"_source\"][\"docid\"])\n",
    "                response[\"references\"].append({\"score\": rst[\"_score\"], \"content\": rst[\"_source\"][\"content\"]})\n",
    "\n",
    "            content = json.dumps(retrieved_context)\n",
    "            messages.append({\"role\": \"assistant\", \"content\": content})\n",
    "            msg = [{\"role\": \"system\", \"content\": persona_qa}] + messages\n",
    "            try:\n",
    "                qaresult = openai.ChatCompletion.create(\n",
    "                    model=llm_model,\n",
    "                    messages=msg,\n",
    "                    temperature=0,\n",
    "                    timeout=30\n",
    "                )\n",
    "            except Exception as e:\n",
    "                traceback.print_exc()\n",
    "                return response\n",
    "            response[\"answer\"] = qaresult.choices[0].message['content']\n",
    "        else:\n",
    "            response[\"answer\"] = result.choices[0].message['content']\n",
    "    except AttributeError as e:\n",
    "        traceback.print_exc()\n",
    "        response[\"answer\"] = result.choices[0].message['content']\n",
    "\n",
    "    return response\n",
    "\n"
   ]
  },
  {
   "cell_type": "code",
   "execution_count": 99,
   "metadata": {},
   "outputs": [],
   "source": [
    "# def answer_question(messages):\n",
    "#     # 함수 출력 초기화\n",
    "#     response = {\"standalone_query\": \"\", \"topk\": [], \"references\": [], \"answer\": \"\"}\n",
    "\n",
    "#     # 질의 분석 및 검색 이외의 질의 대응을 위한 LLM 활용\n",
    "#     msg = [{\"role\": \"system\", \"content\": persona_function_calling}] + messages\n",
    "#     try:\n",
    "#         result = client.chat.completions.create(\n",
    "#             model=llm_model,\n",
    "#             messages=msg,\n",
    "#             tools=tools,\n",
    "#             temperature=0,\n",
    "#             seed=1,\n",
    "#             timeout=10\n",
    "#         )\n",
    "#     except Exception as e:\n",
    "#         traceback.print_exc()\n",
    "#         return response\n",
    "\n",
    "#     # 검색이 필요한 경우 검색 호출후 결과를 활용하여 답변 생성\n",
    "#     if result.choices[0].message.tool_calls:\n",
    "#         tool_call = result.choices[0].message.tool_calls[0]\n",
    "#         function_args = json.loads(tool_call.function.arguments)\n",
    "#         standalone_query = function_args.get(\"standalone_query\")\n",
    "\n",
    "#         # Baseline으로 sparse_retrieve로 10개 결과 추출\n",
    "#         initial_search_result = sparse_retrieve(standalone_query, 10)\n",
    "\n",
    "#         # sparse_retrieve 결과를 dense_retrieve_2로 3개 결과 추출\n",
    "#         filtered_search_result = dense_retrieve_2(standalone_query, initial_search_result['hits']['hits'], 3)\n",
    "\n",
    "#         # response[\"standalone_query\"] = standalone_query\n",
    "#         # retrieved_context = []\n",
    "#         # for i, rst in enumerate(filtered_search_result['hits']['hits']):\n",
    "#         #     retrieved_context.append(rst[\"_source\"][\"content\"])\n",
    "#         #     response[\"topk\"].append(rst[\"_source\"][\"docid\"])\n",
    "#         #     response[\"references\"].append({\"score\": rst[\"_score\"], \"content\": rst[\"_source\"][\"content\"]})\n",
    "\n",
    "#         response[\"standalone_query\"] = standalone_query\n",
    "#         retrieved_context = []\n",
    "#         for i, rst in enumerate(filtered_search_result['hits']['hits']):\n",
    "#             retrieved_context.append(rst[\"_source\"][\"content\"])\n",
    "#             response[\"topk\"].append(rst[\"_id\"])  # 여기를 수정: \"docid\" 대신 \"_id\" 사용\n",
    "#             response[\"references\"].append({\"score\": rst[\"_score\"], \"content\": rst[\"_source\"][\"content\"]})\n",
    "        \n",
    "#         content = json.dumps(retrieved_context)\n",
    "#         messages.append({\"role\": \"assistant\", \"content\": content})\n",
    "#         msg = [{\"role\": \"system\", \"content\": persona_qa}] + messages\n",
    "#         try:\n",
    "#             qaresult = client.chat.completions.create(\n",
    "#                 model=llm_model,\n",
    "#                 messages=msg,\n",
    "#                 temperature=0,\n",
    "#                 seed=1,\n",
    "#                 timeout=30\n",
    "#             )\n",
    "#         except Exception as e:\n",
    "#             traceback.print_exc()\n",
    "#             return response\n",
    "#         response[\"answer\"] = qaresult.choices[0].message.content\n",
    "\n",
    "#     # 검색이 필요하지 않은 경우 바로 답변 생성\n",
    "#     else:\n",
    "#         response[\"answer\"] = result.choices[0].message.content\n",
    "\n",
    "#     return response\n"
   ]
  },
  {
   "cell_type": "code",
   "execution_count": 100,
   "metadata": {},
   "outputs": [],
   "source": [
    "# 평가를 위한 파일을 읽어서 각 평가 데이터에 대해서 결과 추출후 파일에 저장\n",
    "def eval_rag(eval_filename, output_filename):\n",
    "    with open(eval_filename) as f, open(output_filename, \"w\") as of:\n",
    "        idx = 0\n",
    "        for line in f:\n",
    "            # if idx > 5:\n",
    "            #   break\n",
    "            j = json.loads(line)\n",
    "            print(f'Test {idx}\\nQuestion: {j[\"msg\"]}')\n",
    "            response = answer_question(j[\"msg\"])\n",
    "            print(f'Answer: {response[\"answer\"]}\\n')\n",
    "\n",
    "            # 대회 score 계산은 topk 정보를 사용, answer 정보는 LLM을 통한 자동평가시 활용\n",
    "            output = {\"eval_id\": j[\"eval_id\"], \"standalone_query\": response[\"standalone_query\"], \"topk\": response[\"topk\"], \"answer\": response[\"answer\"], \"references\": response[\"references\"]}\n",
    "            of.write(f'{json.dumps(output, ensure_ascii=False)}\\n')\n",
    "            idx += 1\n"
   ]
  },
  {
   "cell_type": "code",
   "execution_count": 101,
   "metadata": {},
   "outputs": [
    {
     "name": "stdout",
     "output_type": "stream",
     "text": [
      "Test 0\n",
      "Question: [{'role': 'user', 'content': '나무의 분류에 대해 조사해 보기 위한 방법은?'}]\n",
      "Answer: 나무의 분류를 조사하기 위한 방법은 주로 식물학적인 방법을 사용합니다. 일반적으로 다음과 같은 단계를 따릅니다:\n",
      "1. 잎, 꽃, 열매 등의 외부 형태를 관찰하여 식별합니다.\n",
      "2. 나무의 잎의 형태, 잎의 배치, 꽃과 열매의 형태 등을 토대로 식별합니다.\n",
      "3. 꽃의 구조, 열매의 특징, 줄기의 형태 등을 통해 나무를 분류합니다.\n",
      "4. 분류된 나무를 식물 분류표를 참고하여 명확히 식별합니다.\n",
      "\n",
      "이외에도 DNA 분석을 통해 나무를 분류하는 방법도 있습니다. DNA 분석을 통해 유전적으로 유사한 나무들을 그룹화하여 분류할 수 있습니다.\n",
      "\n",
      "Test 1\n",
      "Question: [{'role': 'user', 'content': '각 나라에서의 공교육 지출 현황에 대해 알려줘.'}]\n",
      "Answer: 죄송합니다, 제가 직접 정보를 제공해 드릴 수는 없지만, 인터넷을 통해 각 나라에서의 공교육 지출 현황에 대한 자세한 정보를 얻을 수 있습니다. 국제기구나 각 나라 정부의 통계청 웹사이트에서 해당 정보를 확인할 수 있습니다. 혹시 다른 과학 관련 질문이 있으신가요?\n",
      "\n",
      "Test 2\n",
      "Question: [{'role': 'user', 'content': '기억 상실증 걸리면 너무 무섭겠다.'}, {'role': 'assistant', 'content': '네 맞습니다.'}, {'role': 'user', 'content': '어떤 원인 때문에 발생하는지 궁금해.'}]\n",
      "Answer: 기억 상실증은 다양한 원인으로 발생할 수 있습니다. 뇌 손상, 뇌졸중, 알츠하이머병, 외상, 스트레스, 우울증, 뇌졸중 등이 그 중 일부 원인으로 알려져 있습니다. 정확한 진단과 치료를 위해서는 전문가의 상담이 필요합니다.\n",
      "\n",
      "Test 3\n",
      "Question: [{'role': 'user', 'content': '통학 버스의 가치에 대해 말해줘.'}]\n",
      "Answer: 통학 버스는 학생들이 학교로 통학할 때 이용하는 버스를 말합니다. 통학 버스는 학생들에게 안전하고 편리한 교통수단을 제공하여 학교 출결률을 높이고 교육 환경을 개선하는 데 기여합니다. 또한 대중교통을 이용함으로써 환경 보호에도 도움을 줄 수 있습니다. 통학 버스는 학생들의 안전과 편의를 고려하여 설계되어 있으며, 학교 교육 시스템의 중요한 부분을 이루고 있습니다.\n",
      "\n",
      "Test 4\n",
      "Question: [{'role': 'user', 'content': 'Dmitri Ivanovsky가 누구야?'}]\n",
      "Answer: Dmitri Ivanovsky는 19세기 말에 바이러스의 발견에 기여한 러시아의 미생물학자입니다. 그는 탐구 중인 병해균이 필터를 통과하여도 감염력을 유지하는 것을 발견하여, 이후 바이러스의 성질을 연구하는 데 중요한 역할을 하였습니다.\n",
      "\n",
      "Test 5\n",
      "Question: [{'role': 'user', 'content': '피임을 하기 위한 방법중 약으로 처리하는 방법은 쓸만한가?'}]\n",
      "Answer: 약을 이용한 피임은 매우 효과적인 방법 중 하나입니다. 특히 정기적으로 복용하고 지침을 잘 따른다면 안전하고 신뢰할 수 있는 방법입니다. 그러나 약물에는 부작용이 있을 수 있으므로 의사나 약사와 상담하여 적합한 약물을 선택하고 사용하는 것이 중요합니다. 또한 약물 피임은 성병을 예방하지 않으므로 이 점도 유의해야 합니다.\n",
      "\n",
      "Test 6\n",
      "Question: [{'role': 'user', 'content': '헬륨이 다른 원소들과 반응을 잘 안하는 이유는?'}]\n",
      "Answer: 헬륨은 안정한 원자 구조를 가지고 있어 다른 원소들과 반응을 잘 하지 않는다. 헬륨은 원자 번호 2로 가장 단순한 원소 중 하나이며, 외부 전자 껍질이 이미 가득 차 있어 다른 원자와 결합하기 어렵습니다. 이러한 안정성으로 인해 헬륨은 거의 반응하지 않고, 인공적으로도 헬륨 분자를 만드는 것이 매우 어렵습니다.\n",
      "\n",
      "Test 7\n",
      "Question: [{'role': 'user', 'content': '문맹 비율이 사회 발전에 미치는 영향은?'}]\n",
      "Answer: 문맹 비율이 사회 발전에 미치는 영향은 매우 큽니다. 문맹은 지식과 정보에 대한 접근을 제한하고, 개인의 능력과 기회를 제한할 수 있습니다. 문맹자들은 새로운 기술이나 혁신에 대한 이해가 부족할 뿐만 아니라, 의사소통과 사회 참여에도 제약을 받을 수 있습니다. 이로 인해 사회 전체의 발전 속도가 느려지고, 빈곤과 불평등이 심화될 수 있습니다.\n",
      "\n",
      "따라서 문맹 비율을 낮추고, 교육 기회를 확대하는 것은 사회 발전을 촉진하는 중요한 요소 중 하나입니다. 교육을 통해 지식과 기술을 습득하고, 창의적 사고와 문제 해결 능력을 키움으로써 사회 구성원들이 더 나은 미래를 향해 발전할 수 있습니다.\n",
      "\n",
      "Test 8\n",
      "Question: [{'role': 'user', 'content': '이란 콘트라 사건이 뭐야'}, {'role': 'assistant', 'content': '이란-콘트라 사건은 로널드 레이건 집권기인 1986년에 레이건 행정부와 CIA가 적성국이었던 이란에게 무기를 몰래 수출한 대금으로 니카라과의 우익 성향 반군 콘트라를 지원하면서 동시에 반군으로부터 마약을 사들인 후 미국에 판매하다가 발각되어 큰 파장을 일으킨 사건입니다.'}, {'role': 'user', 'content': '이 사건이 미국 정치에 미친 영향은?'}]\n",
      "Answer: 이란-콘트라 사건은 미국 정치에 큰 영향을 미쳤습니다. 이 사건으로 인해 미국 내부에서 레이건 행정부와 CIA의 비리가 드러나면서 미국 국민들의 불신을 샀고, 레이건 대통령의 인기가 하락하게 되었습니다. 또한 이 사건은 미국의 대외 정책에도 영향을 미쳤는데, 이란과 니카라과에 대한 미국의 정책이 비난받고 논란이 일어나게 되었습니다. 이후 이 사건은 미국의 정치적인 변화와 외교적인 영향을 남기게 되었습니다.\n",
      "\n",
      "Test 9\n",
      "Question: [{'role': 'user', 'content': '자기장이 얼마나 센지 표현하는 방식은?'}]\n",
      "Answer: 자기장의 세기는 테슬라(Tesla) 단위로 측정됩니다. 지구의 자기장은 약 25 ~ 65 마이크로테슬라 정도이며, 비교적 약한 편에 속합니다. 반면 태양의 자기장은 수백 가지의 테슬라에 달할 수도 있습니다. 자기장의 세기는 위치에 따라 다르며, 지구의 자기장은 지자기 극과 지자기 적도를 따라 다양한 강도를 보입니다.\n",
      "\n",
      "Test 10\n",
      "Question: [{'role': 'user', 'content': '피를 맑게 하고 몸 속의 노폐물을 없애는 역할을 하는 기관은?'}]\n",
      "Answer: 간이 피를 맑게 하고 몸 속의 노폐물을 없애는 역할을 합니다. 간은 우리 몸에서 중요한 기능을 맡고 있는 장기 중 하나이며, 신진대사를 조절하고 독소를 제거하는 역할을 합니다. 이를 통해 우리 몸의 건강을 유지하는 데 중요한 역할을 합니다.\n",
      "\n",
      "Test 11\n",
      "Question: [{'role': 'user', 'content': '글리코겐의 분해는 인체에서 왜 필요한가?'}]\n",
      "Answer: 글리코겐은 우리 신체에서 중요한 역할을 합니다. 글리코겐은 운동이나 급격한 에너지 필요 시에 혈당을 유지하고 우리 근육과 간에 저장된 형태의 포도당입니다. 글리코겐은 인체에서 에너지를 공급하는 주요 원천 중 하나이며, 글리코겐의 분해는 혈당을 유지하고 우리 신체가 원활하게 기능할 수 있도록 도와줍니다.\n",
      "\n",
      "Test 12\n",
      "Question: [{'role': 'user', 'content': '빗방울이 점점 커지게 되는 요인은?'}]\n",
      "Answer: 빗방울이 점점 커지게 되는 요인은 주로 두 가지입니다. 첫 번째는 빗방울이 구름 속에서 물방울과 충돌하여 계속 성장하는 현상입니다. 물방울이 충돌할수록 물방울이 커지게 됩니다. 두 번째는 물방울이 구름 속에서 얼음 결정과 결합하여 성장하는 현상입니다. 얼음 결정과 결합할수록 빗방울이 커지게 됩니다.\n",
      "\n",
      "Test 13\n",
      "Question: [{'role': 'user', 'content': '기체의 부피나 형태가 왜 일정하지 않을까?'}]\n",
      "Answer: 기체의 부피나 형태가 일정하지 않은 이유는 기체 분자들이 자유롭게 움직이고 있기 때문입니다. 기체는 분자들이 매우 빠르게 움직이며 서로 충돌하면서 운동하고 있기 때문에 부피나 형태가 일정하지 않습니다. 이러한 특성으로 인해 기체는 주어진 용기 안에서 가득 채우게 되며, 용기의 형태에 맞게 모양을 변화시킵니다.\n",
      "\n",
      "Test 14\n",
      "Question: [{'role': 'user', 'content': '식물이 빛을 에너지로 변환하는 과정에 대해 설명해줘.'}]\n",
      "Answer: 식물이 빛을 에너지로 변환하는 과정은 광합성이라고 불립니다. 광합성은 엽록소라는 엽록체 내에서 일어나며, 엽록소는 빛을 흡수하여 에너지로 변환합니다. 이때, 이 과정에서 물과 이산화탄소가 사용되어 산소와 포도당(당분)이 생성됩니다. 이러한 과정은 광합성 반응이라고 불리며, 식물이 생존하기 위한 중요한 과정 중 하나입니다.\n",
      "\n",
      "Test 15\n",
      "Question: [{'role': 'user', 'content': '직류와 교류 전류의 차이에 대해 알려줘.'}]\n",
      "Answer: 직류(DC)와 교류(AC)는 전기 전류의 흐름 방향에 따라 구분되는 두 가지 유형의 전류입니다.\n",
      "\n",
      "1. 직류(DC: Direct Current):\n",
      "- 전류가 항상 한 방향으로 일정하게 흐르는 전류입니다.\n",
      "- 전압이 일정하게 유지되는 특징이 있습니다.\n",
      "- 전자들이 일정한 방향으로 이동하므로 전류의 방향이 변하지 않습니다.\n",
      "- 전지, 배터리 등에서 발생하는 전류가 대표적인 직류입니다.\n",
      "\n",
      "2. 교류(AC: Alternating Current):\n",
      "- 전류가 주기적으로 방향을 바꾸면서 흐르는 전류입니다.\n",
      "- 전압이 주기적으로 변하는 특징이 있습니다.\n",
      "- 발전소에서 생산되는 전기나 가정용 전원이 대표적인 교류입니다.\n",
      "- 교류는 전력을 멀리 전송하는 데 효율적이며, 변압기를 통해 전압을 조절하기 쉽습니다.\n",
      "\n",
      "이렇게 직류와 교류는 전류의 흐름 방향과 특징 등에서 차이가 있습니다.\n",
      "\n",
      "Test 16\n",
      "Question: [{'role': 'user', 'content': '기름과 물이 섞여 있을 수 있나?'}]\n",
      "Answer: 네, 기름과 물은 서로 섞일 수 없는 두 가지 물질입니다. 이는 물은 극성이 있는 분자로서 수소와 산소 사이에 전기음성도가 존재하고, 기름은 비극성인 물질이기 때문에 서로 혼합되지 않습니다. 이를 수반분리라고 합니다.\n",
      "\n",
      "Test 17\n",
      "Question: [{'role': 'user', 'content': '인간이 2세를 생산할 때 DNA의 결합 과정에 대히 설명해줘.'}]\n",
      "Answer: DNA의 결합 과정은 생식 세포인 생식세포에서 발생합니다. 인간의 생식 세포는 각각 23쌍의 염색체를 가지고 있습니다. 부모로부터 각각 하나씩 받은 염색체들이 결합하여 새로운 염색체를 형성하는 과정을 말합니다.\n",
      "\n",
      "남성의 정자와 여성의 난자가 만나서 합체를 하면 새로운 염색체가 생성됩니다. 이때, 각각의 염색체는 DNA라는 유전물질을 가지고 있는데, DNA는 염색체 안에 존재하는 유전자들의 모음입니다. 정자와 난자가 합체되면 각각의 염색체에서 DNA가 서로 교차하면서 유전자들이 섞이게 됩니다. 이를 염색체 재조합이라고 합니다.\n",
      "\n",
      "이 과정을 통해 새로운 염색체가 형성되고, 이후의 세포 분열과 발달을 통해 새로운 생명이 탄생하게 됩니다. 이러한 DNA의 결합 과정은 생물의 다양성을 유지하고 진화를 이끌어가는 중요한 과정 중 하나입니다.\n",
      "\n",
      "Test 18\n",
      "Question: [{'role': 'user', 'content': '금성에서 달이 어떻게 보일까?'}]\n",
      "Answer: 금성은 내부 행성이기 때문에 달을 가지고 있지 않습니다. 따라서 금성에서는 달을 볼 수 없습니다. 달은 지구 주변을 공전하며 지구에서 볼 때만 보이는 천체입니다. 다른 흥미로운 과학 질문이 있으시면 언제든지 물어보세요!\n",
      "\n",
      "Test 19\n",
      "Question: [{'role': 'user', 'content': '차량의 연비가 좋아질때 나타나는 긍정적인 효과는?'}]\n",
      "Answer: 차량의 연비가 좋아질 때 나타나는 긍정적인 효과는 여러 가지가 있습니다. \n",
      "\n",
      "1. 환경에 대한 긍정적인 영향: 연비가 좋아지면 연료 소비가 줄어들어 대기 중에 배출되는 유해 가스량이 감소하게 됩니다. 이는 대기 오염을 줄이고 환경을 보호하는 데 도움이 됩니다.\n",
      "\n",
      "2. 경제적 이점: 연비가 좋아지면 주행 거리 당 연료 소비가 줄어들어 연료 비용을 절감할 수 있습니다. 또한 연비가 좋은 차량은 유지 보수 비용도 일반적으로 낮을 수 있습니다.\n",
      "\n",
      "3. 운전 편의성: 연비가 좋은 차량은 주유소를 자주 방문하지 않아도 되므로 운전자에게 편의를 제공합니다. 또한 주행 거리가 늘어나므로 주행 중간에 주유소를 찾아들러야 하는 빈도가 줄어듭니다.\n",
      "\n",
      "4. 친환경 이미지: 연비가 좋은 차량을 운전하면 환경을 생각하는 책임감 있는 운전자로 인식될 수 있습니다. 이는 사회적으로 긍정적인 이미지를 형성하는 데 도움이 될 수 있습니다.\n",
      "\n",
      "연비가 좋아지면 위와 같은 다양한 긍정적인 효과를 경험할 수 있습니다.\n",
      "\n",
      "Test 20\n",
      "Question: [{'role': 'user', 'content': '혼합물의 특성에 대해 알려줘.'}]\n",
      "Answer: 혼합물은 두 가지 이상의 순수 물질이 섞여 있는 물질을 말합니다. 혼합물은 각각의 성분이 그대로 유지되며 물질의 물리적, 화학적 특성이 성분들의 합으로 결정됩니다. 예를 들어 소금물은 소금과 물이 섞여 있는 혼합물이며, 각각의 성분인 소금과 물의 특성이 그대로 유지됩니다.\n",
      "\n",
      "Test 21\n",
      "Question: [{'role': 'user', 'content': '요새 너무 힘들다.'}]\n"
     ]
    },
    {
     "ename": "KeyboardInterrupt",
     "evalue": "",
     "output_type": "error",
     "traceback": [
      "\u001b[0;31m---------------------------------------------------------------------------\u001b[0m",
      "\u001b[0;31mKeyboardInterrupt\u001b[0m                         Traceback (most recent call last)",
      "Cell \u001b[0;32mIn[101], line 2\u001b[0m\n\u001b[1;32m      1\u001b[0m \u001b[38;5;66;03m# 평가 데이터에 대해서 결과 생성 - 파일 포맷은 jsonl이지만 파일명은 csv 사용\u001b[39;00m\n\u001b[0;32m----> 2\u001b[0m \u001b[43meval_rag\u001b[49m\u001b[43m(\u001b[49m\u001b[38;5;124;43m\"\u001b[39;49m\u001b[38;5;124;43m/data/ephemeral/home/upstage-ai-final-ir2/HM/data/eval.jsonl\u001b[39;49m\u001b[38;5;124;43m\"\u001b[39;49m\u001b[43m,\u001b[49m\u001b[43m \u001b[49m\u001b[38;5;124;43m\"\u001b[39;49m\u001b[38;5;124;43m../output/submission_12.csv\u001b[39;49m\u001b[38;5;124;43m\"\u001b[39;49m\u001b[43m)\u001b[49m\n",
      "Cell \u001b[0;32mIn[100], line 10\u001b[0m, in \u001b[0;36meval_rag\u001b[0;34m(eval_filename, output_filename)\u001b[0m\n\u001b[1;32m      8\u001b[0m j \u001b[38;5;241m=\u001b[39m json\u001b[38;5;241m.\u001b[39mloads(line)\n\u001b[1;32m      9\u001b[0m \u001b[38;5;28mprint\u001b[39m(\u001b[38;5;124mf\u001b[39m\u001b[38;5;124m'\u001b[39m\u001b[38;5;124mTest \u001b[39m\u001b[38;5;132;01m{\u001b[39;00midx\u001b[38;5;132;01m}\u001b[39;00m\u001b[38;5;130;01m\\n\u001b[39;00m\u001b[38;5;124mQuestion: \u001b[39m\u001b[38;5;132;01m{\u001b[39;00mj[\u001b[38;5;124m\"\u001b[39m\u001b[38;5;124mmsg\u001b[39m\u001b[38;5;124m\"\u001b[39m]\u001b[38;5;132;01m}\u001b[39;00m\u001b[38;5;124m'\u001b[39m)\n\u001b[0;32m---> 10\u001b[0m response \u001b[38;5;241m=\u001b[39m \u001b[43manswer_question\u001b[49m\u001b[43m(\u001b[49m\u001b[43mj\u001b[49m\u001b[43m[\u001b[49m\u001b[38;5;124;43m\"\u001b[39;49m\u001b[38;5;124;43mmsg\u001b[39;49m\u001b[38;5;124;43m\"\u001b[39;49m\u001b[43m]\u001b[49m\u001b[43m)\u001b[49m\n\u001b[1;32m     11\u001b[0m \u001b[38;5;28mprint\u001b[39m(\u001b[38;5;124mf\u001b[39m\u001b[38;5;124m'\u001b[39m\u001b[38;5;124mAnswer: \u001b[39m\u001b[38;5;132;01m{\u001b[39;00mresponse[\u001b[38;5;124m\"\u001b[39m\u001b[38;5;124manswer\u001b[39m\u001b[38;5;124m\"\u001b[39m]\u001b[38;5;132;01m}\u001b[39;00m\u001b[38;5;130;01m\\n\u001b[39;00m\u001b[38;5;124m'\u001b[39m)\n\u001b[1;32m     13\u001b[0m \u001b[38;5;66;03m# 대회 score 계산은 topk 정보를 사용, answer 정보는 LLM을 통한 자동평가시 활용\u001b[39;00m\n",
      "Cell \u001b[0;32mIn[98], line 9\u001b[0m, in \u001b[0;36manswer_question\u001b[0;34m(messages)\u001b[0m\n\u001b[1;32m      7\u001b[0m msg \u001b[38;5;241m=\u001b[39m [{\u001b[38;5;124m\"\u001b[39m\u001b[38;5;124mrole\u001b[39m\u001b[38;5;124m\"\u001b[39m: \u001b[38;5;124m\"\u001b[39m\u001b[38;5;124msystem\u001b[39m\u001b[38;5;124m\"\u001b[39m, \u001b[38;5;124m\"\u001b[39m\u001b[38;5;124mcontent\u001b[39m\u001b[38;5;124m\"\u001b[39m: persona_function_calling}] \u001b[38;5;241m+\u001b[39m messages\n\u001b[1;32m      8\u001b[0m \u001b[38;5;28;01mtry\u001b[39;00m:\n\u001b[0;32m----> 9\u001b[0m     result \u001b[38;5;241m=\u001b[39m \u001b[43mopenai\u001b[49m\u001b[38;5;241;43m.\u001b[39;49m\u001b[43mChatCompletion\u001b[49m\u001b[38;5;241;43m.\u001b[39;49m\u001b[43mcreate\u001b[49m\u001b[43m(\u001b[49m\n\u001b[1;32m     10\u001b[0m \u001b[43m        \u001b[49m\u001b[43mmodel\u001b[49m\u001b[38;5;241;43m=\u001b[39;49m\u001b[43mllm_model\u001b[49m\u001b[43m,\u001b[49m\n\u001b[1;32m     11\u001b[0m \u001b[43m        \u001b[49m\u001b[43mmessages\u001b[49m\u001b[38;5;241;43m=\u001b[39;49m\u001b[43mmsg\u001b[49m\u001b[43m,\u001b[49m\n\u001b[1;32m     12\u001b[0m \u001b[43m        \u001b[49m\u001b[43mtemperature\u001b[49m\u001b[38;5;241;43m=\u001b[39;49m\u001b[38;5;241;43m0\u001b[39;49m\u001b[43m,\u001b[49m\n\u001b[1;32m     13\u001b[0m \u001b[43m        \u001b[49m\u001b[43mtimeout\u001b[49m\u001b[38;5;241;43m=\u001b[39;49m\u001b[38;5;241;43m10\u001b[39;49m\n\u001b[1;32m     14\u001b[0m \u001b[43m    \u001b[49m\u001b[43m)\u001b[49m\n\u001b[1;32m     15\u001b[0m \u001b[38;5;28;01mexcept\u001b[39;00m \u001b[38;5;167;01mException\u001b[39;00m \u001b[38;5;28;01mas\u001b[39;00m e:\n\u001b[1;32m     16\u001b[0m     traceback\u001b[38;5;241m.\u001b[39mprint_exc()\n",
      "File \u001b[0;32m/root/home/envforir/lib/python3.10/site-packages/openai/api_resources/chat_completion.py:25\u001b[0m, in \u001b[0;36mChatCompletion.create\u001b[0;34m(cls, *args, **kwargs)\u001b[0m\n\u001b[1;32m     23\u001b[0m \u001b[38;5;28;01mwhile\u001b[39;00m \u001b[38;5;28;01mTrue\u001b[39;00m:\n\u001b[1;32m     24\u001b[0m     \u001b[38;5;28;01mtry\u001b[39;00m:\n\u001b[0;32m---> 25\u001b[0m         \u001b[38;5;28;01mreturn\u001b[39;00m \u001b[38;5;28;43msuper\u001b[39;49m\u001b[43m(\u001b[49m\u001b[43m)\u001b[49m\u001b[38;5;241;43m.\u001b[39;49m\u001b[43mcreate\u001b[49m\u001b[43m(\u001b[49m\u001b[38;5;241;43m*\u001b[39;49m\u001b[43margs\u001b[49m\u001b[43m,\u001b[49m\u001b[43m \u001b[49m\u001b[38;5;241;43m*\u001b[39;49m\u001b[38;5;241;43m*\u001b[39;49m\u001b[43mkwargs\u001b[49m\u001b[43m)\u001b[49m\n\u001b[1;32m     26\u001b[0m     \u001b[38;5;28;01mexcept\u001b[39;00m TryAgain \u001b[38;5;28;01mas\u001b[39;00m e:\n\u001b[1;32m     27\u001b[0m         \u001b[38;5;28;01mif\u001b[39;00m timeout \u001b[38;5;129;01mis\u001b[39;00m \u001b[38;5;129;01mnot\u001b[39;00m \u001b[38;5;28;01mNone\u001b[39;00m \u001b[38;5;129;01mand\u001b[39;00m time\u001b[38;5;241m.\u001b[39mtime() \u001b[38;5;241m>\u001b[39m start \u001b[38;5;241m+\u001b[39m timeout:\n",
      "File \u001b[0;32m/root/home/envforir/lib/python3.10/site-packages/openai/api_resources/abstract/engine_api_resource.py:153\u001b[0m, in \u001b[0;36mEngineAPIResource.create\u001b[0;34m(cls, api_key, api_base, api_type, request_id, api_version, organization, **params)\u001b[0m\n\u001b[1;32m    127\u001b[0m \u001b[38;5;129m@classmethod\u001b[39m\n\u001b[1;32m    128\u001b[0m \u001b[38;5;28;01mdef\u001b[39;00m \u001b[38;5;21mcreate\u001b[39m(\n\u001b[1;32m    129\u001b[0m     \u001b[38;5;28mcls\u001b[39m,\n\u001b[0;32m   (...)\u001b[0m\n\u001b[1;32m    136\u001b[0m     \u001b[38;5;241m*\u001b[39m\u001b[38;5;241m*\u001b[39mparams,\n\u001b[1;32m    137\u001b[0m ):\n\u001b[1;32m    138\u001b[0m     (\n\u001b[1;32m    139\u001b[0m         deployment_id,\n\u001b[1;32m    140\u001b[0m         engine,\n\u001b[0;32m   (...)\u001b[0m\n\u001b[1;32m    150\u001b[0m         api_key, api_base, api_type, api_version, organization, \u001b[38;5;241m*\u001b[39m\u001b[38;5;241m*\u001b[39mparams\n\u001b[1;32m    151\u001b[0m     )\n\u001b[0;32m--> 153\u001b[0m     response, _, api_key \u001b[38;5;241m=\u001b[39m \u001b[43mrequestor\u001b[49m\u001b[38;5;241;43m.\u001b[39;49m\u001b[43mrequest\u001b[49m\u001b[43m(\u001b[49m\n\u001b[1;32m    154\u001b[0m \u001b[43m        \u001b[49m\u001b[38;5;124;43m\"\u001b[39;49m\u001b[38;5;124;43mpost\u001b[39;49m\u001b[38;5;124;43m\"\u001b[39;49m\u001b[43m,\u001b[49m\n\u001b[1;32m    155\u001b[0m \u001b[43m        \u001b[49m\u001b[43murl\u001b[49m\u001b[43m,\u001b[49m\n\u001b[1;32m    156\u001b[0m \u001b[43m        \u001b[49m\u001b[43mparams\u001b[49m\u001b[38;5;241;43m=\u001b[39;49m\u001b[43mparams\u001b[49m\u001b[43m,\u001b[49m\n\u001b[1;32m    157\u001b[0m \u001b[43m        \u001b[49m\u001b[43mheaders\u001b[49m\u001b[38;5;241;43m=\u001b[39;49m\u001b[43mheaders\u001b[49m\u001b[43m,\u001b[49m\n\u001b[1;32m    158\u001b[0m \u001b[43m        \u001b[49m\u001b[43mstream\u001b[49m\u001b[38;5;241;43m=\u001b[39;49m\u001b[43mstream\u001b[49m\u001b[43m,\u001b[49m\n\u001b[1;32m    159\u001b[0m \u001b[43m        \u001b[49m\u001b[43mrequest_id\u001b[49m\u001b[38;5;241;43m=\u001b[39;49m\u001b[43mrequest_id\u001b[49m\u001b[43m,\u001b[49m\n\u001b[1;32m    160\u001b[0m \u001b[43m        \u001b[49m\u001b[43mrequest_timeout\u001b[49m\u001b[38;5;241;43m=\u001b[39;49m\u001b[43mrequest_timeout\u001b[49m\u001b[43m,\u001b[49m\n\u001b[1;32m    161\u001b[0m \u001b[43m    \u001b[49m\u001b[43m)\u001b[49m\n\u001b[1;32m    163\u001b[0m     \u001b[38;5;28;01mif\u001b[39;00m stream:\n\u001b[1;32m    164\u001b[0m         \u001b[38;5;66;03m# must be an iterator\u001b[39;00m\n\u001b[1;32m    165\u001b[0m         \u001b[38;5;28;01massert\u001b[39;00m \u001b[38;5;129;01mnot\u001b[39;00m \u001b[38;5;28misinstance\u001b[39m(response, OpenAIResponse)\n",
      "File \u001b[0;32m/root/home/envforir/lib/python3.10/site-packages/openai/api_requestor.py:288\u001b[0m, in \u001b[0;36mAPIRequestor.request\u001b[0;34m(self, method, url, params, headers, files, stream, request_id, request_timeout)\u001b[0m\n\u001b[1;32m    277\u001b[0m \u001b[38;5;28;01mdef\u001b[39;00m \u001b[38;5;21mrequest\u001b[39m(\n\u001b[1;32m    278\u001b[0m     \u001b[38;5;28mself\u001b[39m,\n\u001b[1;32m    279\u001b[0m     method,\n\u001b[0;32m   (...)\u001b[0m\n\u001b[1;32m    286\u001b[0m     request_timeout: Optional[Union[\u001b[38;5;28mfloat\u001b[39m, Tuple[\u001b[38;5;28mfloat\u001b[39m, \u001b[38;5;28mfloat\u001b[39m]]] \u001b[38;5;241m=\u001b[39m \u001b[38;5;28;01mNone\u001b[39;00m,\n\u001b[1;32m    287\u001b[0m ) \u001b[38;5;241m-\u001b[39m\u001b[38;5;241m>\u001b[39m Tuple[Union[OpenAIResponse, Iterator[OpenAIResponse]], \u001b[38;5;28mbool\u001b[39m, \u001b[38;5;28mstr\u001b[39m]:\n\u001b[0;32m--> 288\u001b[0m     result \u001b[38;5;241m=\u001b[39m \u001b[38;5;28;43mself\u001b[39;49m\u001b[38;5;241;43m.\u001b[39;49m\u001b[43mrequest_raw\u001b[49m\u001b[43m(\u001b[49m\n\u001b[1;32m    289\u001b[0m \u001b[43m        \u001b[49m\u001b[43mmethod\u001b[49m\u001b[38;5;241;43m.\u001b[39;49m\u001b[43mlower\u001b[49m\u001b[43m(\u001b[49m\u001b[43m)\u001b[49m\u001b[43m,\u001b[49m\n\u001b[1;32m    290\u001b[0m \u001b[43m        \u001b[49m\u001b[43murl\u001b[49m\u001b[43m,\u001b[49m\n\u001b[1;32m    291\u001b[0m \u001b[43m        \u001b[49m\u001b[43mparams\u001b[49m\u001b[38;5;241;43m=\u001b[39;49m\u001b[43mparams\u001b[49m\u001b[43m,\u001b[49m\n\u001b[1;32m    292\u001b[0m \u001b[43m        \u001b[49m\u001b[43msupplied_headers\u001b[49m\u001b[38;5;241;43m=\u001b[39;49m\u001b[43mheaders\u001b[49m\u001b[43m,\u001b[49m\n\u001b[1;32m    293\u001b[0m \u001b[43m        \u001b[49m\u001b[43mfiles\u001b[49m\u001b[38;5;241;43m=\u001b[39;49m\u001b[43mfiles\u001b[49m\u001b[43m,\u001b[49m\n\u001b[1;32m    294\u001b[0m \u001b[43m        \u001b[49m\u001b[43mstream\u001b[49m\u001b[38;5;241;43m=\u001b[39;49m\u001b[43mstream\u001b[49m\u001b[43m,\u001b[49m\n\u001b[1;32m    295\u001b[0m \u001b[43m        \u001b[49m\u001b[43mrequest_id\u001b[49m\u001b[38;5;241;43m=\u001b[39;49m\u001b[43mrequest_id\u001b[49m\u001b[43m,\u001b[49m\n\u001b[1;32m    296\u001b[0m \u001b[43m        \u001b[49m\u001b[43mrequest_timeout\u001b[49m\u001b[38;5;241;43m=\u001b[39;49m\u001b[43mrequest_timeout\u001b[49m\u001b[43m,\u001b[49m\n\u001b[1;32m    297\u001b[0m \u001b[43m    \u001b[49m\u001b[43m)\u001b[49m\n\u001b[1;32m    298\u001b[0m     resp, got_stream \u001b[38;5;241m=\u001b[39m \u001b[38;5;28mself\u001b[39m\u001b[38;5;241m.\u001b[39m_interpret_response(result, stream)\n\u001b[1;32m    299\u001b[0m     \u001b[38;5;28;01mreturn\u001b[39;00m resp, got_stream, \u001b[38;5;28mself\u001b[39m\u001b[38;5;241m.\u001b[39mapi_key\n",
      "File \u001b[0;32m/root/home/envforir/lib/python3.10/site-packages/openai/api_requestor.py:596\u001b[0m, in \u001b[0;36mAPIRequestor.request_raw\u001b[0;34m(self, method, url, params, supplied_headers, files, stream, request_id, request_timeout)\u001b[0m\n\u001b[1;32m    594\u001b[0m     _thread_context\u001b[38;5;241m.\u001b[39msession_create_time \u001b[38;5;241m=\u001b[39m time\u001b[38;5;241m.\u001b[39mtime()\n\u001b[1;32m    595\u001b[0m \u001b[38;5;28;01mtry\u001b[39;00m:\n\u001b[0;32m--> 596\u001b[0m     result \u001b[38;5;241m=\u001b[39m \u001b[43m_thread_context\u001b[49m\u001b[38;5;241;43m.\u001b[39;49m\u001b[43msession\u001b[49m\u001b[38;5;241;43m.\u001b[39;49m\u001b[43mrequest\u001b[49m\u001b[43m(\u001b[49m\n\u001b[1;32m    597\u001b[0m \u001b[43m        \u001b[49m\u001b[43mmethod\u001b[49m\u001b[43m,\u001b[49m\n\u001b[1;32m    598\u001b[0m \u001b[43m        \u001b[49m\u001b[43mabs_url\u001b[49m\u001b[43m,\u001b[49m\n\u001b[1;32m    599\u001b[0m \u001b[43m        \u001b[49m\u001b[43mheaders\u001b[49m\u001b[38;5;241;43m=\u001b[39;49m\u001b[43mheaders\u001b[49m\u001b[43m,\u001b[49m\n\u001b[1;32m    600\u001b[0m \u001b[43m        \u001b[49m\u001b[43mdata\u001b[49m\u001b[38;5;241;43m=\u001b[39;49m\u001b[43mdata\u001b[49m\u001b[43m,\u001b[49m\n\u001b[1;32m    601\u001b[0m \u001b[43m        \u001b[49m\u001b[43mfiles\u001b[49m\u001b[38;5;241;43m=\u001b[39;49m\u001b[43mfiles\u001b[49m\u001b[43m,\u001b[49m\n\u001b[1;32m    602\u001b[0m \u001b[43m        \u001b[49m\u001b[43mstream\u001b[49m\u001b[38;5;241;43m=\u001b[39;49m\u001b[43mstream\u001b[49m\u001b[43m,\u001b[49m\n\u001b[1;32m    603\u001b[0m \u001b[43m        \u001b[49m\u001b[43mtimeout\u001b[49m\u001b[38;5;241;43m=\u001b[39;49m\u001b[43mrequest_timeout\u001b[49m\u001b[43m \u001b[49m\u001b[38;5;28;43;01mif\u001b[39;49;00m\u001b[43m \u001b[49m\u001b[43mrequest_timeout\u001b[49m\u001b[43m \u001b[49m\u001b[38;5;28;43;01melse\u001b[39;49;00m\u001b[43m \u001b[49m\u001b[43mTIMEOUT_SECS\u001b[49m\u001b[43m,\u001b[49m\n\u001b[1;32m    604\u001b[0m \u001b[43m        \u001b[49m\u001b[43mproxies\u001b[49m\u001b[38;5;241;43m=\u001b[39;49m\u001b[43m_thread_context\u001b[49m\u001b[38;5;241;43m.\u001b[39;49m\u001b[43msession\u001b[49m\u001b[38;5;241;43m.\u001b[39;49m\u001b[43mproxies\u001b[49m\u001b[43m,\u001b[49m\n\u001b[1;32m    605\u001b[0m \u001b[43m    \u001b[49m\u001b[43m)\u001b[49m\n\u001b[1;32m    606\u001b[0m \u001b[38;5;28;01mexcept\u001b[39;00m requests\u001b[38;5;241m.\u001b[39mexceptions\u001b[38;5;241m.\u001b[39mTimeout \u001b[38;5;28;01mas\u001b[39;00m e:\n\u001b[1;32m    607\u001b[0m     \u001b[38;5;28;01mraise\u001b[39;00m error\u001b[38;5;241m.\u001b[39mTimeout(\u001b[38;5;124m\"\u001b[39m\u001b[38;5;124mRequest timed out: \u001b[39m\u001b[38;5;132;01m{}\u001b[39;00m\u001b[38;5;124m\"\u001b[39m\u001b[38;5;241m.\u001b[39mformat(e)) \u001b[38;5;28;01mfrom\u001b[39;00m \u001b[38;5;21;01me\u001b[39;00m\n",
      "File \u001b[0;32m/root/home/envforir/lib/python3.10/site-packages/requests/sessions.py:589\u001b[0m, in \u001b[0;36mSession.request\u001b[0;34m(self, method, url, params, data, headers, cookies, files, auth, timeout, allow_redirects, proxies, hooks, stream, verify, cert, json)\u001b[0m\n\u001b[1;32m    584\u001b[0m send_kwargs \u001b[38;5;241m=\u001b[39m {\n\u001b[1;32m    585\u001b[0m     \u001b[38;5;124m\"\u001b[39m\u001b[38;5;124mtimeout\u001b[39m\u001b[38;5;124m\"\u001b[39m: timeout,\n\u001b[1;32m    586\u001b[0m     \u001b[38;5;124m\"\u001b[39m\u001b[38;5;124mallow_redirects\u001b[39m\u001b[38;5;124m\"\u001b[39m: allow_redirects,\n\u001b[1;32m    587\u001b[0m }\n\u001b[1;32m    588\u001b[0m send_kwargs\u001b[38;5;241m.\u001b[39mupdate(settings)\n\u001b[0;32m--> 589\u001b[0m resp \u001b[38;5;241m=\u001b[39m \u001b[38;5;28;43mself\u001b[39;49m\u001b[38;5;241;43m.\u001b[39;49m\u001b[43msend\u001b[49m\u001b[43m(\u001b[49m\u001b[43mprep\u001b[49m\u001b[43m,\u001b[49m\u001b[43m \u001b[49m\u001b[38;5;241;43m*\u001b[39;49m\u001b[38;5;241;43m*\u001b[39;49m\u001b[43msend_kwargs\u001b[49m\u001b[43m)\u001b[49m\n\u001b[1;32m    591\u001b[0m \u001b[38;5;28;01mreturn\u001b[39;00m resp\n",
      "File \u001b[0;32m/root/home/envforir/lib/python3.10/site-packages/requests/sessions.py:703\u001b[0m, in \u001b[0;36mSession.send\u001b[0;34m(self, request, **kwargs)\u001b[0m\n\u001b[1;32m    700\u001b[0m start \u001b[38;5;241m=\u001b[39m preferred_clock()\n\u001b[1;32m    702\u001b[0m \u001b[38;5;66;03m# Send the request\u001b[39;00m\n\u001b[0;32m--> 703\u001b[0m r \u001b[38;5;241m=\u001b[39m \u001b[43madapter\u001b[49m\u001b[38;5;241;43m.\u001b[39;49m\u001b[43msend\u001b[49m\u001b[43m(\u001b[49m\u001b[43mrequest\u001b[49m\u001b[43m,\u001b[49m\u001b[43m \u001b[49m\u001b[38;5;241;43m*\u001b[39;49m\u001b[38;5;241;43m*\u001b[39;49m\u001b[43mkwargs\u001b[49m\u001b[43m)\u001b[49m\n\u001b[1;32m    705\u001b[0m \u001b[38;5;66;03m# Total elapsed time of the request (approximately)\u001b[39;00m\n\u001b[1;32m    706\u001b[0m elapsed \u001b[38;5;241m=\u001b[39m preferred_clock() \u001b[38;5;241m-\u001b[39m start\n",
      "File \u001b[0;32m/root/home/envforir/lib/python3.10/site-packages/requests/adapters.py:667\u001b[0m, in \u001b[0;36mHTTPAdapter.send\u001b[0;34m(self, request, stream, timeout, verify, cert, proxies)\u001b[0m\n\u001b[1;32m    664\u001b[0m     timeout \u001b[38;5;241m=\u001b[39m TimeoutSauce(connect\u001b[38;5;241m=\u001b[39mtimeout, read\u001b[38;5;241m=\u001b[39mtimeout)\n\u001b[1;32m    666\u001b[0m \u001b[38;5;28;01mtry\u001b[39;00m:\n\u001b[0;32m--> 667\u001b[0m     resp \u001b[38;5;241m=\u001b[39m \u001b[43mconn\u001b[49m\u001b[38;5;241;43m.\u001b[39;49m\u001b[43murlopen\u001b[49m\u001b[43m(\u001b[49m\n\u001b[1;32m    668\u001b[0m \u001b[43m        \u001b[49m\u001b[43mmethod\u001b[49m\u001b[38;5;241;43m=\u001b[39;49m\u001b[43mrequest\u001b[49m\u001b[38;5;241;43m.\u001b[39;49m\u001b[43mmethod\u001b[49m\u001b[43m,\u001b[49m\n\u001b[1;32m    669\u001b[0m \u001b[43m        \u001b[49m\u001b[43murl\u001b[49m\u001b[38;5;241;43m=\u001b[39;49m\u001b[43murl\u001b[49m\u001b[43m,\u001b[49m\n\u001b[1;32m    670\u001b[0m \u001b[43m        \u001b[49m\u001b[43mbody\u001b[49m\u001b[38;5;241;43m=\u001b[39;49m\u001b[43mrequest\u001b[49m\u001b[38;5;241;43m.\u001b[39;49m\u001b[43mbody\u001b[49m\u001b[43m,\u001b[49m\n\u001b[1;32m    671\u001b[0m \u001b[43m        \u001b[49m\u001b[43mheaders\u001b[49m\u001b[38;5;241;43m=\u001b[39;49m\u001b[43mrequest\u001b[49m\u001b[38;5;241;43m.\u001b[39;49m\u001b[43mheaders\u001b[49m\u001b[43m,\u001b[49m\n\u001b[1;32m    672\u001b[0m \u001b[43m        \u001b[49m\u001b[43mredirect\u001b[49m\u001b[38;5;241;43m=\u001b[39;49m\u001b[38;5;28;43;01mFalse\u001b[39;49;00m\u001b[43m,\u001b[49m\n\u001b[1;32m    673\u001b[0m \u001b[43m        \u001b[49m\u001b[43massert_same_host\u001b[49m\u001b[38;5;241;43m=\u001b[39;49m\u001b[38;5;28;43;01mFalse\u001b[39;49;00m\u001b[43m,\u001b[49m\n\u001b[1;32m    674\u001b[0m \u001b[43m        \u001b[49m\u001b[43mpreload_content\u001b[49m\u001b[38;5;241;43m=\u001b[39;49m\u001b[38;5;28;43;01mFalse\u001b[39;49;00m\u001b[43m,\u001b[49m\n\u001b[1;32m    675\u001b[0m \u001b[43m        \u001b[49m\u001b[43mdecode_content\u001b[49m\u001b[38;5;241;43m=\u001b[39;49m\u001b[38;5;28;43;01mFalse\u001b[39;49;00m\u001b[43m,\u001b[49m\n\u001b[1;32m    676\u001b[0m \u001b[43m        \u001b[49m\u001b[43mretries\u001b[49m\u001b[38;5;241;43m=\u001b[39;49m\u001b[38;5;28;43mself\u001b[39;49m\u001b[38;5;241;43m.\u001b[39;49m\u001b[43mmax_retries\u001b[49m\u001b[43m,\u001b[49m\n\u001b[1;32m    677\u001b[0m \u001b[43m        \u001b[49m\u001b[43mtimeout\u001b[49m\u001b[38;5;241;43m=\u001b[39;49m\u001b[43mtimeout\u001b[49m\u001b[43m,\u001b[49m\n\u001b[1;32m    678\u001b[0m \u001b[43m        \u001b[49m\u001b[43mchunked\u001b[49m\u001b[38;5;241;43m=\u001b[39;49m\u001b[43mchunked\u001b[49m\u001b[43m,\u001b[49m\n\u001b[1;32m    679\u001b[0m \u001b[43m    \u001b[49m\u001b[43m)\u001b[49m\n\u001b[1;32m    681\u001b[0m \u001b[38;5;28;01mexcept\u001b[39;00m (ProtocolError, \u001b[38;5;167;01mOSError\u001b[39;00m) \u001b[38;5;28;01mas\u001b[39;00m err:\n\u001b[1;32m    682\u001b[0m     \u001b[38;5;28;01mraise\u001b[39;00m \u001b[38;5;167;01mConnectionError\u001b[39;00m(err, request\u001b[38;5;241m=\u001b[39mrequest)\n",
      "File \u001b[0;32m/root/home/envforir/lib/python3.10/site-packages/urllib3/connectionpool.py:793\u001b[0m, in \u001b[0;36mHTTPConnectionPool.urlopen\u001b[0;34m(self, method, url, body, headers, retries, redirect, assert_same_host, timeout, pool_timeout, release_conn, chunked, body_pos, preload_content, decode_content, **response_kw)\u001b[0m\n\u001b[1;32m    790\u001b[0m response_conn \u001b[38;5;241m=\u001b[39m conn \u001b[38;5;28;01mif\u001b[39;00m \u001b[38;5;129;01mnot\u001b[39;00m release_conn \u001b[38;5;28;01melse\u001b[39;00m \u001b[38;5;28;01mNone\u001b[39;00m\n\u001b[1;32m    792\u001b[0m \u001b[38;5;66;03m# Make the request on the HTTPConnection object\u001b[39;00m\n\u001b[0;32m--> 793\u001b[0m response \u001b[38;5;241m=\u001b[39m \u001b[38;5;28;43mself\u001b[39;49m\u001b[38;5;241;43m.\u001b[39;49m\u001b[43m_make_request\u001b[49m\u001b[43m(\u001b[49m\n\u001b[1;32m    794\u001b[0m \u001b[43m    \u001b[49m\u001b[43mconn\u001b[49m\u001b[43m,\u001b[49m\n\u001b[1;32m    795\u001b[0m \u001b[43m    \u001b[49m\u001b[43mmethod\u001b[49m\u001b[43m,\u001b[49m\n\u001b[1;32m    796\u001b[0m \u001b[43m    \u001b[49m\u001b[43murl\u001b[49m\u001b[43m,\u001b[49m\n\u001b[1;32m    797\u001b[0m \u001b[43m    \u001b[49m\u001b[43mtimeout\u001b[49m\u001b[38;5;241;43m=\u001b[39;49m\u001b[43mtimeout_obj\u001b[49m\u001b[43m,\u001b[49m\n\u001b[1;32m    798\u001b[0m \u001b[43m    \u001b[49m\u001b[43mbody\u001b[49m\u001b[38;5;241;43m=\u001b[39;49m\u001b[43mbody\u001b[49m\u001b[43m,\u001b[49m\n\u001b[1;32m    799\u001b[0m \u001b[43m    \u001b[49m\u001b[43mheaders\u001b[49m\u001b[38;5;241;43m=\u001b[39;49m\u001b[43mheaders\u001b[49m\u001b[43m,\u001b[49m\n\u001b[1;32m    800\u001b[0m \u001b[43m    \u001b[49m\u001b[43mchunked\u001b[49m\u001b[38;5;241;43m=\u001b[39;49m\u001b[43mchunked\u001b[49m\u001b[43m,\u001b[49m\n\u001b[1;32m    801\u001b[0m \u001b[43m    \u001b[49m\u001b[43mretries\u001b[49m\u001b[38;5;241;43m=\u001b[39;49m\u001b[43mretries\u001b[49m\u001b[43m,\u001b[49m\n\u001b[1;32m    802\u001b[0m \u001b[43m    \u001b[49m\u001b[43mresponse_conn\u001b[49m\u001b[38;5;241;43m=\u001b[39;49m\u001b[43mresponse_conn\u001b[49m\u001b[43m,\u001b[49m\n\u001b[1;32m    803\u001b[0m \u001b[43m    \u001b[49m\u001b[43mpreload_content\u001b[49m\u001b[38;5;241;43m=\u001b[39;49m\u001b[43mpreload_content\u001b[49m\u001b[43m,\u001b[49m\n\u001b[1;32m    804\u001b[0m \u001b[43m    \u001b[49m\u001b[43mdecode_content\u001b[49m\u001b[38;5;241;43m=\u001b[39;49m\u001b[43mdecode_content\u001b[49m\u001b[43m,\u001b[49m\n\u001b[1;32m    805\u001b[0m \u001b[43m    \u001b[49m\u001b[38;5;241;43m*\u001b[39;49m\u001b[38;5;241;43m*\u001b[39;49m\u001b[43mresponse_kw\u001b[49m\u001b[43m,\u001b[49m\n\u001b[1;32m    806\u001b[0m \u001b[43m\u001b[49m\u001b[43m)\u001b[49m\n\u001b[1;32m    808\u001b[0m \u001b[38;5;66;03m# Everything went great!\u001b[39;00m\n\u001b[1;32m    809\u001b[0m clean_exit \u001b[38;5;241m=\u001b[39m \u001b[38;5;28;01mTrue\u001b[39;00m\n",
      "File \u001b[0;32m/root/home/envforir/lib/python3.10/site-packages/urllib3/connectionpool.py:537\u001b[0m, in \u001b[0;36mHTTPConnectionPool._make_request\u001b[0;34m(self, conn, method, url, body, headers, retries, timeout, chunked, response_conn, preload_content, decode_content, enforce_content_length)\u001b[0m\n\u001b[1;32m    535\u001b[0m \u001b[38;5;66;03m# Receive the response from the server\u001b[39;00m\n\u001b[1;32m    536\u001b[0m \u001b[38;5;28;01mtry\u001b[39;00m:\n\u001b[0;32m--> 537\u001b[0m     response \u001b[38;5;241m=\u001b[39m \u001b[43mconn\u001b[49m\u001b[38;5;241;43m.\u001b[39;49m\u001b[43mgetresponse\u001b[49m\u001b[43m(\u001b[49m\u001b[43m)\u001b[49m\n\u001b[1;32m    538\u001b[0m \u001b[38;5;28;01mexcept\u001b[39;00m (BaseSSLError, \u001b[38;5;167;01mOSError\u001b[39;00m) \u001b[38;5;28;01mas\u001b[39;00m e:\n\u001b[1;32m    539\u001b[0m     \u001b[38;5;28mself\u001b[39m\u001b[38;5;241m.\u001b[39m_raise_timeout(err\u001b[38;5;241m=\u001b[39me, url\u001b[38;5;241m=\u001b[39murl, timeout_value\u001b[38;5;241m=\u001b[39mread_timeout)\n",
      "File \u001b[0;32m/root/home/envforir/lib/python3.10/site-packages/urllib3/connection.py:466\u001b[0m, in \u001b[0;36mHTTPConnection.getresponse\u001b[0;34m(self)\u001b[0m\n\u001b[1;32m    463\u001b[0m \u001b[38;5;28;01mfrom\u001b[39;00m \u001b[38;5;21;01m.\u001b[39;00m\u001b[38;5;21;01mresponse\u001b[39;00m \u001b[38;5;28;01mimport\u001b[39;00m HTTPResponse\n\u001b[1;32m    465\u001b[0m \u001b[38;5;66;03m# Get the response from http.client.HTTPConnection\u001b[39;00m\n\u001b[0;32m--> 466\u001b[0m httplib_response \u001b[38;5;241m=\u001b[39m \u001b[38;5;28;43msuper\u001b[39;49m\u001b[43m(\u001b[49m\u001b[43m)\u001b[49m\u001b[38;5;241;43m.\u001b[39;49m\u001b[43mgetresponse\u001b[49m\u001b[43m(\u001b[49m\u001b[43m)\u001b[49m\n\u001b[1;32m    468\u001b[0m \u001b[38;5;28;01mtry\u001b[39;00m:\n\u001b[1;32m    469\u001b[0m     assert_header_parsing(httplib_response\u001b[38;5;241m.\u001b[39mmsg)\n",
      "File \u001b[0;32m/opt/conda/lib/python3.10/http/client.py:1375\u001b[0m, in \u001b[0;36mHTTPConnection.getresponse\u001b[0;34m(self)\u001b[0m\n\u001b[1;32m   1373\u001b[0m \u001b[38;5;28;01mtry\u001b[39;00m:\n\u001b[1;32m   1374\u001b[0m     \u001b[38;5;28;01mtry\u001b[39;00m:\n\u001b[0;32m-> 1375\u001b[0m         \u001b[43mresponse\u001b[49m\u001b[38;5;241;43m.\u001b[39;49m\u001b[43mbegin\u001b[49m\u001b[43m(\u001b[49m\u001b[43m)\u001b[49m\n\u001b[1;32m   1376\u001b[0m     \u001b[38;5;28;01mexcept\u001b[39;00m \u001b[38;5;167;01mConnectionError\u001b[39;00m:\n\u001b[1;32m   1377\u001b[0m         \u001b[38;5;28mself\u001b[39m\u001b[38;5;241m.\u001b[39mclose()\n",
      "File \u001b[0;32m/opt/conda/lib/python3.10/http/client.py:318\u001b[0m, in \u001b[0;36mHTTPResponse.begin\u001b[0;34m(self)\u001b[0m\n\u001b[1;32m    316\u001b[0m \u001b[38;5;66;03m# read until we get a non-100 response\u001b[39;00m\n\u001b[1;32m    317\u001b[0m \u001b[38;5;28;01mwhile\u001b[39;00m \u001b[38;5;28;01mTrue\u001b[39;00m:\n\u001b[0;32m--> 318\u001b[0m     version, status, reason \u001b[38;5;241m=\u001b[39m \u001b[38;5;28;43mself\u001b[39;49m\u001b[38;5;241;43m.\u001b[39;49m\u001b[43m_read_status\u001b[49m\u001b[43m(\u001b[49m\u001b[43m)\u001b[49m\n\u001b[1;32m    319\u001b[0m     \u001b[38;5;28;01mif\u001b[39;00m status \u001b[38;5;241m!=\u001b[39m CONTINUE:\n\u001b[1;32m    320\u001b[0m         \u001b[38;5;28;01mbreak\u001b[39;00m\n",
      "File \u001b[0;32m/opt/conda/lib/python3.10/http/client.py:279\u001b[0m, in \u001b[0;36mHTTPResponse._read_status\u001b[0;34m(self)\u001b[0m\n\u001b[1;32m    278\u001b[0m \u001b[38;5;28;01mdef\u001b[39;00m \u001b[38;5;21m_read_status\u001b[39m(\u001b[38;5;28mself\u001b[39m):\n\u001b[0;32m--> 279\u001b[0m     line \u001b[38;5;241m=\u001b[39m \u001b[38;5;28mstr\u001b[39m(\u001b[38;5;28;43mself\u001b[39;49m\u001b[38;5;241;43m.\u001b[39;49m\u001b[43mfp\u001b[49m\u001b[38;5;241;43m.\u001b[39;49m\u001b[43mreadline\u001b[49m\u001b[43m(\u001b[49m\u001b[43m_MAXLINE\u001b[49m\u001b[43m \u001b[49m\u001b[38;5;241;43m+\u001b[39;49m\u001b[43m \u001b[49m\u001b[38;5;241;43m1\u001b[39;49m\u001b[43m)\u001b[49m, \u001b[38;5;124m\"\u001b[39m\u001b[38;5;124miso-8859-1\u001b[39m\u001b[38;5;124m\"\u001b[39m)\n\u001b[1;32m    280\u001b[0m     \u001b[38;5;28;01mif\u001b[39;00m \u001b[38;5;28mlen\u001b[39m(line) \u001b[38;5;241m>\u001b[39m _MAXLINE:\n\u001b[1;32m    281\u001b[0m         \u001b[38;5;28;01mraise\u001b[39;00m LineTooLong(\u001b[38;5;124m\"\u001b[39m\u001b[38;5;124mstatus line\u001b[39m\u001b[38;5;124m\"\u001b[39m)\n",
      "File \u001b[0;32m/opt/conda/lib/python3.10/socket.py:705\u001b[0m, in \u001b[0;36mSocketIO.readinto\u001b[0;34m(self, b)\u001b[0m\n\u001b[1;32m    703\u001b[0m \u001b[38;5;28;01mwhile\u001b[39;00m \u001b[38;5;28;01mTrue\u001b[39;00m:\n\u001b[1;32m    704\u001b[0m     \u001b[38;5;28;01mtry\u001b[39;00m:\n\u001b[0;32m--> 705\u001b[0m         \u001b[38;5;28;01mreturn\u001b[39;00m \u001b[38;5;28;43mself\u001b[39;49m\u001b[38;5;241;43m.\u001b[39;49m\u001b[43m_sock\u001b[49m\u001b[38;5;241;43m.\u001b[39;49m\u001b[43mrecv_into\u001b[49m\u001b[43m(\u001b[49m\u001b[43mb\u001b[49m\u001b[43m)\u001b[49m\n\u001b[1;32m    706\u001b[0m     \u001b[38;5;28;01mexcept\u001b[39;00m timeout:\n\u001b[1;32m    707\u001b[0m         \u001b[38;5;28mself\u001b[39m\u001b[38;5;241m.\u001b[39m_timeout_occurred \u001b[38;5;241m=\u001b[39m \u001b[38;5;28;01mTrue\u001b[39;00m\n",
      "File \u001b[0;32m/opt/conda/lib/python3.10/ssl.py:1307\u001b[0m, in \u001b[0;36mSSLSocket.recv_into\u001b[0;34m(self, buffer, nbytes, flags)\u001b[0m\n\u001b[1;32m   1303\u001b[0m     \u001b[38;5;28;01mif\u001b[39;00m flags \u001b[38;5;241m!=\u001b[39m \u001b[38;5;241m0\u001b[39m:\n\u001b[1;32m   1304\u001b[0m         \u001b[38;5;28;01mraise\u001b[39;00m \u001b[38;5;167;01mValueError\u001b[39;00m(\n\u001b[1;32m   1305\u001b[0m           \u001b[38;5;124m\"\u001b[39m\u001b[38;5;124mnon-zero flags not allowed in calls to recv_into() on \u001b[39m\u001b[38;5;132;01m%s\u001b[39;00m\u001b[38;5;124m\"\u001b[39m \u001b[38;5;241m%\u001b[39m\n\u001b[1;32m   1306\u001b[0m           \u001b[38;5;28mself\u001b[39m\u001b[38;5;241m.\u001b[39m\u001b[38;5;18m__class__\u001b[39m)\n\u001b[0;32m-> 1307\u001b[0m     \u001b[38;5;28;01mreturn\u001b[39;00m \u001b[38;5;28;43mself\u001b[39;49m\u001b[38;5;241;43m.\u001b[39;49m\u001b[43mread\u001b[49m\u001b[43m(\u001b[49m\u001b[43mnbytes\u001b[49m\u001b[43m,\u001b[49m\u001b[43m \u001b[49m\u001b[43mbuffer\u001b[49m\u001b[43m)\u001b[49m\n\u001b[1;32m   1308\u001b[0m \u001b[38;5;28;01melse\u001b[39;00m:\n\u001b[1;32m   1309\u001b[0m     \u001b[38;5;28;01mreturn\u001b[39;00m \u001b[38;5;28msuper\u001b[39m()\u001b[38;5;241m.\u001b[39mrecv_into(buffer, nbytes, flags)\n",
      "File \u001b[0;32m/opt/conda/lib/python3.10/ssl.py:1163\u001b[0m, in \u001b[0;36mSSLSocket.read\u001b[0;34m(self, len, buffer)\u001b[0m\n\u001b[1;32m   1161\u001b[0m \u001b[38;5;28;01mtry\u001b[39;00m:\n\u001b[1;32m   1162\u001b[0m     \u001b[38;5;28;01mif\u001b[39;00m buffer \u001b[38;5;129;01mis\u001b[39;00m \u001b[38;5;129;01mnot\u001b[39;00m \u001b[38;5;28;01mNone\u001b[39;00m:\n\u001b[0;32m-> 1163\u001b[0m         \u001b[38;5;28;01mreturn\u001b[39;00m \u001b[38;5;28;43mself\u001b[39;49m\u001b[38;5;241;43m.\u001b[39;49m\u001b[43m_sslobj\u001b[49m\u001b[38;5;241;43m.\u001b[39;49m\u001b[43mread\u001b[49m\u001b[43m(\u001b[49m\u001b[38;5;28;43mlen\u001b[39;49m\u001b[43m,\u001b[49m\u001b[43m \u001b[49m\u001b[43mbuffer\u001b[49m\u001b[43m)\u001b[49m\n\u001b[1;32m   1164\u001b[0m     \u001b[38;5;28;01melse\u001b[39;00m:\n\u001b[1;32m   1165\u001b[0m         \u001b[38;5;28;01mreturn\u001b[39;00m \u001b[38;5;28mself\u001b[39m\u001b[38;5;241m.\u001b[39m_sslobj\u001b[38;5;241m.\u001b[39mread(\u001b[38;5;28mlen\u001b[39m)\n",
      "\u001b[0;31mKeyboardInterrupt\u001b[0m: "
     ]
    }
   ],
   "source": [
    "# 평가 데이터에 대해서 결과 생성 - 파일 포맷은 jsonl이지만 파일명은 csv 사용\n",
    "eval_rag(\"/data/ephemeral/home/upstage-ai-final-ir2/HM/data/eval.jsonl\", \"../output/submission_12.csv\")"
   ]
  },
  {
   "cell_type": "code",
   "execution_count": null,
   "metadata": {},
   "outputs": [],
   "source": []
  }
 ],
 "metadata": {
  "kernelspec": {
   "display_name": "Python 3",
   "language": "python",
   "name": "python3"
  },
  "language_info": {
   "codemirror_mode": {
    "name": "ipython",
    "version": 3
   },
   "file_extension": ".py",
   "mimetype": "text/x-python",
   "name": "python",
   "nbconvert_exporter": "python",
   "pygments_lexer": "ipython3",
   "version": "3.10.13"
  }
 },
 "nbformat": 4,
 "nbformat_minor": 2
}
