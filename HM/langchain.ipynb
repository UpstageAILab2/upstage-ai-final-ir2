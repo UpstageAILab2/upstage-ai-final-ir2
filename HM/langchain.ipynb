{
 "cells": [
  {
   "cell_type": "code",
   "execution_count": 1,
   "metadata": {},
   "outputs": [],
   "source": [
    "from dotenv import load_dotenv"
   ]
  },
  {
   "cell_type": "code",
   "execution_count": 17,
   "metadata": {},
   "outputs": [],
   "source": [
    "from langchain import hub\n",
    "from langchain.text_splitter import RecursiveCharacterTextSplitter\n",
    "from langchain_community.document_loaders import WebBaseLoader\n",
    "from langchain_community.vectorstores import Chroma, FAISS\n",
    "from langchain_core.output_parsers import StrOutputParser\n",
    "from langchain_core.runnables import RunnablePassthrough\n",
    "from langchain_openai import ChatOpenAI, OpenAIEmbeddings\n",
    "from langchain.document_loaders.base import BaseLoader\n",
    "from langchain.schema import Document\n",
    "import json\n"
   ]
  },
  {
   "cell_type": "markdown",
   "metadata": {},
   "source": [
    "# Load Documents"
   ]
  },
  {
   "cell_type": "code",
   "execution_count": 18,
   "metadata": {},
   "outputs": [
    {
     "name": "stdout",
     "output_type": "stream",
     "text": [
      "문서의 수: 4272\n",
      "\n",
      "[문서내용]\n",
      "건강한 사람이 에너지 균형을 평형 상태로 유지하는 것은 중요합니다. 에너지 균형은 에너지 섭취와 에너지 소비의 수학적 동등성을 의미합니다. 일반적으로 건강한 사람은 1-2주의 기간 동안 에너지 균형을 달성합니다. 이 기간 동안에는 올바른 식단과 적절한 운동을 통해 에너지 섭취와 에너지 소비를 조절해야 합니다. 식단은 영양가 있는 식품을 포함하고, 적절한 칼로리를 섭취해야 합니다. 또한, 운동은 에너지 소비를 촉진시키고 근육을 강화시킵니다. 이렇게 에너지 균형을 유지하면 건강을 유지하고 비만이나 영양 실조와 같은 문제를 예방할 수 있습니다. 따라서 건강한 사람은 에너지 균형을 평형 상태로 유지하는 것이 중요하며, 이를 위해 1-2주의 기간 동안 식단과 운동을 조절해야 합니다.\n",
      "\n",
      "[metadata]\n",
      "{'docid': '42508ee0-c543-4338-878e-d98c6babee66', 'src': 'ko_mmlu__nutrition__test', 'source': '/data/ephemeral/home/upstage-ai-final-ir2/HM/data/documents.jsonl', 'seq_num': 1}\n",
      "\n"
     ]
    }
   ],
   "source": [
    "class CustomJSONLLoader(BaseLoader):\n",
    "    def __init__(self, file_path: str):\n",
    "        self.file_path = file_path\n",
    "\n",
    "    def load(self):\n",
    "        documents = []\n",
    "        seq_num = 1\n",
    "        \n",
    "        with open(self.file_path, 'r', encoding='utf-8') as file:\n",
    "            for line in file:\n",
    "                data = json.loads(line)\n",
    "                doc = Document(\n",
    "                    page_content=data['content'],\n",
    "                    metadata={\n",
    "                        'docid': data['docid'],\n",
    "                        'src': data.get('src', ''),  # 'src' 필드가 없을 경우 빈 문자열 사용\n",
    "                        'source': self.file_path,\n",
    "                        'seq_num': seq_num,\n",
    "                    }\n",
    "                )\n",
    "                documents.append(doc)\n",
    "                seq_num += 1\n",
    "        \n",
    "        return documents\n",
    "\n",
    "# 사용 예시\n",
    "file_path = \"/data/ephemeral/home/upstage-ai-final-ir2/HM/data/documents.jsonl\"\n",
    "loader = CustomJSONLLoader(file_path)\n",
    "documents = loader.load()\n",
    "\n",
    "print(f\"문서의 수: {len(documents)}\")\n",
    "\n",
    "# 첫 번째 문서의 내용과 메타데이터 출력 (문서가 있다면)\n",
    "if documents:\n",
    "    print(f\"\\n[문서내용]\\n{documents[0].page_content[:500]}\")\n",
    "    print(f\"\\n[metadata]\\n{documents[0].metadata}\\n\")\n",
    "else:\n",
    "    print(\"\\n문서가 없습니다.\")"
   ]
  },
  {
   "cell_type": "code",
   "execution_count": null,
   "metadata": {},
   "outputs": [],
   "source": []
  }
 ],
 "metadata": {
  "kernelspec": {
   "display_name": "envforir",
   "language": "python",
   "name": "python3"
  },
  "language_info": {
   "codemirror_mode": {
    "name": "ipython",
    "version": 3
   },
   "file_extension": ".py",
   "mimetype": "text/x-python",
   "name": "python",
   "nbconvert_exporter": "python",
   "pygments_lexer": "ipython3",
   "version": "3.10.13"
  }
 },
 "nbformat": 4,
 "nbformat_minor": 2
}
