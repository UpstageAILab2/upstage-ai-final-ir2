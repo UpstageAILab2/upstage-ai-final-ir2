{
 "cells": [
  {
   "cell_type": "markdown",
   "metadata": {},
   "source": [
    "(실습-10) RAG 실습\n",
    "실습 개요\n",
    "1) 실습 목적\n",
    "이번 실습에서는 ColBERT와 LLM을 이용하여 RAG를 구현해 본다.\n",
    "RAG 구현을 위해 LLM 프롬프트를 어떻게 사용할 수 있는지 확인한다.\n",
    "2) 수강 목표\n",
    "\n",
    "RAG 구현을 위한 내부 모듈 및 시스템 파이프라인을 이해한다.\n",
    "ColBERT와 OpenAI API를 사용하여 RAG를 실제로 구현할 수 있다.\n",
    "Function calling을 포함한 프롬프트 엔지니어링 방법에 대해 이해한다.\n",
    "실습 목차\n",
    "RAG 개념 이해\n",
    "검색엔진 준비 - ColBERT\n",
    "대화형 IR\n",
    "데이터셋 개요\n",
    "데이터셋: LoTTE 벤치마크의 dev 세트\n",
    "데이터셋 개요\n",
    "LoTTE: ColBERT에서 소개하는 공개 데이터 셋이다.\n",
    "데이터셋 라이센스\n",
    "LoTTE: MIT\n",
    "LoTTE 데이터셋 상세 설명\n",
    "LoTTE 데이터 세트는 Wikipedia와 같은 엔티티 중심의 지식 기반에서는 잘 다루지 않을 수 있는 롱테일 주제에 대한 IR 시스템을 평가하기 위해 설계되었습니다. 이번 실습에서는 주로 반려 동물을 다루고 있는 문서를 사용합니다.\n",
    "환경 설정\n",
    "OpenAI 패키지를 설치한다.\n",
    "RAG용 검색엔진으로 사용할 ColBERT 패키지를 설치한다."
   ]
  },
  {
   "cell_type": "code",
   "execution_count": 1,
   "metadata": {},
   "outputs": [
    {
     "name": "stdout",
     "output_type": "stream",
     "text": [
      "Requirement already satisfied: openai in /opt/conda/lib/python3.10/site-packages (1.7.2)\n",
      "Requirement already satisfied: anyio<5,>=3.5.0 in /opt/conda/lib/python3.10/site-packages (from openai) (4.2.0)\n",
      "Requirement already satisfied: distro<2,>=1.7.0 in /opt/conda/lib/python3.10/site-packages (from openai) (1.9.0)\n",
      "Requirement already satisfied: httpx<1,>=0.23.0 in /opt/conda/lib/python3.10/site-packages (from openai) (0.26.0)\n",
      "Requirement already satisfied: pydantic<3,>=1.9.0 in /opt/conda/lib/python3.10/site-packages (from openai) (2.6.0)\n",
      "Requirement already satisfied: sniffio in /opt/conda/lib/python3.10/site-packages (from openai) (1.3.0)\n",
      "Requirement already satisfied: tqdm>4 in /opt/conda/lib/python3.10/site-packages (from openai) (4.66.4)\n",
      "Requirement already satisfied: typing-extensions<5,>=4.7 in /opt/conda/lib/python3.10/site-packages (from openai) (4.7.1)\n",
      "Requirement already satisfied: idna>=2.8 in /opt/conda/lib/python3.10/site-packages (from anyio<5,>=3.5.0->openai) (3.4)\n",
      "Requirement already satisfied: exceptiongroup>=1.0.2 in /opt/conda/lib/python3.10/site-packages (from anyio<5,>=3.5.0->openai) (1.0.4)\n",
      "Requirement already satisfied: certifi in /opt/conda/lib/python3.10/site-packages (from httpx<1,>=0.23.0->openai) (2024.6.2)\n",
      "Requirement already satisfied: httpcore==1.* in /opt/conda/lib/python3.10/site-packages (from httpx<1,>=0.23.0->openai) (1.0.2)\n",
      "Requirement already satisfied: h11<0.15,>=0.13 in /opt/conda/lib/python3.10/site-packages (from httpcore==1.*->httpx<1,>=0.23.0->openai) (0.14.0)\n",
      "Requirement already satisfied: annotated-types>=0.4.0 in /opt/conda/lib/python3.10/site-packages (from pydantic<3,>=1.9.0->openai) (0.6.0)\n",
      "Requirement already satisfied: pydantic-core==2.16.1 in /opt/conda/lib/python3.10/site-packages (from pydantic<3,>=1.9.0->openai) (2.16.1)\n",
      "\u001b[33mWARNING: Running pip as the 'root' user can result in broken permissions and conflicting behaviour with the system package manager. It is recommended to use a virtual environment instead: https://pip.pypa.io/warnings/venv\u001b[0m\u001b[33m\n",
      "\u001b[0m"
     ]
    }
   ],
   "source": [
    "!pip install openai"
   ]
  },
  {
   "cell_type": "code",
   "execution_count": 2,
   "metadata": {},
   "outputs": [
    {
     "name": "stdout",
     "output_type": "stream",
     "text": [
      "Requirement already satisfied: colbert-ir[faiss-gpu,torch] in /opt/conda/lib/python3.10/site-packages (0.2.14)\n",
      "Requirement already satisfied: bitarray in /opt/conda/lib/python3.10/site-packages (from colbert-ir[faiss-gpu,torch]) (2.9.2)\n",
      "Requirement already satisfied: datasets in /opt/conda/lib/python3.10/site-packages (from colbert-ir[faiss-gpu,torch]) (2.20.0)\n",
      "Requirement already satisfied: flask in /opt/conda/lib/python3.10/site-packages (from colbert-ir[faiss-gpu,torch]) (3.0.3)\n",
      "Requirement already satisfied: git-python in /opt/conda/lib/python3.10/site-packages (from colbert-ir[faiss-gpu,torch]) (1.0.3)\n",
      "Requirement already satisfied: python-dotenv in /opt/conda/lib/python3.10/site-packages (from colbert-ir[faiss-gpu,torch]) (1.0.1)\n",
      "Requirement already satisfied: ninja in /opt/conda/lib/python3.10/site-packages (from colbert-ir[faiss-gpu,torch]) (1.11.1.1)\n",
      "Requirement already satisfied: scipy in /opt/conda/lib/python3.10/site-packages (from colbert-ir[faiss-gpu,torch]) (1.12.0)\n",
      "Requirement already satisfied: spacy in /opt/conda/lib/python3.10/site-packages (from colbert-ir[faiss-gpu,torch]) (3.7.5)\n",
      "Requirement already satisfied: tqdm in /opt/conda/lib/python3.10/site-packages (from colbert-ir[faiss-gpu,torch]) (4.66.4)\n",
      "Requirement already satisfied: transformers in /opt/conda/lib/python3.10/site-packages (from colbert-ir[faiss-gpu,torch]) (4.37.2)\n",
      "Requirement already satisfied: ujson in /opt/conda/lib/python3.10/site-packages (from colbert-ir[faiss-gpu,torch]) (5.10.0)\n",
      "Requirement already satisfied: faiss-gpu>=1.7.0 in /opt/conda/lib/python3.10/site-packages (from colbert-ir[faiss-gpu,torch]) (1.7.2)\n",
      "Requirement already satisfied: torch==1.13.1 in /opt/conda/lib/python3.10/site-packages (from colbert-ir[faiss-gpu,torch]) (1.13.1)\n",
      "Requirement already satisfied: typing-extensions in /opt/conda/lib/python3.10/site-packages (from torch==1.13.1->colbert-ir[faiss-gpu,torch]) (4.7.1)\n",
      "Requirement already satisfied: nvidia-cuda-runtime-cu11==11.7.99 in /opt/conda/lib/python3.10/site-packages (from torch==1.13.1->colbert-ir[faiss-gpu,torch]) (11.7.99)\n",
      "Requirement already satisfied: nvidia-cudnn-cu11==8.5.0.96 in /opt/conda/lib/python3.10/site-packages (from torch==1.13.1->colbert-ir[faiss-gpu,torch]) (8.5.0.96)\n",
      "Requirement already satisfied: nvidia-cublas-cu11==11.10.3.66 in /opt/conda/lib/python3.10/site-packages (from torch==1.13.1->colbert-ir[faiss-gpu,torch]) (11.10.3.66)\n",
      "Requirement already satisfied: nvidia-cuda-nvrtc-cu11==11.7.99 in /opt/conda/lib/python3.10/site-packages (from torch==1.13.1->colbert-ir[faiss-gpu,torch]) (11.7.99)\n",
      "Requirement already satisfied: setuptools in /opt/conda/lib/python3.10/site-packages (from nvidia-cublas-cu11==11.10.3.66->torch==1.13.1->colbert-ir[faiss-gpu,torch]) (68.0.0)\n",
      "Requirement already satisfied: wheel in /opt/conda/lib/python3.10/site-packages (from nvidia-cublas-cu11==11.10.3.66->torch==1.13.1->colbert-ir[faiss-gpu,torch]) (0.41.2)\n",
      "Requirement already satisfied: filelock in /opt/conda/lib/python3.10/site-packages (from datasets->colbert-ir[faiss-gpu,torch]) (3.9.0)\n",
      "Requirement already satisfied: numpy>=1.17 in /opt/conda/lib/python3.10/site-packages (from datasets->colbert-ir[faiss-gpu,torch]) (1.26.0)\n",
      "Requirement already satisfied: pyarrow>=15.0.0 in /opt/conda/lib/python3.10/site-packages (from datasets->colbert-ir[faiss-gpu,torch]) (16.1.0)\n",
      "Requirement already satisfied: pyarrow-hotfix in /opt/conda/lib/python3.10/site-packages (from datasets->colbert-ir[faiss-gpu,torch]) (0.6)\n",
      "Requirement already satisfied: dill<0.3.9,>=0.3.0 in /opt/conda/lib/python3.10/site-packages (from datasets->colbert-ir[faiss-gpu,torch]) (0.3.8)\n",
      "Requirement already satisfied: pandas in /opt/conda/lib/python3.10/site-packages (from datasets->colbert-ir[faiss-gpu,torch]) (2.2.2)\n",
      "Requirement already satisfied: requests>=2.32.2 in /opt/conda/lib/python3.10/site-packages (from datasets->colbert-ir[faiss-gpu,torch]) (2.32.3)\n",
      "Requirement already satisfied: xxhash in /opt/conda/lib/python3.10/site-packages (from datasets->colbert-ir[faiss-gpu,torch]) (3.4.1)\n",
      "Requirement already satisfied: multiprocess in /opt/conda/lib/python3.10/site-packages (from datasets->colbert-ir[faiss-gpu,torch]) (0.70.16)\n",
      "Requirement already satisfied: fsspec[http]<=2024.5.0,>=2023.1.0 in /opt/conda/lib/python3.10/site-packages (from datasets->colbert-ir[faiss-gpu,torch]) (2023.9.2)\n",
      "Requirement already satisfied: aiohttp in /opt/conda/lib/python3.10/site-packages (from datasets->colbert-ir[faiss-gpu,torch]) (3.9.5)\n",
      "Requirement already satisfied: huggingface-hub>=0.21.2 in /opt/conda/lib/python3.10/site-packages (from datasets->colbert-ir[faiss-gpu,torch]) (0.23.4)\n",
      "Requirement already satisfied: packaging in /opt/conda/lib/python3.10/site-packages (from datasets->colbert-ir[faiss-gpu,torch]) (23.1)\n",
      "Requirement already satisfied: pyyaml>=5.1 in /opt/conda/lib/python3.10/site-packages (from datasets->colbert-ir[faiss-gpu,torch]) (6.0)\n",
      "Requirement already satisfied: Werkzeug>=3.0.0 in /opt/conda/lib/python3.10/site-packages (from flask->colbert-ir[faiss-gpu,torch]) (3.0.3)\n",
      "Requirement already satisfied: Jinja2>=3.1.2 in /opt/conda/lib/python3.10/site-packages (from flask->colbert-ir[faiss-gpu,torch]) (3.1.2)\n",
      "Requirement already satisfied: itsdangerous>=2.1.2 in /opt/conda/lib/python3.10/site-packages (from flask->colbert-ir[faiss-gpu,torch]) (2.2.0)\n",
      "Requirement already satisfied: click>=8.1.3 in /opt/conda/lib/python3.10/site-packages (from flask->colbert-ir[faiss-gpu,torch]) (8.1.7)\n",
      "Requirement already satisfied: blinker>=1.6.2 in /opt/conda/lib/python3.10/site-packages (from flask->colbert-ir[faiss-gpu,torch]) (1.8.2)\n",
      "Requirement already satisfied: gitpython in /opt/conda/lib/python3.10/site-packages (from git-python->colbert-ir[faiss-gpu,torch]) (3.1.43)\n",
      "Requirement already satisfied: spacy-legacy<3.1.0,>=3.0.11 in /opt/conda/lib/python3.10/site-packages (from spacy->colbert-ir[faiss-gpu,torch]) (3.0.12)\n",
      "Requirement already satisfied: spacy-loggers<2.0.0,>=1.0.0 in /opt/conda/lib/python3.10/site-packages (from spacy->colbert-ir[faiss-gpu,torch]) (1.0.5)\n",
      "Requirement already satisfied: murmurhash<1.1.0,>=0.28.0 in /opt/conda/lib/python3.10/site-packages (from spacy->colbert-ir[faiss-gpu,torch]) (1.0.10)\n",
      "Requirement already satisfied: cymem<2.1.0,>=2.0.2 in /opt/conda/lib/python3.10/site-packages (from spacy->colbert-ir[faiss-gpu,torch]) (2.0.8)\n",
      "Requirement already satisfied: preshed<3.1.0,>=3.0.2 in /opt/conda/lib/python3.10/site-packages (from spacy->colbert-ir[faiss-gpu,torch]) (3.0.9)\n",
      "Requirement already satisfied: thinc<8.3.0,>=8.2.2 in /opt/conda/lib/python3.10/site-packages (from spacy->colbert-ir[faiss-gpu,torch]) (8.2.4)\n",
      "Requirement already satisfied: wasabi<1.2.0,>=0.9.1 in /opt/conda/lib/python3.10/site-packages (from spacy->colbert-ir[faiss-gpu,torch]) (1.1.3)\n",
      "Requirement already satisfied: srsly<3.0.0,>=2.4.3 in /opt/conda/lib/python3.10/site-packages (from spacy->colbert-ir[faiss-gpu,torch]) (2.4.8)\n",
      "Requirement already satisfied: catalogue<2.1.0,>=2.0.6 in /opt/conda/lib/python3.10/site-packages (from spacy->colbert-ir[faiss-gpu,torch]) (2.0.10)\n",
      "Requirement already satisfied: weasel<0.5.0,>=0.1.0 in /opt/conda/lib/python3.10/site-packages (from spacy->colbert-ir[faiss-gpu,torch]) (0.4.1)\n",
      "Requirement already satisfied: typer<1.0.0,>=0.3.0 in /opt/conda/lib/python3.10/site-packages (from spacy->colbert-ir[faiss-gpu,torch]) (0.12.3)\n",
      "Requirement already satisfied: pydantic!=1.8,!=1.8.1,<3.0.0,>=1.7.4 in /opt/conda/lib/python3.10/site-packages (from spacy->colbert-ir[faiss-gpu,torch]) (2.6.0)\n",
      "Requirement already satisfied: langcodes<4.0.0,>=3.2.0 in /opt/conda/lib/python3.10/site-packages (from spacy->colbert-ir[faiss-gpu,torch]) (3.4.0)\n",
      "Requirement already satisfied: regex!=2019.12.17 in /opt/conda/lib/python3.10/site-packages (from transformers->colbert-ir[faiss-gpu,torch]) (2023.12.25)\n",
      "Requirement already satisfied: tokenizers<0.19,>=0.14 in /opt/conda/lib/python3.10/site-packages (from transformers->colbert-ir[faiss-gpu,torch]) (0.15.1)\n",
      "Requirement already satisfied: safetensors>=0.4.1 in /opt/conda/lib/python3.10/site-packages (from transformers->colbert-ir[faiss-gpu,torch]) (0.4.2)\n",
      "Requirement already satisfied: aiosignal>=1.1.2 in /opt/conda/lib/python3.10/site-packages (from aiohttp->datasets->colbert-ir[faiss-gpu,torch]) (1.3.1)\n",
      "Requirement already satisfied: attrs>=17.3.0 in /opt/conda/lib/python3.10/site-packages (from aiohttp->datasets->colbert-ir[faiss-gpu,torch]) (23.1.0)\n",
      "Requirement already satisfied: frozenlist>=1.1.1 in /opt/conda/lib/python3.10/site-packages (from aiohttp->datasets->colbert-ir[faiss-gpu,torch]) (1.4.1)\n",
      "Requirement already satisfied: multidict<7.0,>=4.5 in /opt/conda/lib/python3.10/site-packages (from aiohttp->datasets->colbert-ir[faiss-gpu,torch]) (6.0.5)\n",
      "Requirement already satisfied: yarl<2.0,>=1.0 in /opt/conda/lib/python3.10/site-packages (from aiohttp->datasets->colbert-ir[faiss-gpu,torch]) (1.9.4)\n",
      "Requirement already satisfied: async-timeout<5.0,>=4.0 in /opt/conda/lib/python3.10/site-packages (from aiohttp->datasets->colbert-ir[faiss-gpu,torch]) (4.0.3)\n",
      "Requirement already satisfied: MarkupSafe>=2.0 in /opt/conda/lib/python3.10/site-packages (from Jinja2>=3.1.2->flask->colbert-ir[faiss-gpu,torch]) (2.1.1)\n",
      "Requirement already satisfied: language-data>=1.2 in /opt/conda/lib/python3.10/site-packages (from langcodes<4.0.0,>=3.2.0->spacy->colbert-ir[faiss-gpu,torch]) (1.2.0)\n",
      "Requirement already satisfied: annotated-types>=0.4.0 in /opt/conda/lib/python3.10/site-packages (from pydantic!=1.8,!=1.8.1,<3.0.0,>=1.7.4->spacy->colbert-ir[faiss-gpu,torch]) (0.6.0)\n",
      "Requirement already satisfied: pydantic-core==2.16.1 in /opt/conda/lib/python3.10/site-packages (from pydantic!=1.8,!=1.8.1,<3.0.0,>=1.7.4->spacy->colbert-ir[faiss-gpu,torch]) (2.16.1)\n",
      "Requirement already satisfied: charset-normalizer<4,>=2 in /opt/conda/lib/python3.10/site-packages (from requests>=2.32.2->datasets->colbert-ir[faiss-gpu,torch]) (2.0.4)\n",
      "Requirement already satisfied: idna<4,>=2.5 in /opt/conda/lib/python3.10/site-packages (from requests>=2.32.2->datasets->colbert-ir[faiss-gpu,torch]) (3.4)\n",
      "Requirement already satisfied: urllib3<3,>=1.21.1 in /opt/conda/lib/python3.10/site-packages (from requests>=2.32.2->datasets->colbert-ir[faiss-gpu,torch]) (1.26.16)\n",
      "Requirement already satisfied: certifi>=2017.4.17 in /opt/conda/lib/python3.10/site-packages (from requests>=2.32.2->datasets->colbert-ir[faiss-gpu,torch]) (2024.6.2)\n",
      "Requirement already satisfied: blis<0.8.0,>=0.7.8 in /opt/conda/lib/python3.10/site-packages (from thinc<8.3.0,>=8.2.2->spacy->colbert-ir[faiss-gpu,torch]) (0.7.11)\n",
      "Requirement already satisfied: confection<1.0.0,>=0.0.1 in /opt/conda/lib/python3.10/site-packages (from thinc<8.3.0,>=8.2.2->spacy->colbert-ir[faiss-gpu,torch]) (0.1.5)\n",
      "Requirement already satisfied: shellingham>=1.3.0 in /opt/conda/lib/python3.10/site-packages (from typer<1.0.0,>=0.3.0->spacy->colbert-ir[faiss-gpu,torch]) (1.5.4)\n",
      "Requirement already satisfied: rich>=10.11.0 in /opt/conda/lib/python3.10/site-packages (from typer<1.0.0,>=0.3.0->spacy->colbert-ir[faiss-gpu,torch]) (13.7.1)\n",
      "Requirement already satisfied: cloudpathlib<1.0.0,>=0.7.0 in /opt/conda/lib/python3.10/site-packages (from weasel<0.5.0,>=0.1.0->spacy->colbert-ir[faiss-gpu,torch]) (0.18.1)\n",
      "Requirement already satisfied: smart-open<8.0.0,>=5.2.1 in /opt/conda/lib/python3.10/site-packages (from weasel<0.5.0,>=0.1.0->spacy->colbert-ir[faiss-gpu,torch]) (7.0.4)\n",
      "Requirement already satisfied: gitdb<5,>=4.0.1 in /opt/conda/lib/python3.10/site-packages (from gitpython->git-python->colbert-ir[faiss-gpu,torch]) (4.0.11)\n",
      "Requirement already satisfied: python-dateutil>=2.8.2 in /opt/conda/lib/python3.10/site-packages (from pandas->datasets->colbert-ir[faiss-gpu,torch]) (2.9.0)\n",
      "Requirement already satisfied: pytz>=2020.1 in /opt/conda/lib/python3.10/site-packages (from pandas->datasets->colbert-ir[faiss-gpu,torch]) (2023.3.post1)\n",
      "Requirement already satisfied: tzdata>=2022.7 in /opt/conda/lib/python3.10/site-packages (from pandas->datasets->colbert-ir[faiss-gpu,torch]) (2024.1)\n",
      "Requirement already satisfied: smmap<6,>=3.0.1 in /opt/conda/lib/python3.10/site-packages (from gitdb<5,>=4.0.1->gitpython->git-python->colbert-ir[faiss-gpu,torch]) (5.0.1)\n",
      "Requirement already satisfied: marisa-trie>=0.7.7 in /opt/conda/lib/python3.10/site-packages (from language-data>=1.2->langcodes<4.0.0,>=3.2.0->spacy->colbert-ir[faiss-gpu,torch]) (1.2.0)\n",
      "Requirement already satisfied: six>=1.5 in /opt/conda/lib/python3.10/site-packages (from python-dateutil>=2.8.2->pandas->datasets->colbert-ir[faiss-gpu,torch]) (1.16.0)\n",
      "Requirement already satisfied: markdown-it-py>=2.2.0 in /opt/conda/lib/python3.10/site-packages (from rich>=10.11.0->typer<1.0.0,>=0.3.0->spacy->colbert-ir[faiss-gpu,torch]) (3.0.0)\n",
      "Requirement already satisfied: pygments<3.0.0,>=2.13.0 in /opt/conda/lib/python3.10/site-packages (from rich>=10.11.0->typer<1.0.0,>=0.3.0->spacy->colbert-ir[faiss-gpu,torch]) (2.15.1)\n",
      "Requirement already satisfied: wrapt in /opt/conda/lib/python3.10/site-packages (from smart-open<8.0.0,>=5.2.1->weasel<0.5.0,>=0.1.0->spacy->colbert-ir[faiss-gpu,torch]) (1.16.0)\n",
      "Requirement already satisfied: mdurl~=0.1 in /opt/conda/lib/python3.10/site-packages (from markdown-it-py>=2.2.0->rich>=10.11.0->typer<1.0.0,>=0.3.0->spacy->colbert-ir[faiss-gpu,torch]) (0.1.2)\n",
      "\u001b[33mWARNING: Running pip as the 'root' user can result in broken permissions and conflicting behaviour with the system package manager. It is recommended to use a virtual environment instead: https://pip.pypa.io/warnings/venv\u001b[0m\u001b[33m\n",
      "\u001b[0m"
     ]
    }
   ],
   "source": [
    "!pip install \"colbert-ir[faiss-gpu, torch]\""
   ]
  },
  {
   "cell_type": "code",
   "execution_count": 3,
   "metadata": {},
   "outputs": [
    {
     "name": "stderr",
     "output_type": "stream",
     "text": [
      "/opt/conda/lib/python3.10/site-packages/tqdm/auto.py:21: TqdmWarning: IProgress not found. Please update jupyter and ipywidgets. See https://ipywidgets.readthedocs.io/en/stable/user_install.html\n",
      "  from .autonotebook import tqdm as notebook_tqdm\n"
     ]
    },
    {
     "name": "stdout",
     "output_type": "stream",
     "text": [
      "Loaded 417 queries and 268,893 passages\n",
      "how much should i feed my 1 year old english mastiff?\n",
      "In my experience rabbits are very easy to housebreak. They like to pee and poop in the same place every time, so in most cases all you have to do is put a little bit of their waste in the litter box and they will happily use the litter box. It is very important that if they go somewhere else, miss the edge or kick waste out of the box that you clean it up well and immediately as otherwise those spots will become existing places to pee and poop. When you clean the box, save a little bit of waste and put it in the cleaned box so it smells right to them. For a more foolproof method, you can get a piece of wood soaked with their urine and put that in the box along with droppings or cage them so that they are only in their litter box for a week. Generally, if I try the first method and find that they are not using only the box on the first day, I go for the litter box only for a week method. The wood block works well if you are moving from a hutch outdoors to a litter box indoors. If you have an indoor cage, you can use the cage itself as the litter box (or attach a litter box to the section of the cage the rabbit has used for waste.) Be sure to use clay or newsprint litter as the other types arent necessarily good for rabbits. Wood litter is okay if you are sure it isnt fir. The most important thing is to clean anywhere they have an accident. High sided boxes help with avoiding kicking soiled litter out of the box, which is the biggest cause of failure in my experience.\n"
     ]
    }
   ],
   "source": [
    "from datasets import load_dataset\n",
    "\n",
    "dataset = 'lifestyle'\n",
    "datasplit = 'dev'\n",
    "\n",
    "collection_dataset = load_dataset(\"colbertv2/lotte_passages\", dataset)\n",
    "collection = [x['text'] for x in collection_dataset[datasplit + '_collection']]\n",
    "\n",
    "queries_dataset = load_dataset(\"colbertv2/lotte\", dataset)\n",
    "queries = [x['query'] for x in queries_dataset['search_' + datasplit]]\n",
    "\n",
    "print(f'Loaded {len(queries)} queries and {len(collection):,} passages')\n",
    "print(queries[0])\n",
    "print(collection[0])"
   ]
  },
  {
   "cell_type": "markdown",
   "metadata": {},
   "source": [
    "## 1. RAG 개념 이해\n",
    "\n",
    "레퍼런스 정보가 있다고 가정하고 극 정보를 토대로 질문에 답하는 예시"
   ]
  },
  {
   "cell_type": "code",
   "execution_count": 4,
   "metadata": {},
   "outputs": [],
   "source": [
    "# OpenAI 라이브러리 및 필요한 모듈을 가져옵니다.\n",
    "\n",
    "import os\n",
    "import json\n",
    "from openai import OpenAI\n",
    "\n",
    "from dotenv import load_dotenv\n",
    "\n",
    "load_dotenv()\n",
    "\n",
    "OPENAI_KEY = os.getenv('OPENAI_KEY')\n",
    "\n",
    "os.environ[\"OPENAI_API_KEY\"] = OPENAI_KEY\n",
    "\n",
    "client = OpenAI()\n",
    "\n",
    "llm_model = \"gpt-3.5-turbo-1106\"\n"
   ]
  },
  {
   "cell_type": "code",
   "execution_count": 5,
   "metadata": {},
   "outputs": [],
   "source": [
    "messages = [\n",
    "    {'role' : \"user\", \"content\": \"너는 누구니\"},\n",
    "    {\"role\" : \"assistant\", \"content\": \"저는 시강 검색 도우미 Good Place 라고 합니다.\"},\n",
    "    {\"role\" : \"user\" ,\"content\": \"강남역 근처 태국 음식 추천해줘\"}\n",
    "]\n",
    "\n",
    "reference =[\n",
    "    {\"식당명\": \"파파야리프\", \"대표 메뉴\": \"똠양꿍\", \"분위기\": \"이국적/이색적\", \"기타\": \"데이트에 적합\"},\n",
    "    {\"식당명\": \"할랄가이즈\", \"대표 메뉴\": \"할랄\", \"분위기\": \"무슬림, 이국적\", \"기타\":\"가성비\"},\n",
    "    {\"식당명\": \"인더비엣\", \"대표 메뉴\": \"팟타야, 쌀국수\", \"분위기\": \"깔끔\", \"기타\": \"해장\"}\n",
    "    \n",
    "]\n",
    "\n",
    "persona = \"\"\"\n",
    "\n",
    "## Name : Good Place\n",
    "\n",
    "## Role : 식당 검색 도우미\n",
    "\n",
    "## Instruction\n",
    "\n",
    "- 사용자의 이전 메시지 정보 및 주어진 검색 결과 (JSON 형태로 제공) 정보를 활용하여 간결하게 답변을 생성한다.\n",
    "- 주어진 검색 결과 정보로 대답할 수 없는 경우는 정보가 부족해서 답을 할 수 없다고 대답한다.\n",
    "- 사용자가 상요한 언어로 답변을 생성한다.\n",
    "\n",
    "\n",
    "\"\"\""
   ]
  },
  {
   "cell_type": "code",
   "execution_count": 6,
   "metadata": {},
   "outputs": [
    {
     "name": "stdout",
     "output_type": "stream",
     "text": [
      "ChatCompletionMessage(content='강남역 근처에서 태국 음식을 즐길 수 있는 몇 가지 좋은 식당을 추천해 드릴게요.\\n\\n1. 태국촌: 강남구 역삼동 619-14, 1층\\n2. 태국집: 강남구 역삼동 619-14, 2층\\n3. 태국향: 강남구 역삼동 619-14, 지하1층\\n\\n이 식당들은 강남역 근처에 위치하고 있으며, 맛있는 태국 음식을 즐길 수 있는 곳입니다. 각 식당의 메뉴와 분위기를 확인해보시고 원하시는 곳을 방문해보시기 바랍니다. 좋은 식사 되시길 바랍니다!', role='assistant', function_call=None, tool_calls=None)\n"
     ]
    }
   ],
   "source": [
    "# 레퍼런스 없이 답변 생성하는 경우 - hallucinaion 발생\n",
    "\n",
    "# 그러니까 학습을 진행하지 않고 그냥 자체 gpt로 응답을 할 때 타이쇼라는 음식점은 존재하지만 쏘파 라는 은식점은 존재하지 않는다.\n",
    "\n",
    "result = client.chat.completions.create(\n",
    "    model=llm_model,\n",
    "    messages=messages,\n",
    "    temperature=0,\n",
    "    seed=1\n",
    ")\n",
    "\n",
    "print(result.choices[0].message)"
   ]
  },
  {
   "cell_type": "code",
   "execution_count": 11,
   "metadata": {},
   "outputs": [
    {
     "name": "stdout",
     "output_type": "stream",
     "text": [
      "ChatCompletionMessage(content='강남역 근처 태국 음식 추천으로 검색해본 결과, 파파야리프, 할랄가이즈, 그리고 인더비엣이 있습니다. 각 식당마다 특색있는 메뉴와 분위기가 있으니 원하시는 분위기나 메뉴에 맞게 선택하시면 좋을 것 같아요.', role='assistant', function_call=None, tool_calls=None)\n"
     ]
    }
   ],
   "source": [
    "content = {\n",
    "    '이전 메시지 정보': messages,\n",
    "    '검색결과': reference\n",
    "}\n",
    "\n",
    "msg = [{\"role\": \"system\", \"content\": persona}, {\"role\": \"assistant\",  \"content\": json.dumps(content, ensure_ascii=False, indent=4)}]\n",
    "\n",
    "result = client.chat.completions.create(\n",
    "    model=llm_model,\n",
    "    messages=msg,\n",
    "    temperature=0,\n",
    "    seed=1\n",
    ")\n",
    "\n",
    "print(result.choices[0].message)"
   ]
  },
  {
   "cell_type": "code",
   "execution_count": null,
   "metadata": {},
   "outputs": [],
   "source": []
  }
 ],
 "metadata": {
  "kernelspec": {
   "display_name": "base",
   "language": "python",
   "name": "python3"
  },
  "language_info": {
   "codemirror_mode": {
    "name": "ipython",
    "version": 3
   },
   "file_extension": ".py",
   "mimetype": "text/x-python",
   "name": "python",
   "nbconvert_exporter": "python",
   "pygments_lexer": "ipython3",
   "version": "3.10.13"
  }
 },
 "nbformat": 4,
 "nbformat_minor": 2
}
